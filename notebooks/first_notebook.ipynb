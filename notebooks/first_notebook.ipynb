{
 "cells": [
  {
   "cell_type": "markdown",
   "id": "8bc4d7ad-0253-4469-b9f8-6391dece11ab",
   "metadata": {},
   "source": [
    "# Assignment 8"
   ]
  },
  {
   "cell_type": "markdown",
   "id": "8964bafb-5e64-435b-b8ad-72c10d9a76a3",
   "metadata": {},
   "source": [
    "Leqi Zhong"
   ]
  },
  {
   "cell_type": "markdown",
   "id": "9f636a5a-90ae-49a9-9d8c-8ed70d002c9d",
   "metadata": {},
   "source": [
    "## Chapter 2"
   ]
  },
  {
   "cell_type": "code",
   "execution_count": 1,
   "id": "4b686833-408f-4433-a156-185757c42bb9",
   "metadata": {},
   "outputs": [
    {
     "data": {
      "text/plain": [
       "4"
      ]
     },
     "execution_count": 1,
     "metadata": {},
     "output_type": "execute_result"
    }
   ],
   "source": [
    "2+2"
   ]
  },
  {
   "cell_type": "code",
   "execution_count": 2,
   "id": "72c23fe2-a88c-4875-a5c2-e9f30f7b7b3a",
   "metadata": {},
   "outputs": [
    {
     "data": {
      "text/plain": [
       "8"
      ]
     },
     "execution_count": 2,
     "metadata": {},
     "output_type": "execute_result"
    }
   ],
   "source": [
    "2+2+4"
   ]
  },
  {
   "cell_type": "code",
   "execution_count": 3,
   "id": "f67975f1-f6c2-49ed-b758-3f9b56be5428",
   "metadata": {},
   "outputs": [
    {
     "data": {
      "text/plain": [
       "6"
      ]
     },
     "execution_count": 3,
     "metadata": {},
     "output_type": "execute_result"
    }
   ],
   "source": [
    "number = 2\n",
    "number + 4"
   ]
  },
  {
   "cell_type": "code",
   "execution_count": 4,
   "id": "6e339660-134c-4517-ba2e-4ffa51114059",
   "metadata": {},
   "outputs": [],
   "source": [
    "number = 3"
   ]
  },
  {
   "cell_type": "code",
   "execution_count": 5,
   "id": "b3d59352-d04d-40f4-b37b-805c1103150d",
   "metadata": {},
   "outputs": [
    {
     "data": {
      "text/plain": [
       "8"
      ]
     },
     "execution_count": 5,
     "metadata": {},
     "output_type": "execute_result"
    }
   ],
   "source": [
    "number + 5"
   ]
  },
  {
   "cell_type": "code",
   "execution_count": 6,
   "id": "82834a2a-0cf2-4640-98b0-20e421cc4200",
   "metadata": {},
   "outputs": [
    {
     "data": {
      "text/plain": [
       "2"
      ]
     },
     "execution_count": 6,
     "metadata": {},
     "output_type": "execute_result"
    }
   ],
   "source": [
    "number = 6\n",
    "number - 4"
   ]
  },
  {
   "cell_type": "code",
   "execution_count": 7,
   "id": "e3fa188a-c81b-420f-a56b-05aa9f65a9ee",
   "metadata": {},
   "outputs": [
    {
     "data": {
      "text/plain": [
       "24"
      ]
     },
     "execution_count": 7,
     "metadata": {},
     "output_type": "execute_result"
    }
   ],
   "source": [
    "number * 4"
   ]
  },
  {
   "cell_type": "code",
   "execution_count": 8,
   "id": "042dfdc8-5e89-4e68-a942-ab8bdf808911",
   "metadata": {},
   "outputs": [
    {
     "data": {
      "text/plain": [
       "0.6"
      ]
     },
     "execution_count": 8,
     "metadata": {},
     "output_type": "execute_result"
    }
   ],
   "source": [
    "number / 10"
   ]
  },
  {
   "cell_type": "markdown",
   "id": "28b763fc-1c19-412b-9f72-8fceb3b489ce",
   "metadata": {},
   "source": [
    "## Chapter 3"
   ]
  },
  {
   "cell_type": "code",
   "execution_count": 9,
   "id": "407f5874-0729-4785-a489-cb8023b6a461",
   "metadata": {},
   "outputs": [],
   "source": [
    "import pandas"
   ]
  },
  {
   "cell_type": "code",
   "execution_count": 10,
   "id": "4f999c98-9b85-4d9f-92e2-da528e1f6a67",
   "metadata": {},
   "outputs": [],
   "source": [
    "import pandas as pd"
   ]
  },
  {
   "cell_type": "code",
   "execution_count": 11,
   "id": "8c890793-f69d-42a5-b96e-1130bac1994b",
   "metadata": {},
   "outputs": [],
   "source": [
    "my_list = [2, 4, 6, 8]"
   ]
  },
  {
   "cell_type": "code",
   "execution_count": 12,
   "id": "f49b4ace-2834-4ac8-b5ef-bc66739c7e83",
   "metadata": {},
   "outputs": [],
   "source": [
    "my_series = pd.Series(my_list)"
   ]
  },
  {
   "cell_type": "code",
   "execution_count": 13,
   "id": "0b12f518-bd1b-40b6-b54f-90075fcdeeb3",
   "metadata": {},
   "outputs": [
    {
     "data": {
      "text/plain": [
       "20"
      ]
     },
     "execution_count": 13,
     "metadata": {},
     "output_type": "execute_result"
    }
   ],
   "source": [
    "my_series.sum()"
   ]
  },
  {
   "cell_type": "code",
   "execution_count": 14,
   "id": "98d5131c-65c6-4173-a6ba-40456008b789",
   "metadata": {},
   "outputs": [
    {
     "data": {
      "text/plain": [
       "8"
      ]
     },
     "execution_count": 14,
     "metadata": {},
     "output_type": "execute_result"
    }
   ],
   "source": [
    "my_series.max()"
   ]
  },
  {
   "cell_type": "code",
   "execution_count": 15,
   "id": "6415174c-7c06-4daf-a840-0c14cf615fe7",
   "metadata": {},
   "outputs": [
    {
     "data": {
      "text/plain": [
       "2"
      ]
     },
     "execution_count": 15,
     "metadata": {},
     "output_type": "execute_result"
    }
   ],
   "source": [
    "my_series.min()"
   ]
  },
  {
   "cell_type": "code",
   "execution_count": 16,
   "id": "6505c256-c2d6-4c54-b550-0cdf756543bb",
   "metadata": {},
   "outputs": [
    {
     "data": {
      "text/plain": [
       "5.0"
      ]
     },
     "execution_count": 16,
     "metadata": {},
     "output_type": "execute_result"
    }
   ],
   "source": [
    "my_series.mean()"
   ]
  },
  {
   "cell_type": "code",
   "execution_count": 17,
   "id": "fdb4161b-2fc4-4406-bd7e-cf0a123d95ee",
   "metadata": {},
   "outputs": [],
   "source": [
    "## why does it automatically convert the result to float?"
   ]
  },
  {
   "cell_type": "code",
   "execution_count": 18,
   "id": "8f2f7800-0976-430e-a37a-eede5caa7bd8",
   "metadata": {},
   "outputs": [
    {
     "data": {
      "text/plain": [
       "5.0"
      ]
     },
     "execution_count": 18,
     "metadata": {},
     "output_type": "execute_result"
    }
   ],
   "source": [
    "my_series.median()"
   ]
  },
  {
   "cell_type": "code",
   "execution_count": 19,
   "id": "cd25a569-0cbe-47e1-bcd6-935c925c1fa4",
   "metadata": {},
   "outputs": [
    {
     "data": {
      "text/plain": [
       "2.581988897471611"
      ]
     },
     "execution_count": 19,
     "metadata": {},
     "output_type": "execute_result"
    }
   ],
   "source": [
    "my_series.std()"
   ]
  },
  {
   "cell_type": "code",
   "execution_count": 20,
   "id": "16aa40ab-fedb-4491-8c59-142a4cd41788",
   "metadata": {},
   "outputs": [
    {
     "data": {
      "text/plain": [
       "count    4.000000\n",
       "mean     5.000000\n",
       "std      2.581989\n",
       "min      2.000000\n",
       "25%      3.500000\n",
       "50%      5.000000\n",
       "75%      6.500000\n",
       "max      8.000000\n",
       "dtype: float64"
      ]
     },
     "execution_count": 20,
     "metadata": {},
     "output_type": "execute_result"
    }
   ],
   "source": [
    "my_series.describe()"
   ]
  },
  {
   "cell_type": "code",
   "execution_count": 21,
   "id": "e2e98d6d-15ff-4148-bffa-41fe2119e637",
   "metadata": {},
   "outputs": [],
   "source": [
    "my_list_2 = [2, 4, 6, 8, 10, 20, 40, 80, 100]\n",
    "my_series = pd.Series(my_list_2)"
   ]
  },
  {
   "cell_type": "code",
   "execution_count": 22,
   "id": "6d138d3f-4ad9-4cb1-987d-28092ac9edc7",
   "metadata": {},
   "outputs": [
    {
     "data": {
      "text/plain": [
       "count      9.000000\n",
       "mean      30.000000\n",
       "std       36.262929\n",
       "min        2.000000\n",
       "25%        6.000000\n",
       "50%       10.000000\n",
       "75%       40.000000\n",
       "max      100.000000\n",
       "dtype: float64"
      ]
     },
     "execution_count": 22,
     "metadata": {},
     "output_type": "execute_result"
    }
   ],
   "source": [
    "my_series.describe()"
   ]
  },
  {
   "cell_type": "markdown",
   "id": "7160bbce-c3df-454a-8240-8480804c238e",
   "metadata": {},
   "source": [
    "## Chapter 4"
   ]
  },
  {
   "cell_type": "code",
   "execution_count": 23,
   "id": "f1ccca2f-a69d-40c0-bc26-c6d39750cdce",
   "metadata": {},
   "outputs": [
    {
     "data": {
      "text/html": [
       "<div>\n",
       "<style scoped>\n",
       "    .dataframe tbody tr th:only-of-type {\n",
       "        vertical-align: middle;\n",
       "    }\n",
       "\n",
       "    .dataframe tbody tr th {\n",
       "        vertical-align: top;\n",
       "    }\n",
       "\n",
       "    .dataframe thead th {\n",
       "        text-align: right;\n",
       "    }\n",
       "</style>\n",
       "<table border=\"1\" class=\"dataframe\">\n",
       "  <thead>\n",
       "    <tr style=\"text-align: right;\">\n",
       "      <th></th>\n",
       "      <th>event_id</th>\n",
       "      <th>ntsb_make</th>\n",
       "      <th>ntsb_model</th>\n",
       "      <th>ntsb_number</th>\n",
       "      <th>year</th>\n",
       "      <th>date</th>\n",
       "      <th>city</th>\n",
       "      <th>state</th>\n",
       "      <th>country</th>\n",
       "      <th>total_fatalities</th>\n",
       "      <th>latimes_make</th>\n",
       "      <th>latimes_model</th>\n",
       "      <th>latimes_make_and_model</th>\n",
       "    </tr>\n",
       "  </thead>\n",
       "  <tbody>\n",
       "    <tr>\n",
       "      <th>0</th>\n",
       "      <td>20061222X01838</td>\n",
       "      <td>BELL</td>\n",
       "      <td>407</td>\n",
       "      <td>NYC07FA048</td>\n",
       "      <td>2006</td>\n",
       "      <td>12/14/06 00:00:00</td>\n",
       "      <td>DAGSBORO</td>\n",
       "      <td>DE</td>\n",
       "      <td>USA</td>\n",
       "      <td>2</td>\n",
       "      <td>BELL</td>\n",
       "      <td>407</td>\n",
       "      <td>BELL 407</td>\n",
       "    </tr>\n",
       "    <tr>\n",
       "      <th>1</th>\n",
       "      <td>20060817X01187</td>\n",
       "      <td>ROBINSON</td>\n",
       "      <td>R22 BETA</td>\n",
       "      <td>LAX06LA257</td>\n",
       "      <td>2006</td>\n",
       "      <td>08/10/06 00:00:00</td>\n",
       "      <td>TUCSON</td>\n",
       "      <td>AZ</td>\n",
       "      <td>USA</td>\n",
       "      <td>1</td>\n",
       "      <td>ROBINSON</td>\n",
       "      <td>R22</td>\n",
       "      <td>ROBINSON R22</td>\n",
       "    </tr>\n",
       "    <tr>\n",
       "      <th>2</th>\n",
       "      <td>20060111X00044</td>\n",
       "      <td>ROBINSON</td>\n",
       "      <td>R44</td>\n",
       "      <td>MIA06FA039</td>\n",
       "      <td>2006</td>\n",
       "      <td>01/01/06 00:00:00</td>\n",
       "      <td>GRAND RIDGE</td>\n",
       "      <td>FL</td>\n",
       "      <td>USA</td>\n",
       "      <td>3</td>\n",
       "      <td>ROBINSON</td>\n",
       "      <td>R44</td>\n",
       "      <td>ROBINSON R44</td>\n",
       "    </tr>\n",
       "    <tr>\n",
       "      <th>3</th>\n",
       "      <td>20060419X00461</td>\n",
       "      <td>ROBINSON</td>\n",
       "      <td>R44 II</td>\n",
       "      <td>DFW06FA102</td>\n",
       "      <td>2006</td>\n",
       "      <td>04/13/06 00:00:00</td>\n",
       "      <td>FREDERICKSBURG</td>\n",
       "      <td>TX</td>\n",
       "      <td>USA</td>\n",
       "      <td>2</td>\n",
       "      <td>ROBINSON</td>\n",
       "      <td>R44</td>\n",
       "      <td>ROBINSON R44</td>\n",
       "    </tr>\n",
       "    <tr>\n",
       "      <th>4</th>\n",
       "      <td>20060208X00181</td>\n",
       "      <td>ROBINSON</td>\n",
       "      <td>R44</td>\n",
       "      <td>SEA06LA052</td>\n",
       "      <td>2006</td>\n",
       "      <td>02/06/06 00:00:00</td>\n",
       "      <td>HELENA</td>\n",
       "      <td>MT</td>\n",
       "      <td>USA</td>\n",
       "      <td>1</td>\n",
       "      <td>ROBINSON</td>\n",
       "      <td>R44</td>\n",
       "      <td>ROBINSON R44</td>\n",
       "    </tr>\n",
       "    <tr>\n",
       "      <th>...</th>\n",
       "      <td>...</td>\n",
       "      <td>...</td>\n",
       "      <td>...</td>\n",
       "      <td>...</td>\n",
       "      <td>...</td>\n",
       "      <td>...</td>\n",
       "      <td>...</td>\n",
       "      <td>...</td>\n",
       "      <td>...</td>\n",
       "      <td>...</td>\n",
       "      <td>...</td>\n",
       "      <td>...</td>\n",
       "      <td>...</td>\n",
       "    </tr>\n",
       "    <tr>\n",
       "      <th>158</th>\n",
       "      <td>20160711X32921</td>\n",
       "      <td>BELL HELICOPTER TEXTRON CANADA</td>\n",
       "      <td>407</td>\n",
       "      <td>ERA16FA248</td>\n",
       "      <td>2016</td>\n",
       "      <td>07/11/16 00:00:00</td>\n",
       "      <td>HICKORY</td>\n",
       "      <td>KY</td>\n",
       "      <td>USA</td>\n",
       "      <td>1</td>\n",
       "      <td>BELL</td>\n",
       "      <td>407</td>\n",
       "      <td>BELL 407</td>\n",
       "    </tr>\n",
       "    <tr>\n",
       "      <th>159</th>\n",
       "      <td>20160804X45514</td>\n",
       "      <td>SCHWEIZER</td>\n",
       "      <td>269C 1</td>\n",
       "      <td>CEN16FA304</td>\n",
       "      <td>2016</td>\n",
       "      <td>08/03/16 00:00:00</td>\n",
       "      <td>JEANERETTE</td>\n",
       "      <td>LA</td>\n",
       "      <td>USA</td>\n",
       "      <td>1</td>\n",
       "      <td>SCHWEIZER</td>\n",
       "      <td>269</td>\n",
       "      <td>SCHWEIZER 269</td>\n",
       "    </tr>\n",
       "    <tr>\n",
       "      <th>160</th>\n",
       "      <td>20160404X74644</td>\n",
       "      <td>BELL</td>\n",
       "      <td>206</td>\n",
       "      <td>ERA16FA144</td>\n",
       "      <td>2016</td>\n",
       "      <td>04/04/16 00:00:00</td>\n",
       "      <td>PIGEON FORGE</td>\n",
       "      <td>TN</td>\n",
       "      <td>USA</td>\n",
       "      <td>5</td>\n",
       "      <td>BELL</td>\n",
       "      <td>206</td>\n",
       "      <td>BELL 206</td>\n",
       "    </tr>\n",
       "    <tr>\n",
       "      <th>161</th>\n",
       "      <td>20160507X31120</td>\n",
       "      <td>AIRBUS</td>\n",
       "      <td>AS350</td>\n",
       "      <td>ANC16FA023</td>\n",
       "      <td>2016</td>\n",
       "      <td>05/06/16 00:00:00</td>\n",
       "      <td>SKAGWAY</td>\n",
       "      <td>AK</td>\n",
       "      <td>USA</td>\n",
       "      <td>1</td>\n",
       "      <td>AIRBUS</td>\n",
       "      <td>350</td>\n",
       "      <td>AIRBUS 350</td>\n",
       "    </tr>\n",
       "    <tr>\n",
       "      <th>162</th>\n",
       "      <td>20160612X85856</td>\n",
       "      <td>ROBINSON HELICOPTER COMPANY</td>\n",
       "      <td>R44 II</td>\n",
       "      <td>CEN16FA215</td>\n",
       "      <td>2016</td>\n",
       "      <td>06/12/16 00:00:00</td>\n",
       "      <td>JONESBORO</td>\n",
       "      <td>AR</td>\n",
       "      <td>USA</td>\n",
       "      <td>1</td>\n",
       "      <td>ROBINSON</td>\n",
       "      <td>R44</td>\n",
       "      <td>ROBINSON R44</td>\n",
       "    </tr>\n",
       "  </tbody>\n",
       "</table>\n",
       "<p>163 rows × 13 columns</p>\n",
       "</div>"
      ],
      "text/plain": [
       "           event_id                       ntsb_make ntsb_model ntsb_number  \\\n",
       "0    20061222X01838                            BELL        407  NYC07FA048   \n",
       "1    20060817X01187                        ROBINSON   R22 BETA  LAX06LA257   \n",
       "2    20060111X00044                        ROBINSON        R44  MIA06FA039   \n",
       "3    20060419X00461                        ROBINSON     R44 II  DFW06FA102   \n",
       "4    20060208X00181                        ROBINSON        R44  SEA06LA052   \n",
       "..              ...                             ...        ...         ...   \n",
       "158  20160711X32921  BELL HELICOPTER TEXTRON CANADA        407  ERA16FA248   \n",
       "159  20160804X45514                       SCHWEIZER     269C 1  CEN16FA304   \n",
       "160  20160404X74644                            BELL        206  ERA16FA144   \n",
       "161  20160507X31120                          AIRBUS      AS350  ANC16FA023   \n",
       "162  20160612X85856     ROBINSON HELICOPTER COMPANY     R44 II  CEN16FA215   \n",
       "\n",
       "     year               date            city state country  total_fatalities  \\\n",
       "0    2006  12/14/06 00:00:00        DAGSBORO    DE     USA                 2   \n",
       "1    2006  08/10/06 00:00:00          TUCSON    AZ     USA                 1   \n",
       "2    2006  01/01/06 00:00:00     GRAND RIDGE    FL     USA                 3   \n",
       "3    2006  04/13/06 00:00:00  FREDERICKSBURG    TX     USA                 2   \n",
       "4    2006  02/06/06 00:00:00          HELENA    MT     USA                 1   \n",
       "..    ...                ...             ...   ...     ...               ...   \n",
       "158  2016  07/11/16 00:00:00         HICKORY    KY     USA                 1   \n",
       "159  2016  08/03/16 00:00:00      JEANERETTE    LA     USA                 1   \n",
       "160  2016  04/04/16 00:00:00    PIGEON FORGE    TN     USA                 5   \n",
       "161  2016  05/06/16 00:00:00         SKAGWAY    AK     USA                 1   \n",
       "162  2016  06/12/16 00:00:00       JONESBORO    AR     USA                 1   \n",
       "\n",
       "    latimes_make latimes_model latimes_make_and_model  \n",
       "0           BELL           407               BELL 407  \n",
       "1       ROBINSON           R22           ROBINSON R22  \n",
       "2       ROBINSON           R44           ROBINSON R44  \n",
       "3       ROBINSON           R44           ROBINSON R44  \n",
       "4       ROBINSON           R44           ROBINSON R44  \n",
       "..           ...           ...                    ...  \n",
       "158         BELL           407               BELL 407  \n",
       "159    SCHWEIZER           269          SCHWEIZER 269  \n",
       "160         BELL           206               BELL 206  \n",
       "161       AIRBUS           350             AIRBUS 350  \n",
       "162     ROBINSON           R44           ROBINSON R44  \n",
       "\n",
       "[163 rows x 13 columns]"
      ]
     },
     "execution_count": 23,
     "metadata": {},
     "output_type": "execute_result"
    }
   ],
   "source": [
    "pd.read_csv(\"https://raw.githubusercontent.com/palewire/first-python-notebook/main/docs/src/_static/ntsb-accidents.csv\")"
   ]
  },
  {
   "cell_type": "code",
   "execution_count": 24,
   "id": "f07bf766-144c-48eb-818f-041a7f58c6b7",
   "metadata": {},
   "outputs": [],
   "source": [
    "accident_list = pd.read_csv(\"https://raw.githubusercontent.com/palewire/first-python-notebook/main/docs/src/_static/ntsb-accidents.csv\")"
   ]
  },
  {
   "cell_type": "code",
   "execution_count": 25,
   "id": "da14b0d3-6630-447e-bc5d-1e576d222d62",
   "metadata": {},
   "outputs": [
    {
     "data": {
      "text/html": [
       "<div>\n",
       "<style scoped>\n",
       "    .dataframe tbody tr th:only-of-type {\n",
       "        vertical-align: middle;\n",
       "    }\n",
       "\n",
       "    .dataframe tbody tr th {\n",
       "        vertical-align: top;\n",
       "    }\n",
       "\n",
       "    .dataframe thead th {\n",
       "        text-align: right;\n",
       "    }\n",
       "</style>\n",
       "<table border=\"1\" class=\"dataframe\">\n",
       "  <thead>\n",
       "    <tr style=\"text-align: right;\">\n",
       "      <th></th>\n",
       "      <th>event_id</th>\n",
       "      <th>ntsb_make</th>\n",
       "      <th>ntsb_model</th>\n",
       "      <th>ntsb_number</th>\n",
       "      <th>year</th>\n",
       "      <th>date</th>\n",
       "      <th>city</th>\n",
       "      <th>state</th>\n",
       "      <th>country</th>\n",
       "      <th>total_fatalities</th>\n",
       "      <th>latimes_make</th>\n",
       "      <th>latimes_model</th>\n",
       "      <th>latimes_make_and_model</th>\n",
       "    </tr>\n",
       "  </thead>\n",
       "  <tbody>\n",
       "    <tr>\n",
       "      <th>0</th>\n",
       "      <td>20061222X01838</td>\n",
       "      <td>BELL</td>\n",
       "      <td>407</td>\n",
       "      <td>NYC07FA048</td>\n",
       "      <td>2006</td>\n",
       "      <td>12/14/06 00:00:00</td>\n",
       "      <td>DAGSBORO</td>\n",
       "      <td>DE</td>\n",
       "      <td>USA</td>\n",
       "      <td>2</td>\n",
       "      <td>BELL</td>\n",
       "      <td>407</td>\n",
       "      <td>BELL 407</td>\n",
       "    </tr>\n",
       "    <tr>\n",
       "      <th>1</th>\n",
       "      <td>20060817X01187</td>\n",
       "      <td>ROBINSON</td>\n",
       "      <td>R22 BETA</td>\n",
       "      <td>LAX06LA257</td>\n",
       "      <td>2006</td>\n",
       "      <td>08/10/06 00:00:00</td>\n",
       "      <td>TUCSON</td>\n",
       "      <td>AZ</td>\n",
       "      <td>USA</td>\n",
       "      <td>1</td>\n",
       "      <td>ROBINSON</td>\n",
       "      <td>R22</td>\n",
       "      <td>ROBINSON R22</td>\n",
       "    </tr>\n",
       "    <tr>\n",
       "      <th>2</th>\n",
       "      <td>20060111X00044</td>\n",
       "      <td>ROBINSON</td>\n",
       "      <td>R44</td>\n",
       "      <td>MIA06FA039</td>\n",
       "      <td>2006</td>\n",
       "      <td>01/01/06 00:00:00</td>\n",
       "      <td>GRAND RIDGE</td>\n",
       "      <td>FL</td>\n",
       "      <td>USA</td>\n",
       "      <td>3</td>\n",
       "      <td>ROBINSON</td>\n",
       "      <td>R44</td>\n",
       "      <td>ROBINSON R44</td>\n",
       "    </tr>\n",
       "    <tr>\n",
       "      <th>3</th>\n",
       "      <td>20060419X00461</td>\n",
       "      <td>ROBINSON</td>\n",
       "      <td>R44 II</td>\n",
       "      <td>DFW06FA102</td>\n",
       "      <td>2006</td>\n",
       "      <td>04/13/06 00:00:00</td>\n",
       "      <td>FREDERICKSBURG</td>\n",
       "      <td>TX</td>\n",
       "      <td>USA</td>\n",
       "      <td>2</td>\n",
       "      <td>ROBINSON</td>\n",
       "      <td>R44</td>\n",
       "      <td>ROBINSON R44</td>\n",
       "    </tr>\n",
       "    <tr>\n",
       "      <th>4</th>\n",
       "      <td>20060208X00181</td>\n",
       "      <td>ROBINSON</td>\n",
       "      <td>R44</td>\n",
       "      <td>SEA06LA052</td>\n",
       "      <td>2006</td>\n",
       "      <td>02/06/06 00:00:00</td>\n",
       "      <td>HELENA</td>\n",
       "      <td>MT</td>\n",
       "      <td>USA</td>\n",
       "      <td>1</td>\n",
       "      <td>ROBINSON</td>\n",
       "      <td>R44</td>\n",
       "      <td>ROBINSON R44</td>\n",
       "    </tr>\n",
       "  </tbody>\n",
       "</table>\n",
       "</div>"
      ],
      "text/plain": [
       "         event_id ntsb_make ntsb_model ntsb_number  year               date  \\\n",
       "0  20061222X01838      BELL        407  NYC07FA048  2006  12/14/06 00:00:00   \n",
       "1  20060817X01187  ROBINSON   R22 BETA  LAX06LA257  2006  08/10/06 00:00:00   \n",
       "2  20060111X00044  ROBINSON        R44  MIA06FA039  2006  01/01/06 00:00:00   \n",
       "3  20060419X00461  ROBINSON     R44 II  DFW06FA102  2006  04/13/06 00:00:00   \n",
       "4  20060208X00181  ROBINSON        R44  SEA06LA052  2006  02/06/06 00:00:00   \n",
       "\n",
       "             city state country  total_fatalities latimes_make latimes_model  \\\n",
       "0        DAGSBORO    DE     USA                 2         BELL           407   \n",
       "1          TUCSON    AZ     USA                 1     ROBINSON           R22   \n",
       "2     GRAND RIDGE    FL     USA                 3     ROBINSON           R44   \n",
       "3  FREDERICKSBURG    TX     USA                 2     ROBINSON           R44   \n",
       "4          HELENA    MT     USA                 1     ROBINSON           R44   \n",
       "\n",
       "  latimes_make_and_model  \n",
       "0               BELL 407  \n",
       "1           ROBINSON R22  \n",
       "2           ROBINSON R44  \n",
       "3           ROBINSON R44  \n",
       "4           ROBINSON R44  "
      ]
     },
     "execution_count": 25,
     "metadata": {},
     "output_type": "execute_result"
    }
   ],
   "source": [
    "accident_list.head()"
   ]
  },
  {
   "cell_type": "code",
   "execution_count": 26,
   "id": "6589ff9b-87a8-4356-9072-fc320354dd84",
   "metadata": {},
   "outputs": [
    {
     "data": {
      "text/html": [
       "<div>\n",
       "<style scoped>\n",
       "    .dataframe tbody tr th:only-of-type {\n",
       "        vertical-align: middle;\n",
       "    }\n",
       "\n",
       "    .dataframe tbody tr th {\n",
       "        vertical-align: top;\n",
       "    }\n",
       "\n",
       "    .dataframe thead th {\n",
       "        text-align: right;\n",
       "    }\n",
       "</style>\n",
       "<table border=\"1\" class=\"dataframe\">\n",
       "  <thead>\n",
       "    <tr style=\"text-align: right;\">\n",
       "      <th></th>\n",
       "      <th>event_id</th>\n",
       "      <th>ntsb_make</th>\n",
       "      <th>ntsb_model</th>\n",
       "      <th>ntsb_number</th>\n",
       "      <th>year</th>\n",
       "      <th>date</th>\n",
       "      <th>city</th>\n",
       "      <th>state</th>\n",
       "      <th>country</th>\n",
       "      <th>total_fatalities</th>\n",
       "      <th>latimes_make</th>\n",
       "      <th>latimes_model</th>\n",
       "      <th>latimes_make_and_model</th>\n",
       "    </tr>\n",
       "  </thead>\n",
       "  <tbody>\n",
       "    <tr>\n",
       "      <th>0</th>\n",
       "      <td>20061222X01838</td>\n",
       "      <td>BELL</td>\n",
       "      <td>407</td>\n",
       "      <td>NYC07FA048</td>\n",
       "      <td>2006</td>\n",
       "      <td>12/14/06 00:00:00</td>\n",
       "      <td>DAGSBORO</td>\n",
       "      <td>DE</td>\n",
       "      <td>USA</td>\n",
       "      <td>2</td>\n",
       "      <td>BELL</td>\n",
       "      <td>407</td>\n",
       "      <td>BELL 407</td>\n",
       "    </tr>\n",
       "    <tr>\n",
       "      <th>1</th>\n",
       "      <td>20060817X01187</td>\n",
       "      <td>ROBINSON</td>\n",
       "      <td>R22 BETA</td>\n",
       "      <td>LAX06LA257</td>\n",
       "      <td>2006</td>\n",
       "      <td>08/10/06 00:00:00</td>\n",
       "      <td>TUCSON</td>\n",
       "      <td>AZ</td>\n",
       "      <td>USA</td>\n",
       "      <td>1</td>\n",
       "      <td>ROBINSON</td>\n",
       "      <td>R22</td>\n",
       "      <td>ROBINSON R22</td>\n",
       "    </tr>\n",
       "    <tr>\n",
       "      <th>2</th>\n",
       "      <td>20060111X00044</td>\n",
       "      <td>ROBINSON</td>\n",
       "      <td>R44</td>\n",
       "      <td>MIA06FA039</td>\n",
       "      <td>2006</td>\n",
       "      <td>01/01/06 00:00:00</td>\n",
       "      <td>GRAND RIDGE</td>\n",
       "      <td>FL</td>\n",
       "      <td>USA</td>\n",
       "      <td>3</td>\n",
       "      <td>ROBINSON</td>\n",
       "      <td>R44</td>\n",
       "      <td>ROBINSON R44</td>\n",
       "    </tr>\n",
       "  </tbody>\n",
       "</table>\n",
       "</div>"
      ],
      "text/plain": [
       "         event_id ntsb_make ntsb_model ntsb_number  year               date  \\\n",
       "0  20061222X01838      BELL        407  NYC07FA048  2006  12/14/06 00:00:00   \n",
       "1  20060817X01187  ROBINSON   R22 BETA  LAX06LA257  2006  08/10/06 00:00:00   \n",
       "2  20060111X00044  ROBINSON        R44  MIA06FA039  2006  01/01/06 00:00:00   \n",
       "\n",
       "          city state country  total_fatalities latimes_make latimes_model  \\\n",
       "0     DAGSBORO    DE     USA                 2         BELL           407   \n",
       "1       TUCSON    AZ     USA                 1     ROBINSON           R22   \n",
       "2  GRAND RIDGE    FL     USA                 3     ROBINSON           R44   \n",
       "\n",
       "  latimes_make_and_model  \n",
       "0               BELL 407  \n",
       "1           ROBINSON R22  \n",
       "2           ROBINSON R44  "
      ]
     },
     "execution_count": 26,
     "metadata": {},
     "output_type": "execute_result"
    }
   ],
   "source": [
    "accident_list.head(3)"
   ]
  },
  {
   "cell_type": "code",
   "execution_count": 27,
   "id": "11f3a274-0d36-4f65-af83-73f8afdfa162",
   "metadata": {},
   "outputs": [
    {
     "data": {
      "text/html": [
       "<div>\n",
       "<style scoped>\n",
       "    .dataframe tbody tr th:only-of-type {\n",
       "        vertical-align: middle;\n",
       "    }\n",
       "\n",
       "    .dataframe tbody tr th {\n",
       "        vertical-align: top;\n",
       "    }\n",
       "\n",
       "    .dataframe thead th {\n",
       "        text-align: right;\n",
       "    }\n",
       "</style>\n",
       "<table border=\"1\" class=\"dataframe\">\n",
       "  <thead>\n",
       "    <tr style=\"text-align: right;\">\n",
       "      <th></th>\n",
       "      <th>event_id</th>\n",
       "      <th>ntsb_make</th>\n",
       "      <th>ntsb_model</th>\n",
       "      <th>ntsb_number</th>\n",
       "      <th>year</th>\n",
       "      <th>date</th>\n",
       "      <th>city</th>\n",
       "      <th>state</th>\n",
       "      <th>country</th>\n",
       "      <th>total_fatalities</th>\n",
       "      <th>latimes_make</th>\n",
       "      <th>latimes_model</th>\n",
       "      <th>latimes_make_and_model</th>\n",
       "    </tr>\n",
       "  </thead>\n",
       "  <tbody>\n",
       "    <tr>\n",
       "      <th>160</th>\n",
       "      <td>20160404X74644</td>\n",
       "      <td>BELL</td>\n",
       "      <td>206</td>\n",
       "      <td>ERA16FA144</td>\n",
       "      <td>2016</td>\n",
       "      <td>04/04/16 00:00:00</td>\n",
       "      <td>PIGEON FORGE</td>\n",
       "      <td>TN</td>\n",
       "      <td>USA</td>\n",
       "      <td>5</td>\n",
       "      <td>BELL</td>\n",
       "      <td>206</td>\n",
       "      <td>BELL 206</td>\n",
       "    </tr>\n",
       "    <tr>\n",
       "      <th>161</th>\n",
       "      <td>20160507X31120</td>\n",
       "      <td>AIRBUS</td>\n",
       "      <td>AS350</td>\n",
       "      <td>ANC16FA023</td>\n",
       "      <td>2016</td>\n",
       "      <td>05/06/16 00:00:00</td>\n",
       "      <td>SKAGWAY</td>\n",
       "      <td>AK</td>\n",
       "      <td>USA</td>\n",
       "      <td>1</td>\n",
       "      <td>AIRBUS</td>\n",
       "      <td>350</td>\n",
       "      <td>AIRBUS 350</td>\n",
       "    </tr>\n",
       "    <tr>\n",
       "      <th>162</th>\n",
       "      <td>20160612X85856</td>\n",
       "      <td>ROBINSON HELICOPTER COMPANY</td>\n",
       "      <td>R44 II</td>\n",
       "      <td>CEN16FA215</td>\n",
       "      <td>2016</td>\n",
       "      <td>06/12/16 00:00:00</td>\n",
       "      <td>JONESBORO</td>\n",
       "      <td>AR</td>\n",
       "      <td>USA</td>\n",
       "      <td>1</td>\n",
       "      <td>ROBINSON</td>\n",
       "      <td>R44</td>\n",
       "      <td>ROBINSON R44</td>\n",
       "    </tr>\n",
       "  </tbody>\n",
       "</table>\n",
       "</div>"
      ],
      "text/plain": [
       "           event_id                    ntsb_make ntsb_model ntsb_number  year  \\\n",
       "160  20160404X74644                         BELL        206  ERA16FA144  2016   \n",
       "161  20160507X31120                       AIRBUS      AS350  ANC16FA023  2016   \n",
       "162  20160612X85856  ROBINSON HELICOPTER COMPANY     R44 II  CEN16FA215  2016   \n",
       "\n",
       "                  date          city state country  total_fatalities  \\\n",
       "160  04/04/16 00:00:00  PIGEON FORGE    TN     USA                 5   \n",
       "161  05/06/16 00:00:00       SKAGWAY    AK     USA                 1   \n",
       "162  06/12/16 00:00:00     JONESBORO    AR     USA                 1   \n",
       "\n",
       "    latimes_make latimes_model latimes_make_and_model  \n",
       "160         BELL           206               BELL 206  \n",
       "161       AIRBUS           350             AIRBUS 350  \n",
       "162     ROBINSON           R44           ROBINSON R44  "
      ]
     },
     "execution_count": 27,
     "metadata": {},
     "output_type": "execute_result"
    }
   ],
   "source": [
    "accident_list.tail(3)"
   ]
  },
  {
   "cell_type": "code",
   "execution_count": 28,
   "id": "49a0b904-8bb3-4e90-90d7-ecc0ed6ac09a",
   "metadata": {},
   "outputs": [
    {
     "name": "stdout",
     "output_type": "stream",
     "text": [
      "<class 'pandas.core.frame.DataFrame'>\n",
      "RangeIndex: 163 entries, 0 to 162\n",
      "Data columns (total 13 columns):\n",
      " #   Column                  Non-Null Count  Dtype \n",
      "---  ------                  --------------  ----- \n",
      " 0   event_id                163 non-null    object\n",
      " 1   ntsb_make               163 non-null    object\n",
      " 2   ntsb_model              163 non-null    object\n",
      " 3   ntsb_number             163 non-null    object\n",
      " 4   year                    163 non-null    int64 \n",
      " 5   date                    163 non-null    object\n",
      " 6   city                    163 non-null    object\n",
      " 7   state                   162 non-null    object\n",
      " 8   country                 163 non-null    object\n",
      " 9   total_fatalities        163 non-null    int64 \n",
      " 10  latimes_make            163 non-null    object\n",
      " 11  latimes_model           163 non-null    object\n",
      " 12  latimes_make_and_model  163 non-null    object\n",
      "dtypes: int64(2), object(11)\n",
      "memory usage: 16.7+ KB\n"
     ]
    }
   ],
   "source": [
    "accident_list.info()"
   ]
  },
  {
   "cell_type": "markdown",
   "id": "f42e1d94-c182-42b6-9c3f-ab8e295aad0a",
   "metadata": {},
   "source": [
    "## Chapter 5"
   ]
  },
  {
   "cell_type": "code",
   "execution_count": 29,
   "id": "b06c9a4c-4127-497d-9e6f-ce0847ca06cd",
   "metadata": {},
   "outputs": [
    {
     "data": {
      "text/plain": [
       "0           BELL 407\n",
       "1       ROBINSON R22\n",
       "2       ROBINSON R44\n",
       "3       ROBINSON R44\n",
       "4       ROBINSON R44\n",
       "           ...      \n",
       "158         BELL 407\n",
       "159    SCHWEIZER 269\n",
       "160         BELL 206\n",
       "161       AIRBUS 350\n",
       "162     ROBINSON R44\n",
       "Name: latimes_make_and_model, Length: 163, dtype: object"
      ]
     },
     "execution_count": 29,
     "metadata": {},
     "output_type": "execute_result"
    }
   ],
   "source": [
    "accident_list.latimes_make_and_model"
   ]
  },
  {
   "cell_type": "code",
   "execution_count": 30,
   "id": "f8837344-ae71-424e-b20a-7062d10fd69d",
   "metadata": {},
   "outputs": [
    {
     "data": {
      "text/plain": [
       "0           BELL 407\n",
       "1       ROBINSON R22\n",
       "2       ROBINSON R44\n",
       "3       ROBINSON R44\n",
       "4       ROBINSON R44\n",
       "           ...      \n",
       "158         BELL 407\n",
       "159    SCHWEIZER 269\n",
       "160         BELL 206\n",
       "161       AIRBUS 350\n",
       "162     ROBINSON R44\n",
       "Name: latimes_make_and_model, Length: 163, dtype: object"
      ]
     },
     "execution_count": 30,
     "metadata": {},
     "output_type": "execute_result"
    }
   ],
   "source": [
    "accident_list['latimes_make_and_model']"
   ]
  },
  {
   "cell_type": "code",
   "execution_count": 31,
   "id": "aa76f13b-834f-4091-8e3d-ccf1fd808777",
   "metadata": {},
   "outputs": [
    {
     "data": {
      "text/plain": [
       "ROBINSON R44             38\n",
       "BELL 206                 30\n",
       "AIRBUS 350               29\n",
       "ROBINSON R22             20\n",
       "BELL 407                 13\n",
       "HUGHES 369               13\n",
       "MCDONNELL DOUGLAS 369     6\n",
       "SCHWEIZER 269             5\n",
       "AIRBUS 135                4\n",
       "SIKORSKY 76               2\n",
       "AGUSTA 109                2\n",
       "AIRBUS 130                1\n",
       "Name: latimes_make_and_model, dtype: int64"
      ]
     },
     "execution_count": 31,
     "metadata": {},
     "output_type": "execute_result"
    }
   ],
   "source": [
    "accident_list.latimes_make_and_model.value_counts()"
   ]
  },
  {
   "cell_type": "code",
   "execution_count": 32,
   "id": "8a131dee-d039-47a0-a891-0be2c21a8d5f",
   "metadata": {},
   "outputs": [
    {
     "data": {
      "text/html": [
       "<div>\n",
       "<style scoped>\n",
       "    .dataframe tbody tr th:only-of-type {\n",
       "        vertical-align: middle;\n",
       "    }\n",
       "\n",
       "    .dataframe tbody tr th {\n",
       "        vertical-align: top;\n",
       "    }\n",
       "\n",
       "    .dataframe thead th {\n",
       "        text-align: right;\n",
       "    }\n",
       "</style>\n",
       "<table border=\"1\" class=\"dataframe\">\n",
       "  <thead>\n",
       "    <tr style=\"text-align: right;\">\n",
       "      <th></th>\n",
       "      <th>index</th>\n",
       "      <th>latimes_make_and_model</th>\n",
       "    </tr>\n",
       "  </thead>\n",
       "  <tbody>\n",
       "    <tr>\n",
       "      <th>0</th>\n",
       "      <td>ROBINSON R44</td>\n",
       "      <td>38</td>\n",
       "    </tr>\n",
       "    <tr>\n",
       "      <th>1</th>\n",
       "      <td>BELL 206</td>\n",
       "      <td>30</td>\n",
       "    </tr>\n",
       "    <tr>\n",
       "      <th>2</th>\n",
       "      <td>AIRBUS 350</td>\n",
       "      <td>29</td>\n",
       "    </tr>\n",
       "    <tr>\n",
       "      <th>3</th>\n",
       "      <td>ROBINSON R22</td>\n",
       "      <td>20</td>\n",
       "    </tr>\n",
       "    <tr>\n",
       "      <th>4</th>\n",
       "      <td>BELL 407</td>\n",
       "      <td>13</td>\n",
       "    </tr>\n",
       "    <tr>\n",
       "      <th>5</th>\n",
       "      <td>HUGHES 369</td>\n",
       "      <td>13</td>\n",
       "    </tr>\n",
       "    <tr>\n",
       "      <th>6</th>\n",
       "      <td>MCDONNELL DOUGLAS 369</td>\n",
       "      <td>6</td>\n",
       "    </tr>\n",
       "    <tr>\n",
       "      <th>7</th>\n",
       "      <td>SCHWEIZER 269</td>\n",
       "      <td>5</td>\n",
       "    </tr>\n",
       "    <tr>\n",
       "      <th>8</th>\n",
       "      <td>AIRBUS 135</td>\n",
       "      <td>4</td>\n",
       "    </tr>\n",
       "    <tr>\n",
       "      <th>9</th>\n",
       "      <td>SIKORSKY 76</td>\n",
       "      <td>2</td>\n",
       "    </tr>\n",
       "    <tr>\n",
       "      <th>10</th>\n",
       "      <td>AGUSTA 109</td>\n",
       "      <td>2</td>\n",
       "    </tr>\n",
       "    <tr>\n",
       "      <th>11</th>\n",
       "      <td>AIRBUS 130</td>\n",
       "      <td>1</td>\n",
       "    </tr>\n",
       "  </tbody>\n",
       "</table>\n",
       "</div>"
      ],
      "text/plain": [
       "                    index  latimes_make_and_model\n",
       "0            ROBINSON R44                      38\n",
       "1                BELL 206                      30\n",
       "2              AIRBUS 350                      29\n",
       "3            ROBINSON R22                      20\n",
       "4                BELL 407                      13\n",
       "5              HUGHES 369                      13\n",
       "6   MCDONNELL DOUGLAS 369                       6\n",
       "7           SCHWEIZER 269                       5\n",
       "8              AIRBUS 135                       4\n",
       "9             SIKORSKY 76                       2\n",
       "10             AGUSTA 109                       2\n",
       "11             AIRBUS 130                       1"
      ]
     },
     "execution_count": 32,
     "metadata": {},
     "output_type": "execute_result"
    }
   ],
   "source": [
    "accident_list.latimes_make_and_model.value_counts().reset_index()"
   ]
  },
  {
   "cell_type": "markdown",
   "id": "cd5909af-fac9-49ce-bbda-cadf3462c3ce",
   "metadata": {},
   "source": [
    "### 1. What was the total number of fatalities?"
   ]
  },
  {
   "cell_type": "code",
   "execution_count": 33,
   "id": "febdbe85-a1ca-4408-b753-781c68cd72b6",
   "metadata": {},
   "outputs": [
    {
     "data": {
      "text/plain": [
       "336"
      ]
     },
     "execution_count": 33,
     "metadata": {},
     "output_type": "execute_result"
    }
   ],
   "source": [
    "accident_list.total_fatalities.sum()"
   ]
  },
  {
   "cell_type": "markdown",
   "id": "146d17c0-e959-4bb8-a5ca-a421c1484c49",
   "metadata": {},
   "source": [
    "### 2. Which helicopter maker had the most accidents?"
   ]
  },
  {
   "cell_type": "code",
   "execution_count": 34,
   "id": "d05d932d-9a31-4d82-9369-5126988453e0",
   "metadata": {},
   "outputs": [
    {
     "data": {
      "text/plain": [
       "ROBINSON             58\n",
       "BELL                 43\n",
       "AIRBUS               34\n",
       "HUGHES               13\n",
       "MCDONNELL DOUGLAS     6\n",
       "SCHWEIZER             5\n",
       "SIKORSKY              2\n",
       "AGUSTA                2\n",
       "Name: latimes_make, dtype: int64"
      ]
     },
     "execution_count": 34,
     "metadata": {},
     "output_type": "execute_result"
    }
   ],
   "source": [
    "accident_list.latimes_make.value_counts()"
   ]
  },
  {
   "cell_type": "markdown",
   "id": "2186fa8d-d91b-48d8-a6b8-03e6f6c24602",
   "metadata": {},
   "source": [
    "### 3. What was the total number of helicopter accidents by year?"
   ]
  },
  {
   "cell_type": "code",
   "execution_count": 35,
   "id": "79564878-dce5-44ca-b74a-d71a194f15fe",
   "metadata": {},
   "outputs": [
    {
     "data": {
      "text/plain": [
       "2008    22\n",
       "2006    20\n",
       "2010    18\n",
       "2013    18\n",
       "2014    17\n",
       "2007    16\n",
       "2012    16\n",
       "2009    15\n",
       "2015    11\n",
       "2016    10\n",
       "Name: year, dtype: int64"
      ]
     },
     "execution_count": 35,
     "metadata": {},
     "output_type": "execute_result"
    }
   ],
   "source": [
    "accident_list.year.value_counts()"
   ]
  },
  {
   "cell_type": "markdown",
   "id": "5f41579f-035f-4050-88cc-34a213d35523",
   "metadata": {},
   "source": [
    "### 4. Which state had the most helicopter accidents?"
   ]
  },
  {
   "cell_type": "code",
   "execution_count": 36,
   "id": "2bd7bfcf-0b91-49b8-b62a-8e70edc3391e",
   "metadata": {},
   "outputs": [
    {
     "data": {
      "text/plain": [
       "CA    16\n",
       "Name: state, dtype: int64"
      ]
     },
     "execution_count": 36,
     "metadata": {},
     "output_type": "execute_result"
    }
   ],
   "source": [
    "accident_list.state.value_counts().head(1)"
   ]
  },
  {
   "cell_type": "markdown",
   "id": "3ebea404-356a-4b88-8688-03399ea9b109",
   "metadata": {},
   "source": [
    "## Chapter 6"
   ]
  },
  {
   "cell_type": "code",
   "execution_count": 37,
   "id": "00d9eca3-d2af-4094-b1df-f4d0f57d59c5",
   "metadata": {},
   "outputs": [],
   "source": [
    "my_state = \"CA\""
   ]
  },
  {
   "cell_type": "code",
   "execution_count": 38,
   "id": "1f388423-bf29-4c97-be65-619a6573c04f",
   "metadata": {},
   "outputs": [
    {
     "data": {
      "text/html": [
       "<div>\n",
       "<style scoped>\n",
       "    .dataframe tbody tr th:only-of-type {\n",
       "        vertical-align: middle;\n",
       "    }\n",
       "\n",
       "    .dataframe tbody tr th {\n",
       "        vertical-align: top;\n",
       "    }\n",
       "\n",
       "    .dataframe thead th {\n",
       "        text-align: right;\n",
       "    }\n",
       "</style>\n",
       "<table border=\"1\" class=\"dataframe\">\n",
       "  <thead>\n",
       "    <tr style=\"text-align: right;\">\n",
       "      <th></th>\n",
       "      <th>event_id</th>\n",
       "      <th>ntsb_make</th>\n",
       "      <th>ntsb_model</th>\n",
       "      <th>ntsb_number</th>\n",
       "      <th>year</th>\n",
       "      <th>date</th>\n",
       "      <th>city</th>\n",
       "      <th>state</th>\n",
       "      <th>country</th>\n",
       "      <th>total_fatalities</th>\n",
       "      <th>latimes_make</th>\n",
       "      <th>latimes_model</th>\n",
       "      <th>latimes_make_and_model</th>\n",
       "    </tr>\n",
       "  </thead>\n",
       "  <tbody>\n",
       "    <tr>\n",
       "      <th>7</th>\n",
       "      <td>20060916X01352</td>\n",
       "      <td>HUGHES</td>\n",
       "      <td>369D</td>\n",
       "      <td>LAX06LA288</td>\n",
       "      <td>2006</td>\n",
       "      <td>09/06/06 00:00:00</td>\n",
       "      <td>SOMIS</td>\n",
       "      <td>CA</td>\n",
       "      <td>USA</td>\n",
       "      <td>2</td>\n",
       "      <td>HUGHES</td>\n",
       "      <td>369</td>\n",
       "      <td>HUGHES 369</td>\n",
       "    </tr>\n",
       "    <tr>\n",
       "      <th>9</th>\n",
       "      <td>20060306X00268</td>\n",
       "      <td>SCHWEIZER</td>\n",
       "      <td>269C-1</td>\n",
       "      <td>LAX06LA123</td>\n",
       "      <td>2006</td>\n",
       "      <td>02/25/06 00:00:00</td>\n",
       "      <td>VALENCIA</td>\n",
       "      <td>CA</td>\n",
       "      <td>USA</td>\n",
       "      <td>1</td>\n",
       "      <td>SCHWEIZER</td>\n",
       "      <td>269</td>\n",
       "      <td>SCHWEIZER 269</td>\n",
       "    </tr>\n",
       "    <tr>\n",
       "      <th>16</th>\n",
       "      <td>20060510X00540</td>\n",
       "      <td>ROBINSON</td>\n",
       "      <td>R44 RAVEN II</td>\n",
       "      <td>LAX06FA156</td>\n",
       "      <td>2006</td>\n",
       "      <td>05/01/06 00:00:00</td>\n",
       "      <td>DESERT CENTER</td>\n",
       "      <td>CA</td>\n",
       "      <td>USA</td>\n",
       "      <td>2</td>\n",
       "      <td>ROBINSON</td>\n",
       "      <td>R44</td>\n",
       "      <td>ROBINSON R44</td>\n",
       "    </tr>\n",
       "    <tr>\n",
       "      <th>36</th>\n",
       "      <td>20080529X00746</td>\n",
       "      <td>AEROSPATIALE</td>\n",
       "      <td>AS-350-D</td>\n",
       "      <td>SEA08MA136</td>\n",
       "      <td>2008</td>\n",
       "      <td>05/24/08 00:00:00</td>\n",
       "      <td>AVALON</td>\n",
       "      <td>CA</td>\n",
       "      <td>USA</td>\n",
       "      <td>3</td>\n",
       "      <td>AIRBUS</td>\n",
       "      <td>350</td>\n",
       "      <td>AIRBUS 350</td>\n",
       "    </tr>\n",
       "    <tr>\n",
       "      <th>48</th>\n",
       "      <td>20080710X01015</td>\n",
       "      <td>SCHWEIZER</td>\n",
       "      <td>269 C-1</td>\n",
       "      <td>LAX08LA213</td>\n",
       "      <td>2008</td>\n",
       "      <td>07/04/08 00:00:00</td>\n",
       "      <td>SUNOL</td>\n",
       "      <td>CA</td>\n",
       "      <td>USA</td>\n",
       "      <td>2</td>\n",
       "      <td>SCHWEIZER</td>\n",
       "      <td>269</td>\n",
       "      <td>SCHWEIZER 269</td>\n",
       "    </tr>\n",
       "    <tr>\n",
       "      <th>57</th>\n",
       "      <td>20080201X00130</td>\n",
       "      <td>ROBINSON HELICOPTER</td>\n",
       "      <td>R22 BETA</td>\n",
       "      <td>LAX08FA052</td>\n",
       "      <td>2008</td>\n",
       "      <td>01/25/08 00:00:00</td>\n",
       "      <td>LOS ANGELES</td>\n",
       "      <td>CA</td>\n",
       "      <td>USA</td>\n",
       "      <td>1</td>\n",
       "      <td>ROBINSON</td>\n",
       "      <td>R22</td>\n",
       "      <td>ROBINSON R22</td>\n",
       "    </tr>\n",
       "    <tr>\n",
       "      <th>69</th>\n",
       "      <td>20091114X82100</td>\n",
       "      <td>AEROSPATIALE</td>\n",
       "      <td>AS350BA</td>\n",
       "      <td>WPR10FA055</td>\n",
       "      <td>2009</td>\n",
       "      <td>11/14/09 00:00:00</td>\n",
       "      <td>DOYLE</td>\n",
       "      <td>CA</td>\n",
       "      <td>USA</td>\n",
       "      <td>3</td>\n",
       "      <td>AIRBUS</td>\n",
       "      <td>350</td>\n",
       "      <td>AIRBUS 350</td>\n",
       "    </tr>\n",
       "    <tr>\n",
       "      <th>71</th>\n",
       "      <td>20090201X10015</td>\n",
       "      <td>ROBINSON HELICOPTER</td>\n",
       "      <td>R22 BETA II</td>\n",
       "      <td>WPR09FA104</td>\n",
       "      <td>2009</td>\n",
       "      <td>01/31/09 00:00:00</td>\n",
       "      <td>FILLMORE</td>\n",
       "      <td>CA</td>\n",
       "      <td>USA</td>\n",
       "      <td>1</td>\n",
       "      <td>ROBINSON</td>\n",
       "      <td>R22</td>\n",
       "      <td>ROBINSON R22</td>\n",
       "    </tr>\n",
       "    <tr>\n",
       "      <th>75</th>\n",
       "      <td>20100105X94046</td>\n",
       "      <td>BELL</td>\n",
       "      <td>206B</td>\n",
       "      <td>WPR10GA097</td>\n",
       "      <td>2010</td>\n",
       "      <td>01/05/10 00:00:00</td>\n",
       "      <td>AUBERRY</td>\n",
       "      <td>CA</td>\n",
       "      <td>USA</td>\n",
       "      <td>4</td>\n",
       "      <td>BELL</td>\n",
       "      <td>206</td>\n",
       "      <td>BELL 206</td>\n",
       "    </tr>\n",
       "    <tr>\n",
       "      <th>99</th>\n",
       "      <td>20120709X83554</td>\n",
       "      <td>ROBINSON HELICOPTER</td>\n",
       "      <td>R22 BETA</td>\n",
       "      <td>WPR12FA298</td>\n",
       "      <td>2012</td>\n",
       "      <td>07/09/12 00:00:00</td>\n",
       "      <td>MURRIETA</td>\n",
       "      <td>CA</td>\n",
       "      <td>USA</td>\n",
       "      <td>1</td>\n",
       "      <td>ROBINSON</td>\n",
       "      <td>R22</td>\n",
       "      <td>ROBINSON R22</td>\n",
       "    </tr>\n",
       "    <tr>\n",
       "      <th>105</th>\n",
       "      <td>20121126X75106</td>\n",
       "      <td>ROBINSON HELICOPTER COMPANY</td>\n",
       "      <td>R44 II</td>\n",
       "      <td>WPR13FA054</td>\n",
       "      <td>2012</td>\n",
       "      <td>11/25/12 00:00:00</td>\n",
       "      <td>CORONA</td>\n",
       "      <td>CA</td>\n",
       "      <td>USA</td>\n",
       "      <td>1</td>\n",
       "      <td>ROBINSON</td>\n",
       "      <td>R44</td>\n",
       "      <td>ROBINSON R44</td>\n",
       "    </tr>\n",
       "    <tr>\n",
       "      <th>111</th>\n",
       "      <td>20130102X13158</td>\n",
       "      <td>BELL</td>\n",
       "      <td>206</td>\n",
       "      <td>WPR13FA080</td>\n",
       "      <td>2013</td>\n",
       "      <td>01/02/13 00:00:00</td>\n",
       "      <td>DELANO</td>\n",
       "      <td>CA</td>\n",
       "      <td>USA</td>\n",
       "      <td>1</td>\n",
       "      <td>BELL</td>\n",
       "      <td>206</td>\n",
       "      <td>BELL 206</td>\n",
       "    </tr>\n",
       "    <tr>\n",
       "      <th>113</th>\n",
       "      <td>20130210X93918</td>\n",
       "      <td>BELL</td>\n",
       "      <td>206B</td>\n",
       "      <td>WPR13FA119</td>\n",
       "      <td>2013</td>\n",
       "      <td>02/10/13 00:00:00</td>\n",
       "      <td>ACTON</td>\n",
       "      <td>CA</td>\n",
       "      <td>USA</td>\n",
       "      <td>3</td>\n",
       "      <td>BELL</td>\n",
       "      <td>206</td>\n",
       "      <td>BELL 206</td>\n",
       "    </tr>\n",
       "    <tr>\n",
       "      <th>126</th>\n",
       "      <td>20140523X44003</td>\n",
       "      <td>ROBINSON HELICOPTER</td>\n",
       "      <td>R22 BETA</td>\n",
       "      <td>WPR14FA203</td>\n",
       "      <td>2014</td>\n",
       "      <td>05/23/14 00:00:00</td>\n",
       "      <td>SANTA PAULA</td>\n",
       "      <td>CA</td>\n",
       "      <td>USA</td>\n",
       "      <td>1</td>\n",
       "      <td>ROBINSON</td>\n",
       "      <td>R22</td>\n",
       "      <td>ROBINSON R22</td>\n",
       "    </tr>\n",
       "    <tr>\n",
       "      <th>148</th>\n",
       "      <td>20151211X13514</td>\n",
       "      <td>BELL</td>\n",
       "      <td>407</td>\n",
       "      <td>WPR16FA037</td>\n",
       "      <td>2015</td>\n",
       "      <td>12/10/15 00:00:00</td>\n",
       "      <td>MCFARLAND</td>\n",
       "      <td>CA</td>\n",
       "      <td>USA</td>\n",
       "      <td>4</td>\n",
       "      <td>BELL</td>\n",
       "      <td>407</td>\n",
       "      <td>BELL 407</td>\n",
       "    </tr>\n",
       "    <tr>\n",
       "      <th>152</th>\n",
       "      <td>20151118X05037</td>\n",
       "      <td>AIRBUS HELICOPTERS</td>\n",
       "      <td>AS350B3E</td>\n",
       "      <td>WPR16FA029</td>\n",
       "      <td>2015</td>\n",
       "      <td>11/18/15 00:00:00</td>\n",
       "      <td>CARLSBAD</td>\n",
       "      <td>CA</td>\n",
       "      <td>USA</td>\n",
       "      <td>2</td>\n",
       "      <td>AIRBUS</td>\n",
       "      <td>350</td>\n",
       "      <td>AIRBUS 350</td>\n",
       "    </tr>\n",
       "  </tbody>\n",
       "</table>\n",
       "</div>"
      ],
      "text/plain": [
       "           event_id                    ntsb_make    ntsb_model ntsb_number  \\\n",
       "7    20060916X01352                       HUGHES          369D  LAX06LA288   \n",
       "9    20060306X00268                    SCHWEIZER        269C-1  LAX06LA123   \n",
       "16   20060510X00540                     ROBINSON  R44 RAVEN II  LAX06FA156   \n",
       "36   20080529X00746                 AEROSPATIALE      AS-350-D  SEA08MA136   \n",
       "48   20080710X01015                    SCHWEIZER       269 C-1  LAX08LA213   \n",
       "57   20080201X00130          ROBINSON HELICOPTER      R22 BETA  LAX08FA052   \n",
       "69   20091114X82100                 AEROSPATIALE       AS350BA  WPR10FA055   \n",
       "71   20090201X10015          ROBINSON HELICOPTER   R22 BETA II  WPR09FA104   \n",
       "75   20100105X94046                         BELL          206B  WPR10GA097   \n",
       "99   20120709X83554          ROBINSON HELICOPTER      R22 BETA  WPR12FA298   \n",
       "105  20121126X75106  ROBINSON HELICOPTER COMPANY        R44 II  WPR13FA054   \n",
       "111  20130102X13158                         BELL           206  WPR13FA080   \n",
       "113  20130210X93918                         BELL          206B  WPR13FA119   \n",
       "126  20140523X44003          ROBINSON HELICOPTER      R22 BETA  WPR14FA203   \n",
       "148  20151211X13514                         BELL           407  WPR16FA037   \n",
       "152  20151118X05037           AIRBUS HELICOPTERS      AS350B3E  WPR16FA029   \n",
       "\n",
       "     year               date           city state country  total_fatalities  \\\n",
       "7    2006  09/06/06 00:00:00          SOMIS    CA     USA                 2   \n",
       "9    2006  02/25/06 00:00:00       VALENCIA    CA     USA                 1   \n",
       "16   2006  05/01/06 00:00:00  DESERT CENTER    CA     USA                 2   \n",
       "36   2008  05/24/08 00:00:00         AVALON    CA     USA                 3   \n",
       "48   2008  07/04/08 00:00:00          SUNOL    CA     USA                 2   \n",
       "57   2008  01/25/08 00:00:00    LOS ANGELES    CA     USA                 1   \n",
       "69   2009  11/14/09 00:00:00          DOYLE    CA     USA                 3   \n",
       "71   2009  01/31/09 00:00:00       FILLMORE    CA     USA                 1   \n",
       "75   2010  01/05/10 00:00:00        AUBERRY    CA     USA                 4   \n",
       "99   2012  07/09/12 00:00:00       MURRIETA    CA     USA                 1   \n",
       "105  2012  11/25/12 00:00:00         CORONA    CA     USA                 1   \n",
       "111  2013  01/02/13 00:00:00         DELANO    CA     USA                 1   \n",
       "113  2013  02/10/13 00:00:00          ACTON    CA     USA                 3   \n",
       "126  2014  05/23/14 00:00:00    SANTA PAULA    CA     USA                 1   \n",
       "148  2015  12/10/15 00:00:00      MCFARLAND    CA     USA                 4   \n",
       "152  2015  11/18/15 00:00:00       CARLSBAD    CA     USA                 2   \n",
       "\n",
       "    latimes_make latimes_model latimes_make_and_model  \n",
       "7         HUGHES           369             HUGHES 369  \n",
       "9      SCHWEIZER           269          SCHWEIZER 269  \n",
       "16      ROBINSON           R44           ROBINSON R44  \n",
       "36        AIRBUS           350             AIRBUS 350  \n",
       "48     SCHWEIZER           269          SCHWEIZER 269  \n",
       "57      ROBINSON           R22           ROBINSON R22  \n",
       "69        AIRBUS           350             AIRBUS 350  \n",
       "71      ROBINSON           R22           ROBINSON R22  \n",
       "75          BELL           206               BELL 206  \n",
       "99      ROBINSON           R22           ROBINSON R22  \n",
       "105     ROBINSON           R44           ROBINSON R44  \n",
       "111         BELL           206               BELL 206  \n",
       "113         BELL           206               BELL 206  \n",
       "126     ROBINSON           R22           ROBINSON R22  \n",
       "148         BELL           407               BELL 407  \n",
       "152       AIRBUS           350             AIRBUS 350  "
      ]
     },
     "execution_count": 38,
     "metadata": {},
     "output_type": "execute_result"
    }
   ],
   "source": [
    "accident_list[accident_list.state == my_state]"
   ]
  },
  {
   "cell_type": "code",
   "execution_count": 39,
   "id": "e72cb0e7-0d7a-448a-bbff-9d94ff503027",
   "metadata": {},
   "outputs": [],
   "source": [
    "my_accidents = accident_list[accident_list.state == my_state]"
   ]
  },
  {
   "cell_type": "code",
   "execution_count": 40,
   "id": "ce77447d-97a1-426c-9349-901ecae5635c",
   "metadata": {},
   "outputs": [
    {
     "data": {
      "text/html": [
       "<div>\n",
       "<style scoped>\n",
       "    .dataframe tbody tr th:only-of-type {\n",
       "        vertical-align: middle;\n",
       "    }\n",
       "\n",
       "    .dataframe tbody tr th {\n",
       "        vertical-align: top;\n",
       "    }\n",
       "\n",
       "    .dataframe thead th {\n",
       "        text-align: right;\n",
       "    }\n",
       "</style>\n",
       "<table border=\"1\" class=\"dataframe\">\n",
       "  <thead>\n",
       "    <tr style=\"text-align: right;\">\n",
       "      <th></th>\n",
       "      <th>event_id</th>\n",
       "      <th>ntsb_make</th>\n",
       "      <th>ntsb_model</th>\n",
       "      <th>ntsb_number</th>\n",
       "      <th>year</th>\n",
       "      <th>date</th>\n",
       "      <th>city</th>\n",
       "      <th>state</th>\n",
       "      <th>country</th>\n",
       "      <th>total_fatalities</th>\n",
       "      <th>latimes_make</th>\n",
       "      <th>latimes_model</th>\n",
       "      <th>latimes_make_and_model</th>\n",
       "    </tr>\n",
       "  </thead>\n",
       "  <tbody>\n",
       "    <tr>\n",
       "      <th>7</th>\n",
       "      <td>20060916X01352</td>\n",
       "      <td>HUGHES</td>\n",
       "      <td>369D</td>\n",
       "      <td>LAX06LA288</td>\n",
       "      <td>2006</td>\n",
       "      <td>09/06/06 00:00:00</td>\n",
       "      <td>SOMIS</td>\n",
       "      <td>CA</td>\n",
       "      <td>USA</td>\n",
       "      <td>2</td>\n",
       "      <td>HUGHES</td>\n",
       "      <td>369</td>\n",
       "      <td>HUGHES 369</td>\n",
       "    </tr>\n",
       "    <tr>\n",
       "      <th>9</th>\n",
       "      <td>20060306X00268</td>\n",
       "      <td>SCHWEIZER</td>\n",
       "      <td>269C-1</td>\n",
       "      <td>LAX06LA123</td>\n",
       "      <td>2006</td>\n",
       "      <td>02/25/06 00:00:00</td>\n",
       "      <td>VALENCIA</td>\n",
       "      <td>CA</td>\n",
       "      <td>USA</td>\n",
       "      <td>1</td>\n",
       "      <td>SCHWEIZER</td>\n",
       "      <td>269</td>\n",
       "      <td>SCHWEIZER 269</td>\n",
       "    </tr>\n",
       "    <tr>\n",
       "      <th>16</th>\n",
       "      <td>20060510X00540</td>\n",
       "      <td>ROBINSON</td>\n",
       "      <td>R44 RAVEN II</td>\n",
       "      <td>LAX06FA156</td>\n",
       "      <td>2006</td>\n",
       "      <td>05/01/06 00:00:00</td>\n",
       "      <td>DESERT CENTER</td>\n",
       "      <td>CA</td>\n",
       "      <td>USA</td>\n",
       "      <td>2</td>\n",
       "      <td>ROBINSON</td>\n",
       "      <td>R44</td>\n",
       "      <td>ROBINSON R44</td>\n",
       "    </tr>\n",
       "    <tr>\n",
       "      <th>36</th>\n",
       "      <td>20080529X00746</td>\n",
       "      <td>AEROSPATIALE</td>\n",
       "      <td>AS-350-D</td>\n",
       "      <td>SEA08MA136</td>\n",
       "      <td>2008</td>\n",
       "      <td>05/24/08 00:00:00</td>\n",
       "      <td>AVALON</td>\n",
       "      <td>CA</td>\n",
       "      <td>USA</td>\n",
       "      <td>3</td>\n",
       "      <td>AIRBUS</td>\n",
       "      <td>350</td>\n",
       "      <td>AIRBUS 350</td>\n",
       "    </tr>\n",
       "    <tr>\n",
       "      <th>48</th>\n",
       "      <td>20080710X01015</td>\n",
       "      <td>SCHWEIZER</td>\n",
       "      <td>269 C-1</td>\n",
       "      <td>LAX08LA213</td>\n",
       "      <td>2008</td>\n",
       "      <td>07/04/08 00:00:00</td>\n",
       "      <td>SUNOL</td>\n",
       "      <td>CA</td>\n",
       "      <td>USA</td>\n",
       "      <td>2</td>\n",
       "      <td>SCHWEIZER</td>\n",
       "      <td>269</td>\n",
       "      <td>SCHWEIZER 269</td>\n",
       "    </tr>\n",
       "  </tbody>\n",
       "</table>\n",
       "</div>"
      ],
      "text/plain": [
       "          event_id     ntsb_make    ntsb_model ntsb_number  year  \\\n",
       "7   20060916X01352        HUGHES          369D  LAX06LA288  2006   \n",
       "9   20060306X00268     SCHWEIZER        269C-1  LAX06LA123  2006   \n",
       "16  20060510X00540      ROBINSON  R44 RAVEN II  LAX06FA156  2006   \n",
       "36  20080529X00746  AEROSPATIALE      AS-350-D  SEA08MA136  2008   \n",
       "48  20080710X01015     SCHWEIZER       269 C-1  LAX08LA213  2008   \n",
       "\n",
       "                 date           city state country  total_fatalities  \\\n",
       "7   09/06/06 00:00:00          SOMIS    CA     USA                 2   \n",
       "9   02/25/06 00:00:00       VALENCIA    CA     USA                 1   \n",
       "16  05/01/06 00:00:00  DESERT CENTER    CA     USA                 2   \n",
       "36  05/24/08 00:00:00         AVALON    CA     USA                 3   \n",
       "48  07/04/08 00:00:00          SUNOL    CA     USA                 2   \n",
       "\n",
       "   latimes_make latimes_model latimes_make_and_model  \n",
       "7        HUGHES           369             HUGHES 369  \n",
       "9     SCHWEIZER           269          SCHWEIZER 269  \n",
       "16     ROBINSON           R44           ROBINSON R44  \n",
       "36       AIRBUS           350             AIRBUS 350  \n",
       "48    SCHWEIZER           269          SCHWEIZER 269  "
      ]
     },
     "execution_count": 40,
     "metadata": {},
     "output_type": "execute_result"
    }
   ],
   "source": [
    "my_accidents.head()"
   ]
  },
  {
   "cell_type": "code",
   "execution_count": 41,
   "id": "c379bf54-5bac-455b-91ac-fdefe788d975",
   "metadata": {},
   "outputs": [
    {
     "name": "stdout",
     "output_type": "stream",
     "text": [
      "<class 'pandas.core.frame.DataFrame'>\n",
      "Int64Index: 16 entries, 7 to 152\n",
      "Data columns (total 13 columns):\n",
      " #   Column                  Non-Null Count  Dtype \n",
      "---  ------                  --------------  ----- \n",
      " 0   event_id                16 non-null     object\n",
      " 1   ntsb_make               16 non-null     object\n",
      " 2   ntsb_model              16 non-null     object\n",
      " 3   ntsb_number             16 non-null     object\n",
      " 4   year                    16 non-null     int64 \n",
      " 5   date                    16 non-null     object\n",
      " 6   city                    16 non-null     object\n",
      " 7   state                   16 non-null     object\n",
      " 8   country                 16 non-null     object\n",
      " 9   total_fatalities        16 non-null     int64 \n",
      " 10  latimes_make            16 non-null     object\n",
      " 11  latimes_model           16 non-null     object\n",
      " 12  latimes_make_and_model  16 non-null     object\n",
      "dtypes: int64(2), object(11)\n",
      "memory usage: 1.8+ KB\n"
     ]
    }
   ],
   "source": [
    "my_accidents.info()"
   ]
  },
  {
   "cell_type": "markdown",
   "id": "287181d4-0fc3-4447-b002-1cadf99eb459",
   "metadata": {},
   "source": [
    "### 1. Which state recorded more accidents, Iowa or Missouri?"
   ]
  },
  {
   "cell_type": "code",
   "execution_count": 42,
   "id": "7dc8f5b6-4b80-47d6-b201-ca670e6e2d25",
   "metadata": {},
   "outputs": [
    {
     "data": {
      "text/html": [
       "<div>\n",
       "<style scoped>\n",
       "    .dataframe tbody tr th:only-of-type {\n",
       "        vertical-align: middle;\n",
       "    }\n",
       "\n",
       "    .dataframe tbody tr th {\n",
       "        vertical-align: top;\n",
       "    }\n",
       "\n",
       "    .dataframe thead th {\n",
       "        text-align: right;\n",
       "    }\n",
       "</style>\n",
       "<table border=\"1\" class=\"dataframe\">\n",
       "  <thead>\n",
       "    <tr style=\"text-align: right;\">\n",
       "      <th></th>\n",
       "      <th>event_id</th>\n",
       "      <th>ntsb_make</th>\n",
       "      <th>ntsb_model</th>\n",
       "      <th>ntsb_number</th>\n",
       "      <th>year</th>\n",
       "      <th>date</th>\n",
       "      <th>city</th>\n",
       "      <th>state</th>\n",
       "      <th>country</th>\n",
       "      <th>total_fatalities</th>\n",
       "      <th>latimes_make</th>\n",
       "      <th>latimes_model</th>\n",
       "      <th>latimes_make_and_model</th>\n",
       "    </tr>\n",
       "  </thead>\n",
       "  <tbody>\n",
       "    <tr>\n",
       "      <th>12</th>\n",
       "      <td>20060705X00868</td>\n",
       "      <td>BELL</td>\n",
       "      <td>206B</td>\n",
       "      <td>CHI06FA173</td>\n",
       "      <td>2006</td>\n",
       "      <td>06/30/06 00:00:00</td>\n",
       "      <td>WALFORD</td>\n",
       "      <td>IA</td>\n",
       "      <td>USA</td>\n",
       "      <td>1</td>\n",
       "      <td>BELL</td>\n",
       "      <td>206</td>\n",
       "      <td>BELL 206</td>\n",
       "    </tr>\n",
       "    <tr>\n",
       "      <th>118</th>\n",
       "      <td>20130102X35708</td>\n",
       "      <td>BELL HELICOPTER</td>\n",
       "      <td>407</td>\n",
       "      <td>CEN13FA122</td>\n",
       "      <td>2013</td>\n",
       "      <td>01/02/13 00:00:00</td>\n",
       "      <td>CLEAR LAKE</td>\n",
       "      <td>IA</td>\n",
       "      <td>USA</td>\n",
       "      <td>3</td>\n",
       "      <td>BELL</td>\n",
       "      <td>407</td>\n",
       "      <td>BELL 407</td>\n",
       "    </tr>\n",
       "    <tr>\n",
       "      <th>140</th>\n",
       "      <td>20140908X10448</td>\n",
       "      <td>ROBINSON HELICOPTER COMPANY</td>\n",
       "      <td>R44 II</td>\n",
       "      <td>CEN14LA487</td>\n",
       "      <td>2014</td>\n",
       "      <td>09/06/14 00:00:00</td>\n",
       "      <td>MACEDONIA</td>\n",
       "      <td>IA</td>\n",
       "      <td>USA</td>\n",
       "      <td>1</td>\n",
       "      <td>ROBINSON</td>\n",
       "      <td>R44</td>\n",
       "      <td>ROBINSON R44</td>\n",
       "    </tr>\n",
       "  </tbody>\n",
       "</table>\n",
       "</div>"
      ],
      "text/plain": [
       "           event_id                    ntsb_make ntsb_model ntsb_number  year  \\\n",
       "12   20060705X00868                         BELL       206B  CHI06FA173  2006   \n",
       "118  20130102X35708              BELL HELICOPTER        407  CEN13FA122  2013   \n",
       "140  20140908X10448  ROBINSON HELICOPTER COMPANY     R44 II  CEN14LA487  2014   \n",
       "\n",
       "                  date        city state country  total_fatalities  \\\n",
       "12   06/30/06 00:00:00     WALFORD    IA     USA                 1   \n",
       "118  01/02/13 00:00:00  CLEAR LAKE    IA     USA                 3   \n",
       "140  09/06/14 00:00:00   MACEDONIA    IA     USA                 1   \n",
       "\n",
       "    latimes_make latimes_model latimes_make_and_model  \n",
       "12          BELL           206               BELL 206  \n",
       "118         BELL           407               BELL 407  \n",
       "140     ROBINSON           R44           ROBINSON R44  "
      ]
     },
     "execution_count": 42,
     "metadata": {},
     "output_type": "execute_result"
    }
   ],
   "source": [
    "state_ia = \"IA\"\n",
    "accident_list[accident_list.state == state_ia]\n",
    "ia_accidents = accident_list[accident_list.state == state_ia]\n",
    "ia_accidents"
   ]
  },
  {
   "cell_type": "code",
   "execution_count": 43,
   "id": "6170647b-fc7d-4df2-92ac-ce4bf0c17d9b",
   "metadata": {},
   "outputs": [
    {
     "data": {
      "text/html": [
       "<div>\n",
       "<style scoped>\n",
       "    .dataframe tbody tr th:only-of-type {\n",
       "        vertical-align: middle;\n",
       "    }\n",
       "\n",
       "    .dataframe tbody tr th {\n",
       "        vertical-align: top;\n",
       "    }\n",
       "\n",
       "    .dataframe thead th {\n",
       "        text-align: right;\n",
       "    }\n",
       "</style>\n",
       "<table border=\"1\" class=\"dataframe\">\n",
       "  <thead>\n",
       "    <tr style=\"text-align: right;\">\n",
       "      <th></th>\n",
       "      <th>event_id</th>\n",
       "      <th>ntsb_make</th>\n",
       "      <th>ntsb_model</th>\n",
       "      <th>ntsb_number</th>\n",
       "      <th>year</th>\n",
       "      <th>date</th>\n",
       "      <th>city</th>\n",
       "      <th>state</th>\n",
       "      <th>country</th>\n",
       "      <th>total_fatalities</th>\n",
       "      <th>latimes_make</th>\n",
       "      <th>latimes_model</th>\n",
       "      <th>latimes_make_and_model</th>\n",
       "    </tr>\n",
       "  </thead>\n",
       "  <tbody>\n",
       "    <tr>\n",
       "      <th>55</th>\n",
       "      <td>20080908X01405</td>\n",
       "      <td>ROBINSON</td>\n",
       "      <td>R44 II</td>\n",
       "      <td>DFW08FA218</td>\n",
       "      <td>2008</td>\n",
       "      <td>08/29/08 00:00:00</td>\n",
       "      <td>RIDGEDALE</td>\n",
       "      <td>MO</td>\n",
       "      <td>USA</td>\n",
       "      <td>2</td>\n",
       "      <td>ROBINSON</td>\n",
       "      <td>R44</td>\n",
       "      <td>ROBINSON R44</td>\n",
       "    </tr>\n",
       "    <tr>\n",
       "      <th>73</th>\n",
       "      <td>20101015X73141</td>\n",
       "      <td>BELL</td>\n",
       "      <td>206B</td>\n",
       "      <td>CEN11GA020</td>\n",
       "      <td>2010</td>\n",
       "      <td>10/15/10 00:00:00</td>\n",
       "      <td>CLARKSON VALLEY</td>\n",
       "      <td>MO</td>\n",
       "      <td>USA</td>\n",
       "      <td>1</td>\n",
       "      <td>BELL</td>\n",
       "      <td>206</td>\n",
       "      <td>BELL 206</td>\n",
       "    </tr>\n",
       "    <tr>\n",
       "      <th>110</th>\n",
       "      <td>20130525X61706</td>\n",
       "      <td>ROBINSON HELICOPTER COMPANY</td>\n",
       "      <td>R44 II</td>\n",
       "      <td>CEN13FA295</td>\n",
       "      <td>2013</td>\n",
       "      <td>05/24/13 00:00:00</td>\n",
       "      <td>CROSS TIMBERS</td>\n",
       "      <td>MO</td>\n",
       "      <td>USA</td>\n",
       "      <td>2</td>\n",
       "      <td>ROBINSON</td>\n",
       "      <td>R44</td>\n",
       "      <td>ROBINSON R44</td>\n",
       "    </tr>\n",
       "    <tr>\n",
       "      <th>144</th>\n",
       "      <td>20150308X10201</td>\n",
       "      <td>AIRBUS HELICOPTERS (EUROCOPTE</td>\n",
       "      <td>EC-130-B4</td>\n",
       "      <td>CEN15FA164</td>\n",
       "      <td>2015</td>\n",
       "      <td>03/06/15 00:00:00</td>\n",
       "      <td>ST LOUIS</td>\n",
       "      <td>MO</td>\n",
       "      <td>USA</td>\n",
       "      <td>1</td>\n",
       "      <td>AIRBUS</td>\n",
       "      <td>130</td>\n",
       "      <td>AIRBUS 130</td>\n",
       "    </tr>\n",
       "  </tbody>\n",
       "</table>\n",
       "</div>"
      ],
      "text/plain": [
       "           event_id                      ntsb_make ntsb_model ntsb_number  \\\n",
       "55   20080908X01405                       ROBINSON     R44 II  DFW08FA218   \n",
       "73   20101015X73141                           BELL       206B  CEN11GA020   \n",
       "110  20130525X61706    ROBINSON HELICOPTER COMPANY     R44 II  CEN13FA295   \n",
       "144  20150308X10201  AIRBUS HELICOPTERS (EUROCOPTE  EC-130-B4  CEN15FA164   \n",
       "\n",
       "     year               date             city state country  total_fatalities  \\\n",
       "55   2008  08/29/08 00:00:00        RIDGEDALE    MO     USA                 2   \n",
       "73   2010  10/15/10 00:00:00  CLARKSON VALLEY    MO     USA                 1   \n",
       "110  2013  05/24/13 00:00:00    CROSS TIMBERS    MO     USA                 2   \n",
       "144  2015  03/06/15 00:00:00         ST LOUIS    MO     USA                 1   \n",
       "\n",
       "    latimes_make latimes_model latimes_make_and_model  \n",
       "55      ROBINSON           R44           ROBINSON R44  \n",
       "73          BELL           206               BELL 206  \n",
       "110     ROBINSON           R44           ROBINSON R44  \n",
       "144       AIRBUS           130             AIRBUS 130  "
      ]
     },
     "execution_count": 43,
     "metadata": {},
     "output_type": "execute_result"
    }
   ],
   "source": [
    "state_mo = \"MO\"\n",
    "accident_list[accident_list.state == state_mo]\n",
    "mo_accidents = accident_list[accident_list.state == state_mo]\n",
    "mo_accidents"
   ]
  },
  {
   "cell_type": "markdown",
   "id": "cf1048bf-98be-4148-8dfe-ff68606b1f34",
   "metadata": {},
   "source": [
    "### 2. How many accidents recorded more than one fatality?"
   ]
  },
  {
   "cell_type": "code",
   "execution_count": 44,
   "id": "8a1191e2-a9e5-4870-a8ba-504926e40ca8",
   "metadata": {},
   "outputs": [
    {
     "data": {
      "text/plain": [
       "index               89\n",
       "total_fatalities    89\n",
       "dtype: int64"
      ]
     },
     "execution_count": 44,
     "metadata": {},
     "output_type": "execute_result"
    }
   ],
   "source": [
    "acci_fatal = accident_list.total_fatalities.reset_index()\n",
    "acci_fatal[acci_fatal.total_fatalities > 1].count()"
   ]
  },
  {
   "cell_type": "markdown",
   "id": "c92d0917-16db-47d1-84a1-9b8dae1754ae",
   "metadata": {},
   "source": [
    "### 3. How many accidents happened in California in 2015?"
   ]
  },
  {
   "cell_type": "code",
   "execution_count": 45,
   "id": "10446abf-22f2-41ca-b0c8-9ef98dff2a5d",
   "metadata": {},
   "outputs": [
    {
     "data": {
      "text/plain": [
       "event_id                  2\n",
       "ntsb_make                 2\n",
       "ntsb_model                2\n",
       "ntsb_number               2\n",
       "year                      2\n",
       "date                      2\n",
       "city                      2\n",
       "state                     2\n",
       "country                   2\n",
       "total_fatalities          2\n",
       "latimes_make              2\n",
       "latimes_model             2\n",
       "latimes_make_and_model    2\n",
       "dtype: int64"
      ]
     },
     "execution_count": 45,
     "metadata": {},
     "output_type": "execute_result"
    }
   ],
   "source": [
    "state_ca = \"CA\"\n",
    "accident_list[accident_list.state == state_ca]\n",
    "ca_accidents = accident_list[accident_list.state == state_ca]\n",
    "ca_accidents[ca_accidents.year == 2015].count()"
   ]
  },
  {
   "cell_type": "markdown",
   "id": "07f283a1-87c1-4bca-b00c-92b1814b675c",
   "metadata": {},
   "source": [
    "### 4. What percentage of the total fatalities occured in California?"
   ]
  },
  {
   "cell_type": "code",
   "execution_count": 46,
   "id": "f48eca7a-2b7c-426a-814d-700797bbc70d",
   "metadata": {},
   "outputs": [
    {
     "data": {
      "text/plain": [
       "0.09523809523809523"
      ]
     },
     "execution_count": 46,
     "metadata": {},
     "output_type": "execute_result"
    }
   ],
   "source": [
    "state_ca = \"CA\"\n",
    "accident_list[accident_list.state == state_ca]\n",
    "ca_accidents = accident_list[accident_list.state == state_ca]\n",
    "ca_total = ca_accidents.total_fatalities.sum()\n",
    "all_state_total = accident_list.total_fatalities.sum()\n",
    "ca_total / all_state_total"
   ]
  },
  {
   "cell_type": "markdown",
   "id": "c45f7b14-b3a5-473e-8cfb-8347688f4cf7",
   "metadata": {},
   "source": [
    "## Chapter 7"
   ]
  },
  {
   "cell_type": "code",
   "execution_count": 47,
   "id": "2bb67cee-6ee4-4fa2-a0c2-176ab0fe81d8",
   "metadata": {},
   "outputs": [
    {
     "data": {
      "text/plain": [
       "<pandas.core.groupby.generic.DataFrameGroupBy object at 0x11d404280>"
      ]
     },
     "execution_count": 47,
     "metadata": {},
     "output_type": "execute_result"
    }
   ],
   "source": [
    "accident_list.groupby(\"latimes_make_and_model\")"
   ]
  },
  {
   "cell_type": "code",
   "execution_count": 48,
   "id": "1a111100-b98a-469f-9020-b2f966ae3df6",
   "metadata": {},
   "outputs": [
    {
     "data": {
      "text/plain": [
       "latimes_make_and_model\n",
       "AGUSTA 109                2\n",
       "AIRBUS 130                1\n",
       "AIRBUS 135                4\n",
       "AIRBUS 350               29\n",
       "BELL 206                 30\n",
       "BELL 407                 13\n",
       "HUGHES 369               13\n",
       "MCDONNELL DOUGLAS 369     6\n",
       "ROBINSON R22             20\n",
       "ROBINSON R44             38\n",
       "SCHWEIZER 269             5\n",
       "SIKORSKY 76               2\n",
       "dtype: int64"
      ]
     },
     "execution_count": 48,
     "metadata": {},
     "output_type": "execute_result"
    }
   ],
   "source": [
    "accident_list.groupby(\"latimes_make_and_model\").size()"
   ]
  },
  {
   "cell_type": "code",
   "execution_count": 49,
   "id": "f08dcc63-9500-4a4b-8142-cb8975562d69",
   "metadata": {},
   "outputs": [
    {
     "data": {
      "text/plain": [
       "latimes_make_and_model\n",
       "AGUSTA 109                5\n",
       "AIRBUS 130                1\n",
       "AIRBUS 135               11\n",
       "AIRBUS 350               81\n",
       "BELL 206                 61\n",
       "BELL 407                 35\n",
       "HUGHES 369               19\n",
       "MCDONNELL DOUGLAS 369     7\n",
       "ROBINSON R22             27\n",
       "ROBINSON R44             71\n",
       "SCHWEIZER 269             7\n",
       "SIKORSKY 76              11\n",
       "Name: total_fatalities, dtype: int64"
      ]
     },
     "execution_count": 49,
     "metadata": {},
     "output_type": "execute_result"
    }
   ],
   "source": [
    "accident_list.groupby(\"latimes_make_and_model\").total_fatalities.sum()"
   ]
  },
  {
   "cell_type": "code",
   "execution_count": 50,
   "id": "53d4cdf5-3b92-4ffe-a582-9de2bb10f070",
   "metadata": {},
   "outputs": [
    {
     "data": {
      "text/html": [
       "<div>\n",
       "<style scoped>\n",
       "    .dataframe tbody tr th:only-of-type {\n",
       "        vertical-align: middle;\n",
       "    }\n",
       "\n",
       "    .dataframe tbody tr th {\n",
       "        vertical-align: top;\n",
       "    }\n",
       "\n",
       "    .dataframe thead th {\n",
       "        text-align: right;\n",
       "    }\n",
       "</style>\n",
       "<table border=\"1\" class=\"dataframe\">\n",
       "  <thead>\n",
       "    <tr style=\"text-align: right;\">\n",
       "      <th></th>\n",
       "      <th>latimes_make_and_model</th>\n",
       "      <th>0</th>\n",
       "    </tr>\n",
       "  </thead>\n",
       "  <tbody>\n",
       "    <tr>\n",
       "      <th>0</th>\n",
       "      <td>AGUSTA 109</td>\n",
       "      <td>2</td>\n",
       "    </tr>\n",
       "    <tr>\n",
       "      <th>1</th>\n",
       "      <td>AIRBUS 130</td>\n",
       "      <td>1</td>\n",
       "    </tr>\n",
       "    <tr>\n",
       "      <th>2</th>\n",
       "      <td>AIRBUS 135</td>\n",
       "      <td>4</td>\n",
       "    </tr>\n",
       "    <tr>\n",
       "      <th>3</th>\n",
       "      <td>AIRBUS 350</td>\n",
       "      <td>29</td>\n",
       "    </tr>\n",
       "    <tr>\n",
       "      <th>4</th>\n",
       "      <td>BELL 206</td>\n",
       "      <td>30</td>\n",
       "    </tr>\n",
       "    <tr>\n",
       "      <th>5</th>\n",
       "      <td>BELL 407</td>\n",
       "      <td>13</td>\n",
       "    </tr>\n",
       "    <tr>\n",
       "      <th>6</th>\n",
       "      <td>HUGHES 369</td>\n",
       "      <td>13</td>\n",
       "    </tr>\n",
       "    <tr>\n",
       "      <th>7</th>\n",
       "      <td>MCDONNELL DOUGLAS 369</td>\n",
       "      <td>6</td>\n",
       "    </tr>\n",
       "    <tr>\n",
       "      <th>8</th>\n",
       "      <td>ROBINSON R22</td>\n",
       "      <td>20</td>\n",
       "    </tr>\n",
       "    <tr>\n",
       "      <th>9</th>\n",
       "      <td>ROBINSON R44</td>\n",
       "      <td>38</td>\n",
       "    </tr>\n",
       "    <tr>\n",
       "      <th>10</th>\n",
       "      <td>SCHWEIZER 269</td>\n",
       "      <td>5</td>\n",
       "    </tr>\n",
       "    <tr>\n",
       "      <th>11</th>\n",
       "      <td>SIKORSKY 76</td>\n",
       "      <td>2</td>\n",
       "    </tr>\n",
       "  </tbody>\n",
       "</table>\n",
       "</div>"
      ],
      "text/plain": [
       "   latimes_make_and_model   0\n",
       "0              AGUSTA 109   2\n",
       "1              AIRBUS 130   1\n",
       "2              AIRBUS 135   4\n",
       "3              AIRBUS 350  29\n",
       "4                BELL 206  30\n",
       "5                BELL 407  13\n",
       "6              HUGHES 369  13\n",
       "7   MCDONNELL DOUGLAS 369   6\n",
       "8            ROBINSON R22  20\n",
       "9            ROBINSON R44  38\n",
       "10          SCHWEIZER 269   5\n",
       "11            SIKORSKY 76   2"
      ]
     },
     "execution_count": 50,
     "metadata": {},
     "output_type": "execute_result"
    }
   ],
   "source": [
    "accident_list.groupby(\"latimes_make_and_model\").size().reset_index()"
   ]
  },
  {
   "cell_type": "code",
   "execution_count": 51,
   "id": "0d08031c-4181-4da9-b708-442296d02a34",
   "metadata": {},
   "outputs": [],
   "source": [
    "accident_counts = accident_list.groupby(\"latimes_make_and_model\").size().reset_index()"
   ]
  },
  {
   "cell_type": "code",
   "execution_count": 52,
   "id": "2cb9724e-645f-4716-8de1-c983b358e3bb",
   "metadata": {},
   "outputs": [],
   "source": [
    "accident_counts.rename(columns={0: \"accidents\"}, inplace=True)"
   ]
  },
  {
   "cell_type": "code",
   "execution_count": 53,
   "id": "14a7a628-e747-4fbd-b5ee-59e59a9554ca",
   "metadata": {},
   "outputs": [
    {
     "data": {
      "text/html": [
       "<div>\n",
       "<style scoped>\n",
       "    .dataframe tbody tr th:only-of-type {\n",
       "        vertical-align: middle;\n",
       "    }\n",
       "\n",
       "    .dataframe tbody tr th {\n",
       "        vertical-align: top;\n",
       "    }\n",
       "\n",
       "    .dataframe thead th {\n",
       "        text-align: right;\n",
       "    }\n",
       "</style>\n",
       "<table border=\"1\" class=\"dataframe\">\n",
       "  <thead>\n",
       "    <tr style=\"text-align: right;\">\n",
       "      <th></th>\n",
       "      <th>latimes_make_and_model</th>\n",
       "      <th>accidents</th>\n",
       "    </tr>\n",
       "  </thead>\n",
       "  <tbody>\n",
       "    <tr>\n",
       "      <th>0</th>\n",
       "      <td>AGUSTA 109</td>\n",
       "      <td>2</td>\n",
       "    </tr>\n",
       "    <tr>\n",
       "      <th>1</th>\n",
       "      <td>AIRBUS 130</td>\n",
       "      <td>1</td>\n",
       "    </tr>\n",
       "    <tr>\n",
       "      <th>2</th>\n",
       "      <td>AIRBUS 135</td>\n",
       "      <td>4</td>\n",
       "    </tr>\n",
       "    <tr>\n",
       "      <th>3</th>\n",
       "      <td>AIRBUS 350</td>\n",
       "      <td>29</td>\n",
       "    </tr>\n",
       "    <tr>\n",
       "      <th>4</th>\n",
       "      <td>BELL 206</td>\n",
       "      <td>30</td>\n",
       "    </tr>\n",
       "  </tbody>\n",
       "</table>\n",
       "</div>"
      ],
      "text/plain": [
       "  latimes_make_and_model  accidents\n",
       "0             AGUSTA 109          2\n",
       "1             AIRBUS 130          1\n",
       "2             AIRBUS 135          4\n",
       "3             AIRBUS 350         29\n",
       "4               BELL 206         30"
      ]
     },
     "execution_count": 53,
     "metadata": {},
     "output_type": "execute_result"
    }
   ],
   "source": [
    "accident_counts.head()"
   ]
  },
  {
   "cell_type": "markdown",
   "id": "253d037a-4d3a-4207-ab68-018ad75afe9b",
   "metadata": {},
   "source": [
    "## Chapter 8"
   ]
  },
  {
   "cell_type": "code",
   "execution_count": 54,
   "id": "0487edff-2739-473d-9566-b691b5cb1c7c",
   "metadata": {},
   "outputs": [],
   "source": [
    "survey = pd.read_csv(\"https://raw.githubusercontent.com/palewire/first-python-notebook/main/docs/src/_static/faa-survey.csv\")"
   ]
  },
  {
   "cell_type": "code",
   "execution_count": 55,
   "id": "a308c7f2-7464-445b-923d-d7f13a5762d7",
   "metadata": {},
   "outputs": [
    {
     "data": {
      "text/html": [
       "<div>\n",
       "<style scoped>\n",
       "    .dataframe tbody tr th:only-of-type {\n",
       "        vertical-align: middle;\n",
       "    }\n",
       "\n",
       "    .dataframe tbody tr th {\n",
       "        vertical-align: top;\n",
       "    }\n",
       "\n",
       "    .dataframe thead th {\n",
       "        text-align: right;\n",
       "    }\n",
       "</style>\n",
       "<table border=\"1\" class=\"dataframe\">\n",
       "  <thead>\n",
       "    <tr style=\"text-align: right;\">\n",
       "      <th></th>\n",
       "      <th>latimes_make_and_model</th>\n",
       "      <th>total_hours</th>\n",
       "    </tr>\n",
       "  </thead>\n",
       "  <tbody>\n",
       "    <tr>\n",
       "      <th>0</th>\n",
       "      <td>AGUSTA 109</td>\n",
       "      <td>362172</td>\n",
       "    </tr>\n",
       "    <tr>\n",
       "      <th>1</th>\n",
       "      <td>AIRBUS 130</td>\n",
       "      <td>1053786</td>\n",
       "    </tr>\n",
       "    <tr>\n",
       "      <th>2</th>\n",
       "      <td>AIRBUS 135</td>\n",
       "      <td>884596</td>\n",
       "    </tr>\n",
       "    <tr>\n",
       "      <th>3</th>\n",
       "      <td>AIRBUS 350</td>\n",
       "      <td>3883490</td>\n",
       "    </tr>\n",
       "    <tr>\n",
       "      <th>4</th>\n",
       "      <td>BELL 206</td>\n",
       "      <td>5501308</td>\n",
       "    </tr>\n",
       "  </tbody>\n",
       "</table>\n",
       "</div>"
      ],
      "text/plain": [
       "  latimes_make_and_model  total_hours\n",
       "0             AGUSTA 109       362172\n",
       "1             AIRBUS 130      1053786\n",
       "2             AIRBUS 135       884596\n",
       "3             AIRBUS 350      3883490\n",
       "4               BELL 206      5501308"
      ]
     },
     "execution_count": 55,
     "metadata": {},
     "output_type": "execute_result"
    }
   ],
   "source": [
    "survey.head()"
   ]
  },
  {
   "cell_type": "code",
   "execution_count": 56,
   "id": "e1a70433-ee93-41a8-9d04-ed79a83b682b",
   "metadata": {},
   "outputs": [
    {
     "name": "stdout",
     "output_type": "stream",
     "text": [
      "<class 'pandas.core.frame.DataFrame'>\n",
      "RangeIndex: 12 entries, 0 to 11\n",
      "Data columns (total 2 columns):\n",
      " #   Column                  Non-Null Count  Dtype \n",
      "---  ------                  --------------  ----- \n",
      " 0   latimes_make_and_model  12 non-null     object\n",
      " 1   accidents               12 non-null     int64 \n",
      "dtypes: int64(1), object(1)\n",
      "memory usage: 320.0+ bytes\n"
     ]
    }
   ],
   "source": [
    "accident_counts.info()"
   ]
  },
  {
   "cell_type": "code",
   "execution_count": 57,
   "id": "533f0bbe-b937-438f-be40-5fb2ef98e57e",
   "metadata": {},
   "outputs": [
    {
     "name": "stdout",
     "output_type": "stream",
     "text": [
      "<class 'pandas.core.frame.DataFrame'>\n",
      "RangeIndex: 12 entries, 0 to 11\n",
      "Data columns (total 2 columns):\n",
      " #   Column                  Non-Null Count  Dtype \n",
      "---  ------                  --------------  ----- \n",
      " 0   latimes_make_and_model  12 non-null     object\n",
      " 1   total_hours             12 non-null     int64 \n",
      "dtypes: int64(1), object(1)\n",
      "memory usage: 320.0+ bytes\n"
     ]
    }
   ],
   "source": [
    "survey.info()"
   ]
  },
  {
   "cell_type": "code",
   "execution_count": 58,
   "id": "67ef9691-694e-4faa-8c63-427cc5eef43a",
   "metadata": {},
   "outputs": [],
   "source": [
    "merged_list = pd.merge(accident_counts, survey, on=\"latimes_make_and_model\")"
   ]
  },
  {
   "cell_type": "code",
   "execution_count": 59,
   "id": "810a53eb-3262-4e7a-870f-63e3bc64ee0d",
   "metadata": {},
   "outputs": [
    {
     "data": {
      "text/html": [
       "<div>\n",
       "<style scoped>\n",
       "    .dataframe tbody tr th:only-of-type {\n",
       "        vertical-align: middle;\n",
       "    }\n",
       "\n",
       "    .dataframe tbody tr th {\n",
       "        vertical-align: top;\n",
       "    }\n",
       "\n",
       "    .dataframe thead th {\n",
       "        text-align: right;\n",
       "    }\n",
       "</style>\n",
       "<table border=\"1\" class=\"dataframe\">\n",
       "  <thead>\n",
       "    <tr style=\"text-align: right;\">\n",
       "      <th></th>\n",
       "      <th>latimes_make_and_model</th>\n",
       "      <th>accidents</th>\n",
       "      <th>total_hours</th>\n",
       "    </tr>\n",
       "  </thead>\n",
       "  <tbody>\n",
       "    <tr>\n",
       "      <th>0</th>\n",
       "      <td>AGUSTA 109</td>\n",
       "      <td>2</td>\n",
       "      <td>362172</td>\n",
       "    </tr>\n",
       "    <tr>\n",
       "      <th>1</th>\n",
       "      <td>AIRBUS 130</td>\n",
       "      <td>1</td>\n",
       "      <td>1053786</td>\n",
       "    </tr>\n",
       "    <tr>\n",
       "      <th>2</th>\n",
       "      <td>AIRBUS 135</td>\n",
       "      <td>4</td>\n",
       "      <td>884596</td>\n",
       "    </tr>\n",
       "    <tr>\n",
       "      <th>3</th>\n",
       "      <td>AIRBUS 350</td>\n",
       "      <td>29</td>\n",
       "      <td>3883490</td>\n",
       "    </tr>\n",
       "    <tr>\n",
       "      <th>4</th>\n",
       "      <td>BELL 206</td>\n",
       "      <td>30</td>\n",
       "      <td>5501308</td>\n",
       "    </tr>\n",
       "  </tbody>\n",
       "</table>\n",
       "</div>"
      ],
      "text/plain": [
       "  latimes_make_and_model  accidents  total_hours\n",
       "0             AGUSTA 109          2       362172\n",
       "1             AIRBUS 130          1      1053786\n",
       "2             AIRBUS 135          4       884596\n",
       "3             AIRBUS 350         29      3883490\n",
       "4               BELL 206         30      5501308"
      ]
     },
     "execution_count": 59,
     "metadata": {},
     "output_type": "execute_result"
    }
   ],
   "source": [
    "merged_list.head()"
   ]
  },
  {
   "cell_type": "code",
   "execution_count": 60,
   "id": "f460ef64-c4fa-4735-989f-817749796a26",
   "metadata": {},
   "outputs": [
    {
     "name": "stdout",
     "output_type": "stream",
     "text": [
      "<class 'pandas.core.frame.DataFrame'>\n",
      "Int64Index: 12 entries, 0 to 11\n",
      "Data columns (total 3 columns):\n",
      " #   Column                  Non-Null Count  Dtype \n",
      "---  ------                  --------------  ----- \n",
      " 0   latimes_make_and_model  12 non-null     object\n",
      " 1   accidents               12 non-null     int64 \n",
      " 2   total_hours             12 non-null     int64 \n",
      "dtypes: int64(2), object(1)\n",
      "memory usage: 384.0+ bytes\n"
     ]
    }
   ],
   "source": [
    "merged_list.info()"
   ]
  },
  {
   "cell_type": "markdown",
   "id": "0ac6e714-24cd-4d67-91d2-9e8bf387e3d1",
   "metadata": {},
   "source": [
    "## Chapter 9"
   ]
  },
  {
   "cell_type": "code",
   "execution_count": 61,
   "id": "71698896-1da1-48f1-958e-3de898405182",
   "metadata": {},
   "outputs": [
    {
     "data": {
      "text/plain": [
       "0     5.522238e-06\n",
       "1     9.489593e-07\n",
       "2     4.521838e-06\n",
       "3     7.467510e-06\n",
       "4     5.453249e-06\n",
       "5     6.150096e-06\n",
       "6     1.081812e-05\n",
       "7     1.089544e-05\n",
       "8     6.732180e-06\n",
       "9     1.610354e-05\n",
       "10    4.388560e-06\n",
       "11    2.184563e-06\n",
       "dtype: float64"
      ]
     },
     "execution_count": 61,
     "metadata": {},
     "output_type": "execute_result"
    }
   ],
   "source": [
    "merged_list.accidents / merged_list.total_hours"
   ]
  },
  {
   "cell_type": "code",
   "execution_count": 62,
   "id": "13483213-bb09-4836-8376-99d0c1f52bf9",
   "metadata": {},
   "outputs": [],
   "source": [
    "merged_list['per_hour'] = merged_list.accidents / merged_list.total_hours"
   ]
  },
  {
   "cell_type": "code",
   "execution_count": 63,
   "id": "07b9cfd6-6836-4b31-81ed-687998077e11",
   "metadata": {},
   "outputs": [
    {
     "data": {
      "text/html": [
       "<div>\n",
       "<style scoped>\n",
       "    .dataframe tbody tr th:only-of-type {\n",
       "        vertical-align: middle;\n",
       "    }\n",
       "\n",
       "    .dataframe tbody tr th {\n",
       "        vertical-align: top;\n",
       "    }\n",
       "\n",
       "    .dataframe thead th {\n",
       "        text-align: right;\n",
       "    }\n",
       "</style>\n",
       "<table border=\"1\" class=\"dataframe\">\n",
       "  <thead>\n",
       "    <tr style=\"text-align: right;\">\n",
       "      <th></th>\n",
       "      <th>latimes_make_and_model</th>\n",
       "      <th>accidents</th>\n",
       "      <th>total_hours</th>\n",
       "      <th>per_hour</th>\n",
       "    </tr>\n",
       "  </thead>\n",
       "  <tbody>\n",
       "    <tr>\n",
       "      <th>0</th>\n",
       "      <td>AGUSTA 109</td>\n",
       "      <td>2</td>\n",
       "      <td>362172</td>\n",
       "      <td>5.522238e-06</td>\n",
       "    </tr>\n",
       "    <tr>\n",
       "      <th>1</th>\n",
       "      <td>AIRBUS 130</td>\n",
       "      <td>1</td>\n",
       "      <td>1053786</td>\n",
       "      <td>9.489593e-07</td>\n",
       "    </tr>\n",
       "    <tr>\n",
       "      <th>2</th>\n",
       "      <td>AIRBUS 135</td>\n",
       "      <td>4</td>\n",
       "      <td>884596</td>\n",
       "      <td>4.521838e-06</td>\n",
       "    </tr>\n",
       "    <tr>\n",
       "      <th>3</th>\n",
       "      <td>AIRBUS 350</td>\n",
       "      <td>29</td>\n",
       "      <td>3883490</td>\n",
       "      <td>7.467510e-06</td>\n",
       "    </tr>\n",
       "    <tr>\n",
       "      <th>4</th>\n",
       "      <td>BELL 206</td>\n",
       "      <td>30</td>\n",
       "      <td>5501308</td>\n",
       "      <td>5.453249e-06</td>\n",
       "    </tr>\n",
       "  </tbody>\n",
       "</table>\n",
       "</div>"
      ],
      "text/plain": [
       "  latimes_make_and_model  accidents  total_hours      per_hour\n",
       "0             AGUSTA 109          2       362172  5.522238e-06\n",
       "1             AIRBUS 130          1      1053786  9.489593e-07\n",
       "2             AIRBUS 135          4       884596  4.521838e-06\n",
       "3             AIRBUS 350         29      3883490  7.467510e-06\n",
       "4               BELL 206         30      5501308  5.453249e-06"
      ]
     },
     "execution_count": 63,
     "metadata": {},
     "output_type": "execute_result"
    }
   ],
   "source": [
    "merged_list.head()"
   ]
  },
  {
   "cell_type": "code",
   "execution_count": 64,
   "id": "b714045a-eb1e-47fb-bad2-dc8e05c4e01f",
   "metadata": {},
   "outputs": [],
   "source": [
    "merged_list['per_100k_hours'] = (merged_list.accidents / merged_list.total_hours) * 100_000"
   ]
  },
  {
   "cell_type": "markdown",
   "id": "f5c8fcf7-8c4c-4fa0-a1c5-8420a4ebbcab",
   "metadata": {},
   "source": [
    "## Chapter 10"
   ]
  },
  {
   "cell_type": "code",
   "execution_count": 65,
   "id": "cc367c26-88d2-4882-b176-c976e280c679",
   "metadata": {},
   "outputs": [
    {
     "data": {
      "text/html": [
       "<div>\n",
       "<style scoped>\n",
       "    .dataframe tbody tr th:only-of-type {\n",
       "        vertical-align: middle;\n",
       "    }\n",
       "\n",
       "    .dataframe tbody tr th {\n",
       "        vertical-align: top;\n",
       "    }\n",
       "\n",
       "    .dataframe thead th {\n",
       "        text-align: right;\n",
       "    }\n",
       "</style>\n",
       "<table border=\"1\" class=\"dataframe\">\n",
       "  <thead>\n",
       "    <tr style=\"text-align: right;\">\n",
       "      <th></th>\n",
       "      <th>latimes_make_and_model</th>\n",
       "      <th>accidents</th>\n",
       "      <th>total_hours</th>\n",
       "      <th>per_hour</th>\n",
       "      <th>per_100k_hours</th>\n",
       "    </tr>\n",
       "  </thead>\n",
       "  <tbody>\n",
       "    <tr>\n",
       "      <th>1</th>\n",
       "      <td>AIRBUS 130</td>\n",
       "      <td>1</td>\n",
       "      <td>1053786</td>\n",
       "      <td>9.489593e-07</td>\n",
       "      <td>0.094896</td>\n",
       "    </tr>\n",
       "    <tr>\n",
       "      <th>11</th>\n",
       "      <td>SIKORSKY 76</td>\n",
       "      <td>2</td>\n",
       "      <td>915515</td>\n",
       "      <td>2.184563e-06</td>\n",
       "      <td>0.218456</td>\n",
       "    </tr>\n",
       "    <tr>\n",
       "      <th>10</th>\n",
       "      <td>SCHWEIZER 269</td>\n",
       "      <td>5</td>\n",
       "      <td>1139326</td>\n",
       "      <td>4.388560e-06</td>\n",
       "      <td>0.438856</td>\n",
       "    </tr>\n",
       "    <tr>\n",
       "      <th>2</th>\n",
       "      <td>AIRBUS 135</td>\n",
       "      <td>4</td>\n",
       "      <td>884596</td>\n",
       "      <td>4.521838e-06</td>\n",
       "      <td>0.452184</td>\n",
       "    </tr>\n",
       "    <tr>\n",
       "      <th>4</th>\n",
       "      <td>BELL 206</td>\n",
       "      <td>30</td>\n",
       "      <td>5501308</td>\n",
       "      <td>5.453249e-06</td>\n",
       "      <td>0.545325</td>\n",
       "    </tr>\n",
       "    <tr>\n",
       "      <th>0</th>\n",
       "      <td>AGUSTA 109</td>\n",
       "      <td>2</td>\n",
       "      <td>362172</td>\n",
       "      <td>5.522238e-06</td>\n",
       "      <td>0.552224</td>\n",
       "    </tr>\n",
       "    <tr>\n",
       "      <th>5</th>\n",
       "      <td>BELL 407</td>\n",
       "      <td>13</td>\n",
       "      <td>2113788</td>\n",
       "      <td>6.150096e-06</td>\n",
       "      <td>0.615010</td>\n",
       "    </tr>\n",
       "    <tr>\n",
       "      <th>8</th>\n",
       "      <td>ROBINSON R22</td>\n",
       "      <td>20</td>\n",
       "      <td>2970806</td>\n",
       "      <td>6.732180e-06</td>\n",
       "      <td>0.673218</td>\n",
       "    </tr>\n",
       "    <tr>\n",
       "      <th>3</th>\n",
       "      <td>AIRBUS 350</td>\n",
       "      <td>29</td>\n",
       "      <td>3883490</td>\n",
       "      <td>7.467510e-06</td>\n",
       "      <td>0.746751</td>\n",
       "    </tr>\n",
       "    <tr>\n",
       "      <th>6</th>\n",
       "      <td>HUGHES 369</td>\n",
       "      <td>13</td>\n",
       "      <td>1201688</td>\n",
       "      <td>1.081812e-05</td>\n",
       "      <td>1.081812</td>\n",
       "    </tr>\n",
       "    <tr>\n",
       "      <th>7</th>\n",
       "      <td>MCDONNELL DOUGLAS 369</td>\n",
       "      <td>6</td>\n",
       "      <td>550689</td>\n",
       "      <td>1.089544e-05</td>\n",
       "      <td>1.089544</td>\n",
       "    </tr>\n",
       "    <tr>\n",
       "      <th>9</th>\n",
       "      <td>ROBINSON R44</td>\n",
       "      <td>38</td>\n",
       "      <td>2359729</td>\n",
       "      <td>1.610354e-05</td>\n",
       "      <td>1.610354</td>\n",
       "    </tr>\n",
       "  </tbody>\n",
       "</table>\n",
       "</div>"
      ],
      "text/plain": [
       "   latimes_make_and_model  accidents  total_hours      per_hour  \\\n",
       "1              AIRBUS 130          1      1053786  9.489593e-07   \n",
       "11            SIKORSKY 76          2       915515  2.184563e-06   \n",
       "10          SCHWEIZER 269          5      1139326  4.388560e-06   \n",
       "2              AIRBUS 135          4       884596  4.521838e-06   \n",
       "4                BELL 206         30      5501308  5.453249e-06   \n",
       "0              AGUSTA 109          2       362172  5.522238e-06   \n",
       "5                BELL 407         13      2113788  6.150096e-06   \n",
       "8            ROBINSON R22         20      2970806  6.732180e-06   \n",
       "3              AIRBUS 350         29      3883490  7.467510e-06   \n",
       "6              HUGHES 369         13      1201688  1.081812e-05   \n",
       "7   MCDONNELL DOUGLAS 369          6       550689  1.089544e-05   \n",
       "9            ROBINSON R44         38      2359729  1.610354e-05   \n",
       "\n",
       "    per_100k_hours  \n",
       "1         0.094896  \n",
       "11        0.218456  \n",
       "10        0.438856  \n",
       "2         0.452184  \n",
       "4         0.545325  \n",
       "0         0.552224  \n",
       "5         0.615010  \n",
       "8         0.673218  \n",
       "3         0.746751  \n",
       "6         1.081812  \n",
       "7         1.089544  \n",
       "9         1.610354  "
      ]
     },
     "execution_count": 65,
     "metadata": {},
     "output_type": "execute_result"
    }
   ],
   "source": [
    "merged_list.sort_values(\"per_100k_hours\")"
   ]
  },
  {
   "cell_type": "code",
   "execution_count": 66,
   "id": "4d6e5b4f-6187-4ace-953b-5e672a55932b",
   "metadata": {},
   "outputs": [
    {
     "data": {
      "text/html": [
       "<div>\n",
       "<style scoped>\n",
       "    .dataframe tbody tr th:only-of-type {\n",
       "        vertical-align: middle;\n",
       "    }\n",
       "\n",
       "    .dataframe tbody tr th {\n",
       "        vertical-align: top;\n",
       "    }\n",
       "\n",
       "    .dataframe thead th {\n",
       "        text-align: right;\n",
       "    }\n",
       "</style>\n",
       "<table border=\"1\" class=\"dataframe\">\n",
       "  <thead>\n",
       "    <tr style=\"text-align: right;\">\n",
       "      <th></th>\n",
       "      <th>latimes_make_and_model</th>\n",
       "      <th>accidents</th>\n",
       "      <th>total_hours</th>\n",
       "      <th>per_hour</th>\n",
       "      <th>per_100k_hours</th>\n",
       "    </tr>\n",
       "  </thead>\n",
       "  <tbody>\n",
       "    <tr>\n",
       "      <th>9</th>\n",
       "      <td>ROBINSON R44</td>\n",
       "      <td>38</td>\n",
       "      <td>2359729</td>\n",
       "      <td>1.610354e-05</td>\n",
       "      <td>1.610354</td>\n",
       "    </tr>\n",
       "    <tr>\n",
       "      <th>7</th>\n",
       "      <td>MCDONNELL DOUGLAS 369</td>\n",
       "      <td>6</td>\n",
       "      <td>550689</td>\n",
       "      <td>1.089544e-05</td>\n",
       "      <td>1.089544</td>\n",
       "    </tr>\n",
       "    <tr>\n",
       "      <th>6</th>\n",
       "      <td>HUGHES 369</td>\n",
       "      <td>13</td>\n",
       "      <td>1201688</td>\n",
       "      <td>1.081812e-05</td>\n",
       "      <td>1.081812</td>\n",
       "    </tr>\n",
       "    <tr>\n",
       "      <th>3</th>\n",
       "      <td>AIRBUS 350</td>\n",
       "      <td>29</td>\n",
       "      <td>3883490</td>\n",
       "      <td>7.467510e-06</td>\n",
       "      <td>0.746751</td>\n",
       "    </tr>\n",
       "    <tr>\n",
       "      <th>8</th>\n",
       "      <td>ROBINSON R22</td>\n",
       "      <td>20</td>\n",
       "      <td>2970806</td>\n",
       "      <td>6.732180e-06</td>\n",
       "      <td>0.673218</td>\n",
       "    </tr>\n",
       "    <tr>\n",
       "      <th>5</th>\n",
       "      <td>BELL 407</td>\n",
       "      <td>13</td>\n",
       "      <td>2113788</td>\n",
       "      <td>6.150096e-06</td>\n",
       "      <td>0.615010</td>\n",
       "    </tr>\n",
       "    <tr>\n",
       "      <th>0</th>\n",
       "      <td>AGUSTA 109</td>\n",
       "      <td>2</td>\n",
       "      <td>362172</td>\n",
       "      <td>5.522238e-06</td>\n",
       "      <td>0.552224</td>\n",
       "    </tr>\n",
       "    <tr>\n",
       "      <th>4</th>\n",
       "      <td>BELL 206</td>\n",
       "      <td>30</td>\n",
       "      <td>5501308</td>\n",
       "      <td>5.453249e-06</td>\n",
       "      <td>0.545325</td>\n",
       "    </tr>\n",
       "    <tr>\n",
       "      <th>2</th>\n",
       "      <td>AIRBUS 135</td>\n",
       "      <td>4</td>\n",
       "      <td>884596</td>\n",
       "      <td>4.521838e-06</td>\n",
       "      <td>0.452184</td>\n",
       "    </tr>\n",
       "    <tr>\n",
       "      <th>10</th>\n",
       "      <td>SCHWEIZER 269</td>\n",
       "      <td>5</td>\n",
       "      <td>1139326</td>\n",
       "      <td>4.388560e-06</td>\n",
       "      <td>0.438856</td>\n",
       "    </tr>\n",
       "    <tr>\n",
       "      <th>11</th>\n",
       "      <td>SIKORSKY 76</td>\n",
       "      <td>2</td>\n",
       "      <td>915515</td>\n",
       "      <td>2.184563e-06</td>\n",
       "      <td>0.218456</td>\n",
       "    </tr>\n",
       "    <tr>\n",
       "      <th>1</th>\n",
       "      <td>AIRBUS 130</td>\n",
       "      <td>1</td>\n",
       "      <td>1053786</td>\n",
       "      <td>9.489593e-07</td>\n",
       "      <td>0.094896</td>\n",
       "    </tr>\n",
       "  </tbody>\n",
       "</table>\n",
       "</div>"
      ],
      "text/plain": [
       "   latimes_make_and_model  accidents  total_hours      per_hour  \\\n",
       "9            ROBINSON R44         38      2359729  1.610354e-05   \n",
       "7   MCDONNELL DOUGLAS 369          6       550689  1.089544e-05   \n",
       "6              HUGHES 369         13      1201688  1.081812e-05   \n",
       "3              AIRBUS 350         29      3883490  7.467510e-06   \n",
       "8            ROBINSON R22         20      2970806  6.732180e-06   \n",
       "5                BELL 407         13      2113788  6.150096e-06   \n",
       "0              AGUSTA 109          2       362172  5.522238e-06   \n",
       "4                BELL 206         30      5501308  5.453249e-06   \n",
       "2              AIRBUS 135          4       884596  4.521838e-06   \n",
       "10          SCHWEIZER 269          5      1139326  4.388560e-06   \n",
       "11            SIKORSKY 76          2       915515  2.184563e-06   \n",
       "1              AIRBUS 130          1      1053786  9.489593e-07   \n",
       "\n",
       "    per_100k_hours  \n",
       "9         1.610354  \n",
       "7         1.089544  \n",
       "6         1.081812  \n",
       "3         0.746751  \n",
       "8         0.673218  \n",
       "5         0.615010  \n",
       "0         0.552224  \n",
       "4         0.545325  \n",
       "2         0.452184  \n",
       "10        0.438856  \n",
       "11        0.218456  \n",
       "1         0.094896  "
      ]
     },
     "execution_count": 66,
     "metadata": {},
     "output_type": "execute_result"
    }
   ],
   "source": [
    "merged_list.sort_values(\"per_100k_hours\", ascending=False)"
   ]
  },
  {
   "cell_type": "markdown",
   "id": "2b68ca19-0265-4186-9499-1b084ad6e0f7",
   "metadata": {},
   "source": [
    "## Chapter 11"
   ]
  },
  {
   "cell_type": "code",
   "execution_count": 67,
   "id": "61f1124a-634e-4cd3-94fe-4a2cb4d86237",
   "metadata": {},
   "outputs": [],
   "source": [
    "import altair as alt"
   ]
  },
  {
   "cell_type": "code",
   "execution_count": 68,
   "id": "f44473ae-40b0-4a67-8977-4cb58dd90eb1",
   "metadata": {},
   "outputs": [
    {
     "data": {
      "text/html": [
       "\n",
       "<div id=\"altair-viz-645870cf9c724980ae0e9460c2cb67e9\"></div>\n",
       "<script type=\"text/javascript\">\n",
       "  var VEGA_DEBUG = (typeof VEGA_DEBUG == \"undefined\") ? {} : VEGA_DEBUG;\n",
       "  (function(spec, embedOpt){\n",
       "    let outputDiv = document.currentScript.previousElementSibling;\n",
       "    if (outputDiv.id !== \"altair-viz-645870cf9c724980ae0e9460c2cb67e9\") {\n",
       "      outputDiv = document.getElementById(\"altair-viz-645870cf9c724980ae0e9460c2cb67e9\");\n",
       "    }\n",
       "    const paths = {\n",
       "      \"vega\": \"https://cdn.jsdelivr.net/npm//vega@5?noext\",\n",
       "      \"vega-lib\": \"https://cdn.jsdelivr.net/npm//vega-lib?noext\",\n",
       "      \"vega-lite\": \"https://cdn.jsdelivr.net/npm//vega-lite@4.17.0?noext\",\n",
       "      \"vega-embed\": \"https://cdn.jsdelivr.net/npm//vega-embed@6?noext\",\n",
       "    };\n",
       "\n",
       "    function maybeLoadScript(lib, version) {\n",
       "      var key = `${lib.replace(\"-\", \"\")}_version`;\n",
       "      return (VEGA_DEBUG[key] == version) ?\n",
       "        Promise.resolve(paths[lib]) :\n",
       "        new Promise(function(resolve, reject) {\n",
       "          var s = document.createElement('script');\n",
       "          document.getElementsByTagName(\"head\")[0].appendChild(s);\n",
       "          s.async = true;\n",
       "          s.onload = () => {\n",
       "            VEGA_DEBUG[key] = version;\n",
       "            return resolve(paths[lib]);\n",
       "          };\n",
       "          s.onerror = () => reject(`Error loading script: ${paths[lib]}`);\n",
       "          s.src = paths[lib];\n",
       "        });\n",
       "    }\n",
       "\n",
       "    function showError(err) {\n",
       "      outputDiv.innerHTML = `<div class=\"error\" style=\"color:red;\">${err}</div>`;\n",
       "      throw err;\n",
       "    }\n",
       "\n",
       "    function displayChart(vegaEmbed) {\n",
       "      vegaEmbed(outputDiv, spec, embedOpt)\n",
       "        .catch(err => showError(`Javascript Error: ${err.message}<br>This usually means there's a typo in your chart specification. See the javascript console for the full traceback.`));\n",
       "    }\n",
       "\n",
       "    if(typeof define === \"function\" && define.amd) {\n",
       "      requirejs.config({paths});\n",
       "      require([\"vega-embed\"], displayChart, err => showError(`Error loading script: ${err.message}`));\n",
       "    } else {\n",
       "      maybeLoadScript(\"vega\", \"5\")\n",
       "        .then(() => maybeLoadScript(\"vega-lite\", \"4.17.0\"))\n",
       "        .then(() => maybeLoadScript(\"vega-embed\", \"6\"))\n",
       "        .catch(showError)\n",
       "        .then(() => displayChart(vegaEmbed));\n",
       "    }\n",
       "  })({\"config\": {\"view\": {\"continuousWidth\": 400, \"continuousHeight\": 300}}, \"data\": {\"name\": \"data-ada96b570d1a0d0b023a230d5d4b68d3\"}, \"mark\": \"bar\", \"encoding\": {\"x\": {\"field\": \"latimes_make_and_model\", \"type\": \"nominal\"}, \"y\": {\"field\": \"per_100k_hours\", \"type\": \"quantitative\"}}, \"$schema\": \"https://vega.github.io/schema/vega-lite/v4.17.0.json\", \"datasets\": {\"data-ada96b570d1a0d0b023a230d5d4b68d3\": [{\"latimes_make_and_model\": \"AGUSTA 109\", \"accidents\": 2, \"total_hours\": 362172, \"per_hour\": 5.522238052637973e-06, \"per_100k_hours\": 0.5522238052637973}, {\"latimes_make_and_model\": \"AIRBUS 130\", \"accidents\": 1, \"total_hours\": 1053786, \"per_hour\": 9.489592763616143e-07, \"per_100k_hours\": 0.09489592763616142}, {\"latimes_make_and_model\": \"AIRBUS 135\", \"accidents\": 4, \"total_hours\": 884596, \"per_hour\": 4.521838217672248e-06, \"per_100k_hours\": 0.4521838217672248}, {\"latimes_make_and_model\": \"AIRBUS 350\", \"accidents\": 29, \"total_hours\": 3883490, \"per_hour\": 7.46750989445061e-06, \"per_100k_hours\": 0.746750989445061}, {\"latimes_make_and_model\": \"BELL 206\", \"accidents\": 30, \"total_hours\": 5501308, \"per_hour\": 5.453248572884849e-06, \"per_100k_hours\": 0.5453248572884849}, {\"latimes_make_and_model\": \"BELL 407\", \"accidents\": 13, \"total_hours\": 2113788, \"per_hour\": 6.150096414588407e-06, \"per_100k_hours\": 0.6150096414588407}, {\"latimes_make_and_model\": \"HUGHES 369\", \"accidents\": 13, \"total_hours\": 1201688, \"per_hour\": 1.0818115850370479e-05, \"per_100k_hours\": 1.081811585037048}, {\"latimes_make_and_model\": \"MCDONNELL DOUGLAS 369\", \"accidents\": 6, \"total_hours\": 550689, \"per_hour\": 1.089544189188453e-05, \"per_100k_hours\": 1.089544189188453}, {\"latimes_make_and_model\": \"ROBINSON R22\", \"accidents\": 20, \"total_hours\": 2970806, \"per_hour\": 6.732179751892247e-06, \"per_100k_hours\": 0.6732179751892248}, {\"latimes_make_and_model\": \"ROBINSON R44\", \"accidents\": 38, \"total_hours\": 2359729, \"per_hour\": 1.6103544093410725e-05, \"per_100k_hours\": 1.6103544093410724}, {\"latimes_make_and_model\": \"SCHWEIZER 269\", \"accidents\": 5, \"total_hours\": 1139326, \"per_hour\": 4.388559551875407e-06, \"per_100k_hours\": 0.4388559551875407}, {\"latimes_make_and_model\": \"SIKORSKY 76\", \"accidents\": 2, \"total_hours\": 915515, \"per_hour\": 2.1845627870652038e-06, \"per_100k_hours\": 0.21845627870652037}]}}, {\"mode\": \"vega-lite\"});\n",
       "</script>"
      ],
      "text/plain": [
       "alt.Chart(...)"
      ]
     },
     "execution_count": 68,
     "metadata": {},
     "output_type": "execute_result"
    }
   ],
   "source": [
    "alt.Chart(merged_list).mark_bar().encode(\n",
    "    x=\"latimes_make_and_model\",\n",
    "    y=\"per_100k_hours\"\n",
    ")"
   ]
  },
  {
   "cell_type": "code",
   "execution_count": 69,
   "id": "2a336d0a-b0b1-43f7-8401-d3bffaae880d",
   "metadata": {},
   "outputs": [
    {
     "data": {
      "text/html": [
       "\n",
       "<div id=\"altair-viz-e64895bce9d84e479a6904ee8248cf64\"></div>\n",
       "<script type=\"text/javascript\">\n",
       "  var VEGA_DEBUG = (typeof VEGA_DEBUG == \"undefined\") ? {} : VEGA_DEBUG;\n",
       "  (function(spec, embedOpt){\n",
       "    let outputDiv = document.currentScript.previousElementSibling;\n",
       "    if (outputDiv.id !== \"altair-viz-e64895bce9d84e479a6904ee8248cf64\") {\n",
       "      outputDiv = document.getElementById(\"altair-viz-e64895bce9d84e479a6904ee8248cf64\");\n",
       "    }\n",
       "    const paths = {\n",
       "      \"vega\": \"https://cdn.jsdelivr.net/npm//vega@5?noext\",\n",
       "      \"vega-lib\": \"https://cdn.jsdelivr.net/npm//vega-lib?noext\",\n",
       "      \"vega-lite\": \"https://cdn.jsdelivr.net/npm//vega-lite@4.17.0?noext\",\n",
       "      \"vega-embed\": \"https://cdn.jsdelivr.net/npm//vega-embed@6?noext\",\n",
       "    };\n",
       "\n",
       "    function maybeLoadScript(lib, version) {\n",
       "      var key = `${lib.replace(\"-\", \"\")}_version`;\n",
       "      return (VEGA_DEBUG[key] == version) ?\n",
       "        Promise.resolve(paths[lib]) :\n",
       "        new Promise(function(resolve, reject) {\n",
       "          var s = document.createElement('script');\n",
       "          document.getElementsByTagName(\"head\")[0].appendChild(s);\n",
       "          s.async = true;\n",
       "          s.onload = () => {\n",
       "            VEGA_DEBUG[key] = version;\n",
       "            return resolve(paths[lib]);\n",
       "          };\n",
       "          s.onerror = () => reject(`Error loading script: ${paths[lib]}`);\n",
       "          s.src = paths[lib];\n",
       "        });\n",
       "    }\n",
       "\n",
       "    function showError(err) {\n",
       "      outputDiv.innerHTML = `<div class=\"error\" style=\"color:red;\">${err}</div>`;\n",
       "      throw err;\n",
       "    }\n",
       "\n",
       "    function displayChart(vegaEmbed) {\n",
       "      vegaEmbed(outputDiv, spec, embedOpt)\n",
       "        .catch(err => showError(`Javascript Error: ${err.message}<br>This usually means there's a typo in your chart specification. See the javascript console for the full traceback.`));\n",
       "    }\n",
       "\n",
       "    if(typeof define === \"function\" && define.amd) {\n",
       "      requirejs.config({paths});\n",
       "      require([\"vega-embed\"], displayChart, err => showError(`Error loading script: ${err.message}`));\n",
       "    } else {\n",
       "      maybeLoadScript(\"vega\", \"5\")\n",
       "        .then(() => maybeLoadScript(\"vega-lite\", \"4.17.0\"))\n",
       "        .then(() => maybeLoadScript(\"vega-embed\", \"6\"))\n",
       "        .catch(showError)\n",
       "        .then(() => displayChart(vegaEmbed));\n",
       "    }\n",
       "  })({\"config\": {\"view\": {\"continuousWidth\": 400, \"continuousHeight\": 300}}, \"data\": {\"name\": \"data-ada96b570d1a0d0b023a230d5d4b68d3\"}, \"mark\": \"bar\", \"encoding\": {\"x\": {\"field\": \"per_100k_hours\", \"type\": \"quantitative\"}, \"y\": {\"field\": \"latimes_make_and_model\", \"type\": \"nominal\"}}, \"$schema\": \"https://vega.github.io/schema/vega-lite/v4.17.0.json\", \"datasets\": {\"data-ada96b570d1a0d0b023a230d5d4b68d3\": [{\"latimes_make_and_model\": \"AGUSTA 109\", \"accidents\": 2, \"total_hours\": 362172, \"per_hour\": 5.522238052637973e-06, \"per_100k_hours\": 0.5522238052637973}, {\"latimes_make_and_model\": \"AIRBUS 130\", \"accidents\": 1, \"total_hours\": 1053786, \"per_hour\": 9.489592763616143e-07, \"per_100k_hours\": 0.09489592763616142}, {\"latimes_make_and_model\": \"AIRBUS 135\", \"accidents\": 4, \"total_hours\": 884596, \"per_hour\": 4.521838217672248e-06, \"per_100k_hours\": 0.4521838217672248}, {\"latimes_make_and_model\": \"AIRBUS 350\", \"accidents\": 29, \"total_hours\": 3883490, \"per_hour\": 7.46750989445061e-06, \"per_100k_hours\": 0.746750989445061}, {\"latimes_make_and_model\": \"BELL 206\", \"accidents\": 30, \"total_hours\": 5501308, \"per_hour\": 5.453248572884849e-06, \"per_100k_hours\": 0.5453248572884849}, {\"latimes_make_and_model\": \"BELL 407\", \"accidents\": 13, \"total_hours\": 2113788, \"per_hour\": 6.150096414588407e-06, \"per_100k_hours\": 0.6150096414588407}, {\"latimes_make_and_model\": \"HUGHES 369\", \"accidents\": 13, \"total_hours\": 1201688, \"per_hour\": 1.0818115850370479e-05, \"per_100k_hours\": 1.081811585037048}, {\"latimes_make_and_model\": \"MCDONNELL DOUGLAS 369\", \"accidents\": 6, \"total_hours\": 550689, \"per_hour\": 1.089544189188453e-05, \"per_100k_hours\": 1.089544189188453}, {\"latimes_make_and_model\": \"ROBINSON R22\", \"accidents\": 20, \"total_hours\": 2970806, \"per_hour\": 6.732179751892247e-06, \"per_100k_hours\": 0.6732179751892248}, {\"latimes_make_and_model\": \"ROBINSON R44\", \"accidents\": 38, \"total_hours\": 2359729, \"per_hour\": 1.6103544093410725e-05, \"per_100k_hours\": 1.6103544093410724}, {\"latimes_make_and_model\": \"SCHWEIZER 269\", \"accidents\": 5, \"total_hours\": 1139326, \"per_hour\": 4.388559551875407e-06, \"per_100k_hours\": 0.4388559551875407}, {\"latimes_make_and_model\": \"SIKORSKY 76\", \"accidents\": 2, \"total_hours\": 915515, \"per_hour\": 2.1845627870652038e-06, \"per_100k_hours\": 0.21845627870652037}]}}, {\"mode\": \"vega-lite\"});\n",
       "</script>"
      ],
      "text/plain": [
       "alt.Chart(...)"
      ]
     },
     "execution_count": 69,
     "metadata": {},
     "output_type": "execute_result"
    }
   ],
   "source": [
    " alt.Chart(merged_list).mark_bar().encode(\n",
    "    x=\"per_100k_hours\",\n",
    "    y=\"latimes_make_and_model\"\n",
    ")"
   ]
  },
  {
   "cell_type": "code",
   "execution_count": 70,
   "id": "ca877787-20cd-4842-a510-5da172ceba32",
   "metadata": {},
   "outputs": [
    {
     "data": {
      "text/html": [
       "\n",
       "<div id=\"altair-viz-61e8239d94bf476b9aec1f82ad723b66\"></div>\n",
       "<script type=\"text/javascript\">\n",
       "  var VEGA_DEBUG = (typeof VEGA_DEBUG == \"undefined\") ? {} : VEGA_DEBUG;\n",
       "  (function(spec, embedOpt){\n",
       "    let outputDiv = document.currentScript.previousElementSibling;\n",
       "    if (outputDiv.id !== \"altair-viz-61e8239d94bf476b9aec1f82ad723b66\") {\n",
       "      outputDiv = document.getElementById(\"altair-viz-61e8239d94bf476b9aec1f82ad723b66\");\n",
       "    }\n",
       "    const paths = {\n",
       "      \"vega\": \"https://cdn.jsdelivr.net/npm//vega@5?noext\",\n",
       "      \"vega-lib\": \"https://cdn.jsdelivr.net/npm//vega-lib?noext\",\n",
       "      \"vega-lite\": \"https://cdn.jsdelivr.net/npm//vega-lite@4.17.0?noext\",\n",
       "      \"vega-embed\": \"https://cdn.jsdelivr.net/npm//vega-embed@6?noext\",\n",
       "    };\n",
       "\n",
       "    function maybeLoadScript(lib, version) {\n",
       "      var key = `${lib.replace(\"-\", \"\")}_version`;\n",
       "      return (VEGA_DEBUG[key] == version) ?\n",
       "        Promise.resolve(paths[lib]) :\n",
       "        new Promise(function(resolve, reject) {\n",
       "          var s = document.createElement('script');\n",
       "          document.getElementsByTagName(\"head\")[0].appendChild(s);\n",
       "          s.async = true;\n",
       "          s.onload = () => {\n",
       "            VEGA_DEBUG[key] = version;\n",
       "            return resolve(paths[lib]);\n",
       "          };\n",
       "          s.onerror = () => reject(`Error loading script: ${paths[lib]}`);\n",
       "          s.src = paths[lib];\n",
       "        });\n",
       "    }\n",
       "\n",
       "    function showError(err) {\n",
       "      outputDiv.innerHTML = `<div class=\"error\" style=\"color:red;\">${err}</div>`;\n",
       "      throw err;\n",
       "    }\n",
       "\n",
       "    function displayChart(vegaEmbed) {\n",
       "      vegaEmbed(outputDiv, spec, embedOpt)\n",
       "        .catch(err => showError(`Javascript Error: ${err.message}<br>This usually means there's a typo in your chart specification. See the javascript console for the full traceback.`));\n",
       "    }\n",
       "\n",
       "    if(typeof define === \"function\" && define.amd) {\n",
       "      requirejs.config({paths});\n",
       "      require([\"vega-embed\"], displayChart, err => showError(`Error loading script: ${err.message}`));\n",
       "    } else {\n",
       "      maybeLoadScript(\"vega\", \"5\")\n",
       "        .then(() => maybeLoadScript(\"vega-lite\", \"4.17.0\"))\n",
       "        .then(() => maybeLoadScript(\"vega-embed\", \"6\"))\n",
       "        .catch(showError)\n",
       "        .then(() => displayChart(vegaEmbed));\n",
       "    }\n",
       "  })({\"config\": {\"view\": {\"continuousWidth\": 400, \"continuousHeight\": 300}}, \"data\": {\"name\": \"data-ada96b570d1a0d0b023a230d5d4b68d3\"}, \"mark\": \"bar\", \"encoding\": {\"x\": {\"field\": \"per_100k_hours\", \"type\": \"quantitative\"}, \"y\": {\"field\": \"latimes_make_and_model\", \"sort\": \"-x\", \"type\": \"nominal\"}}, \"$schema\": \"https://vega.github.io/schema/vega-lite/v4.17.0.json\", \"datasets\": {\"data-ada96b570d1a0d0b023a230d5d4b68d3\": [{\"latimes_make_and_model\": \"AGUSTA 109\", \"accidents\": 2, \"total_hours\": 362172, \"per_hour\": 5.522238052637973e-06, \"per_100k_hours\": 0.5522238052637973}, {\"latimes_make_and_model\": \"AIRBUS 130\", \"accidents\": 1, \"total_hours\": 1053786, \"per_hour\": 9.489592763616143e-07, \"per_100k_hours\": 0.09489592763616142}, {\"latimes_make_and_model\": \"AIRBUS 135\", \"accidents\": 4, \"total_hours\": 884596, \"per_hour\": 4.521838217672248e-06, \"per_100k_hours\": 0.4521838217672248}, {\"latimes_make_and_model\": \"AIRBUS 350\", \"accidents\": 29, \"total_hours\": 3883490, \"per_hour\": 7.46750989445061e-06, \"per_100k_hours\": 0.746750989445061}, {\"latimes_make_and_model\": \"BELL 206\", \"accidents\": 30, \"total_hours\": 5501308, \"per_hour\": 5.453248572884849e-06, \"per_100k_hours\": 0.5453248572884849}, {\"latimes_make_and_model\": \"BELL 407\", \"accidents\": 13, \"total_hours\": 2113788, \"per_hour\": 6.150096414588407e-06, \"per_100k_hours\": 0.6150096414588407}, {\"latimes_make_and_model\": \"HUGHES 369\", \"accidents\": 13, \"total_hours\": 1201688, \"per_hour\": 1.0818115850370479e-05, \"per_100k_hours\": 1.081811585037048}, {\"latimes_make_and_model\": \"MCDONNELL DOUGLAS 369\", \"accidents\": 6, \"total_hours\": 550689, \"per_hour\": 1.089544189188453e-05, \"per_100k_hours\": 1.089544189188453}, {\"latimes_make_and_model\": \"ROBINSON R22\", \"accidents\": 20, \"total_hours\": 2970806, \"per_hour\": 6.732179751892247e-06, \"per_100k_hours\": 0.6732179751892248}, {\"latimes_make_and_model\": \"ROBINSON R44\", \"accidents\": 38, \"total_hours\": 2359729, \"per_hour\": 1.6103544093410725e-05, \"per_100k_hours\": 1.6103544093410724}, {\"latimes_make_and_model\": \"SCHWEIZER 269\", \"accidents\": 5, \"total_hours\": 1139326, \"per_hour\": 4.388559551875407e-06, \"per_100k_hours\": 0.4388559551875407}, {\"latimes_make_and_model\": \"SIKORSKY 76\", \"accidents\": 2, \"total_hours\": 915515, \"per_hour\": 2.1845627870652038e-06, \"per_100k_hours\": 0.21845627870652037}]}}, {\"mode\": \"vega-lite\"});\n",
       "</script>"
      ],
      "text/plain": [
       "alt.Chart(...)"
      ]
     },
     "execution_count": 70,
     "metadata": {},
     "output_type": "execute_result"
    }
   ],
   "source": [
    "alt.Chart(merged_list).mark_bar().encode(\n",
    "    x=\"per_100k_hours\",\n",
    "    y=alt.Y(\"latimes_make_and_model\", sort=\"-x\")\n",
    ")"
   ]
  },
  {
   "cell_type": "code",
   "execution_count": 71,
   "id": "f875ddf6-ee3f-41cf-b184-fa88b10791af",
   "metadata": {},
   "outputs": [
    {
     "data": {
      "text/html": [
       "\n",
       "<div id=\"altair-viz-1579df80df7d4998835fff21ad31f137\"></div>\n",
       "<script type=\"text/javascript\">\n",
       "  var VEGA_DEBUG = (typeof VEGA_DEBUG == \"undefined\") ? {} : VEGA_DEBUG;\n",
       "  (function(spec, embedOpt){\n",
       "    let outputDiv = document.currentScript.previousElementSibling;\n",
       "    if (outputDiv.id !== \"altair-viz-1579df80df7d4998835fff21ad31f137\") {\n",
       "      outputDiv = document.getElementById(\"altair-viz-1579df80df7d4998835fff21ad31f137\");\n",
       "    }\n",
       "    const paths = {\n",
       "      \"vega\": \"https://cdn.jsdelivr.net/npm//vega@5?noext\",\n",
       "      \"vega-lib\": \"https://cdn.jsdelivr.net/npm//vega-lib?noext\",\n",
       "      \"vega-lite\": \"https://cdn.jsdelivr.net/npm//vega-lite@4.17.0?noext\",\n",
       "      \"vega-embed\": \"https://cdn.jsdelivr.net/npm//vega-embed@6?noext\",\n",
       "    };\n",
       "\n",
       "    function maybeLoadScript(lib, version) {\n",
       "      var key = `${lib.replace(\"-\", \"\")}_version`;\n",
       "      return (VEGA_DEBUG[key] == version) ?\n",
       "        Promise.resolve(paths[lib]) :\n",
       "        new Promise(function(resolve, reject) {\n",
       "          var s = document.createElement('script');\n",
       "          document.getElementsByTagName(\"head\")[0].appendChild(s);\n",
       "          s.async = true;\n",
       "          s.onload = () => {\n",
       "            VEGA_DEBUG[key] = version;\n",
       "            return resolve(paths[lib]);\n",
       "          };\n",
       "          s.onerror = () => reject(`Error loading script: ${paths[lib]}`);\n",
       "          s.src = paths[lib];\n",
       "        });\n",
       "    }\n",
       "\n",
       "    function showError(err) {\n",
       "      outputDiv.innerHTML = `<div class=\"error\" style=\"color:red;\">${err}</div>`;\n",
       "      throw err;\n",
       "    }\n",
       "\n",
       "    function displayChart(vegaEmbed) {\n",
       "      vegaEmbed(outputDiv, spec, embedOpt)\n",
       "        .catch(err => showError(`Javascript Error: ${err.message}<br>This usually means there's a typo in your chart specification. See the javascript console for the full traceback.`));\n",
       "    }\n",
       "\n",
       "    if(typeof define === \"function\" && define.amd) {\n",
       "      requirejs.config({paths});\n",
       "      require([\"vega-embed\"], displayChart, err => showError(`Error loading script: ${err.message}`));\n",
       "    } else {\n",
       "      maybeLoadScript(\"vega\", \"5\")\n",
       "        .then(() => maybeLoadScript(\"vega-lite\", \"4.17.0\"))\n",
       "        .then(() => maybeLoadScript(\"vega-embed\", \"6\"))\n",
       "        .catch(showError)\n",
       "        .then(() => displayChart(vegaEmbed));\n",
       "    }\n",
       "  })({\"config\": {\"view\": {\"continuousWidth\": 400, \"continuousHeight\": 300}}, \"data\": {\"name\": \"data-ada96b570d1a0d0b023a230d5d4b68d3\"}, \"mark\": \"bar\", \"encoding\": {\"x\": {\"field\": \"per_100k_hours\", \"type\": \"quantitative\"}, \"y\": {\"field\": \"latimes_make_and_model\", \"sort\": \"-x\", \"type\": \"nominal\"}}, \"title\": \"Helicopter accident rates\", \"$schema\": \"https://vega.github.io/schema/vega-lite/v4.17.0.json\", \"datasets\": {\"data-ada96b570d1a0d0b023a230d5d4b68d3\": [{\"latimes_make_and_model\": \"AGUSTA 109\", \"accidents\": 2, \"total_hours\": 362172, \"per_hour\": 5.522238052637973e-06, \"per_100k_hours\": 0.5522238052637973}, {\"latimes_make_and_model\": \"AIRBUS 130\", \"accidents\": 1, \"total_hours\": 1053786, \"per_hour\": 9.489592763616143e-07, \"per_100k_hours\": 0.09489592763616142}, {\"latimes_make_and_model\": \"AIRBUS 135\", \"accidents\": 4, \"total_hours\": 884596, \"per_hour\": 4.521838217672248e-06, \"per_100k_hours\": 0.4521838217672248}, {\"latimes_make_and_model\": \"AIRBUS 350\", \"accidents\": 29, \"total_hours\": 3883490, \"per_hour\": 7.46750989445061e-06, \"per_100k_hours\": 0.746750989445061}, {\"latimes_make_and_model\": \"BELL 206\", \"accidents\": 30, \"total_hours\": 5501308, \"per_hour\": 5.453248572884849e-06, \"per_100k_hours\": 0.5453248572884849}, {\"latimes_make_and_model\": \"BELL 407\", \"accidents\": 13, \"total_hours\": 2113788, \"per_hour\": 6.150096414588407e-06, \"per_100k_hours\": 0.6150096414588407}, {\"latimes_make_and_model\": \"HUGHES 369\", \"accidents\": 13, \"total_hours\": 1201688, \"per_hour\": 1.0818115850370479e-05, \"per_100k_hours\": 1.081811585037048}, {\"latimes_make_and_model\": \"MCDONNELL DOUGLAS 369\", \"accidents\": 6, \"total_hours\": 550689, \"per_hour\": 1.089544189188453e-05, \"per_100k_hours\": 1.089544189188453}, {\"latimes_make_and_model\": \"ROBINSON R22\", \"accidents\": 20, \"total_hours\": 2970806, \"per_hour\": 6.732179751892247e-06, \"per_100k_hours\": 0.6732179751892248}, {\"latimes_make_and_model\": \"ROBINSON R44\", \"accidents\": 38, \"total_hours\": 2359729, \"per_hour\": 1.6103544093410725e-05, \"per_100k_hours\": 1.6103544093410724}, {\"latimes_make_and_model\": \"SCHWEIZER 269\", \"accidents\": 5, \"total_hours\": 1139326, \"per_hour\": 4.388559551875407e-06, \"per_100k_hours\": 0.4388559551875407}, {\"latimes_make_and_model\": \"SIKORSKY 76\", \"accidents\": 2, \"total_hours\": 915515, \"per_hour\": 2.1845627870652038e-06, \"per_100k_hours\": 0.21845627870652037}]}}, {\"mode\": \"vega-lite\"});\n",
       "</script>"
      ],
      "text/plain": [
       "alt.Chart(...)"
      ]
     },
     "execution_count": 71,
     "metadata": {},
     "output_type": "execute_result"
    }
   ],
   "source": [
    "alt.Chart(merged_list).mark_bar().encode(\n",
    "    x=\"per_100k_hours\",\n",
    "    y=alt.Y(\"latimes_make_and_model\", sort=\"-x\")\n",
    ").properties(\n",
    "    title=\"Helicopter accident rates\"\n",
    ")"
   ]
  },
  {
   "cell_type": "code",
   "execution_count": 72,
   "id": "a3eb8163-0ec6-472d-9f87-a87242b15d4c",
   "metadata": {},
   "outputs": [],
   "source": [
    "accident_counts = accident_list.groupby([\"latimes_make\", \"latimes_make_and_model\"]).size().reset_index()"
   ]
  },
  {
   "cell_type": "code",
   "execution_count": 73,
   "id": "68f67701-b26a-4090-8e21-c96d634b0677",
   "metadata": {},
   "outputs": [
    {
     "name": "stdout",
     "output_type": "stream",
     "text": [
      "<class 'pandas.core.frame.DataFrame'>\n",
      "Int64Index: 12 entries, 0 to 11\n",
      "Data columns (total 5 columns):\n",
      " #   Column                  Non-Null Count  Dtype  \n",
      "---  ------                  --------------  -----  \n",
      " 0   latimes_make_and_model  12 non-null     object \n",
      " 1   accidents               12 non-null     int64  \n",
      " 2   total_hours             12 non-null     int64  \n",
      " 3   per_hour                12 non-null     float64\n",
      " 4   per_100k_hours          12 non-null     float64\n",
      "dtypes: float64(2), int64(2), object(1)\n",
      "memory usage: 576.0+ bytes\n"
     ]
    }
   ],
   "source": [
    "merged_list.info()"
   ]
  },
  {
   "cell_type": "code",
   "execution_count": 74,
   "id": "a042dfea-4778-42d3-8f52-bf75293c7b03",
   "metadata": {},
   "outputs": [
    {
     "data": {
      "text/html": [
       "\n",
       "<div id=\"altair-viz-f0c250bd37414ed08b6811a05b4b1d11\"></div>\n",
       "<script type=\"text/javascript\">\n",
       "  var VEGA_DEBUG = (typeof VEGA_DEBUG == \"undefined\") ? {} : VEGA_DEBUG;\n",
       "  (function(spec, embedOpt){\n",
       "    let outputDiv = document.currentScript.previousElementSibling;\n",
       "    if (outputDiv.id !== \"altair-viz-f0c250bd37414ed08b6811a05b4b1d11\") {\n",
       "      outputDiv = document.getElementById(\"altair-viz-f0c250bd37414ed08b6811a05b4b1d11\");\n",
       "    }\n",
       "    const paths = {\n",
       "      \"vega\": \"https://cdn.jsdelivr.net/npm//vega@5?noext\",\n",
       "      \"vega-lib\": \"https://cdn.jsdelivr.net/npm//vega-lib?noext\",\n",
       "      \"vega-lite\": \"https://cdn.jsdelivr.net/npm//vega-lite@4.17.0?noext\",\n",
       "      \"vega-embed\": \"https://cdn.jsdelivr.net/npm//vega-embed@6?noext\",\n",
       "    };\n",
       "\n",
       "    function maybeLoadScript(lib, version) {\n",
       "      var key = `${lib.replace(\"-\", \"\")}_version`;\n",
       "      return (VEGA_DEBUG[key] == version) ?\n",
       "        Promise.resolve(paths[lib]) :\n",
       "        new Promise(function(resolve, reject) {\n",
       "          var s = document.createElement('script');\n",
       "          document.getElementsByTagName(\"head\")[0].appendChild(s);\n",
       "          s.async = true;\n",
       "          s.onload = () => {\n",
       "            VEGA_DEBUG[key] = version;\n",
       "            return resolve(paths[lib]);\n",
       "          };\n",
       "          s.onerror = () => reject(`Error loading script: ${paths[lib]}`);\n",
       "          s.src = paths[lib];\n",
       "        });\n",
       "    }\n",
       "\n",
       "    function showError(err) {\n",
       "      outputDiv.innerHTML = `<div class=\"error\" style=\"color:red;\">${err}</div>`;\n",
       "      throw err;\n",
       "    }\n",
       "\n",
       "    function displayChart(vegaEmbed) {\n",
       "      vegaEmbed(outputDiv, spec, embedOpt)\n",
       "        .catch(err => showError(`Javascript Error: ${err.message}<br>This usually means there's a typo in your chart specification. See the javascript console for the full traceback.`));\n",
       "    }\n",
       "\n",
       "    if(typeof define === \"function\" && define.amd) {\n",
       "      requirejs.config({paths});\n",
       "      require([\"vega-embed\"], displayChart, err => showError(`Error loading script: ${err.message}`));\n",
       "    } else {\n",
       "      maybeLoadScript(\"vega\", \"5\")\n",
       "        .then(() => maybeLoadScript(\"vega-lite\", \"4.17.0\"))\n",
       "        .then(() => maybeLoadScript(\"vega-embed\", \"6\"))\n",
       "        .catch(showError)\n",
       "        .then(() => displayChart(vegaEmbed));\n",
       "    }\n",
       "  })({\"config\": {\"view\": {\"continuousWidth\": 400, \"continuousHeight\": 300}}, \"data\": {\"name\": \"data-ada96b570d1a0d0b023a230d5d4b68d3\"}, \"mark\": \"bar\", \"encoding\": {\"color\": {\"field\": \"latimes_make_and_model\", \"type\": \"nominal\"}, \"x\": {\"field\": \"per_100k_hours\", \"type\": \"quantitative\"}, \"y\": {\"field\": \"latimes_make_and_model\", \"sort\": \"-x\", \"type\": \"nominal\"}}, \"title\": \"Helicopter accident rates\", \"$schema\": \"https://vega.github.io/schema/vega-lite/v4.17.0.json\", \"datasets\": {\"data-ada96b570d1a0d0b023a230d5d4b68d3\": [{\"latimes_make_and_model\": \"AGUSTA 109\", \"accidents\": 2, \"total_hours\": 362172, \"per_hour\": 5.522238052637973e-06, \"per_100k_hours\": 0.5522238052637973}, {\"latimes_make_and_model\": \"AIRBUS 130\", \"accidents\": 1, \"total_hours\": 1053786, \"per_hour\": 9.489592763616143e-07, \"per_100k_hours\": 0.09489592763616142}, {\"latimes_make_and_model\": \"AIRBUS 135\", \"accidents\": 4, \"total_hours\": 884596, \"per_hour\": 4.521838217672248e-06, \"per_100k_hours\": 0.4521838217672248}, {\"latimes_make_and_model\": \"AIRBUS 350\", \"accidents\": 29, \"total_hours\": 3883490, \"per_hour\": 7.46750989445061e-06, \"per_100k_hours\": 0.746750989445061}, {\"latimes_make_and_model\": \"BELL 206\", \"accidents\": 30, \"total_hours\": 5501308, \"per_hour\": 5.453248572884849e-06, \"per_100k_hours\": 0.5453248572884849}, {\"latimes_make_and_model\": \"BELL 407\", \"accidents\": 13, \"total_hours\": 2113788, \"per_hour\": 6.150096414588407e-06, \"per_100k_hours\": 0.6150096414588407}, {\"latimes_make_and_model\": \"HUGHES 369\", \"accidents\": 13, \"total_hours\": 1201688, \"per_hour\": 1.0818115850370479e-05, \"per_100k_hours\": 1.081811585037048}, {\"latimes_make_and_model\": \"MCDONNELL DOUGLAS 369\", \"accidents\": 6, \"total_hours\": 550689, \"per_hour\": 1.089544189188453e-05, \"per_100k_hours\": 1.089544189188453}, {\"latimes_make_and_model\": \"ROBINSON R22\", \"accidents\": 20, \"total_hours\": 2970806, \"per_hour\": 6.732179751892247e-06, \"per_100k_hours\": 0.6732179751892248}, {\"latimes_make_and_model\": \"ROBINSON R44\", \"accidents\": 38, \"total_hours\": 2359729, \"per_hour\": 1.6103544093410725e-05, \"per_100k_hours\": 1.6103544093410724}, {\"latimes_make_and_model\": \"SCHWEIZER 269\", \"accidents\": 5, \"total_hours\": 1139326, \"per_hour\": 4.388559551875407e-06, \"per_100k_hours\": 0.4388559551875407}, {\"latimes_make_and_model\": \"SIKORSKY 76\", \"accidents\": 2, \"total_hours\": 915515, \"per_hour\": 2.1845627870652038e-06, \"per_100k_hours\": 0.21845627870652037}]}}, {\"mode\": \"vega-lite\"});\n",
       "</script>"
      ],
      "text/plain": [
       "alt.Chart(...)"
      ]
     },
     "execution_count": 74,
     "metadata": {},
     "output_type": "execute_result"
    }
   ],
   "source": [
    "alt.Chart(merged_list).mark_bar().encode(\n",
    "    x=\"per_100k_hours\",\n",
    "    y=alt.Y(\"latimes_make_and_model\",sort=\"-x\"),\n",
    "    color=\"latimes_make_and_model\"\n",
    ").properties(\n",
    "    title=\"Helicopter accident rates\"\n",
    ")"
   ]
  },
  {
   "cell_type": "code",
   "execution_count": 75,
   "id": "a8a51da5-883c-4c28-9e87-c47f01b1c142",
   "metadata": {},
   "outputs": [
    {
     "data": {
      "text/html": [
       "\n",
       "<div id=\"altair-viz-0d24cd26c3304d9c99eb53e1b63571d8\"></div>\n",
       "<script type=\"text/javascript\">\n",
       "  var VEGA_DEBUG = (typeof VEGA_DEBUG == \"undefined\") ? {} : VEGA_DEBUG;\n",
       "  (function(spec, embedOpt){\n",
       "    let outputDiv = document.currentScript.previousElementSibling;\n",
       "    if (outputDiv.id !== \"altair-viz-0d24cd26c3304d9c99eb53e1b63571d8\") {\n",
       "      outputDiv = document.getElementById(\"altair-viz-0d24cd26c3304d9c99eb53e1b63571d8\");\n",
       "    }\n",
       "    const paths = {\n",
       "      \"vega\": \"https://cdn.jsdelivr.net/npm//vega@5?noext\",\n",
       "      \"vega-lib\": \"https://cdn.jsdelivr.net/npm//vega-lib?noext\",\n",
       "      \"vega-lite\": \"https://cdn.jsdelivr.net/npm//vega-lite@4.17.0?noext\",\n",
       "      \"vega-embed\": \"https://cdn.jsdelivr.net/npm//vega-embed@6?noext\",\n",
       "    };\n",
       "\n",
       "    function maybeLoadScript(lib, version) {\n",
       "      var key = `${lib.replace(\"-\", \"\")}_version`;\n",
       "      return (VEGA_DEBUG[key] == version) ?\n",
       "        Promise.resolve(paths[lib]) :\n",
       "        new Promise(function(resolve, reject) {\n",
       "          var s = document.createElement('script');\n",
       "          document.getElementsByTagName(\"head\")[0].appendChild(s);\n",
       "          s.async = true;\n",
       "          s.onload = () => {\n",
       "            VEGA_DEBUG[key] = version;\n",
       "            return resolve(paths[lib]);\n",
       "          };\n",
       "          s.onerror = () => reject(`Error loading script: ${paths[lib]}`);\n",
       "          s.src = paths[lib];\n",
       "        });\n",
       "    }\n",
       "\n",
       "    function showError(err) {\n",
       "      outputDiv.innerHTML = `<div class=\"error\" style=\"color:red;\">${err}</div>`;\n",
       "      throw err;\n",
       "    }\n",
       "\n",
       "    function displayChart(vegaEmbed) {\n",
       "      vegaEmbed(outputDiv, spec, embedOpt)\n",
       "        .catch(err => showError(`Javascript Error: ${err.message}<br>This usually means there's a typo in your chart specification. See the javascript console for the full traceback.`));\n",
       "    }\n",
       "\n",
       "    if(typeof define === \"function\" && define.amd) {\n",
       "      requirejs.config({paths});\n",
       "      require([\"vega-embed\"], displayChart, err => showError(`Error loading script: ${err.message}`));\n",
       "    } else {\n",
       "      maybeLoadScript(\"vega\", \"5\")\n",
       "        .then(() => maybeLoadScript(\"vega-lite\", \"4.17.0\"))\n",
       "        .then(() => maybeLoadScript(\"vega-embed\", \"6\"))\n",
       "        .catch(showError)\n",
       "        .then(() => displayChart(vegaEmbed));\n",
       "    }\n",
       "  })({\"config\": {\"view\": {\"continuousWidth\": 400, \"continuousHeight\": 300}}, \"data\": {\"name\": \"data-ada96b570d1a0d0b023a230d5d4b68d3\"}, \"mark\": \"bar\", \"encoding\": {\"color\": {\"condition\": {\"value\": \"orange\", \"test\": \"(datum.latimes_make === 'ROBINSON')\"}, \"value\": \"steelblue\"}, \"x\": {\"field\": \"per_100k_hours\", \"type\": \"quantitative\"}, \"y\": {\"field\": \"latimes_make_and_model\", \"sort\": \"-x\", \"type\": \"nominal\"}}, \"title\": \"Helicopter accident rates\", \"$schema\": \"https://vega.github.io/schema/vega-lite/v4.17.0.json\", \"datasets\": {\"data-ada96b570d1a0d0b023a230d5d4b68d3\": [{\"latimes_make_and_model\": \"AGUSTA 109\", \"accidents\": 2, \"total_hours\": 362172, \"per_hour\": 5.522238052637973e-06, \"per_100k_hours\": 0.5522238052637973}, {\"latimes_make_and_model\": \"AIRBUS 130\", \"accidents\": 1, \"total_hours\": 1053786, \"per_hour\": 9.489592763616143e-07, \"per_100k_hours\": 0.09489592763616142}, {\"latimes_make_and_model\": \"AIRBUS 135\", \"accidents\": 4, \"total_hours\": 884596, \"per_hour\": 4.521838217672248e-06, \"per_100k_hours\": 0.4521838217672248}, {\"latimes_make_and_model\": \"AIRBUS 350\", \"accidents\": 29, \"total_hours\": 3883490, \"per_hour\": 7.46750989445061e-06, \"per_100k_hours\": 0.746750989445061}, {\"latimes_make_and_model\": \"BELL 206\", \"accidents\": 30, \"total_hours\": 5501308, \"per_hour\": 5.453248572884849e-06, \"per_100k_hours\": 0.5453248572884849}, {\"latimes_make_and_model\": \"BELL 407\", \"accidents\": 13, \"total_hours\": 2113788, \"per_hour\": 6.150096414588407e-06, \"per_100k_hours\": 0.6150096414588407}, {\"latimes_make_and_model\": \"HUGHES 369\", \"accidents\": 13, \"total_hours\": 1201688, \"per_hour\": 1.0818115850370479e-05, \"per_100k_hours\": 1.081811585037048}, {\"latimes_make_and_model\": \"MCDONNELL DOUGLAS 369\", \"accidents\": 6, \"total_hours\": 550689, \"per_hour\": 1.089544189188453e-05, \"per_100k_hours\": 1.089544189188453}, {\"latimes_make_and_model\": \"ROBINSON R22\", \"accidents\": 20, \"total_hours\": 2970806, \"per_hour\": 6.732179751892247e-06, \"per_100k_hours\": 0.6732179751892248}, {\"latimes_make_and_model\": \"ROBINSON R44\", \"accidents\": 38, \"total_hours\": 2359729, \"per_hour\": 1.6103544093410725e-05, \"per_100k_hours\": 1.6103544093410724}, {\"latimes_make_and_model\": \"SCHWEIZER 269\", \"accidents\": 5, \"total_hours\": 1139326, \"per_hour\": 4.388559551875407e-06, \"per_100k_hours\": 0.4388559551875407}, {\"latimes_make_and_model\": \"SIKORSKY 76\", \"accidents\": 2, \"total_hours\": 915515, \"per_hour\": 2.1845627870652038e-06, \"per_100k_hours\": 0.21845627870652037}]}}, {\"mode\": \"vega-lite\"});\n",
       "</script>"
      ],
      "text/plain": [
       "alt.Chart(...)"
      ]
     },
     "execution_count": 75,
     "metadata": {},
     "output_type": "execute_result"
    }
   ],
   "source": [
    "alt.Chart(merged_list).mark_bar().encode(\n",
    "    x=\"per_100k_hours\",\n",
    "    y=alt.Y(\"latimes_make_and_model\",sort=\"-x\"),\n",
    "    color=alt.condition(\n",
    "        alt.datum.latimes_make == \"ROBINSON\",\n",
    "        alt.value(\"orange\"),\n",
    "        alt.value(\"steelblue\")\n",
    "    )\n",
    ").properties(\n",
    "    title=\"Helicopter accident rates\"\n",
    ")"
   ]
  },
  {
   "cell_type": "code",
   "execution_count": 76,
   "id": "04ceb1b0-7b5d-4741-8487-e876dec04214",
   "metadata": {},
   "outputs": [],
   "source": [
    "## Color option doesn't work"
   ]
  },
  {
   "cell_type": "code",
   "execution_count": 77,
   "id": "7fe51556-0f0b-4dfe-82e6-d27b874c0f9d",
   "metadata": {},
   "outputs": [
    {
     "name": "stdout",
     "output_type": "stream",
     "text": [
      "<class 'pandas.core.frame.DataFrame'>\n",
      "RangeIndex: 163 entries, 0 to 162\n",
      "Data columns (total 13 columns):\n",
      " #   Column                  Non-Null Count  Dtype \n",
      "---  ------                  --------------  ----- \n",
      " 0   event_id                163 non-null    object\n",
      " 1   ntsb_make               163 non-null    object\n",
      " 2   ntsb_model              163 non-null    object\n",
      " 3   ntsb_number             163 non-null    object\n",
      " 4   year                    163 non-null    int64 \n",
      " 5   date                    163 non-null    object\n",
      " 6   city                    163 non-null    object\n",
      " 7   state                   162 non-null    object\n",
      " 8   country                 163 non-null    object\n",
      " 9   total_fatalities        163 non-null    int64 \n",
      " 10  latimes_make            163 non-null    object\n",
      " 11  latimes_model           163 non-null    object\n",
      " 12  latimes_make_and_model  163 non-null    object\n",
      "dtypes: int64(2), object(11)\n",
      "memory usage: 16.7+ KB\n"
     ]
    }
   ],
   "source": [
    "accident_list.info()"
   ]
  },
  {
   "cell_type": "code",
   "execution_count": 78,
   "id": "630e70e1-5da5-4902-819e-965659855c0e",
   "metadata": {},
   "outputs": [],
   "source": [
    "accident_list['date'] = pd.to_datetime(accident_list['date'])"
   ]
  },
  {
   "cell_type": "code",
   "execution_count": 79,
   "id": "462e257a-5b0e-4c5c-88d3-e430ea1fb800",
   "metadata": {},
   "outputs": [
    {
     "name": "stdout",
     "output_type": "stream",
     "text": [
      "<class 'pandas.core.frame.DataFrame'>\n",
      "RangeIndex: 163 entries, 0 to 162\n",
      "Data columns (total 13 columns):\n",
      " #   Column                  Non-Null Count  Dtype         \n",
      "---  ------                  --------------  -----         \n",
      " 0   event_id                163 non-null    object        \n",
      " 1   ntsb_make               163 non-null    object        \n",
      " 2   ntsb_model              163 non-null    object        \n",
      " 3   ntsb_number             163 non-null    object        \n",
      " 4   year                    163 non-null    int64         \n",
      " 5   date                    163 non-null    datetime64[ns]\n",
      " 6   city                    163 non-null    object        \n",
      " 7   state                   162 non-null    object        \n",
      " 8   country                 163 non-null    object        \n",
      " 9   total_fatalities        163 non-null    int64         \n",
      " 10  latimes_make            163 non-null    object        \n",
      " 11  latimes_model           163 non-null    object        \n",
      " 12  latimes_make_and_model  163 non-null    object        \n",
      "dtypes: datetime64[ns](1), int64(2), object(10)\n",
      "memory usage: 16.7+ KB\n"
     ]
    }
   ],
   "source": [
    "accident_list.info()"
   ]
  },
  {
   "cell_type": "code",
   "execution_count": 80,
   "id": "eb0cfccd-8ce1-4bf0-8d55-f71d33652252",
   "metadata": {},
   "outputs": [
    {
     "data": {
      "text/html": [
       "\n",
       "<div id=\"altair-viz-4bedfa7f296543e896d8a1b53cc47f85\"></div>\n",
       "<script type=\"text/javascript\">\n",
       "  var VEGA_DEBUG = (typeof VEGA_DEBUG == \"undefined\") ? {} : VEGA_DEBUG;\n",
       "  (function(spec, embedOpt){\n",
       "    let outputDiv = document.currentScript.previousElementSibling;\n",
       "    if (outputDiv.id !== \"altair-viz-4bedfa7f296543e896d8a1b53cc47f85\") {\n",
       "      outputDiv = document.getElementById(\"altair-viz-4bedfa7f296543e896d8a1b53cc47f85\");\n",
       "    }\n",
       "    const paths = {\n",
       "      \"vega\": \"https://cdn.jsdelivr.net/npm//vega@5?noext\",\n",
       "      \"vega-lib\": \"https://cdn.jsdelivr.net/npm//vega-lib?noext\",\n",
       "      \"vega-lite\": \"https://cdn.jsdelivr.net/npm//vega-lite@4.17.0?noext\",\n",
       "      \"vega-embed\": \"https://cdn.jsdelivr.net/npm//vega-embed@6?noext\",\n",
       "    };\n",
       "\n",
       "    function maybeLoadScript(lib, version) {\n",
       "      var key = `${lib.replace(\"-\", \"\")}_version`;\n",
       "      return (VEGA_DEBUG[key] == version) ?\n",
       "        Promise.resolve(paths[lib]) :\n",
       "        new Promise(function(resolve, reject) {\n",
       "          var s = document.createElement('script');\n",
       "          document.getElementsByTagName(\"head\")[0].appendChild(s);\n",
       "          s.async = true;\n",
       "          s.onload = () => {\n",
       "            VEGA_DEBUG[key] = version;\n",
       "            return resolve(paths[lib]);\n",
       "          };\n",
       "          s.onerror = () => reject(`Error loading script: ${paths[lib]}`);\n",
       "          s.src = paths[lib];\n",
       "        });\n",
       "    }\n",
       "\n",
       "    function showError(err) {\n",
       "      outputDiv.innerHTML = `<div class=\"error\" style=\"color:red;\">${err}</div>`;\n",
       "      throw err;\n",
       "    }\n",
       "\n",
       "    function displayChart(vegaEmbed) {\n",
       "      vegaEmbed(outputDiv, spec, embedOpt)\n",
       "        .catch(err => showError(`Javascript Error: ${err.message}<br>This usually means there's a typo in your chart specification. See the javascript console for the full traceback.`));\n",
       "    }\n",
       "\n",
       "    if(typeof define === \"function\" && define.amd) {\n",
       "      requirejs.config({paths});\n",
       "      require([\"vega-embed\"], displayChart, err => showError(`Error loading script: ${err.message}`));\n",
       "    } else {\n",
       "      maybeLoadScript(\"vega\", \"5\")\n",
       "        .then(() => maybeLoadScript(\"vega-lite\", \"4.17.0\"))\n",
       "        .then(() => maybeLoadScript(\"vega-embed\", \"6\"))\n",
       "        .catch(showError)\n",
       "        .then(() => displayChart(vegaEmbed));\n",
       "    }\n",
       "  })({\"config\": {\"view\": {\"continuousWidth\": 400, \"continuousHeight\": 300}}, \"data\": {\"name\": \"data-49d7b582b842daa784cce4db1dfe2d51\"}, \"mark\": \"bar\", \"encoding\": {\"x\": {\"field\": \"date\", \"type\": \"temporal\"}, \"y\": {\"field\": \"total_fatalities\", \"type\": \"quantitative\"}}, \"$schema\": \"https://vega.github.io/schema/vega-lite/v4.17.0.json\", \"datasets\": {\"data-49d7b582b842daa784cce4db1dfe2d51\": [{\"event_id\": \"20061222X01838\", \"ntsb_make\": \"BELL\", \"ntsb_model\": \"407\", \"ntsb_number\": \"NYC07FA048\", \"year\": 2006, \"date\": \"2006-12-14T00:00:00\", \"city\": \"DAGSBORO\", \"state\": \"DE\", \"country\": \"USA\", \"total_fatalities\": 2, \"latimes_make\": \"BELL\", \"latimes_model\": \"407\", \"latimes_make_and_model\": \"BELL 407\"}, {\"event_id\": \"20060817X01187\", \"ntsb_make\": \"ROBINSON\", \"ntsb_model\": \"R22 BETA\", \"ntsb_number\": \"LAX06LA257\", \"year\": 2006, \"date\": \"2006-08-10T00:00:00\", \"city\": \"TUCSON\", \"state\": \"AZ\", \"country\": \"USA\", \"total_fatalities\": 1, \"latimes_make\": \"ROBINSON\", \"latimes_model\": \"R22\", \"latimes_make_and_model\": \"ROBINSON R22\"}, {\"event_id\": \"20060111X00044\", \"ntsb_make\": \"ROBINSON\", \"ntsb_model\": \"R44\", \"ntsb_number\": \"MIA06FA039\", \"year\": 2006, \"date\": \"2006-01-01T00:00:00\", \"city\": \"GRAND RIDGE\", \"state\": \"FL\", \"country\": \"USA\", \"total_fatalities\": 3, \"latimes_make\": \"ROBINSON\", \"latimes_model\": \"R44\", \"latimes_make_and_model\": \"ROBINSON R44\"}, {\"event_id\": \"20060419X00461\", \"ntsb_make\": \"ROBINSON\", \"ntsb_model\": \"R44 II\", \"ntsb_number\": \"DFW06FA102\", \"year\": 2006, \"date\": \"2006-04-13T00:00:00\", \"city\": \"FREDERICKSBURG\", \"state\": \"TX\", \"country\": \"USA\", \"total_fatalities\": 2, \"latimes_make\": \"ROBINSON\", \"latimes_model\": \"R44\", \"latimes_make_and_model\": \"ROBINSON R44\"}, {\"event_id\": \"20060208X00181\", \"ntsb_make\": \"ROBINSON\", \"ntsb_model\": \"R44\", \"ntsb_number\": \"SEA06LA052\", \"year\": 2006, \"date\": \"2006-02-06T00:00:00\", \"city\": \"HELENA\", \"state\": \"MT\", \"country\": \"USA\", \"total_fatalities\": 1, \"latimes_make\": \"ROBINSON\", \"latimes_model\": \"R44\", \"latimes_make_and_model\": \"ROBINSON R44\"}, {\"event_id\": \"20060228X00255\", \"ntsb_make\": \"ROBINSON\", \"ntsb_model\": \"R22\", \"ntsb_number\": \"ANC06FA020\", \"year\": 2006, \"date\": \"2006-02-22T00:00:00\", \"city\": \"SCOTTSDALE\", \"state\": \"AZ\", \"country\": \"USA\", \"total_fatalities\": 2, \"latimes_make\": \"ROBINSON\", \"latimes_model\": \"R22\", \"latimes_make_and_model\": \"ROBINSON R22\"}, {\"event_id\": \"20060824X01237\", \"ntsb_make\": \"EUROCOPTER\", \"ntsb_model\": \"AS-350-B3\", \"ntsb_number\": \"SEA06GA158\", \"year\": 2006, \"date\": \"2006-08-13T00:00:00\", \"city\": \"YELLOW PINE\", \"state\": \"ID\", \"country\": \"USA\", \"total_fatalities\": 4, \"latimes_make\": \"AIRBUS\", \"latimes_model\": \"350\", \"latimes_make_and_model\": \"AIRBUS 350\"}, {\"event_id\": \"20060916X01352\", \"ntsb_make\": \"HUGHES\", \"ntsb_model\": \"369D\", \"ntsb_number\": \"LAX06LA288\", \"year\": 2006, \"date\": \"2006-09-06T00:00:00\", \"city\": \"SOMIS\", \"state\": \"CA\", \"country\": \"USA\", \"total_fatalities\": 2, \"latimes_make\": \"HUGHES\", \"latimes_model\": \"369\", \"latimes_make_and_model\": \"HUGHES 369\"}, {\"event_id\": \"20061122X01705\", \"ntsb_make\": \"HUGHES\", \"ntsb_model\": \"369E\", \"ntsb_number\": \"SEA07LA021\", \"year\": 2006, \"date\": \"2006-11-21T00:00:00\", \"city\": \"JENSEN\", \"state\": \"UT\", \"country\": \"USA\", \"total_fatalities\": 1, \"latimes_make\": \"HUGHES\", \"latimes_model\": \"369\", \"latimes_make_and_model\": \"HUGHES 369\"}, {\"event_id\": \"20060306X00268\", \"ntsb_make\": \"SCHWEIZER\", \"ntsb_model\": \"269C-1\", \"ntsb_number\": \"LAX06LA123\", \"year\": 2006, \"date\": \"2006-02-25T00:00:00\", \"city\": \"VALENCIA\", \"state\": \"CA\", \"country\": \"USA\", \"total_fatalities\": 1, \"latimes_make\": \"SCHWEIZER\", \"latimes_model\": \"269\", \"latimes_make_and_model\": \"SCHWEIZER 269\"}, {\"event_id\": \"20060607X00691\", \"ntsb_make\": \"EUROCOPTER\", \"ntsb_model\": \"EC-135P1\", \"ntsb_number\": \"NYC06MA131\", \"year\": 2006, \"date\": \"2006-05-30T00:00:00\", \"city\": \"WASHINGTON\", \"state\": \"DC\", \"country\": \"USA\", \"total_fatalities\": 1, \"latimes_make\": \"AIRBUS\", \"latimes_model\": \"135\", \"latimes_make_and_model\": \"AIRBUS 135\"}, {\"event_id\": \"20060419X00457\", \"ntsb_make\": \"ROBINSON\", \"ntsb_model\": \"R22 BETA\", \"ntsb_number\": \"CHI06FA109\", \"year\": 2006, \"date\": \"2006-04-13T00:00:00\", \"city\": \"CHELSEA\", \"state\": \"MI\", \"country\": \"USA\", \"total_fatalities\": 2, \"latimes_make\": \"ROBINSON\", \"latimes_model\": \"R22\", \"latimes_make_and_model\": \"ROBINSON R22\"}, {\"event_id\": \"20060705X00868\", \"ntsb_make\": \"BELL\", \"ntsb_model\": \"206B\", \"ntsb_number\": \"CHI06FA173\", \"year\": 2006, \"date\": \"2006-06-30T00:00:00\", \"city\": \"WALFORD\", \"state\": \"IA\", \"country\": \"USA\", \"total_fatalities\": 1, \"latimes_make\": \"BELL\", \"latimes_model\": \"206\", \"latimes_make_and_model\": \"BELL 206\"}, {\"event_id\": \"20060817X01202\", \"ntsb_make\": \"ROBINSON\", \"ntsb_model\": \"R44 II\", \"ntsb_number\": \"SEA06FA159\", \"year\": 2006, \"date\": \"2006-08-13T00:00:00\", \"city\": \"WARRENTON\", \"state\": \"OR\", \"country\": \"USA\", \"total_fatalities\": 3, \"latimes_make\": \"ROBINSON\", \"latimes_model\": \"R44\", \"latimes_make_and_model\": \"ROBINSON R44\"}, {\"event_id\": \"20060320X00323\", \"ntsb_make\": \"BELL\", \"ntsb_model\": \"206L-1\", \"ntsb_number\": \"DFW06FA083\", \"year\": 2006, \"date\": \"2006-03-14T00:00:00\", \"city\": \"PATTERSON\", \"state\": \"LA\", \"country\": \"USA\", \"total_fatalities\": 2, \"latimes_make\": \"BELL\", \"latimes_model\": \"206\", \"latimes_make_and_model\": \"BELL 206\"}, {\"event_id\": \"20060209X00187\", \"ntsb_make\": \"ROBINSON\", \"ntsb_model\": \"R44 II\", \"ntsb_number\": \"LAX06FA104\", \"year\": 2006, \"date\": \"2006-02-07T00:00:00\", \"city\": \"MINDEN\", \"state\": \"NV\", \"country\": \"USA\", \"total_fatalities\": 1, \"latimes_make\": \"ROBINSON\", \"latimes_model\": \"R44\", \"latimes_make_and_model\": \"ROBINSON R44\"}, {\"event_id\": \"20060510X00540\", \"ntsb_make\": \"ROBINSON\", \"ntsb_model\": \"R44 RAVEN II\", \"ntsb_number\": \"LAX06FA156\", \"year\": 2006, \"date\": \"2006-05-01T00:00:00\", \"city\": \"DESERT CENTER\", \"state\": \"CA\", \"country\": \"USA\", \"total_fatalities\": 2, \"latimes_make\": \"ROBINSON\", \"latimes_model\": \"R44\", \"latimes_make_and_model\": \"ROBINSON R44\"}, {\"event_id\": \"20060905X01290\", \"ntsb_make\": \"EUROCOPTER FRANCE\", \"ntsb_model\": \"AS350 B2\", \"ntsb_number\": \"ANC06GA121\", \"year\": 2006, \"date\": \"2006-08-21T00:00:00\", \"city\": \"NUIQSUT\", \"state\": \"AK\", \"country\": \"USA\", \"total_fatalities\": 1, \"latimes_make\": \"AIRBUS\", \"latimes_model\": \"350\", \"latimes_make_and_model\": \"AIRBUS 350\"}, {\"event_id\": \"20061012X01505\", \"ntsb_make\": \"ROBINSON\", \"ntsb_model\": \"R44\", \"ntsb_number\": \"SEA07FA006\", \"year\": 2006, \"date\": \"2006-10-08T00:00:00\", \"city\": \"SUMNER\", \"state\": \"WA\", \"country\": \"USA\", \"total_fatalities\": 1, \"latimes_make\": \"ROBINSON\", \"latimes_model\": \"R44\", \"latimes_make_and_model\": \"ROBINSON R44\"}, {\"event_id\": \"20060605X00682\", \"ntsb_make\": \"BELL\", \"ntsb_model\": \"206L-3\", \"ntsb_number\": \"DFW06IA145\", \"year\": 2006, \"date\": \"2006-05-30T00:00:00\", \"city\": \"GRAND ISLE 43AA\", \"state\": \"GM\", \"country\": \"USA\", \"total_fatalities\": 1, \"latimes_make\": \"BELL\", \"latimes_model\": \"206\", \"latimes_make_and_model\": \"BELL 206\"}, {\"event_id\": \"20070612X00715\", \"ntsb_make\": \"HUGHES\", \"ntsb_model\": \"369D\", \"ntsb_number\": \"SEA07LA135\", \"year\": 2007, \"date\": \"2007-05-28T00:00:00\", \"city\": \"COLUMBUS\", \"state\": \"MT\", \"country\": \"USA\", \"total_fatalities\": 1, \"latimes_make\": \"HUGHES\", \"latimes_model\": \"369\", \"latimes_make_and_model\": \"HUGHES 369\"}, {\"event_id\": \"20070605X00681\", \"ntsb_make\": \"HUGHES\", \"ntsb_model\": \"369A\", \"ntsb_number\": \"MIA07FA098\", \"year\": 2007, \"date\": \"2007-05-13T00:00:00\", \"city\": \"MOULTON\", \"state\": \"AL\", \"country\": \"USA\", \"total_fatalities\": 1, \"latimes_make\": \"HUGHES\", \"latimes_model\": \"369\", \"latimes_make_and_model\": \"HUGHES 369\"}, {\"event_id\": \"20071119X01805\", \"ntsb_make\": \"ROBINSON HELICOPTER\", \"ntsb_model\": \"R44\", \"ntsb_number\": \"NYC08FA026\", \"year\": 2007, \"date\": \"2007-11-05T00:00:00\", \"city\": \"JAMESTOWN\", \"state\": \"TN\", \"country\": \"USA\", \"total_fatalities\": 3, \"latimes_make\": \"ROBINSON\", \"latimes_model\": \"R44\", \"latimes_make_and_model\": \"ROBINSON R44\"}, {\"event_id\": \"20070430X00482\", \"ntsb_make\": \"ROBINSON HELICOPTER COMPANY\", \"ntsb_model\": \"R44 II\", \"ntsb_number\": \"CHI07FA114\", \"year\": 2007, \"date\": \"2007-04-22T00:00:00\", \"city\": \"BASS LAKE\", \"state\": \"IN\", \"country\": \"USA\", \"total_fatalities\": 2, \"latimes_make\": \"ROBINSON\", \"latimes_model\": \"R44\", \"latimes_make_and_model\": \"ROBINSON R44\"}, {\"event_id\": \"20070322X00320\", \"ntsb_make\": \"MCDONNELL DOUGLAS\", \"ntsb_model\": \"369FF\", \"ntsb_number\": \"CHI07MA083\", \"year\": 2007, \"date\": \"2007-03-11T00:00:00\", \"city\": \"HAENA\", \"state\": \"HI\", \"country\": \"USA\", \"total_fatalities\": 1, \"latimes_make\": \"MCDONNELL DOUGLAS\", \"latimes_model\": \"369\", \"latimes_make_and_model\": \"MCDONNELL DOUGLAS 369\"}, {\"event_id\": \"20071231X02014\", \"ntsb_make\": \"BELL\", \"ntsb_model\": \"206L1\", \"ntsb_number\": \"DFW08FA053\", \"year\": 2007, \"date\": \"2007-12-29T00:00:00\", \"city\": \"VENICE\", \"state\": \"LA\", \"country\": \"USA\", \"total_fatalities\": 1, \"latimes_make\": \"BELL\", \"latimes_model\": \"206\", \"latimes_make_and_model\": \"BELL 206\"}, {\"event_id\": \"20070530X00664\", \"ntsb_make\": \"EUROCOPTER\", \"ntsb_model\": \"AS 350 B3\", \"ntsb_number\": \"DFW07GA119\", \"year\": 2007, \"date\": \"2007-05-22T00:00:00\", \"city\": \"SAN ELIZARIO\", \"state\": \"TX\", \"country\": \"USA\", \"total_fatalities\": 1, \"latimes_make\": \"AIRBUS\", \"latimes_model\": \"350\", \"latimes_make_and_model\": \"AIRBUS 350\"}, {\"event_id\": \"20070405X00374\", \"ntsb_make\": \"ROBINSON\", \"ntsb_model\": \"R44 II\", \"ntsb_number\": \"DEN07FA079\", \"year\": 2007, \"date\": \"2007-03-27T00:00:00\", \"city\": \"PONTE VEDRA BCH\", \"state\": \"FL\", \"country\": \"USA\", \"total_fatalities\": 2, \"latimes_make\": \"ROBINSON\", \"latimes_model\": \"R44\", \"latimes_make_and_model\": \"ROBINSON R44\"}, {\"event_id\": \"20070321X00315\", \"ntsb_make\": \"AEROSPATIALE\", \"ntsb_model\": \"AS350BA\", \"ntsb_number\": \"NYC07MA073\", \"year\": 2007, \"date\": \"2007-03-08T00:00:00\", \"city\": \"PRINCEVILLE\", \"state\": \"HI\", \"country\": \"USA\", \"total_fatalities\": 4, \"latimes_make\": \"AIRBUS\", \"latimes_model\": \"350\", \"latimes_make_and_model\": \"AIRBUS 350\"}, {\"event_id\": \"20080109X00032\", \"ntsb_make\": \"BELL\", \"ntsb_model\": \"206L-3\", \"ntsb_number\": \"NYC08FA071\", \"year\": 2007, \"date\": \"2007-12-30T00:00:00\", \"city\": \"CHEROKEE\", \"state\": \"AL\", \"country\": \"USA\", \"total_fatalities\": 3, \"latimes_make\": \"BELL\", \"latimes_model\": \"206\", \"latimes_make_and_model\": \"BELL 206\"}, {\"event_id\": \"20070920X01418\", \"ntsb_make\": \"BELL\", \"ntsb_model\": \"206B\", \"ntsb_number\": \"MIA07FA147\", \"year\": 2007, \"date\": \"2007-09-11T00:00:00\", \"city\": \"NOKOMIS\", \"state\": \"FL\", \"country\": \"USA\", \"total_fatalities\": 2, \"latimes_make\": \"BELL\", \"latimes_model\": \"206\", \"latimes_make_and_model\": \"BELL 206\"}, {\"event_id\": \"20070919X01416\", \"ntsb_make\": \"HUGHES\", \"ntsb_model\": \"369D\", \"ntsb_number\": \"LAX07LA270\", \"year\": 2007, \"date\": \"2007-09-08T00:00:00\", \"city\": \"ELLENSBURG\", \"state\": \"WA\", \"country\": \"USA\", \"total_fatalities\": 1, \"latimes_make\": \"HUGHES\", \"latimes_model\": \"369\", \"latimes_make_and_model\": \"HUGHES 369\"}, {\"event_id\": \"20070808X01151\", \"ntsb_make\": \"ROBINSON\", \"ntsb_model\": \"R44 II\", \"ntsb_number\": \"SEA07FA223\", \"year\": 2007, \"date\": \"2007-08-02T00:00:00\", \"city\": \"EASTON\", \"state\": \"WA\", \"country\": \"USA\", \"total_fatalities\": 4, \"latimes_make\": \"ROBINSON\", \"latimes_model\": \"R44\", \"latimes_make_and_model\": \"ROBINSON R44\"}, {\"event_id\": \"20071227X01994\", \"ntsb_make\": \"BELL\", \"ntsb_model\": \"407\", \"ntsb_number\": \"NYC08LA028\", \"year\": 2007, \"date\": \"2007-11-09T00:00:00\", \"city\": \"MORRISTOWN\", \"state\": \"TN\", \"country\": \"USA\", \"total_fatalities\": 1, \"latimes_make\": \"BELL\", \"latimes_model\": \"407\", \"latimes_make_and_model\": \"BELL 407\"}, {\"event_id\": \"20070802X01089\", \"ntsb_make\": \"EUROCOPTER\", \"ntsb_model\": \"AS350-B2\", \"ntsb_number\": \"LAX07MA231\", \"year\": 2007, \"date\": \"2007-07-27T00:00:00\", \"city\": \"PHOENIX\", \"state\": \"AZ\", \"country\": \"USA\", \"total_fatalities\": 4, \"latimes_make\": \"AIRBUS\", \"latimes_model\": \"350\", \"latimes_make_and_model\": \"AIRBUS 350\"}, {\"event_id\": \"20070802X01089\", \"ntsb_make\": \"EUROCOPTER\", \"ntsb_model\": \"AS350-B2\", \"ntsb_number\": \"LAX07MA231\", \"year\": 2007, \"date\": \"2007-07-27T00:00:00\", \"city\": \"PHOENIX\", \"state\": \"AZ\", \"country\": \"USA\", \"total_fatalities\": 4, \"latimes_make\": \"AIRBUS\", \"latimes_model\": \"350\", \"latimes_make_and_model\": \"AIRBUS 350\"}, {\"event_id\": \"20080529X00746\", \"ntsb_make\": \"AEROSPATIALE\", \"ntsb_model\": \"AS-350-D\", \"ntsb_number\": \"SEA08MA136\", \"year\": 2008, \"date\": \"2008-05-24T00:00:00\", \"city\": \"AVALON\", \"state\": \"CA\", \"country\": \"USA\", \"total_fatalities\": 3, \"latimes_make\": \"AIRBUS\", \"latimes_model\": \"350\", \"latimes_make_and_model\": \"AIRBUS 350\"}, {\"event_id\": \"20080819X01260\", \"ntsb_make\": \"ROBINSON HELICOPTER\", \"ntsb_model\": \"R22 BETA II\", \"ntsb_number\": \"SEA08FA185\", \"year\": 2008, \"date\": \"2008-08-17T00:00:00\", \"city\": \"OLALLA\", \"state\": \"WA\", \"country\": \"USA\", \"total_fatalities\": 1, \"latimes_make\": \"ROBINSON\", \"latimes_model\": \"R22\", \"latimes_make_and_model\": \"ROBINSON R22\"}, {\"event_id\": \"20080715X01051\", \"ntsb_make\": \"BELL\", \"ntsb_model\": \"407\", \"ntsb_number\": \"DEN08MA116\", \"year\": 2008, \"date\": \"2008-06-29T00:00:00\", \"city\": \"FLAGSTAFF\", \"state\": \"AZ\", \"country\": \"USA\", \"total_fatalities\": 7, \"latimes_make\": \"BELL\", \"latimes_model\": \"407\", \"latimes_make_and_model\": \"BELL 407\"}, {\"event_id\": \"20080715X01051\", \"ntsb_make\": \"BELL\", \"ntsb_model\": \"407\", \"ntsb_number\": \"DEN08MA116\", \"year\": 2008, \"date\": \"2008-06-29T00:00:00\", \"city\": \"FLAGSTAFF\", \"state\": \"AZ\", \"country\": \"USA\", \"total_fatalities\": 7, \"latimes_make\": \"BELL\", \"latimes_model\": \"407\", \"latimes_make_and_model\": \"BELL 407\"}, {\"event_id\": \"20080128X00108\", \"ntsb_make\": \"ROBINSON\", \"ntsb_model\": \"R44\", \"ntsb_number\": \"MIA08FA044\", \"year\": 2008, \"date\": \"2008-01-22T00:00:00\", \"city\": \"OCHOPEE\", \"state\": \"FL\", \"country\": \"USA\", \"total_fatalities\": 2, \"latimes_make\": \"ROBINSON\", \"latimes_model\": \"R44\", \"latimes_make_and_model\": \"ROBINSON R44\"}, {\"event_id\": \"20081211X45825\", \"ntsb_make\": \"BELL\", \"ntsb_model\": \"206L-4\", \"ntsb_number\": \"CEN09FA086\", \"year\": 2008, \"date\": \"2008-12-11T00:00:00\", \"city\": \"SABINE PASS\", \"state\": \"TX\", \"country\": \"USA\", \"total_fatalities\": 5, \"latimes_make\": \"BELL\", \"latimes_model\": \"206\", \"latimes_make_and_model\": \"BELL 206\"}, {\"event_id\": \"20081019X15543\", \"ntsb_make\": \"ROBINSON\", \"ntsb_model\": \"R22\", \"ntsb_number\": \"ERA09FA022\", \"year\": 2008, \"date\": \"2008-10-16T00:00:00\", \"city\": \"DRYDEN\", \"state\": \"NY\", \"country\": \"USA\", \"total_fatalities\": 1, \"latimes_make\": \"ROBINSON\", \"latimes_model\": \"R22\", \"latimes_make_and_model\": \"ROBINSON R22\"}, {\"event_id\": \"20080520X00702\", \"ntsb_make\": \"EUROCOPTER DEUTSCHLAND GMBH\", \"ntsb_model\": \"EC 135 T2+\", \"ntsb_number\": \"CHI08FA128\", \"year\": 2008, \"date\": \"2008-05-10T00:00:00\", \"city\": \"LA CROSSE\", \"state\": \"WI\", \"country\": \"USA\", \"total_fatalities\": 3, \"latimes_make\": \"AIRBUS\", \"latimes_model\": \"135\", \"latimes_make_and_model\": \"AIRBUS 135\"}, {\"event_id\": \"20080909X01417\", \"ntsb_make\": \"BELL\", \"ntsb_model\": \"206L-1\", \"ntsb_number\": \"CHI08FA269\", \"year\": 2008, \"date\": \"2008-08-31T00:00:00\", \"city\": \"GREENSBURG\", \"state\": \"IN\", \"country\": \"USA\", \"total_fatalities\": 3, \"latimes_make\": \"BELL\", \"latimes_model\": \"206\", \"latimes_make_and_model\": \"BELL 206\"}, {\"event_id\": \"20080321X00357\", \"ntsb_make\": \"ROBINSON\", \"ntsb_model\": \"R22 BETA II\", \"ntsb_number\": \"NYC08FA134\", \"year\": 2008, \"date\": \"2008-03-13T00:00:00\", \"city\": \"WILMINGTON\", \"state\": \"NC\", \"country\": \"USA\", \"total_fatalities\": 1, \"latimes_make\": \"ROBINSON\", \"latimes_model\": \"R22\", \"latimes_make_and_model\": \"ROBINSON R22\"}, {\"event_id\": \"20081014X22933\", \"ntsb_make\": \"BELL\", \"ntsb_model\": \"407\", \"ntsb_number\": \"WPR09TA012\", \"year\": 2008, \"date\": \"2008-10-13T00:00:00\", \"city\": \"SEDONA\", \"state\": \"AZ\", \"country\": \"USA\", \"total_fatalities\": 1, \"latimes_make\": \"BELL\", \"latimes_model\": \"407\", \"latimes_make_and_model\": \"BELL 407\"}, {\"event_id\": \"20080505X00592\", \"ntsb_make\": \"ROBINSON\", \"ntsb_model\": \"R44\", \"ntsb_number\": \"DFW08LA122\", \"year\": 2008, \"date\": \"2008-04-28T00:00:00\", \"city\": \"BARTLETT\", \"state\": \"TX\", \"country\": \"USA\", \"total_fatalities\": 1, \"latimes_make\": \"ROBINSON\", \"latimes_model\": \"R44\", \"latimes_make_and_model\": \"ROBINSON R44\"}, {\"event_id\": \"20080710X01015\", \"ntsb_make\": \"SCHWEIZER\", \"ntsb_model\": \"269 C-1\", \"ntsb_number\": \"LAX08LA213\", \"year\": 2008, \"date\": \"2008-07-04T00:00:00\", \"city\": \"SUNOL\", \"state\": \"CA\", \"country\": \"USA\", \"total_fatalities\": 2, \"latimes_make\": \"SCHWEIZER\", \"latimes_model\": \"269\", \"latimes_make_and_model\": \"SCHWEIZER 269\"}, {\"event_id\": \"20081013X24743\", \"ntsb_make\": \"BELL\", \"ntsb_model\": \"206\", \"ntsb_number\": \"CEN09FA012\", \"year\": 2008, \"date\": \"2008-10-13T00:00:00\", \"city\": \"CONROE\", \"state\": \"TX\", \"country\": \"USA\", \"total_fatalities\": 2, \"latimes_make\": \"BELL\", \"latimes_model\": \"206\", \"latimes_make_and_model\": \"BELL 206\"}, {\"event_id\": \"20081104X60811\", \"ntsb_make\": \"ROBINSON\", \"ntsb_model\": \"R-44\", \"ntsb_number\": \"ERA09FA036\", \"year\": 2008, \"date\": \"2008-11-02T00:00:00\", \"city\": \"GALLATIN\", \"state\": \"TN\", \"country\": \"USA\", \"total_fatalities\": 1, \"latimes_make\": \"ROBINSON\", \"latimes_model\": \"R44\", \"latimes_make_and_model\": \"ROBINSON R44\"}, {\"event_id\": \"20080731X01133\", \"ntsb_make\": \"HUGHES\", \"ntsb_model\": \"369D\", \"ntsb_number\": \"LAX08FA233\", \"year\": 2008, \"date\": \"2008-07-19T00:00:00\", \"city\": \"PRICE\", \"state\": \"UT\", \"country\": \"USA\", \"total_fatalities\": 3, \"latimes_make\": \"HUGHES\", \"latimes_model\": \"369\", \"latimes_make_and_model\": \"HUGHES 369\"}, {\"event_id\": \"20080222X00227\", \"ntsb_make\": \"EUROCOPTER FRANCE\", \"ntsb_model\": \"AS350B2\", \"ntsb_number\": \"DFW08FA062\", \"year\": 2008, \"date\": \"2008-02-05T00:00:00\", \"city\": \"S. PADRE ISLAND\", \"state\": \"TX\", \"country\": \"USA\", \"total_fatalities\": 3, \"latimes_make\": \"AIRBUS\", \"latimes_model\": \"350\", \"latimes_make_and_model\": \"AIRBUS 350\"}, {\"event_id\": \"20080421X00524\", \"ntsb_make\": \"EUROCOPTER\", \"ntsb_model\": \"AS 350 B2\", \"ntsb_number\": \"ANC08FA053\", \"year\": 2008, \"date\": \"2008-04-15T00:00:00\", \"city\": \"CHICKALOON\", \"state\": \"AK\", \"country\": \"USA\", \"total_fatalities\": 4, \"latimes_make\": \"AIRBUS\", \"latimes_model\": \"350\", \"latimes_make_and_model\": \"AIRBUS 350\"}, {\"event_id\": \"20080613X00858\", \"ntsb_make\": \"BELL\", \"ntsb_model\": \"407\", \"ntsb_number\": \"DEN08FA101\", \"year\": 2008, \"date\": \"2008-06-08T00:00:00\", \"city\": \"HUNTSVILLE\", \"state\": \"TX\", \"country\": \"USA\", \"total_fatalities\": 4, \"latimes_make\": \"BELL\", \"latimes_model\": \"407\", \"latimes_make_and_model\": \"BELL 407\"}, {\"event_id\": \"20080908X01405\", \"ntsb_make\": \"ROBINSON\", \"ntsb_model\": \"R44 II\", \"ntsb_number\": \"DFW08FA218\", \"year\": 2008, \"date\": \"2008-08-29T00:00:00\", \"city\": \"RIDGEDALE\", \"state\": \"MO\", \"country\": \"USA\", \"total_fatalities\": 2, \"latimes_make\": \"ROBINSON\", \"latimes_model\": \"R44\", \"latimes_make_and_model\": \"ROBINSON R44\"}, {\"event_id\": \"20080925X01525\", \"ntsb_make\": \"ROBINSON\", \"ntsb_model\": \"R44 II\", \"ntsb_number\": \"CHI08FA293\", \"year\": 2008, \"date\": \"2008-09-21T00:00:00\", \"city\": \"KENOSHA\", \"state\": \"WI\", \"country\": \"USA\", \"total_fatalities\": 2, \"latimes_make\": \"ROBINSON\", \"latimes_model\": \"R44\", \"latimes_make_and_model\": \"ROBINSON R44\"}, {\"event_id\": \"20080201X00130\", \"ntsb_make\": \"ROBINSON HELICOPTER\", \"ntsb_model\": \"R22 BETA\", \"ntsb_number\": \"LAX08FA052\", \"year\": 2008, \"date\": \"2008-01-25T00:00:00\", \"city\": \"LOS ANGELES\", \"state\": \"CA\", \"country\": \"USA\", \"total_fatalities\": 1, \"latimes_make\": \"ROBINSON\", \"latimes_model\": \"R22\", \"latimes_make_and_model\": \"ROBINSON R22\"}, {\"event_id\": \"20091012X15520\", \"ntsb_make\": \"MCDONNELL DOUGLAS HELI CO\", \"ntsb_model\": \"369FF\", \"ntsb_number\": \"WPR10FA012\", \"year\": 2009, \"date\": \"2009-10-12T00:00:00\", \"city\": \"FOSSIL\", \"state\": \"OR\", \"country\": \"USA\", \"total_fatalities\": 1, \"latimes_make\": \"MCDONNELL DOUGLAS\", \"latimes_model\": \"369\", \"latimes_make_and_model\": \"MCDONNELL DOUGLAS 369\"}, {\"event_id\": \"20090724X05537\", \"ntsb_make\": \"ROBINSON HELICOPTER\", \"ntsb_model\": \"R44\", \"ntsb_number\": \"ERA09FA417\", \"year\": 2009, \"date\": \"2009-07-23T00:00:00\", \"city\": \"BOONSBORO\", \"state\": \"MD\", \"country\": \"USA\", \"total_fatalities\": 4, \"latimes_make\": \"ROBINSON\", \"latimes_model\": \"R44\", \"latimes_make_and_model\": \"ROBINSON R44\"}, {\"event_id\": \"20090926X65328\", \"ntsb_make\": \"EUROCOPTER\", \"ntsb_model\": \"AS-350\", \"ntsb_number\": \"ERA09FA537\", \"year\": 2009, \"date\": \"2009-09-25T00:00:00\", \"city\": \"GEORGETOWN\", \"state\": \"SC\", \"country\": \"USA\", \"total_fatalities\": 3, \"latimes_make\": \"AIRBUS\", \"latimes_model\": \"350\", \"latimes_make_and_model\": \"AIRBUS 350\"}, {\"event_id\": \"20090722X34202\", \"ntsb_make\": \"HUGHES\", \"ntsb_model\": \"369\", \"ntsb_number\": \"ERA09FA414\", \"year\": 2009, \"date\": \"2009-07-22T00:00:00\", \"city\": \"FRANKLIN\", \"state\": \"PA\", \"country\": \"USA\", \"total_fatalities\": 1, \"latimes_make\": \"HUGHES\", \"latimes_model\": \"369\", \"latimes_make_and_model\": \"HUGHES 369\"}, {\"event_id\": \"20090808X42846\", \"ntsb_make\": \"EUROCOPTER\", \"ntsb_model\": \"AS 350 BA\", \"ntsb_number\": \"ERA09MA447\", \"year\": 2009, \"date\": \"2009-08-08T00:00:00\", \"city\": \"HOBOKEN\", \"state\": \"NJ\", \"country\": \"USA\", \"total_fatalities\": 9, \"latimes_make\": \"AIRBUS\", \"latimes_model\": \"350\", \"latimes_make_and_model\": \"AIRBUS 350\"}, {\"event_id\": \"20090104X12037\", \"ntsb_make\": \"SIKORSKY\", \"ntsb_model\": \"S-76C\", \"ntsb_number\": \"CEN09MA117\", \"year\": 2009, \"date\": \"2009-01-04T00:00:00\", \"city\": \"MORGAN CITY\", \"state\": \"LA\", \"country\": \"USA\", \"total_fatalities\": 8, \"latimes_make\": \"SIKORSKY\", \"latimes_model\": \"76\", \"latimes_make_and_model\": \"SIKORSKY 76\"}, {\"event_id\": \"20091017X64138\", \"ntsb_make\": \"ROBINSON HELICOPTER\", \"ntsb_model\": \"R22 BETA\", \"ntsb_number\": \"CEN10FA019\", \"year\": 2009, \"date\": \"2009-10-14T00:00:00\", \"city\": \"TAHLEQUAH\", \"state\": \"OK\", \"country\": \"USA\", \"total_fatalities\": 2, \"latimes_make\": \"ROBINSON\", \"latimes_model\": \"R22\", \"latimes_make_and_model\": \"ROBINSON R22\"}, {\"event_id\": \"20090901X80259\", \"ntsb_make\": \"ROBINSON\", \"ntsb_model\": \"R44\", \"ntsb_number\": \"ERA09FA497\", \"year\": 2009, \"date\": \"2009-09-01T00:00:00\", \"city\": \"JACKSON\", \"state\": \"MS\", \"country\": \"USA\", \"total_fatalities\": 1, \"latimes_make\": \"ROBINSON\", \"latimes_model\": \"R44\", \"latimes_make_and_model\": \"ROBINSON R44\"}, {\"event_id\": \"20090225X75532\", \"ntsb_make\": \"HUGHES\", \"ntsb_model\": \"369F\", \"ntsb_number\": \"ERA09LA173\", \"year\": 2009, \"date\": \"2009-02-24T00:00:00\", \"city\": \"MOYOCK\", \"state\": \"NC\", \"country\": \"USA\", \"total_fatalities\": 1, \"latimes_make\": \"HUGHES\", \"latimes_model\": \"369\", \"latimes_make_and_model\": \"HUGHES 369\"}, {\"event_id\": \"20090611X91250\", \"ntsb_make\": \"ROBINSON HELICOPTER\", \"ntsb_model\": \"R22 BETA\", \"ntsb_number\": \"WPR09FA284\", \"year\": 2009, \"date\": \"2009-06-11T00:00:00\", \"city\": \"MORRISTOWN\", \"state\": \"AZ\", \"country\": \"USA\", \"total_fatalities\": 1, \"latimes_make\": \"ROBINSON\", \"latimes_model\": \"R22\", \"latimes_make_and_model\": \"ROBINSON R22\"}, {\"event_id\": \"20090920X34134\", \"ntsb_make\": \"ROBINSON HELICOPTER\", \"ntsb_model\": \"R22 BETA\", \"ntsb_number\": \"WPR09FA459\", \"year\": 2009, \"date\": \"2009-09-20T00:00:00\", \"city\": \"FOREST GROVE\", \"state\": \"OR\", \"country\": \"USA\", \"total_fatalities\": 2, \"latimes_make\": \"ROBINSON\", \"latimes_model\": \"R22\", \"latimes_make_and_model\": \"ROBINSON R22\"}, {\"event_id\": \"20091114X82100\", \"ntsb_make\": \"AEROSPATIALE\", \"ntsb_model\": \"AS350BA\", \"ntsb_number\": \"WPR10FA055\", \"year\": 2009, \"date\": \"2009-11-14T00:00:00\", \"city\": \"DOYLE\", \"state\": \"CA\", \"country\": \"USA\", \"total_fatalities\": 3, \"latimes_make\": \"AIRBUS\", \"latimes_model\": \"350\", \"latimes_make_and_model\": \"AIRBUS 350\"}, {\"event_id\": \"20090309X04818\", \"ntsb_make\": \"BELL\", \"ntsb_model\": \"206-L4\", \"ntsb_number\": \"CEN09FA193\", \"year\": 2009, \"date\": \"2009-03-08T00:00:00\", \"city\": \"MOUNDRIDGE\", \"state\": \"KS\", \"country\": \"USA\", \"total_fatalities\": 1, \"latimes_make\": \"BELL\", \"latimes_model\": \"206\", \"latimes_make_and_model\": \"BELL 206\"}, {\"event_id\": \"20090201X10015\", \"ntsb_make\": \"ROBINSON HELICOPTER\", \"ntsb_model\": \"R22 BETA II\", \"ntsb_number\": \"WPR09FA104\", \"year\": 2009, \"date\": \"2009-01-31T00:00:00\", \"city\": \"FILLMORE\", \"state\": \"CA\", \"country\": \"USA\", \"total_fatalities\": 1, \"latimes_make\": \"ROBINSON\", \"latimes_model\": \"R22\", \"latimes_make_and_model\": \"ROBINSON R22\"}, {\"event_id\": \"20090610X23159\", \"ntsb_make\": \"AGUSTA SPA\", \"ntsb_model\": \"A109E\", \"ntsb_number\": \"CEN09PA348\", \"year\": 2009, \"date\": \"2009-06-09T00:00:00\", \"city\": \"SANTA FE\", \"state\": \"NM\", \"country\": \"USA\", \"total_fatalities\": 2, \"latimes_make\": \"AGUSTA\", \"latimes_model\": \"109\", \"latimes_make_and_model\": \"AGUSTA 109\"}, {\"event_id\": \"20101015X73141\", \"ntsb_make\": \"BELL\", \"ntsb_model\": \"206B\", \"ntsb_number\": \"CEN11GA020\", \"year\": 2010, \"date\": \"2010-10-15T00:00:00\", \"city\": \"CLARKSON VALLEY\", \"state\": \"MO\", \"country\": \"USA\", \"total_fatalities\": 1, \"latimes_make\": \"BELL\", \"latimes_model\": \"206\", \"latimes_make_and_model\": \"BELL 206\"}, {\"event_id\": \"20100806X55641\", \"ntsb_make\": \"ROBINSON HELICOPTER COMPANY\", \"ntsb_model\": \"R44 II\", \"ntsb_number\": \"ERA10FA403\", \"year\": 2010, \"date\": \"2010-08-02T00:00:00\", \"city\": \"BLAIRSVILLE\", \"state\": \"GA\", \"country\": \"USA\", \"total_fatalities\": 2, \"latimes_make\": \"ROBINSON\", \"latimes_model\": \"R44\", \"latimes_make_and_model\": \"ROBINSON R44\"}, {\"event_id\": \"20100105X94046\", \"ntsb_make\": \"BELL\", \"ntsb_model\": \"206B\", \"ntsb_number\": \"WPR10GA097\", \"year\": 2010, \"date\": \"2010-01-05T00:00:00\", \"city\": \"AUBERRY\", \"state\": \"CA\", \"country\": \"USA\", \"total_fatalities\": 4, \"latimes_make\": \"BELL\", \"latimes_model\": \"206\", \"latimes_make_and_model\": \"BELL 206\"}, {\"event_id\": \"20100728X92614\", \"ntsb_make\": \"AMERICAN EUROCOPTER LLC\", \"ntsb_model\": \"AS 350 B3\", \"ntsb_number\": \"WPR10FA371\", \"year\": 2010, \"date\": \"2010-07-28T00:00:00\", \"city\": \"TUCSON\", \"state\": \"AZ\", \"country\": \"USA\", \"total_fatalities\": 3, \"latimes_make\": \"AIRBUS\", \"latimes_model\": \"350\", \"latimes_make_and_model\": \"AIRBUS 350\"}, {\"event_id\": \"20100621X31143\", \"ntsb_make\": \"ROBINSON HELICOPTER\", \"ntsb_model\": \"R44\", \"ntsb_number\": \"ANC10LA053\", \"year\": 2010, \"date\": \"2010-06-19T00:00:00\", \"city\": \"UNALASKA\", \"state\": \"AK\", \"country\": \"USA\", \"total_fatalities\": 1, \"latimes_make\": \"ROBINSON\", \"latimes_model\": \"R44\", \"latimes_make_and_model\": \"ROBINSON R44\"}, {\"event_id\": \"20101103X83727\", \"ntsb_make\": \"BELL\", \"ntsb_model\": \"206\", \"ntsb_number\": \"CEN11FA053\", \"year\": 2010, \"date\": \"2010-11-03T00:00:00\", \"city\": \"MEEKER\", \"state\": \"CO\", \"country\": \"USA\", \"total_fatalities\": 1, \"latimes_make\": \"BELL\", \"latimes_model\": \"206\", \"latimes_make_and_model\": \"BELL 206\"}, {\"event_id\": \"20100705X12909\", \"ntsb_make\": \"ROBINSON HELICOPTER\", \"ntsb_model\": \"R44\", \"ntsb_number\": \"ERA10LA348\", \"year\": 2010, \"date\": \"2010-07-05T00:00:00\", \"city\": \"MARION\", \"state\": \"KY\", \"country\": \"USA\", \"total_fatalities\": 1, \"latimes_make\": \"ROBINSON\", \"latimes_model\": \"R44\", \"latimes_make_and_model\": \"ROBINSON R44\"}, {\"event_id\": \"20101030X30541\", \"ntsb_make\": \"MD HELICOPTERS INC\", \"ntsb_model\": \"369E\", \"ntsb_number\": \"ERA11FA042\", \"year\": 2010, \"date\": \"2010-10-30T00:00:00\", \"city\": \"THOMAS\", \"state\": \"WV\", \"country\": \"USA\", \"total_fatalities\": 1, \"latimes_make\": \"MCDONNELL DOUGLAS\", \"latimes_model\": \"369\", \"latimes_make_and_model\": \"MCDONNELL DOUGLAS 369\"}, {\"event_id\": \"20100831X75841\", \"ntsb_make\": \"BELL HELICOPTER TEXTRON\", \"ntsb_model\": \"206L-1\", \"ntsb_number\": \"CEN10FA509\", \"year\": 2010, \"date\": \"2010-08-31T00:00:00\", \"city\": \"WALNUT GROVE\", \"state\": \"AR\", \"country\": \"USA\", \"total_fatalities\": 3, \"latimes_make\": \"BELL\", \"latimes_model\": \"206\", \"latimes_make_and_model\": \"BELL 206\"}, {\"event_id\": \"20100214X92140\", \"ntsb_make\": \"EUROCOPTER\", \"ntsb_model\": \"EC135\", \"ntsb_number\": \"WPR10FA133\", \"year\": 2010, \"date\": \"2010-02-14T00:00:00\", \"city\": \"CAVE CREEK\", \"state\": \"AZ\", \"country\": \"USA\", \"total_fatalities\": 5, \"latimes_make\": \"AIRBUS\", \"latimes_model\": \"135\", \"latimes_make_and_model\": \"AIRBUS 135\"}, {\"event_id\": \"20100526X84456\", \"ntsb_make\": \"SCHWEIZER\", \"ntsb_model\": \"269C-1\", \"ntsb_number\": \"ERA10FA283\", \"year\": 2010, \"date\": \"2010-05-26T00:00:00\", \"city\": \"BOXBOROUGH\", \"state\": \"MA\", \"country\": \"USA\", \"total_fatalities\": 1, \"latimes_make\": \"SCHWEIZER\", \"latimes_model\": \"269\", \"latimes_make_and_model\": \"SCHWEIZER 269\"}, {\"event_id\": \"20100306X05331\", \"ntsb_make\": \"ROBINSON HELICOPTER\", \"ntsb_model\": \"R22 BETA II\", \"ntsb_number\": \"CEN10FA139\", \"year\": 2010, \"date\": \"2010-03-06T00:00:00\", \"city\": \"COTULLA\", \"state\": \"TX\", \"country\": \"USA\", \"total_fatalities\": 2, \"latimes_make\": \"ROBINSON\", \"latimes_model\": \"R22\", \"latimes_make_and_model\": \"ROBINSON R22\"}, {\"event_id\": \"20100717X71900\", \"ntsb_make\": \"ROBINSON HELICOPTER COMPANY\", \"ntsb_model\": \"R44 II\", \"ntsb_number\": \"WPR10LA354\", \"year\": 2010, \"date\": \"2010-07-16T00:00:00\", \"city\": \"SALT LAKE CITY\", \"state\": \"UT\", \"country\": \"USA\", \"total_fatalities\": 1, \"latimes_make\": \"ROBINSON\", \"latimes_model\": \"R44\", \"latimes_make_and_model\": \"ROBINSON R44\"}, {\"event_id\": \"20100206X10511\", \"ntsb_make\": \"AEROSPATIALE\", \"ntsb_model\": \"AS350\", \"ntsb_number\": \"CEN10FA113\", \"year\": 2010, \"date\": \"2010-02-05T00:00:00\", \"city\": \"EL PASO\", \"state\": \"TX\", \"country\": \"USA\", \"total_fatalities\": 3, \"latimes_make\": \"AIRBUS\", \"latimes_model\": \"350\", \"latimes_make_and_model\": \"AIRBUS 350\"}, {\"event_id\": \"20110102X35752\", \"ntsb_make\": \"EUROCOPTER DEUTSCHLAND GMBH\", \"ntsb_model\": \"EC 135 P2\", \"ntsb_number\": \"ERA11FA101\", \"year\": 2010, \"date\": \"2010-12-31T00:00:00\", \"city\": \"WEYERS CAVE\", \"state\": \"VA\", \"country\": \"USA\", \"total_fatalities\": 2, \"latimes_make\": \"AIRBUS\", \"latimes_model\": \"135\", \"latimes_make_and_model\": \"AIRBUS 135\"}, {\"event_id\": \"20100325X93604\", \"ntsb_make\": \"EUROCOPTER\", \"ntsb_model\": \"AS-350-B3\", \"ntsb_number\": \"ERA10MA188\", \"year\": 2010, \"date\": \"2010-03-25T00:00:00\", \"city\": \"BROWNSVILLE\", \"state\": \"TN\", \"country\": \"USA\", \"total_fatalities\": 3, \"latimes_make\": \"AIRBUS\", \"latimes_model\": \"350\", \"latimes_make_and_model\": \"AIRBUS 350\"}, {\"event_id\": \"20100602X01732\", \"ntsb_make\": \"ROBINSON\", \"ntsb_model\": \"R22 BETA\", \"ntsb_number\": \"WPR10FA277\", \"year\": 2010, \"date\": \"2010-06-02T00:00:00\", \"city\": \"SPOKANE\", \"state\": \"WA\", \"country\": \"USA\", \"total_fatalities\": 1, \"latimes_make\": \"ROBINSON\", \"latimes_model\": \"R22\", \"latimes_make_and_model\": \"ROBINSON R22\"}, {\"event_id\": \"20100722X21328\", \"ntsb_make\": \"EUROCOPTER\", \"ntsb_model\": \"AS 350 B2\", \"ntsb_number\": \"CEN10FA424\", \"year\": 2010, \"date\": \"2010-07-22T00:00:00\", \"city\": \"KINGFISHER\", \"state\": \"OK\", \"country\": \"USA\", \"total_fatalities\": 2, \"latimes_make\": \"AIRBUS\", \"latimes_model\": \"350\", \"latimes_make_and_model\": \"AIRBUS 350\"}, {\"event_id\": \"20121010X41638\", \"ntsb_make\": \"BELL\", \"ntsb_model\": \"206B\", \"ntsb_number\": \"CEN13FA009\", \"year\": 2012, \"date\": \"2012-10-10T00:00:00\", \"city\": \"CROWLEY\", \"state\": \"LA\", \"country\": \"USA\", \"total_fatalities\": 1, \"latimes_make\": \"BELL\", \"latimes_model\": \"206\", \"latimes_make_and_model\": \"BELL 206\"}, {\"event_id\": \"20121010X63824\", \"ntsb_make\": \"BELL\", \"ntsb_model\": \"407\", \"ntsb_number\": \"ERA13FA014\", \"year\": 2012, \"date\": \"2012-10-09T00:00:00\", \"city\": \"COOLBAUGH TOWNSHIP\", \"state\": \"PA\", \"country\": \"USA\", \"total_fatalities\": 2, \"latimes_make\": \"BELL\", \"latimes_model\": \"407\", \"latimes_make_and_model\": \"BELL 407\"}, {\"event_id\": \"20121012X13500\", \"ntsb_make\": \"ROBINSON HELICOPTER COMPANY\", \"ntsb_model\": \"R44 II\", \"ntsb_number\": \"CEN13FA010\", \"year\": 2012, \"date\": \"2012-10-11T00:00:00\", \"city\": \"BLANCO\", \"state\": \"TX\", \"country\": \"USA\", \"total_fatalities\": 3, \"latimes_make\": \"ROBINSON\", \"latimes_model\": \"R44\", \"latimes_make_and_model\": \"ROBINSON R44\"}, {\"event_id\": \"20120910X05133\", \"ntsb_make\": \"ROBINSON HELICOPTER\", \"ntsb_model\": \"R22 BETA\", \"ntsb_number\": \"CEN12FA621\", \"year\": 2012, \"date\": \"2012-09-10T00:00:00\", \"city\": \"HOUSTON\", \"state\": \"TX\", \"country\": \"USA\", \"total_fatalities\": 2, \"latimes_make\": \"ROBINSON\", \"latimes_model\": \"R22\", \"latimes_make_and_model\": \"ROBINSON R22\"}, {\"event_id\": \"20120826X42003\", \"ntsb_make\": \"BELL\", \"ntsb_model\": \"407\", \"ntsb_number\": \"ERA12FA527\", \"year\": 2012, \"date\": \"2012-08-24T00:00:00\", \"city\": \"ABINGDON\", \"state\": \"VA\", \"country\": \"USA\", \"total_fatalities\": 1, \"latimes_make\": \"BELL\", \"latimes_model\": \"407\", \"latimes_make_and_model\": \"BELL 407\"}, {\"event_id\": \"20120216X03340\", \"ntsb_make\": \"BELL\", \"ntsb_model\": \"407\", \"ntsb_number\": \"WPR12GA106\", \"year\": 2012, \"date\": \"2012-02-15T00:00:00\", \"city\": \"MORAN JUNCTION\", \"state\": \"WY\", \"country\": \"USA\", \"total_fatalities\": 1, \"latimes_make\": \"BELL\", \"latimes_model\": \"407\", \"latimes_make_and_model\": \"BELL 407\"}, {\"event_id\": \"20120701X53951\", \"ntsb_make\": \"AEROSPATIALE\", \"ntsb_model\": \"AS350B\", \"ntsb_number\": \"WPR12FA282\", \"year\": 2012, \"date\": \"2012-06-30T00:00:00\", \"city\": \"CAMP VERDE\", \"state\": \"AZ\", \"country\": \"USA\", \"total_fatalities\": 4, \"latimes_make\": \"AIRBUS\", \"latimes_model\": \"350\", \"latimes_make_and_model\": \"AIRBUS 350\"}, {\"event_id\": \"20121130X74908\", \"ntsb_make\": \"ROBINSON HELICOPTER\", \"ntsb_model\": \"R22 BETA II\", \"ntsb_number\": \"ERA13FA070\", \"year\": 2012, \"date\": \"2012-11-30T00:00:00\", \"city\": \"APOLLO BEACH\", \"state\": \"FL\", \"country\": \"USA\", \"total_fatalities\": 1, \"latimes_make\": \"ROBINSON\", \"latimes_model\": \"R22\", \"latimes_make_and_model\": \"ROBINSON R22\"}, {\"event_id\": \"20120709X83554\", \"ntsb_make\": \"ROBINSON HELICOPTER\", \"ntsb_model\": \"R22 BETA\", \"ntsb_number\": \"WPR12FA298\", \"year\": 2012, \"date\": \"2012-07-09T00:00:00\", \"city\": \"MURRIETA\", \"state\": \"CA\", \"country\": \"USA\", \"total_fatalities\": 1, \"latimes_make\": \"ROBINSON\", \"latimes_model\": \"R22\", \"latimes_make_and_model\": \"ROBINSON R22\"}, {\"event_id\": \"20121115X43423\", \"ntsb_make\": \"HUGHES\", \"ntsb_model\": \"369D\", \"ntsb_number\": \"ERA13LA057\", \"year\": 2012, \"date\": \"2012-11-15T00:00:00\", \"city\": \"CORNING\", \"state\": \"NY\", \"country\": \"USA\", \"total_fatalities\": 2, \"latimes_make\": \"HUGHES\", \"latimes_model\": \"369\", \"latimes_make_and_model\": \"HUGHES 369\"}, {\"event_id\": \"20120119X92431\", \"ntsb_make\": \"ROBINSON\", \"ntsb_model\": \"R44 II\", \"ntsb_number\": \"CEN12FA139\", \"year\": 2012, \"date\": \"2012-01-19T00:00:00\", \"city\": \"CENTERVILLE\", \"state\": \"LA\", \"country\": \"USA\", \"total_fatalities\": 2, \"latimes_make\": \"ROBINSON\", \"latimes_model\": \"R44\", \"latimes_make_and_model\": \"ROBINSON R44\"}, {\"event_id\": \"20121128X12341\", \"ntsb_make\": \"HUGHES\", \"ntsb_model\": \"369\", \"ntsb_number\": \"CEN13FA075\", \"year\": 2012, \"date\": \"2012-11-27T00:00:00\", \"city\": \"CHILDRESS\", \"state\": \"TX\", \"country\": \"USA\", \"total_fatalities\": 1, \"latimes_make\": \"HUGHES\", \"latimes_model\": \"369\", \"latimes_make_and_model\": \"HUGHES 369\"}, {\"event_id\": \"20120529X90616\", \"ntsb_make\": \"BELL\", \"ntsb_model\": \"206-L4\", \"ntsb_number\": \"CEN12FA321\", \"year\": 2012, \"date\": \"2012-05-28T00:00:00\", \"city\": \"GULF OF MEXICO\", \"state\": null, \"country\": \"USA\", \"total_fatalities\": 1, \"latimes_make\": \"BELL\", \"latimes_model\": \"206\", \"latimes_make_and_model\": \"BELL 206\"}, {\"event_id\": \"20120612X20331\", \"ntsb_make\": \"ROBINSON HELICOPTER COMPANY\", \"ntsb_model\": \"R44 II\", \"ntsb_number\": \"WPR12LA259\", \"year\": 2012, \"date\": \"2012-06-12T00:00:00\", \"city\": \"EAST WENATCHEE\", \"state\": \"WA\", \"country\": \"USA\", \"total_fatalities\": 1, \"latimes_make\": \"ROBINSON\", \"latimes_model\": \"R44\", \"latimes_make_and_model\": \"ROBINSON R44\"}, {\"event_id\": \"20121126X75106\", \"ntsb_make\": \"ROBINSON HELICOPTER COMPANY\", \"ntsb_model\": \"R44 II\", \"ntsb_number\": \"WPR13FA054\", \"year\": 2012, \"date\": \"2012-11-25T00:00:00\", \"city\": \"CORONA\", \"state\": \"CA\", \"country\": \"USA\", \"total_fatalities\": 1, \"latimes_make\": \"ROBINSON\", \"latimes_model\": \"R44\", \"latimes_make_and_model\": \"ROBINSON R44\"}, {\"event_id\": \"20121005X04242\", \"ntsb_make\": \"BELL\", \"ntsb_model\": \"407\", \"ntsb_number\": \"CEN13FA003\", \"year\": 2012, \"date\": \"2012-10-05T00:00:00\", \"city\": \"INTRACOASTAL CITY\", \"state\": \"LA\", \"country\": \"USA\", \"total_fatalities\": 1, \"latimes_make\": \"BELL\", \"latimes_model\": \"407\", \"latimes_make_and_model\": \"BELL 407\"}, {\"event_id\": \"20130222X12624\", \"ntsb_make\": \"EUROCOPTER\", \"ntsb_model\": \"AS 350 B2\", \"ntsb_number\": \"CEN13FA174\", \"year\": 2013, \"date\": \"2013-02-22T00:00:00\", \"city\": \"OKLAHOMA CITY\", \"state\": \"OK\", \"country\": \"USA\", \"total_fatalities\": 2, \"latimes_make\": \"AIRBUS\", \"latimes_model\": \"350\", \"latimes_make_and_model\": \"AIRBUS 350\"}, {\"event_id\": \"20131009X50051\", \"ntsb_make\": \"BELL\", \"ntsb_model\": \"206L 3\", \"ntsb_number\": \"CEN14FA004\", \"year\": 2013, \"date\": \"2013-10-09T00:00:00\", \"city\": \"VENICE, LA\", \"state\": \"GM\", \"country\": \"USA\", \"total_fatalities\": 1, \"latimes_make\": \"BELL\", \"latimes_model\": \"206\", \"latimes_make_and_model\": \"BELL 206\"}, {\"event_id\": \"20130331X41252\", \"ntsb_make\": \"EUROCOPTER\", \"ntsb_model\": \"AS350\", \"ntsb_number\": \"ANC13GA036\", \"year\": 2013, \"date\": \"2013-03-30T00:00:00\", \"city\": \"TALKEETNA\", \"state\": \"AK\", \"country\": \"USA\", \"total_fatalities\": 3, \"latimes_make\": \"AIRBUS\", \"latimes_model\": \"350\", \"latimes_make_and_model\": \"AIRBUS 350\"}, {\"event_id\": \"20130525X61706\", \"ntsb_make\": \"ROBINSON HELICOPTER COMPANY\", \"ntsb_model\": \"R44 II\", \"ntsb_number\": \"CEN13FA295\", \"year\": 2013, \"date\": \"2013-05-24T00:00:00\", \"city\": \"CROSS TIMBERS\", \"state\": \"MO\", \"country\": \"USA\", \"total_fatalities\": 2, \"latimes_make\": \"ROBINSON\", \"latimes_model\": \"R44\", \"latimes_make_and_model\": \"ROBINSON R44\"}, {\"event_id\": \"20130102X13158\", \"ntsb_make\": \"BELL\", \"ntsb_model\": \"206\", \"ntsb_number\": \"WPR13FA080\", \"year\": 2013, \"date\": \"2013-01-02T00:00:00\", \"city\": \"DELANO\", \"state\": \"CA\", \"country\": \"USA\", \"total_fatalities\": 1, \"latimes_make\": \"BELL\", \"latimes_model\": \"206\", \"latimes_make_and_model\": \"BELL 206\"}, {\"event_id\": \"20130727X31220\", \"ntsb_make\": \"ROBINSON HELICOPTER COMPANY\", \"ntsb_model\": \"R44 II\", \"ntsb_number\": \"WPR13FA343\", \"year\": 2013, \"date\": \"2013-07-27T00:00:00\", \"city\": \"THOMPSON FALLS\", \"state\": \"MT\", \"country\": \"USA\", \"total_fatalities\": 1, \"latimes_make\": \"ROBINSON\", \"latimes_model\": \"R44\", \"latimes_make_and_model\": \"ROBINSON R44\"}, {\"event_id\": \"20130210X93918\", \"ntsb_make\": \"BELL\", \"ntsb_model\": \"206B\", \"ntsb_number\": \"WPR13FA119\", \"year\": 2013, \"date\": \"2013-02-10T00:00:00\", \"city\": \"ACTON\", \"state\": \"CA\", \"country\": \"USA\", \"total_fatalities\": 3, \"latimes_make\": \"BELL\", \"latimes_model\": \"206\", \"latimes_make_and_model\": \"BELL 206\"}, {\"event_id\": \"20130218X22833\", \"ntsb_make\": \"BELL\", \"ntsb_model\": \"206B\", \"ntsb_number\": \"WPR13GA128\", \"year\": 2013, \"date\": \"2013-02-18T00:00:00\", \"city\": \"EUREKA\", \"state\": \"NV\", \"country\": \"USA\", \"total_fatalities\": 1, \"latimes_make\": \"BELL\", \"latimes_model\": \"206\", \"latimes_make_and_model\": \"BELL 206\"}, {\"event_id\": \"20130427X30522\", \"ntsb_make\": \"BELL\", \"ntsb_model\": \"206B\", \"ntsb_number\": \"WPR13FA208\", \"year\": 2013, \"date\": \"2013-04-27T00:00:00\", \"city\": \"SHEPHERD\", \"state\": \"MT\", \"country\": \"USA\", \"total_fatalities\": 1, \"latimes_make\": \"BELL\", \"latimes_model\": \"206\", \"latimes_make_and_model\": \"BELL 206\"}, {\"event_id\": \"20130607X04715\", \"ntsb_make\": \"BELL HELICOPTER TEXTRON\", \"ntsb_model\": \"206L-1\", \"ntsb_number\": \"ERA13FA273\", \"year\": 2013, \"date\": \"2013-06-06T00:00:00\", \"city\": \"MANCHESTER\", \"state\": \"KY\", \"country\": \"USA\", \"total_fatalities\": 3, \"latimes_make\": \"BELL\", \"latimes_model\": \"206\", \"latimes_make_and_model\": \"BELL 206\"}, {\"event_id\": \"20131022X92949\", \"ntsb_make\": \"EUROCOPTER\", \"ntsb_model\": \"AS 350 B3\", \"ntsb_number\": \"ERA14FA010\", \"year\": 2013, \"date\": \"2013-10-22T00:00:00\", \"city\": \"SOMERVILLE\", \"state\": \"TN\", \"country\": \"USA\", \"total_fatalities\": 3, \"latimes_make\": \"AIRBUS\", \"latimes_model\": \"350\", \"latimes_make_and_model\": \"AIRBUS 350\"}, {\"event_id\": \"20130102X35708\", \"ntsb_make\": \"BELL HELICOPTER\", \"ntsb_model\": \"407\", \"ntsb_number\": \"CEN13FA122\", \"year\": 2013, \"date\": \"2013-01-02T00:00:00\", \"city\": \"CLEAR LAKE\", \"state\": \"IA\", \"country\": \"USA\", \"total_fatalities\": 3, \"latimes_make\": \"BELL\", \"latimes_model\": \"407\", \"latimes_make_and_model\": \"BELL 407\"}, {\"event_id\": \"20130403X65155\", \"ntsb_make\": \"ROBINSON\", \"ntsb_model\": \"R44\", \"ntsb_number\": \"ERA13FA186\", \"year\": 2013, \"date\": \"2013-04-03T00:00:00\", \"city\": \"MIAMI\", \"state\": \"FL\", \"country\": \"USA\", \"total_fatalities\": 2, \"latimes_make\": \"ROBINSON\", \"latimes_model\": \"R44\", \"latimes_make_and_model\": \"ROBINSON R44\"}, {\"event_id\": \"20131007X44153\", \"ntsb_make\": \"MCDONNELL DOUGLAS HELI CO\", \"ntsb_model\": \"369\", \"ntsb_number\": \"WPR14LA008\", \"year\": 2013, \"date\": \"2013-10-06T00:00:00\", \"city\": \"PADUCAH\", \"state\": \"TX\", \"country\": \"USA\", \"total_fatalities\": 1, \"latimes_make\": \"MCDONNELL DOUGLAS\", \"latimes_model\": \"369\", \"latimes_make_and_model\": \"MCDONNELL DOUGLAS 369\"}, {\"event_id\": \"20130831X54252\", \"ntsb_make\": \"ROBINSON\", \"ntsb_model\": \"R44 II\", \"ntsb_number\": \"CEN13FA517\", \"year\": 2013, \"date\": \"2013-08-31T00:00:00\", \"city\": \"CABALLO\", \"state\": \"NM\", \"country\": \"USA\", \"total_fatalities\": 3, \"latimes_make\": \"ROBINSON\", \"latimes_model\": \"R44\", \"latimes_make_and_model\": \"ROBINSON R44\"}, {\"event_id\": \"20130315X34542\", \"ntsb_make\": \"SIKORSKY\", \"ntsb_model\": \"S-76A++\", \"ntsb_number\": \"CEN13FA192\", \"year\": 2013, \"date\": \"2013-03-15T00:00:00\", \"city\": \"GRAND LAKE\", \"state\": \"LA\", \"country\": \"USA\", \"total_fatalities\": 3, \"latimes_make\": \"SIKORSKY\", \"latimes_model\": \"76\", \"latimes_make_and_model\": \"SIKORSKY 76\"}, {\"event_id\": \"20130805X31941\", \"ntsb_make\": \"HUGHES\", \"ntsb_model\": \"369D\", \"ntsb_number\": \"CEN13LA461\", \"year\": 2013, \"date\": \"2013-08-05T00:00:00\", \"city\": \"ACKERLY\", \"state\": \"TX\", \"country\": \"USA\", \"total_fatalities\": 2, \"latimes_make\": \"HUGHES\", \"latimes_model\": \"369\", \"latimes_make_and_model\": \"HUGHES 369\"}, {\"event_id\": \"20130612X12326\", \"ntsb_make\": \"EUROCOPTER\", \"ntsb_model\": \"AS350B2\", \"ntsb_number\": \"CEN13FA344\", \"year\": 2013, \"date\": \"2013-06-11T00:00:00\", \"city\": \"TALIHINA\", \"state\": \"OK\", \"country\": \"USA\", \"total_fatalities\": 1, \"latimes_make\": \"AIRBUS\", \"latimes_model\": \"350\", \"latimes_make_and_model\": \"AIRBUS 350\"}, {\"event_id\": \"20140127X44720\", \"ntsb_make\": \"BELL\", \"ntsb_model\": \"206L 3\", \"ntsb_number\": \"CEN14FA122\", \"year\": 2014, \"date\": \"2014-01-27T00:00:00\", \"city\": \"SILT\", \"state\": \"CO\", \"country\": \"USA\", \"total_fatalities\": 3, \"latimes_make\": \"BELL\", \"latimes_model\": \"206\", \"latimes_make_and_model\": \"BELL 206\"}, {\"event_id\": \"20140523X44003\", \"ntsb_make\": \"ROBINSON HELICOPTER\", \"ntsb_model\": \"R22 BETA\", \"ntsb_number\": \"WPR14FA203\", \"year\": 2014, \"date\": \"2014-05-23T00:00:00\", \"city\": \"SANTA PAULA\", \"state\": \"CA\", \"country\": \"USA\", \"total_fatalities\": 1, \"latimes_make\": \"ROBINSON\", \"latimes_model\": \"R22\", \"latimes_make_and_model\": \"ROBINSON R22\"}, {\"event_id\": \"20140318X21532\", \"ntsb_make\": \"EUROCOPTER\", \"ntsb_model\": \"AS 350 B2\", \"ntsb_number\": \"WPR14FA137\", \"year\": 2014, \"date\": \"2014-03-18T00:00:00\", \"city\": \"SEATTLE\", \"state\": \"WA\", \"country\": \"USA\", \"total_fatalities\": 2, \"latimes_make\": \"AIRBUS\", \"latimes_model\": \"350\", \"latimes_make_and_model\": \"AIRBUS 350\"}, {\"event_id\": \"20140529X73728\", \"ntsb_make\": \"ROBINSON HELICOPTER COMPANY\", \"ntsb_model\": \"R44 II\", \"ntsb_number\": \"ANC14FA030\", \"year\": 2014, \"date\": \"2014-05-28T00:00:00\", \"city\": \"CHUGIAK\", \"state\": \"AK\", \"country\": \"USA\", \"total_fatalities\": 1, \"latimes_make\": \"ROBINSON\", \"latimes_model\": \"R44\", \"latimes_make_and_model\": \"ROBINSON R44\"}, {\"event_id\": \"20140612X31159\", \"ntsb_make\": \"BELL\", \"ntsb_model\": \"206 L4\", \"ntsb_number\": \"CEN14FA286\", \"year\": 2014, \"date\": \"2014-06-11T00:00:00\", \"city\": \"SOUTH TIMBALIER PLATFORM\", \"state\": \"GM\", \"country\": \"USA\", \"total_fatalities\": 2, \"latimes_make\": \"BELL\", \"latimes_model\": \"206\", \"latimes_make_and_model\": \"BELL 206\"}, {\"event_id\": \"20150101X15630\", \"ntsb_make\": \"BELL\", \"ntsb_model\": \"206\", \"ntsb_number\": \"WPR15FA072\", \"year\": 2014, \"date\": \"2014-12-31T00:00:00\", \"city\": \"BENSON\", \"state\": \"AZ\", \"country\": \"USA\", \"total_fatalities\": 2, \"latimes_make\": \"BELL\", \"latimes_model\": \"206\", \"latimes_make_and_model\": \"BELL 206\"}, {\"event_id\": \"20140819X50947\", \"ntsb_make\": \"MCDONNELL DOUGLAS HELICOPTER\", \"ntsb_model\": \"369E\", \"ntsb_number\": \"ERA14FA396\", \"year\": 2014, \"date\": \"2014-08-19T00:00:00\", \"city\": \"NORTHPORT\", \"state\": \"AL\", \"country\": \"USA\", \"total_fatalities\": 2, \"latimes_make\": \"MCDONNELL DOUGLAS\", \"latimes_model\": \"369\", \"latimes_make_and_model\": \"MCDONNELL DOUGLAS 369\"}, {\"event_id\": \"20140407X83620\", \"ntsb_make\": \"ROBINSON HELICOPTER\", \"ntsb_model\": \"R22 BETA\", \"ntsb_number\": \"WPR14FA158\", \"year\": 2014, \"date\": \"2014-04-06T00:00:00\", \"city\": \"GREEN RIVER\", \"state\": \"UT\", \"country\": \"USA\", \"total_fatalities\": 2, \"latimes_make\": \"ROBINSON\", \"latimes_model\": \"R22\", \"latimes_make_and_model\": \"ROBINSON R22\"}, {\"event_id\": \"20140208X05221\", \"ntsb_make\": \"ROBINSON HELICOPTER COMPANY\", \"ntsb_model\": \"R44 II\", \"ntsb_number\": \"ERA14FA115\", \"year\": 2014, \"date\": \"2014-02-08T00:00:00\", \"city\": \"PANACEA\", \"state\": \"FL\", \"country\": \"USA\", \"total_fatalities\": 2, \"latimes_make\": \"ROBINSON\", \"latimes_model\": \"R44\", \"latimes_make_and_model\": \"ROBINSON R44\"}, {\"event_id\": \"20141023X01333\", \"ntsb_make\": \"ROBINSON HELICOPTER COMPANY\", \"ntsb_model\": \"R44 II\", \"ntsb_number\": \"ERA15FA025\", \"year\": 2014, \"date\": \"2014-10-23T00:00:00\", \"city\": \"FREDERICK\", \"state\": \"MD\", \"country\": \"USA\", \"total_fatalities\": 3, \"latimes_make\": \"ROBINSON\", \"latimes_model\": \"R44\", \"latimes_make_and_model\": \"ROBINSON R44\"}, {\"event_id\": \"20140518X03315\", \"ntsb_make\": \"AMERICAN EUROCOPTER CORP\", \"ntsb_model\": \"AS350B3\", \"ntsb_number\": \"WPR14FA195\", \"year\": 2014, \"date\": \"2014-05-18T00:00:00\", \"city\": \"PEACH SPRINGS\", \"state\": \"AZ\", \"country\": \"USA\", \"total_fatalities\": 1, \"latimes_make\": \"AIRBUS\", \"latimes_model\": \"350\", \"latimes_make_and_model\": \"AIRBUS 350\"}, {\"event_id\": \"20140723X81618\", \"ntsb_make\": \"BELL\", \"ntsb_model\": \"206A\", \"ntsb_number\": \"WPR14FA310\", \"year\": 2014, \"date\": \"2014-07-23T00:00:00\", \"city\": \"WENATCHEE\", \"state\": \"WA\", \"country\": \"USA\", \"total_fatalities\": 1, \"latimes_make\": \"BELL\", \"latimes_model\": \"206\", \"latimes_make_and_model\": \"BELL 206\"}, {\"event_id\": \"20141202X73240\", \"ntsb_make\": \"ROBINSON HELICOPTER COMPANY\", \"ntsb_model\": \"R44\", \"ntsb_number\": \"WPR15FA051\", \"year\": 2014, \"date\": \"2014-12-02T00:00:00\", \"city\": \"BOUNTIFUL\", \"state\": \"UT\", \"country\": \"USA\", \"total_fatalities\": 2, \"latimes_make\": \"ROBINSON\", \"latimes_model\": \"R44\", \"latimes_make_and_model\": \"ROBINSON R44\"}, {\"event_id\": \"20141229X15321\", \"ntsb_make\": \"ROBINSON HELICOPTER\", \"ntsb_model\": \"R22 BETA\", \"ntsb_number\": \"ERA15FA085\", \"year\": 2014, \"date\": \"2014-12-29T00:00:00\", \"city\": \"LAKE WORTH\", \"state\": \"FL\", \"country\": \"USA\", \"total_fatalities\": 1, \"latimes_make\": \"ROBINSON\", \"latimes_model\": \"R22\", \"latimes_make_and_model\": \"ROBINSON R22\"}, {\"event_id\": \"20141004X60516\", \"ntsb_make\": \"BELL HELICOPTER TEXTRON\", \"ntsb_model\": \"206L 1\", \"ntsb_number\": \"CEN15FA003\", \"year\": 2014, \"date\": \"2014-10-04T00:00:00\", \"city\": \"WICHITA FALLS\", \"state\": \"TX\", \"country\": \"USA\", \"total_fatalities\": 3, \"latimes_make\": \"BELL\", \"latimes_model\": \"206\", \"latimes_make_and_model\": \"BELL 206\"}, {\"event_id\": \"20140908X10448\", \"ntsb_make\": \"ROBINSON HELICOPTER COMPANY\", \"ntsb_model\": \"R44 II\", \"ntsb_number\": \"CEN14LA487\", \"year\": 2014, \"date\": \"2014-09-06T00:00:00\", \"city\": \"MACEDONIA\", \"state\": \"IA\", \"country\": \"USA\", \"total_fatalities\": 1, \"latimes_make\": \"ROBINSON\", \"latimes_model\": \"R44\", \"latimes_make_and_model\": \"ROBINSON R44\"}, {\"event_id\": \"20140717X70001\", \"ntsb_make\": \"AGUSTA SPA\", \"ntsb_model\": \"A109E\", \"ntsb_number\": \"CEN14FA369\", \"year\": 2014, \"date\": \"2014-07-17T00:00:00\", \"city\": \"NEWKIRK\", \"state\": \"NM\", \"country\": \"USA\", \"total_fatalities\": 3, \"latimes_make\": \"AGUSTA\", \"latimes_model\": \"109\", \"latimes_make_and_model\": \"AGUSTA 109\"}, {\"event_id\": \"20150110X10017\", \"ntsb_make\": \"ROBINSON HELICOPTER\", \"ntsb_model\": \"R22 BETA\", \"ntsb_number\": \"ERA15FA096\", \"year\": 2015, \"date\": \"2015-01-10T00:00:00\", \"city\": \"CATANO\", \"state\": \"PR\", \"country\": \"USA\", \"total_fatalities\": 1, \"latimes_make\": \"ROBINSON\", \"latimes_model\": \"R22\", \"latimes_make_and_model\": \"ROBINSON R22\"}, {\"event_id\": \"20150703X00859\", \"ntsb_make\": \"AIRBUS HELICOPTERS INC\", \"ntsb_model\": \"AS350B3E\", \"ntsb_number\": \"CEN15MA290\", \"year\": 2015, \"date\": \"2015-07-03T00:00:00\", \"city\": \"FRISCO\", \"state\": \"CO\", \"country\": \"USA\", \"total_fatalities\": 1, \"latimes_make\": \"AIRBUS\", \"latimes_model\": \"350\", \"latimes_make_and_model\": \"AIRBUS 350\"}, {\"event_id\": \"20150308X10201\", \"ntsb_make\": \"AIRBUS HELICOPTERS (EUROCOPTE\", \"ntsb_model\": \"EC-130-B4\", \"ntsb_number\": \"CEN15FA164\", \"year\": 2015, \"date\": \"2015-03-06T00:00:00\", \"city\": \"ST LOUIS\", \"state\": \"MO\", \"country\": \"USA\", \"total_fatalities\": 1, \"latimes_make\": \"AIRBUS\", \"latimes_model\": \"130\", \"latimes_make_and_model\": \"AIRBUS 130\"}, {\"event_id\": \"20150330X73700\", \"ntsb_make\": \"BELL HELICOPTER TEXTRON\", \"ntsb_model\": \"206 L-1\", \"ntsb_number\": \"ERA15FA173\", \"year\": 2015, \"date\": \"2015-03-30T00:00:00\", \"city\": \"SAUCIER\", \"state\": \"MS\", \"country\": \"USA\", \"total_fatalities\": 2, \"latimes_make\": \"BELL\", \"latimes_model\": \"206\", \"latimes_make_and_model\": \"BELL 206\"}, {\"event_id\": \"20150702X24434\", \"ntsb_make\": \"SCHWEIZER\", \"ntsb_model\": \"269C\", \"ntsb_number\": \"WPR15FA205\", \"year\": 2015, \"date\": \"2015-07-01T00:00:00\", \"city\": \"NEWBERG\", \"state\": \"OR\", \"country\": \"USA\", \"total_fatalities\": 2, \"latimes_make\": \"SCHWEIZER\", \"latimes_model\": \"269\", \"latimes_make_and_model\": \"SCHWEIZER 269\"}, {\"event_id\": \"20150313X72113\", \"ntsb_make\": \"EUROCOPTER\", \"ntsb_model\": \"AS 350 B2\", \"ntsb_number\": \"CEN15FA171\", \"year\": 2015, \"date\": \"2015-03-12T00:00:00\", \"city\": \"EUFAULA\", \"state\": \"OK\", \"country\": \"USA\", \"total_fatalities\": 1, \"latimes_make\": \"AIRBUS\", \"latimes_model\": \"350\", \"latimes_make_and_model\": \"AIRBUS 350\"}, {\"event_id\": \"20151211X13514\", \"ntsb_make\": \"BELL\", \"ntsb_model\": \"407\", \"ntsb_number\": \"WPR16FA037\", \"year\": 2015, \"date\": \"2015-12-10T00:00:00\", \"city\": \"MCFARLAND\", \"state\": \"CA\", \"country\": \"USA\", \"total_fatalities\": 4, \"latimes_make\": \"BELL\", \"latimes_model\": \"407\", \"latimes_make_and_model\": \"BELL 407\"}, {\"event_id\": \"20150322X92548\", \"ntsb_make\": \"ROBINSON HELICOPTER COMPANY\", \"ntsb_model\": \"R44 II\", \"ntsb_number\": \"ERA15FA164\", \"year\": 2015, \"date\": \"2015-03-22T00:00:00\", \"city\": \"ORLANDO\", \"state\": \"FL\", \"country\": \"USA\", \"total_fatalities\": 3, \"latimes_make\": \"ROBINSON\", \"latimes_model\": \"R44\", \"latimes_make_and_model\": \"ROBINSON R44\"}, {\"event_id\": \"20151216X13718\", \"ntsb_make\": \"AIRBUS HELICOPTERS\", \"ntsb_model\": \"AS350\", \"ntsb_number\": \"WPR16FA040\", \"year\": 2015, \"date\": \"2015-12-15T00:00:00\", \"city\": \"SUPERIOR\", \"state\": \"AZ\", \"country\": \"USA\", \"total_fatalities\": 2, \"latimes_make\": \"AIRBUS\", \"latimes_model\": \"350\", \"latimes_make_and_model\": \"AIRBUS 350\"}, {\"event_id\": \"20150407X12857\", \"ntsb_make\": \"HUGHES\", \"ntsb_model\": \"369D\", \"ntsb_number\": \"ERA15FA178\", \"year\": 2015, \"date\": \"2015-04-06T00:00:00\", \"city\": \"CHEROKEE\", \"state\": \"AL\", \"country\": \"USA\", \"total_fatalities\": 1, \"latimes_make\": \"HUGHES\", \"latimes_model\": \"369\", \"latimes_make_and_model\": \"HUGHES 369\"}, {\"event_id\": \"20151118X05037\", \"ntsb_make\": \"AIRBUS HELICOPTERS\", \"ntsb_model\": \"AS350B3E\", \"ntsb_number\": \"WPR16FA029\", \"year\": 2015, \"date\": \"2015-11-18T00:00:00\", \"city\": \"CARLSBAD\", \"state\": \"CA\", \"country\": \"USA\", \"total_fatalities\": 2, \"latimes_make\": \"AIRBUS\", \"latimes_model\": \"350\", \"latimes_make_and_model\": \"AIRBUS 350\"}, {\"event_id\": \"20161116X00108\", \"ntsb_make\": \"HUGHES\", \"ntsb_model\": \"369D/500D\", \"ntsb_number\": \"WPR17FA021\", \"year\": 2016, \"date\": \"2016-11-15T00:00:00\", \"city\": \"PUKOO\", \"state\": \"HI\", \"country\": \"USA\", \"total_fatalities\": 2, \"latimes_make\": \"HUGHES\", \"latimes_model\": \"369\", \"latimes_make_and_model\": \"HUGHES 369\"}, {\"event_id\": \"20160326X80544\", \"ntsb_make\": \"EUROCOPTER\", \"ntsb_model\": \"AS 350 B2\", \"ntsb_number\": \"ERA16FA140\", \"year\": 2016, \"date\": \"2016-03-26T00:00:00\", \"city\": \"ENTERPRISE\", \"state\": \"AL\", \"country\": \"USA\", \"total_fatalities\": 4, \"latimes_make\": \"AIRBUS\", \"latimes_model\": \"350\", \"latimes_make_and_model\": \"AIRBUS 350\"}, {\"event_id\": \"20160504X30424\", \"ntsb_make\": \"MCDONNELL DOUGLAS HELICOPTER\", \"ntsb_model\": \"369E\", \"ntsb_number\": \"CEN16FA171\", \"year\": 2016, \"date\": \"2016-05-04T00:00:00\", \"city\": \"REEDSVILLE\", \"state\": \"WI\", \"country\": \"USA\", \"total_fatalities\": 1, \"latimes_make\": \"MCDONNELL DOUGLAS\", \"latimes_model\": \"369\", \"latimes_make_and_model\": \"MCDONNELL DOUGLAS 369\"}, {\"event_id\": \"20160328X03918\", \"ntsb_make\": \"ROBINSON\", \"ntsb_model\": \"R44\", \"ntsb_number\": \"ERA16FA143\", \"year\": 2016, \"date\": \"2016-03-27T00:00:00\", \"city\": \"CANADENSIS\", \"state\": \"PA\", \"country\": \"USA\", \"total_fatalities\": 1, \"latimes_make\": \"ROBINSON\", \"latimes_model\": \"R44\", \"latimes_make_and_model\": \"ROBINSON R44\"}, {\"event_id\": \"20160218X71040\", \"ntsb_make\": \"BELL\", \"ntsb_model\": \"206B\", \"ntsb_number\": \"WPR16FA072\", \"year\": 2016, \"date\": \"2016-02-18T00:00:00\", \"city\": \"HONOLULU\", \"state\": \"HI\", \"country\": \"USA\", \"total_fatalities\": 1, \"latimes_make\": \"BELL\", \"latimes_model\": \"206\", \"latimes_make_and_model\": \"BELL 206\"}, {\"event_id\": \"20160711X32921\", \"ntsb_make\": \"BELL HELICOPTER TEXTRON CANADA\", \"ntsb_model\": \"407\", \"ntsb_number\": \"ERA16FA248\", \"year\": 2016, \"date\": \"2016-07-11T00:00:00\", \"city\": \"HICKORY\", \"state\": \"KY\", \"country\": \"USA\", \"total_fatalities\": 1, \"latimes_make\": \"BELL\", \"latimes_model\": \"407\", \"latimes_make_and_model\": \"BELL 407\"}, {\"event_id\": \"20160804X45514\", \"ntsb_make\": \"SCHWEIZER\", \"ntsb_model\": \"269C 1\", \"ntsb_number\": \"CEN16FA304\", \"year\": 2016, \"date\": \"2016-08-03T00:00:00\", \"city\": \"JEANERETTE\", \"state\": \"LA\", \"country\": \"USA\", \"total_fatalities\": 1, \"latimes_make\": \"SCHWEIZER\", \"latimes_model\": \"269\", \"latimes_make_and_model\": \"SCHWEIZER 269\"}, {\"event_id\": \"20160404X74644\", \"ntsb_make\": \"BELL\", \"ntsb_model\": \"206\", \"ntsb_number\": \"ERA16FA144\", \"year\": 2016, \"date\": \"2016-04-04T00:00:00\", \"city\": \"PIGEON FORGE\", \"state\": \"TN\", \"country\": \"USA\", \"total_fatalities\": 5, \"latimes_make\": \"BELL\", \"latimes_model\": \"206\", \"latimes_make_and_model\": \"BELL 206\"}, {\"event_id\": \"20160507X31120\", \"ntsb_make\": \"AIRBUS\", \"ntsb_model\": \"AS350\", \"ntsb_number\": \"ANC16FA023\", \"year\": 2016, \"date\": \"2016-05-06T00:00:00\", \"city\": \"SKAGWAY\", \"state\": \"AK\", \"country\": \"USA\", \"total_fatalities\": 1, \"latimes_make\": \"AIRBUS\", \"latimes_model\": \"350\", \"latimes_make_and_model\": \"AIRBUS 350\"}, {\"event_id\": \"20160612X85856\", \"ntsb_make\": \"ROBINSON HELICOPTER COMPANY\", \"ntsb_model\": \"R44 II\", \"ntsb_number\": \"CEN16FA215\", \"year\": 2016, \"date\": \"2016-06-12T00:00:00\", \"city\": \"JONESBORO\", \"state\": \"AR\", \"country\": \"USA\", \"total_fatalities\": 1, \"latimes_make\": \"ROBINSON\", \"latimes_model\": \"R44\", \"latimes_make_and_model\": \"ROBINSON R44\"}]}}, {\"mode\": \"vega-lite\"});\n",
       "</script>"
      ],
      "text/plain": [
       "alt.Chart(...)"
      ]
     },
     "execution_count": 80,
     "metadata": {},
     "output_type": "execute_result"
    }
   ],
   "source": [
    "alt.Chart(accident_list).mark_bar().encode(\n",
    "  x=\"date\",\n",
    "  y=\"total_fatalities\"\n",
    ")"
   ]
  },
  {
   "cell_type": "code",
   "execution_count": 81,
   "id": "a493f897-5829-4014-9006-7cc364b78ecd",
   "metadata": {},
   "outputs": [
    {
     "data": {
      "text/html": [
       "\n",
       "<div id=\"altair-viz-06c294c3c49f4c38acf7cfe773f1f32f\"></div>\n",
       "<script type=\"text/javascript\">\n",
       "  var VEGA_DEBUG = (typeof VEGA_DEBUG == \"undefined\") ? {} : VEGA_DEBUG;\n",
       "  (function(spec, embedOpt){\n",
       "    let outputDiv = document.currentScript.previousElementSibling;\n",
       "    if (outputDiv.id !== \"altair-viz-06c294c3c49f4c38acf7cfe773f1f32f\") {\n",
       "      outputDiv = document.getElementById(\"altair-viz-06c294c3c49f4c38acf7cfe773f1f32f\");\n",
       "    }\n",
       "    const paths = {\n",
       "      \"vega\": \"https://cdn.jsdelivr.net/npm//vega@5?noext\",\n",
       "      \"vega-lib\": \"https://cdn.jsdelivr.net/npm//vega-lib?noext\",\n",
       "      \"vega-lite\": \"https://cdn.jsdelivr.net/npm//vega-lite@4.17.0?noext\",\n",
       "      \"vega-embed\": \"https://cdn.jsdelivr.net/npm//vega-embed@6?noext\",\n",
       "    };\n",
       "\n",
       "    function maybeLoadScript(lib, version) {\n",
       "      var key = `${lib.replace(\"-\", \"\")}_version`;\n",
       "      return (VEGA_DEBUG[key] == version) ?\n",
       "        Promise.resolve(paths[lib]) :\n",
       "        new Promise(function(resolve, reject) {\n",
       "          var s = document.createElement('script');\n",
       "          document.getElementsByTagName(\"head\")[0].appendChild(s);\n",
       "          s.async = true;\n",
       "          s.onload = () => {\n",
       "            VEGA_DEBUG[key] = version;\n",
       "            return resolve(paths[lib]);\n",
       "          };\n",
       "          s.onerror = () => reject(`Error loading script: ${paths[lib]}`);\n",
       "          s.src = paths[lib];\n",
       "        });\n",
       "    }\n",
       "\n",
       "    function showError(err) {\n",
       "      outputDiv.innerHTML = `<div class=\"error\" style=\"color:red;\">${err}</div>`;\n",
       "      throw err;\n",
       "    }\n",
       "\n",
       "    function displayChart(vegaEmbed) {\n",
       "      vegaEmbed(outputDiv, spec, embedOpt)\n",
       "        .catch(err => showError(`Javascript Error: ${err.message}<br>This usually means there's a typo in your chart specification. See the javascript console for the full traceback.`));\n",
       "    }\n",
       "\n",
       "    if(typeof define === \"function\" && define.amd) {\n",
       "      requirejs.config({paths});\n",
       "      require([\"vega-embed\"], displayChart, err => showError(`Error loading script: ${err.message}`));\n",
       "    } else {\n",
       "      maybeLoadScript(\"vega\", \"5\")\n",
       "        .then(() => maybeLoadScript(\"vega-lite\", \"4.17.0\"))\n",
       "        .then(() => maybeLoadScript(\"vega-embed\", \"6\"))\n",
       "        .catch(showError)\n",
       "        .then(() => displayChart(vegaEmbed));\n",
       "    }\n",
       "  })({\"config\": {\"view\": {\"continuousWidth\": 400, \"continuousHeight\": 300}}, \"data\": {\"name\": \"data-49d7b582b842daa784cce4db1dfe2d51\"}, \"mark\": \"bar\", \"encoding\": {\"x\": {\"field\": \"date\", \"type\": \"temporal\"}, \"y\": {\"aggregate\": \"sum\", \"field\": \"total_fatalities\", \"type\": \"quantitative\"}}, \"$schema\": \"https://vega.github.io/schema/vega-lite/v4.17.0.json\", \"datasets\": {\"data-49d7b582b842daa784cce4db1dfe2d51\": [{\"event_id\": \"20061222X01838\", \"ntsb_make\": \"BELL\", \"ntsb_model\": \"407\", \"ntsb_number\": \"NYC07FA048\", \"year\": 2006, \"date\": \"2006-12-14T00:00:00\", \"city\": \"DAGSBORO\", \"state\": \"DE\", \"country\": \"USA\", \"total_fatalities\": 2, \"latimes_make\": \"BELL\", \"latimes_model\": \"407\", \"latimes_make_and_model\": \"BELL 407\"}, {\"event_id\": \"20060817X01187\", \"ntsb_make\": \"ROBINSON\", \"ntsb_model\": \"R22 BETA\", \"ntsb_number\": \"LAX06LA257\", \"year\": 2006, \"date\": \"2006-08-10T00:00:00\", \"city\": \"TUCSON\", \"state\": \"AZ\", \"country\": \"USA\", \"total_fatalities\": 1, \"latimes_make\": \"ROBINSON\", \"latimes_model\": \"R22\", \"latimes_make_and_model\": \"ROBINSON R22\"}, {\"event_id\": \"20060111X00044\", \"ntsb_make\": \"ROBINSON\", \"ntsb_model\": \"R44\", \"ntsb_number\": \"MIA06FA039\", \"year\": 2006, \"date\": \"2006-01-01T00:00:00\", \"city\": \"GRAND RIDGE\", \"state\": \"FL\", \"country\": \"USA\", \"total_fatalities\": 3, \"latimes_make\": \"ROBINSON\", \"latimes_model\": \"R44\", \"latimes_make_and_model\": \"ROBINSON R44\"}, {\"event_id\": \"20060419X00461\", \"ntsb_make\": \"ROBINSON\", \"ntsb_model\": \"R44 II\", \"ntsb_number\": \"DFW06FA102\", \"year\": 2006, \"date\": \"2006-04-13T00:00:00\", \"city\": \"FREDERICKSBURG\", \"state\": \"TX\", \"country\": \"USA\", \"total_fatalities\": 2, \"latimes_make\": \"ROBINSON\", \"latimes_model\": \"R44\", \"latimes_make_and_model\": \"ROBINSON R44\"}, {\"event_id\": \"20060208X00181\", \"ntsb_make\": \"ROBINSON\", \"ntsb_model\": \"R44\", \"ntsb_number\": \"SEA06LA052\", \"year\": 2006, \"date\": \"2006-02-06T00:00:00\", \"city\": \"HELENA\", \"state\": \"MT\", \"country\": \"USA\", \"total_fatalities\": 1, \"latimes_make\": \"ROBINSON\", \"latimes_model\": \"R44\", \"latimes_make_and_model\": \"ROBINSON R44\"}, {\"event_id\": \"20060228X00255\", \"ntsb_make\": \"ROBINSON\", \"ntsb_model\": \"R22\", \"ntsb_number\": \"ANC06FA020\", \"year\": 2006, \"date\": \"2006-02-22T00:00:00\", \"city\": \"SCOTTSDALE\", \"state\": \"AZ\", \"country\": \"USA\", \"total_fatalities\": 2, \"latimes_make\": \"ROBINSON\", \"latimes_model\": \"R22\", \"latimes_make_and_model\": \"ROBINSON R22\"}, {\"event_id\": \"20060824X01237\", \"ntsb_make\": \"EUROCOPTER\", \"ntsb_model\": \"AS-350-B3\", \"ntsb_number\": \"SEA06GA158\", \"year\": 2006, \"date\": \"2006-08-13T00:00:00\", \"city\": \"YELLOW PINE\", \"state\": \"ID\", \"country\": \"USA\", \"total_fatalities\": 4, \"latimes_make\": \"AIRBUS\", \"latimes_model\": \"350\", \"latimes_make_and_model\": \"AIRBUS 350\"}, {\"event_id\": \"20060916X01352\", \"ntsb_make\": \"HUGHES\", \"ntsb_model\": \"369D\", \"ntsb_number\": \"LAX06LA288\", \"year\": 2006, \"date\": \"2006-09-06T00:00:00\", \"city\": \"SOMIS\", \"state\": \"CA\", \"country\": \"USA\", \"total_fatalities\": 2, \"latimes_make\": \"HUGHES\", \"latimes_model\": \"369\", \"latimes_make_and_model\": \"HUGHES 369\"}, {\"event_id\": \"20061122X01705\", \"ntsb_make\": \"HUGHES\", \"ntsb_model\": \"369E\", \"ntsb_number\": \"SEA07LA021\", \"year\": 2006, \"date\": \"2006-11-21T00:00:00\", \"city\": \"JENSEN\", \"state\": \"UT\", \"country\": \"USA\", \"total_fatalities\": 1, \"latimes_make\": \"HUGHES\", \"latimes_model\": \"369\", \"latimes_make_and_model\": \"HUGHES 369\"}, {\"event_id\": \"20060306X00268\", \"ntsb_make\": \"SCHWEIZER\", \"ntsb_model\": \"269C-1\", \"ntsb_number\": \"LAX06LA123\", \"year\": 2006, \"date\": \"2006-02-25T00:00:00\", \"city\": \"VALENCIA\", \"state\": \"CA\", \"country\": \"USA\", \"total_fatalities\": 1, \"latimes_make\": \"SCHWEIZER\", \"latimes_model\": \"269\", \"latimes_make_and_model\": \"SCHWEIZER 269\"}, {\"event_id\": \"20060607X00691\", \"ntsb_make\": \"EUROCOPTER\", \"ntsb_model\": \"EC-135P1\", \"ntsb_number\": \"NYC06MA131\", \"year\": 2006, \"date\": \"2006-05-30T00:00:00\", \"city\": \"WASHINGTON\", \"state\": \"DC\", \"country\": \"USA\", \"total_fatalities\": 1, \"latimes_make\": \"AIRBUS\", \"latimes_model\": \"135\", \"latimes_make_and_model\": \"AIRBUS 135\"}, {\"event_id\": \"20060419X00457\", \"ntsb_make\": \"ROBINSON\", \"ntsb_model\": \"R22 BETA\", \"ntsb_number\": \"CHI06FA109\", \"year\": 2006, \"date\": \"2006-04-13T00:00:00\", \"city\": \"CHELSEA\", \"state\": \"MI\", \"country\": \"USA\", \"total_fatalities\": 2, \"latimes_make\": \"ROBINSON\", \"latimes_model\": \"R22\", \"latimes_make_and_model\": \"ROBINSON R22\"}, {\"event_id\": \"20060705X00868\", \"ntsb_make\": \"BELL\", \"ntsb_model\": \"206B\", \"ntsb_number\": \"CHI06FA173\", \"year\": 2006, \"date\": \"2006-06-30T00:00:00\", \"city\": \"WALFORD\", \"state\": \"IA\", \"country\": \"USA\", \"total_fatalities\": 1, \"latimes_make\": \"BELL\", \"latimes_model\": \"206\", \"latimes_make_and_model\": \"BELL 206\"}, {\"event_id\": \"20060817X01202\", \"ntsb_make\": \"ROBINSON\", \"ntsb_model\": \"R44 II\", \"ntsb_number\": \"SEA06FA159\", \"year\": 2006, \"date\": \"2006-08-13T00:00:00\", \"city\": \"WARRENTON\", \"state\": \"OR\", \"country\": \"USA\", \"total_fatalities\": 3, \"latimes_make\": \"ROBINSON\", \"latimes_model\": \"R44\", \"latimes_make_and_model\": \"ROBINSON R44\"}, {\"event_id\": \"20060320X00323\", \"ntsb_make\": \"BELL\", \"ntsb_model\": \"206L-1\", \"ntsb_number\": \"DFW06FA083\", \"year\": 2006, \"date\": \"2006-03-14T00:00:00\", \"city\": \"PATTERSON\", \"state\": \"LA\", \"country\": \"USA\", \"total_fatalities\": 2, \"latimes_make\": \"BELL\", \"latimes_model\": \"206\", \"latimes_make_and_model\": \"BELL 206\"}, {\"event_id\": \"20060209X00187\", \"ntsb_make\": \"ROBINSON\", \"ntsb_model\": \"R44 II\", \"ntsb_number\": \"LAX06FA104\", \"year\": 2006, \"date\": \"2006-02-07T00:00:00\", \"city\": \"MINDEN\", \"state\": \"NV\", \"country\": \"USA\", \"total_fatalities\": 1, \"latimes_make\": \"ROBINSON\", \"latimes_model\": \"R44\", \"latimes_make_and_model\": \"ROBINSON R44\"}, {\"event_id\": \"20060510X00540\", \"ntsb_make\": \"ROBINSON\", \"ntsb_model\": \"R44 RAVEN II\", \"ntsb_number\": \"LAX06FA156\", \"year\": 2006, \"date\": \"2006-05-01T00:00:00\", \"city\": \"DESERT CENTER\", \"state\": \"CA\", \"country\": \"USA\", \"total_fatalities\": 2, \"latimes_make\": \"ROBINSON\", \"latimes_model\": \"R44\", \"latimes_make_and_model\": \"ROBINSON R44\"}, {\"event_id\": \"20060905X01290\", \"ntsb_make\": \"EUROCOPTER FRANCE\", \"ntsb_model\": \"AS350 B2\", \"ntsb_number\": \"ANC06GA121\", \"year\": 2006, \"date\": \"2006-08-21T00:00:00\", \"city\": \"NUIQSUT\", \"state\": \"AK\", \"country\": \"USA\", \"total_fatalities\": 1, \"latimes_make\": \"AIRBUS\", \"latimes_model\": \"350\", \"latimes_make_and_model\": \"AIRBUS 350\"}, {\"event_id\": \"20061012X01505\", \"ntsb_make\": \"ROBINSON\", \"ntsb_model\": \"R44\", \"ntsb_number\": \"SEA07FA006\", \"year\": 2006, \"date\": \"2006-10-08T00:00:00\", \"city\": \"SUMNER\", \"state\": \"WA\", \"country\": \"USA\", \"total_fatalities\": 1, \"latimes_make\": \"ROBINSON\", \"latimes_model\": \"R44\", \"latimes_make_and_model\": \"ROBINSON R44\"}, {\"event_id\": \"20060605X00682\", \"ntsb_make\": \"BELL\", \"ntsb_model\": \"206L-3\", \"ntsb_number\": \"DFW06IA145\", \"year\": 2006, \"date\": \"2006-05-30T00:00:00\", \"city\": \"GRAND ISLE 43AA\", \"state\": \"GM\", \"country\": \"USA\", \"total_fatalities\": 1, \"latimes_make\": \"BELL\", \"latimes_model\": \"206\", \"latimes_make_and_model\": \"BELL 206\"}, {\"event_id\": \"20070612X00715\", \"ntsb_make\": \"HUGHES\", \"ntsb_model\": \"369D\", \"ntsb_number\": \"SEA07LA135\", \"year\": 2007, \"date\": \"2007-05-28T00:00:00\", \"city\": \"COLUMBUS\", \"state\": \"MT\", \"country\": \"USA\", \"total_fatalities\": 1, \"latimes_make\": \"HUGHES\", \"latimes_model\": \"369\", \"latimes_make_and_model\": \"HUGHES 369\"}, {\"event_id\": \"20070605X00681\", \"ntsb_make\": \"HUGHES\", \"ntsb_model\": \"369A\", \"ntsb_number\": \"MIA07FA098\", \"year\": 2007, \"date\": \"2007-05-13T00:00:00\", \"city\": \"MOULTON\", \"state\": \"AL\", \"country\": \"USA\", \"total_fatalities\": 1, \"latimes_make\": \"HUGHES\", \"latimes_model\": \"369\", \"latimes_make_and_model\": \"HUGHES 369\"}, {\"event_id\": \"20071119X01805\", \"ntsb_make\": \"ROBINSON HELICOPTER\", \"ntsb_model\": \"R44\", \"ntsb_number\": \"NYC08FA026\", \"year\": 2007, \"date\": \"2007-11-05T00:00:00\", \"city\": \"JAMESTOWN\", \"state\": \"TN\", \"country\": \"USA\", \"total_fatalities\": 3, \"latimes_make\": \"ROBINSON\", \"latimes_model\": \"R44\", \"latimes_make_and_model\": \"ROBINSON R44\"}, {\"event_id\": \"20070430X00482\", \"ntsb_make\": \"ROBINSON HELICOPTER COMPANY\", \"ntsb_model\": \"R44 II\", \"ntsb_number\": \"CHI07FA114\", \"year\": 2007, \"date\": \"2007-04-22T00:00:00\", \"city\": \"BASS LAKE\", \"state\": \"IN\", \"country\": \"USA\", \"total_fatalities\": 2, \"latimes_make\": \"ROBINSON\", \"latimes_model\": \"R44\", \"latimes_make_and_model\": \"ROBINSON R44\"}, {\"event_id\": \"20070322X00320\", \"ntsb_make\": \"MCDONNELL DOUGLAS\", \"ntsb_model\": \"369FF\", \"ntsb_number\": \"CHI07MA083\", \"year\": 2007, \"date\": \"2007-03-11T00:00:00\", \"city\": \"HAENA\", \"state\": \"HI\", \"country\": \"USA\", \"total_fatalities\": 1, \"latimes_make\": \"MCDONNELL DOUGLAS\", \"latimes_model\": \"369\", \"latimes_make_and_model\": \"MCDONNELL DOUGLAS 369\"}, {\"event_id\": \"20071231X02014\", \"ntsb_make\": \"BELL\", \"ntsb_model\": \"206L1\", \"ntsb_number\": \"DFW08FA053\", \"year\": 2007, \"date\": \"2007-12-29T00:00:00\", \"city\": \"VENICE\", \"state\": \"LA\", \"country\": \"USA\", \"total_fatalities\": 1, \"latimes_make\": \"BELL\", \"latimes_model\": \"206\", \"latimes_make_and_model\": \"BELL 206\"}, {\"event_id\": \"20070530X00664\", \"ntsb_make\": \"EUROCOPTER\", \"ntsb_model\": \"AS 350 B3\", \"ntsb_number\": \"DFW07GA119\", \"year\": 2007, \"date\": \"2007-05-22T00:00:00\", \"city\": \"SAN ELIZARIO\", \"state\": \"TX\", \"country\": \"USA\", \"total_fatalities\": 1, \"latimes_make\": \"AIRBUS\", \"latimes_model\": \"350\", \"latimes_make_and_model\": \"AIRBUS 350\"}, {\"event_id\": \"20070405X00374\", \"ntsb_make\": \"ROBINSON\", \"ntsb_model\": \"R44 II\", \"ntsb_number\": \"DEN07FA079\", \"year\": 2007, \"date\": \"2007-03-27T00:00:00\", \"city\": \"PONTE VEDRA BCH\", \"state\": \"FL\", \"country\": \"USA\", \"total_fatalities\": 2, \"latimes_make\": \"ROBINSON\", \"latimes_model\": \"R44\", \"latimes_make_and_model\": \"ROBINSON R44\"}, {\"event_id\": \"20070321X00315\", \"ntsb_make\": \"AEROSPATIALE\", \"ntsb_model\": \"AS350BA\", \"ntsb_number\": \"NYC07MA073\", \"year\": 2007, \"date\": \"2007-03-08T00:00:00\", \"city\": \"PRINCEVILLE\", \"state\": \"HI\", \"country\": \"USA\", \"total_fatalities\": 4, \"latimes_make\": \"AIRBUS\", \"latimes_model\": \"350\", \"latimes_make_and_model\": \"AIRBUS 350\"}, {\"event_id\": \"20080109X00032\", \"ntsb_make\": \"BELL\", \"ntsb_model\": \"206L-3\", \"ntsb_number\": \"NYC08FA071\", \"year\": 2007, \"date\": \"2007-12-30T00:00:00\", \"city\": \"CHEROKEE\", \"state\": \"AL\", \"country\": \"USA\", \"total_fatalities\": 3, \"latimes_make\": \"BELL\", \"latimes_model\": \"206\", \"latimes_make_and_model\": \"BELL 206\"}, {\"event_id\": \"20070920X01418\", \"ntsb_make\": \"BELL\", \"ntsb_model\": \"206B\", \"ntsb_number\": \"MIA07FA147\", \"year\": 2007, \"date\": \"2007-09-11T00:00:00\", \"city\": \"NOKOMIS\", \"state\": \"FL\", \"country\": \"USA\", \"total_fatalities\": 2, \"latimes_make\": \"BELL\", \"latimes_model\": \"206\", \"latimes_make_and_model\": \"BELL 206\"}, {\"event_id\": \"20070919X01416\", \"ntsb_make\": \"HUGHES\", \"ntsb_model\": \"369D\", \"ntsb_number\": \"LAX07LA270\", \"year\": 2007, \"date\": \"2007-09-08T00:00:00\", \"city\": \"ELLENSBURG\", \"state\": \"WA\", \"country\": \"USA\", \"total_fatalities\": 1, \"latimes_make\": \"HUGHES\", \"latimes_model\": \"369\", \"latimes_make_and_model\": \"HUGHES 369\"}, {\"event_id\": \"20070808X01151\", \"ntsb_make\": \"ROBINSON\", \"ntsb_model\": \"R44 II\", \"ntsb_number\": \"SEA07FA223\", \"year\": 2007, \"date\": \"2007-08-02T00:00:00\", \"city\": \"EASTON\", \"state\": \"WA\", \"country\": \"USA\", \"total_fatalities\": 4, \"latimes_make\": \"ROBINSON\", \"latimes_model\": \"R44\", \"latimes_make_and_model\": \"ROBINSON R44\"}, {\"event_id\": \"20071227X01994\", \"ntsb_make\": \"BELL\", \"ntsb_model\": \"407\", \"ntsb_number\": \"NYC08LA028\", \"year\": 2007, \"date\": \"2007-11-09T00:00:00\", \"city\": \"MORRISTOWN\", \"state\": \"TN\", \"country\": \"USA\", \"total_fatalities\": 1, \"latimes_make\": \"BELL\", \"latimes_model\": \"407\", \"latimes_make_and_model\": \"BELL 407\"}, {\"event_id\": \"20070802X01089\", \"ntsb_make\": \"EUROCOPTER\", \"ntsb_model\": \"AS350-B2\", \"ntsb_number\": \"LAX07MA231\", \"year\": 2007, \"date\": \"2007-07-27T00:00:00\", \"city\": \"PHOENIX\", \"state\": \"AZ\", \"country\": \"USA\", \"total_fatalities\": 4, \"latimes_make\": \"AIRBUS\", \"latimes_model\": \"350\", \"latimes_make_and_model\": \"AIRBUS 350\"}, {\"event_id\": \"20070802X01089\", \"ntsb_make\": \"EUROCOPTER\", \"ntsb_model\": \"AS350-B2\", \"ntsb_number\": \"LAX07MA231\", \"year\": 2007, \"date\": \"2007-07-27T00:00:00\", \"city\": \"PHOENIX\", \"state\": \"AZ\", \"country\": \"USA\", \"total_fatalities\": 4, \"latimes_make\": \"AIRBUS\", \"latimes_model\": \"350\", \"latimes_make_and_model\": \"AIRBUS 350\"}, {\"event_id\": \"20080529X00746\", \"ntsb_make\": \"AEROSPATIALE\", \"ntsb_model\": \"AS-350-D\", \"ntsb_number\": \"SEA08MA136\", \"year\": 2008, \"date\": \"2008-05-24T00:00:00\", \"city\": \"AVALON\", \"state\": \"CA\", \"country\": \"USA\", \"total_fatalities\": 3, \"latimes_make\": \"AIRBUS\", \"latimes_model\": \"350\", \"latimes_make_and_model\": \"AIRBUS 350\"}, {\"event_id\": \"20080819X01260\", \"ntsb_make\": \"ROBINSON HELICOPTER\", \"ntsb_model\": \"R22 BETA II\", \"ntsb_number\": \"SEA08FA185\", \"year\": 2008, \"date\": \"2008-08-17T00:00:00\", \"city\": \"OLALLA\", \"state\": \"WA\", \"country\": \"USA\", \"total_fatalities\": 1, \"latimes_make\": \"ROBINSON\", \"latimes_model\": \"R22\", \"latimes_make_and_model\": \"ROBINSON R22\"}, {\"event_id\": \"20080715X01051\", \"ntsb_make\": \"BELL\", \"ntsb_model\": \"407\", \"ntsb_number\": \"DEN08MA116\", \"year\": 2008, \"date\": \"2008-06-29T00:00:00\", \"city\": \"FLAGSTAFF\", \"state\": \"AZ\", \"country\": \"USA\", \"total_fatalities\": 7, \"latimes_make\": \"BELL\", \"latimes_model\": \"407\", \"latimes_make_and_model\": \"BELL 407\"}, {\"event_id\": \"20080715X01051\", \"ntsb_make\": \"BELL\", \"ntsb_model\": \"407\", \"ntsb_number\": \"DEN08MA116\", \"year\": 2008, \"date\": \"2008-06-29T00:00:00\", \"city\": \"FLAGSTAFF\", \"state\": \"AZ\", \"country\": \"USA\", \"total_fatalities\": 7, \"latimes_make\": \"BELL\", \"latimes_model\": \"407\", \"latimes_make_and_model\": \"BELL 407\"}, {\"event_id\": \"20080128X00108\", \"ntsb_make\": \"ROBINSON\", \"ntsb_model\": \"R44\", \"ntsb_number\": \"MIA08FA044\", \"year\": 2008, \"date\": \"2008-01-22T00:00:00\", \"city\": \"OCHOPEE\", \"state\": \"FL\", \"country\": \"USA\", \"total_fatalities\": 2, \"latimes_make\": \"ROBINSON\", \"latimes_model\": \"R44\", \"latimes_make_and_model\": \"ROBINSON R44\"}, {\"event_id\": \"20081211X45825\", \"ntsb_make\": \"BELL\", \"ntsb_model\": \"206L-4\", \"ntsb_number\": \"CEN09FA086\", \"year\": 2008, \"date\": \"2008-12-11T00:00:00\", \"city\": \"SABINE PASS\", \"state\": \"TX\", \"country\": \"USA\", \"total_fatalities\": 5, \"latimes_make\": \"BELL\", \"latimes_model\": \"206\", \"latimes_make_and_model\": \"BELL 206\"}, {\"event_id\": \"20081019X15543\", \"ntsb_make\": \"ROBINSON\", \"ntsb_model\": \"R22\", \"ntsb_number\": \"ERA09FA022\", \"year\": 2008, \"date\": \"2008-10-16T00:00:00\", \"city\": \"DRYDEN\", \"state\": \"NY\", \"country\": \"USA\", \"total_fatalities\": 1, \"latimes_make\": \"ROBINSON\", \"latimes_model\": \"R22\", \"latimes_make_and_model\": \"ROBINSON R22\"}, {\"event_id\": \"20080520X00702\", \"ntsb_make\": \"EUROCOPTER DEUTSCHLAND GMBH\", \"ntsb_model\": \"EC 135 T2+\", \"ntsb_number\": \"CHI08FA128\", \"year\": 2008, \"date\": \"2008-05-10T00:00:00\", \"city\": \"LA CROSSE\", \"state\": \"WI\", \"country\": \"USA\", \"total_fatalities\": 3, \"latimes_make\": \"AIRBUS\", \"latimes_model\": \"135\", \"latimes_make_and_model\": \"AIRBUS 135\"}, {\"event_id\": \"20080909X01417\", \"ntsb_make\": \"BELL\", \"ntsb_model\": \"206L-1\", \"ntsb_number\": \"CHI08FA269\", \"year\": 2008, \"date\": \"2008-08-31T00:00:00\", \"city\": \"GREENSBURG\", \"state\": \"IN\", \"country\": \"USA\", \"total_fatalities\": 3, \"latimes_make\": \"BELL\", \"latimes_model\": \"206\", \"latimes_make_and_model\": \"BELL 206\"}, {\"event_id\": \"20080321X00357\", \"ntsb_make\": \"ROBINSON\", \"ntsb_model\": \"R22 BETA II\", \"ntsb_number\": \"NYC08FA134\", \"year\": 2008, \"date\": \"2008-03-13T00:00:00\", \"city\": \"WILMINGTON\", \"state\": \"NC\", \"country\": \"USA\", \"total_fatalities\": 1, \"latimes_make\": \"ROBINSON\", \"latimes_model\": \"R22\", \"latimes_make_and_model\": \"ROBINSON R22\"}, {\"event_id\": \"20081014X22933\", \"ntsb_make\": \"BELL\", \"ntsb_model\": \"407\", \"ntsb_number\": \"WPR09TA012\", \"year\": 2008, \"date\": \"2008-10-13T00:00:00\", \"city\": \"SEDONA\", \"state\": \"AZ\", \"country\": \"USA\", \"total_fatalities\": 1, \"latimes_make\": \"BELL\", \"latimes_model\": \"407\", \"latimes_make_and_model\": \"BELL 407\"}, {\"event_id\": \"20080505X00592\", \"ntsb_make\": \"ROBINSON\", \"ntsb_model\": \"R44\", \"ntsb_number\": \"DFW08LA122\", \"year\": 2008, \"date\": \"2008-04-28T00:00:00\", \"city\": \"BARTLETT\", \"state\": \"TX\", \"country\": \"USA\", \"total_fatalities\": 1, \"latimes_make\": \"ROBINSON\", \"latimes_model\": \"R44\", \"latimes_make_and_model\": \"ROBINSON R44\"}, {\"event_id\": \"20080710X01015\", \"ntsb_make\": \"SCHWEIZER\", \"ntsb_model\": \"269 C-1\", \"ntsb_number\": \"LAX08LA213\", \"year\": 2008, \"date\": \"2008-07-04T00:00:00\", \"city\": \"SUNOL\", \"state\": \"CA\", \"country\": \"USA\", \"total_fatalities\": 2, \"latimes_make\": \"SCHWEIZER\", \"latimes_model\": \"269\", \"latimes_make_and_model\": \"SCHWEIZER 269\"}, {\"event_id\": \"20081013X24743\", \"ntsb_make\": \"BELL\", \"ntsb_model\": \"206\", \"ntsb_number\": \"CEN09FA012\", \"year\": 2008, \"date\": \"2008-10-13T00:00:00\", \"city\": \"CONROE\", \"state\": \"TX\", \"country\": \"USA\", \"total_fatalities\": 2, \"latimes_make\": \"BELL\", \"latimes_model\": \"206\", \"latimes_make_and_model\": \"BELL 206\"}, {\"event_id\": \"20081104X60811\", \"ntsb_make\": \"ROBINSON\", \"ntsb_model\": \"R-44\", \"ntsb_number\": \"ERA09FA036\", \"year\": 2008, \"date\": \"2008-11-02T00:00:00\", \"city\": \"GALLATIN\", \"state\": \"TN\", \"country\": \"USA\", \"total_fatalities\": 1, \"latimes_make\": \"ROBINSON\", \"latimes_model\": \"R44\", \"latimes_make_and_model\": \"ROBINSON R44\"}, {\"event_id\": \"20080731X01133\", \"ntsb_make\": \"HUGHES\", \"ntsb_model\": \"369D\", \"ntsb_number\": \"LAX08FA233\", \"year\": 2008, \"date\": \"2008-07-19T00:00:00\", \"city\": \"PRICE\", \"state\": \"UT\", \"country\": \"USA\", \"total_fatalities\": 3, \"latimes_make\": \"HUGHES\", \"latimes_model\": \"369\", \"latimes_make_and_model\": \"HUGHES 369\"}, {\"event_id\": \"20080222X00227\", \"ntsb_make\": \"EUROCOPTER FRANCE\", \"ntsb_model\": \"AS350B2\", \"ntsb_number\": \"DFW08FA062\", \"year\": 2008, \"date\": \"2008-02-05T00:00:00\", \"city\": \"S. PADRE ISLAND\", \"state\": \"TX\", \"country\": \"USA\", \"total_fatalities\": 3, \"latimes_make\": \"AIRBUS\", \"latimes_model\": \"350\", \"latimes_make_and_model\": \"AIRBUS 350\"}, {\"event_id\": \"20080421X00524\", \"ntsb_make\": \"EUROCOPTER\", \"ntsb_model\": \"AS 350 B2\", \"ntsb_number\": \"ANC08FA053\", \"year\": 2008, \"date\": \"2008-04-15T00:00:00\", \"city\": \"CHICKALOON\", \"state\": \"AK\", \"country\": \"USA\", \"total_fatalities\": 4, \"latimes_make\": \"AIRBUS\", \"latimes_model\": \"350\", \"latimes_make_and_model\": \"AIRBUS 350\"}, {\"event_id\": \"20080613X00858\", \"ntsb_make\": \"BELL\", \"ntsb_model\": \"407\", \"ntsb_number\": \"DEN08FA101\", \"year\": 2008, \"date\": \"2008-06-08T00:00:00\", \"city\": \"HUNTSVILLE\", \"state\": \"TX\", \"country\": \"USA\", \"total_fatalities\": 4, \"latimes_make\": \"BELL\", \"latimes_model\": \"407\", \"latimes_make_and_model\": \"BELL 407\"}, {\"event_id\": \"20080908X01405\", \"ntsb_make\": \"ROBINSON\", \"ntsb_model\": \"R44 II\", \"ntsb_number\": \"DFW08FA218\", \"year\": 2008, \"date\": \"2008-08-29T00:00:00\", \"city\": \"RIDGEDALE\", \"state\": \"MO\", \"country\": \"USA\", \"total_fatalities\": 2, \"latimes_make\": \"ROBINSON\", \"latimes_model\": \"R44\", \"latimes_make_and_model\": \"ROBINSON R44\"}, {\"event_id\": \"20080925X01525\", \"ntsb_make\": \"ROBINSON\", \"ntsb_model\": \"R44 II\", \"ntsb_number\": \"CHI08FA293\", \"year\": 2008, \"date\": \"2008-09-21T00:00:00\", \"city\": \"KENOSHA\", \"state\": \"WI\", \"country\": \"USA\", \"total_fatalities\": 2, \"latimes_make\": \"ROBINSON\", \"latimes_model\": \"R44\", \"latimes_make_and_model\": \"ROBINSON R44\"}, {\"event_id\": \"20080201X00130\", \"ntsb_make\": \"ROBINSON HELICOPTER\", \"ntsb_model\": \"R22 BETA\", \"ntsb_number\": \"LAX08FA052\", \"year\": 2008, \"date\": \"2008-01-25T00:00:00\", \"city\": \"LOS ANGELES\", \"state\": \"CA\", \"country\": \"USA\", \"total_fatalities\": 1, \"latimes_make\": \"ROBINSON\", \"latimes_model\": \"R22\", \"latimes_make_and_model\": \"ROBINSON R22\"}, {\"event_id\": \"20091012X15520\", \"ntsb_make\": \"MCDONNELL DOUGLAS HELI CO\", \"ntsb_model\": \"369FF\", \"ntsb_number\": \"WPR10FA012\", \"year\": 2009, \"date\": \"2009-10-12T00:00:00\", \"city\": \"FOSSIL\", \"state\": \"OR\", \"country\": \"USA\", \"total_fatalities\": 1, \"latimes_make\": \"MCDONNELL DOUGLAS\", \"latimes_model\": \"369\", \"latimes_make_and_model\": \"MCDONNELL DOUGLAS 369\"}, {\"event_id\": \"20090724X05537\", \"ntsb_make\": \"ROBINSON HELICOPTER\", \"ntsb_model\": \"R44\", \"ntsb_number\": \"ERA09FA417\", \"year\": 2009, \"date\": \"2009-07-23T00:00:00\", \"city\": \"BOONSBORO\", \"state\": \"MD\", \"country\": \"USA\", \"total_fatalities\": 4, \"latimes_make\": \"ROBINSON\", \"latimes_model\": \"R44\", \"latimes_make_and_model\": \"ROBINSON R44\"}, {\"event_id\": \"20090926X65328\", \"ntsb_make\": \"EUROCOPTER\", \"ntsb_model\": \"AS-350\", \"ntsb_number\": \"ERA09FA537\", \"year\": 2009, \"date\": \"2009-09-25T00:00:00\", \"city\": \"GEORGETOWN\", \"state\": \"SC\", \"country\": \"USA\", \"total_fatalities\": 3, \"latimes_make\": \"AIRBUS\", \"latimes_model\": \"350\", \"latimes_make_and_model\": \"AIRBUS 350\"}, {\"event_id\": \"20090722X34202\", \"ntsb_make\": \"HUGHES\", \"ntsb_model\": \"369\", \"ntsb_number\": \"ERA09FA414\", \"year\": 2009, \"date\": \"2009-07-22T00:00:00\", \"city\": \"FRANKLIN\", \"state\": \"PA\", \"country\": \"USA\", \"total_fatalities\": 1, \"latimes_make\": \"HUGHES\", \"latimes_model\": \"369\", \"latimes_make_and_model\": \"HUGHES 369\"}, {\"event_id\": \"20090808X42846\", \"ntsb_make\": \"EUROCOPTER\", \"ntsb_model\": \"AS 350 BA\", \"ntsb_number\": \"ERA09MA447\", \"year\": 2009, \"date\": \"2009-08-08T00:00:00\", \"city\": \"HOBOKEN\", \"state\": \"NJ\", \"country\": \"USA\", \"total_fatalities\": 9, \"latimes_make\": \"AIRBUS\", \"latimes_model\": \"350\", \"latimes_make_and_model\": \"AIRBUS 350\"}, {\"event_id\": \"20090104X12037\", \"ntsb_make\": \"SIKORSKY\", \"ntsb_model\": \"S-76C\", \"ntsb_number\": \"CEN09MA117\", \"year\": 2009, \"date\": \"2009-01-04T00:00:00\", \"city\": \"MORGAN CITY\", \"state\": \"LA\", \"country\": \"USA\", \"total_fatalities\": 8, \"latimes_make\": \"SIKORSKY\", \"latimes_model\": \"76\", \"latimes_make_and_model\": \"SIKORSKY 76\"}, {\"event_id\": \"20091017X64138\", \"ntsb_make\": \"ROBINSON HELICOPTER\", \"ntsb_model\": \"R22 BETA\", \"ntsb_number\": \"CEN10FA019\", \"year\": 2009, \"date\": \"2009-10-14T00:00:00\", \"city\": \"TAHLEQUAH\", \"state\": \"OK\", \"country\": \"USA\", \"total_fatalities\": 2, \"latimes_make\": \"ROBINSON\", \"latimes_model\": \"R22\", \"latimes_make_and_model\": \"ROBINSON R22\"}, {\"event_id\": \"20090901X80259\", \"ntsb_make\": \"ROBINSON\", \"ntsb_model\": \"R44\", \"ntsb_number\": \"ERA09FA497\", \"year\": 2009, \"date\": \"2009-09-01T00:00:00\", \"city\": \"JACKSON\", \"state\": \"MS\", \"country\": \"USA\", \"total_fatalities\": 1, \"latimes_make\": \"ROBINSON\", \"latimes_model\": \"R44\", \"latimes_make_and_model\": \"ROBINSON R44\"}, {\"event_id\": \"20090225X75532\", \"ntsb_make\": \"HUGHES\", \"ntsb_model\": \"369F\", \"ntsb_number\": \"ERA09LA173\", \"year\": 2009, \"date\": \"2009-02-24T00:00:00\", \"city\": \"MOYOCK\", \"state\": \"NC\", \"country\": \"USA\", \"total_fatalities\": 1, \"latimes_make\": \"HUGHES\", \"latimes_model\": \"369\", \"latimes_make_and_model\": \"HUGHES 369\"}, {\"event_id\": \"20090611X91250\", \"ntsb_make\": \"ROBINSON HELICOPTER\", \"ntsb_model\": \"R22 BETA\", \"ntsb_number\": \"WPR09FA284\", \"year\": 2009, \"date\": \"2009-06-11T00:00:00\", \"city\": \"MORRISTOWN\", \"state\": \"AZ\", \"country\": \"USA\", \"total_fatalities\": 1, \"latimes_make\": \"ROBINSON\", \"latimes_model\": \"R22\", \"latimes_make_and_model\": \"ROBINSON R22\"}, {\"event_id\": \"20090920X34134\", \"ntsb_make\": \"ROBINSON HELICOPTER\", \"ntsb_model\": \"R22 BETA\", \"ntsb_number\": \"WPR09FA459\", \"year\": 2009, \"date\": \"2009-09-20T00:00:00\", \"city\": \"FOREST GROVE\", \"state\": \"OR\", \"country\": \"USA\", \"total_fatalities\": 2, \"latimes_make\": \"ROBINSON\", \"latimes_model\": \"R22\", \"latimes_make_and_model\": \"ROBINSON R22\"}, {\"event_id\": \"20091114X82100\", \"ntsb_make\": \"AEROSPATIALE\", \"ntsb_model\": \"AS350BA\", \"ntsb_number\": \"WPR10FA055\", \"year\": 2009, \"date\": \"2009-11-14T00:00:00\", \"city\": \"DOYLE\", \"state\": \"CA\", \"country\": \"USA\", \"total_fatalities\": 3, \"latimes_make\": \"AIRBUS\", \"latimes_model\": \"350\", \"latimes_make_and_model\": \"AIRBUS 350\"}, {\"event_id\": \"20090309X04818\", \"ntsb_make\": \"BELL\", \"ntsb_model\": \"206-L4\", \"ntsb_number\": \"CEN09FA193\", \"year\": 2009, \"date\": \"2009-03-08T00:00:00\", \"city\": \"MOUNDRIDGE\", \"state\": \"KS\", \"country\": \"USA\", \"total_fatalities\": 1, \"latimes_make\": \"BELL\", \"latimes_model\": \"206\", \"latimes_make_and_model\": \"BELL 206\"}, {\"event_id\": \"20090201X10015\", \"ntsb_make\": \"ROBINSON HELICOPTER\", \"ntsb_model\": \"R22 BETA II\", \"ntsb_number\": \"WPR09FA104\", \"year\": 2009, \"date\": \"2009-01-31T00:00:00\", \"city\": \"FILLMORE\", \"state\": \"CA\", \"country\": \"USA\", \"total_fatalities\": 1, \"latimes_make\": \"ROBINSON\", \"latimes_model\": \"R22\", \"latimes_make_and_model\": \"ROBINSON R22\"}, {\"event_id\": \"20090610X23159\", \"ntsb_make\": \"AGUSTA SPA\", \"ntsb_model\": \"A109E\", \"ntsb_number\": \"CEN09PA348\", \"year\": 2009, \"date\": \"2009-06-09T00:00:00\", \"city\": \"SANTA FE\", \"state\": \"NM\", \"country\": \"USA\", \"total_fatalities\": 2, \"latimes_make\": \"AGUSTA\", \"latimes_model\": \"109\", \"latimes_make_and_model\": \"AGUSTA 109\"}, {\"event_id\": \"20101015X73141\", \"ntsb_make\": \"BELL\", \"ntsb_model\": \"206B\", \"ntsb_number\": \"CEN11GA020\", \"year\": 2010, \"date\": \"2010-10-15T00:00:00\", \"city\": \"CLARKSON VALLEY\", \"state\": \"MO\", \"country\": \"USA\", \"total_fatalities\": 1, \"latimes_make\": \"BELL\", \"latimes_model\": \"206\", \"latimes_make_and_model\": \"BELL 206\"}, {\"event_id\": \"20100806X55641\", \"ntsb_make\": \"ROBINSON HELICOPTER COMPANY\", \"ntsb_model\": \"R44 II\", \"ntsb_number\": \"ERA10FA403\", \"year\": 2010, \"date\": \"2010-08-02T00:00:00\", \"city\": \"BLAIRSVILLE\", \"state\": \"GA\", \"country\": \"USA\", \"total_fatalities\": 2, \"latimes_make\": \"ROBINSON\", \"latimes_model\": \"R44\", \"latimes_make_and_model\": \"ROBINSON R44\"}, {\"event_id\": \"20100105X94046\", \"ntsb_make\": \"BELL\", \"ntsb_model\": \"206B\", \"ntsb_number\": \"WPR10GA097\", \"year\": 2010, \"date\": \"2010-01-05T00:00:00\", \"city\": \"AUBERRY\", \"state\": \"CA\", \"country\": \"USA\", \"total_fatalities\": 4, \"latimes_make\": \"BELL\", \"latimes_model\": \"206\", \"latimes_make_and_model\": \"BELL 206\"}, {\"event_id\": \"20100728X92614\", \"ntsb_make\": \"AMERICAN EUROCOPTER LLC\", \"ntsb_model\": \"AS 350 B3\", \"ntsb_number\": \"WPR10FA371\", \"year\": 2010, \"date\": \"2010-07-28T00:00:00\", \"city\": \"TUCSON\", \"state\": \"AZ\", \"country\": \"USA\", \"total_fatalities\": 3, \"latimes_make\": \"AIRBUS\", \"latimes_model\": \"350\", \"latimes_make_and_model\": \"AIRBUS 350\"}, {\"event_id\": \"20100621X31143\", \"ntsb_make\": \"ROBINSON HELICOPTER\", \"ntsb_model\": \"R44\", \"ntsb_number\": \"ANC10LA053\", \"year\": 2010, \"date\": \"2010-06-19T00:00:00\", \"city\": \"UNALASKA\", \"state\": \"AK\", \"country\": \"USA\", \"total_fatalities\": 1, \"latimes_make\": \"ROBINSON\", \"latimes_model\": \"R44\", \"latimes_make_and_model\": \"ROBINSON R44\"}, {\"event_id\": \"20101103X83727\", \"ntsb_make\": \"BELL\", \"ntsb_model\": \"206\", \"ntsb_number\": \"CEN11FA053\", \"year\": 2010, \"date\": \"2010-11-03T00:00:00\", \"city\": \"MEEKER\", \"state\": \"CO\", \"country\": \"USA\", \"total_fatalities\": 1, \"latimes_make\": \"BELL\", \"latimes_model\": \"206\", \"latimes_make_and_model\": \"BELL 206\"}, {\"event_id\": \"20100705X12909\", \"ntsb_make\": \"ROBINSON HELICOPTER\", \"ntsb_model\": \"R44\", \"ntsb_number\": \"ERA10LA348\", \"year\": 2010, \"date\": \"2010-07-05T00:00:00\", \"city\": \"MARION\", \"state\": \"KY\", \"country\": \"USA\", \"total_fatalities\": 1, \"latimes_make\": \"ROBINSON\", \"latimes_model\": \"R44\", \"latimes_make_and_model\": \"ROBINSON R44\"}, {\"event_id\": \"20101030X30541\", \"ntsb_make\": \"MD HELICOPTERS INC\", \"ntsb_model\": \"369E\", \"ntsb_number\": \"ERA11FA042\", \"year\": 2010, \"date\": \"2010-10-30T00:00:00\", \"city\": \"THOMAS\", \"state\": \"WV\", \"country\": \"USA\", \"total_fatalities\": 1, \"latimes_make\": \"MCDONNELL DOUGLAS\", \"latimes_model\": \"369\", \"latimes_make_and_model\": \"MCDONNELL DOUGLAS 369\"}, {\"event_id\": \"20100831X75841\", \"ntsb_make\": \"BELL HELICOPTER TEXTRON\", \"ntsb_model\": \"206L-1\", \"ntsb_number\": \"CEN10FA509\", \"year\": 2010, \"date\": \"2010-08-31T00:00:00\", \"city\": \"WALNUT GROVE\", \"state\": \"AR\", \"country\": \"USA\", \"total_fatalities\": 3, \"latimes_make\": \"BELL\", \"latimes_model\": \"206\", \"latimes_make_and_model\": \"BELL 206\"}, {\"event_id\": \"20100214X92140\", \"ntsb_make\": \"EUROCOPTER\", \"ntsb_model\": \"EC135\", \"ntsb_number\": \"WPR10FA133\", \"year\": 2010, \"date\": \"2010-02-14T00:00:00\", \"city\": \"CAVE CREEK\", \"state\": \"AZ\", \"country\": \"USA\", \"total_fatalities\": 5, \"latimes_make\": \"AIRBUS\", \"latimes_model\": \"135\", \"latimes_make_and_model\": \"AIRBUS 135\"}, {\"event_id\": \"20100526X84456\", \"ntsb_make\": \"SCHWEIZER\", \"ntsb_model\": \"269C-1\", \"ntsb_number\": \"ERA10FA283\", \"year\": 2010, \"date\": \"2010-05-26T00:00:00\", \"city\": \"BOXBOROUGH\", \"state\": \"MA\", \"country\": \"USA\", \"total_fatalities\": 1, \"latimes_make\": \"SCHWEIZER\", \"latimes_model\": \"269\", \"latimes_make_and_model\": \"SCHWEIZER 269\"}, {\"event_id\": \"20100306X05331\", \"ntsb_make\": \"ROBINSON HELICOPTER\", \"ntsb_model\": \"R22 BETA II\", \"ntsb_number\": \"CEN10FA139\", \"year\": 2010, \"date\": \"2010-03-06T00:00:00\", \"city\": \"COTULLA\", \"state\": \"TX\", \"country\": \"USA\", \"total_fatalities\": 2, \"latimes_make\": \"ROBINSON\", \"latimes_model\": \"R22\", \"latimes_make_and_model\": \"ROBINSON R22\"}, {\"event_id\": \"20100717X71900\", \"ntsb_make\": \"ROBINSON HELICOPTER COMPANY\", \"ntsb_model\": \"R44 II\", \"ntsb_number\": \"WPR10LA354\", \"year\": 2010, \"date\": \"2010-07-16T00:00:00\", \"city\": \"SALT LAKE CITY\", \"state\": \"UT\", \"country\": \"USA\", \"total_fatalities\": 1, \"latimes_make\": \"ROBINSON\", \"latimes_model\": \"R44\", \"latimes_make_and_model\": \"ROBINSON R44\"}, {\"event_id\": \"20100206X10511\", \"ntsb_make\": \"AEROSPATIALE\", \"ntsb_model\": \"AS350\", \"ntsb_number\": \"CEN10FA113\", \"year\": 2010, \"date\": \"2010-02-05T00:00:00\", \"city\": \"EL PASO\", \"state\": \"TX\", \"country\": \"USA\", \"total_fatalities\": 3, \"latimes_make\": \"AIRBUS\", \"latimes_model\": \"350\", \"latimes_make_and_model\": \"AIRBUS 350\"}, {\"event_id\": \"20110102X35752\", \"ntsb_make\": \"EUROCOPTER DEUTSCHLAND GMBH\", \"ntsb_model\": \"EC 135 P2\", \"ntsb_number\": \"ERA11FA101\", \"year\": 2010, \"date\": \"2010-12-31T00:00:00\", \"city\": \"WEYERS CAVE\", \"state\": \"VA\", \"country\": \"USA\", \"total_fatalities\": 2, \"latimes_make\": \"AIRBUS\", \"latimes_model\": \"135\", \"latimes_make_and_model\": \"AIRBUS 135\"}, {\"event_id\": \"20100325X93604\", \"ntsb_make\": \"EUROCOPTER\", \"ntsb_model\": \"AS-350-B3\", \"ntsb_number\": \"ERA10MA188\", \"year\": 2010, \"date\": \"2010-03-25T00:00:00\", \"city\": \"BROWNSVILLE\", \"state\": \"TN\", \"country\": \"USA\", \"total_fatalities\": 3, \"latimes_make\": \"AIRBUS\", \"latimes_model\": \"350\", \"latimes_make_and_model\": \"AIRBUS 350\"}, {\"event_id\": \"20100602X01732\", \"ntsb_make\": \"ROBINSON\", \"ntsb_model\": \"R22 BETA\", \"ntsb_number\": \"WPR10FA277\", \"year\": 2010, \"date\": \"2010-06-02T00:00:00\", \"city\": \"SPOKANE\", \"state\": \"WA\", \"country\": \"USA\", \"total_fatalities\": 1, \"latimes_make\": \"ROBINSON\", \"latimes_model\": \"R22\", \"latimes_make_and_model\": \"ROBINSON R22\"}, {\"event_id\": \"20100722X21328\", \"ntsb_make\": \"EUROCOPTER\", \"ntsb_model\": \"AS 350 B2\", \"ntsb_number\": \"CEN10FA424\", \"year\": 2010, \"date\": \"2010-07-22T00:00:00\", \"city\": \"KINGFISHER\", \"state\": \"OK\", \"country\": \"USA\", \"total_fatalities\": 2, \"latimes_make\": \"AIRBUS\", \"latimes_model\": \"350\", \"latimes_make_and_model\": \"AIRBUS 350\"}, {\"event_id\": \"20121010X41638\", \"ntsb_make\": \"BELL\", \"ntsb_model\": \"206B\", \"ntsb_number\": \"CEN13FA009\", \"year\": 2012, \"date\": \"2012-10-10T00:00:00\", \"city\": \"CROWLEY\", \"state\": \"LA\", \"country\": \"USA\", \"total_fatalities\": 1, \"latimes_make\": \"BELL\", \"latimes_model\": \"206\", \"latimes_make_and_model\": \"BELL 206\"}, {\"event_id\": \"20121010X63824\", \"ntsb_make\": \"BELL\", \"ntsb_model\": \"407\", \"ntsb_number\": \"ERA13FA014\", \"year\": 2012, \"date\": \"2012-10-09T00:00:00\", \"city\": \"COOLBAUGH TOWNSHIP\", \"state\": \"PA\", \"country\": \"USA\", \"total_fatalities\": 2, \"latimes_make\": \"BELL\", \"latimes_model\": \"407\", \"latimes_make_and_model\": \"BELL 407\"}, {\"event_id\": \"20121012X13500\", \"ntsb_make\": \"ROBINSON HELICOPTER COMPANY\", \"ntsb_model\": \"R44 II\", \"ntsb_number\": \"CEN13FA010\", \"year\": 2012, \"date\": \"2012-10-11T00:00:00\", \"city\": \"BLANCO\", \"state\": \"TX\", \"country\": \"USA\", \"total_fatalities\": 3, \"latimes_make\": \"ROBINSON\", \"latimes_model\": \"R44\", \"latimes_make_and_model\": \"ROBINSON R44\"}, {\"event_id\": \"20120910X05133\", \"ntsb_make\": \"ROBINSON HELICOPTER\", \"ntsb_model\": \"R22 BETA\", \"ntsb_number\": \"CEN12FA621\", \"year\": 2012, \"date\": \"2012-09-10T00:00:00\", \"city\": \"HOUSTON\", \"state\": \"TX\", \"country\": \"USA\", \"total_fatalities\": 2, \"latimes_make\": \"ROBINSON\", \"latimes_model\": \"R22\", \"latimes_make_and_model\": \"ROBINSON R22\"}, {\"event_id\": \"20120826X42003\", \"ntsb_make\": \"BELL\", \"ntsb_model\": \"407\", \"ntsb_number\": \"ERA12FA527\", \"year\": 2012, \"date\": \"2012-08-24T00:00:00\", \"city\": \"ABINGDON\", \"state\": \"VA\", \"country\": \"USA\", \"total_fatalities\": 1, \"latimes_make\": \"BELL\", \"latimes_model\": \"407\", \"latimes_make_and_model\": \"BELL 407\"}, {\"event_id\": \"20120216X03340\", \"ntsb_make\": \"BELL\", \"ntsb_model\": \"407\", \"ntsb_number\": \"WPR12GA106\", \"year\": 2012, \"date\": \"2012-02-15T00:00:00\", \"city\": \"MORAN JUNCTION\", \"state\": \"WY\", \"country\": \"USA\", \"total_fatalities\": 1, \"latimes_make\": \"BELL\", \"latimes_model\": \"407\", \"latimes_make_and_model\": \"BELL 407\"}, {\"event_id\": \"20120701X53951\", \"ntsb_make\": \"AEROSPATIALE\", \"ntsb_model\": \"AS350B\", \"ntsb_number\": \"WPR12FA282\", \"year\": 2012, \"date\": \"2012-06-30T00:00:00\", \"city\": \"CAMP VERDE\", \"state\": \"AZ\", \"country\": \"USA\", \"total_fatalities\": 4, \"latimes_make\": \"AIRBUS\", \"latimes_model\": \"350\", \"latimes_make_and_model\": \"AIRBUS 350\"}, {\"event_id\": \"20121130X74908\", \"ntsb_make\": \"ROBINSON HELICOPTER\", \"ntsb_model\": \"R22 BETA II\", \"ntsb_number\": \"ERA13FA070\", \"year\": 2012, \"date\": \"2012-11-30T00:00:00\", \"city\": \"APOLLO BEACH\", \"state\": \"FL\", \"country\": \"USA\", \"total_fatalities\": 1, \"latimes_make\": \"ROBINSON\", \"latimes_model\": \"R22\", \"latimes_make_and_model\": \"ROBINSON R22\"}, {\"event_id\": \"20120709X83554\", \"ntsb_make\": \"ROBINSON HELICOPTER\", \"ntsb_model\": \"R22 BETA\", \"ntsb_number\": \"WPR12FA298\", \"year\": 2012, \"date\": \"2012-07-09T00:00:00\", \"city\": \"MURRIETA\", \"state\": \"CA\", \"country\": \"USA\", \"total_fatalities\": 1, \"latimes_make\": \"ROBINSON\", \"latimes_model\": \"R22\", \"latimes_make_and_model\": \"ROBINSON R22\"}, {\"event_id\": \"20121115X43423\", \"ntsb_make\": \"HUGHES\", \"ntsb_model\": \"369D\", \"ntsb_number\": \"ERA13LA057\", \"year\": 2012, \"date\": \"2012-11-15T00:00:00\", \"city\": \"CORNING\", \"state\": \"NY\", \"country\": \"USA\", \"total_fatalities\": 2, \"latimes_make\": \"HUGHES\", \"latimes_model\": \"369\", \"latimes_make_and_model\": \"HUGHES 369\"}, {\"event_id\": \"20120119X92431\", \"ntsb_make\": \"ROBINSON\", \"ntsb_model\": \"R44 II\", \"ntsb_number\": \"CEN12FA139\", \"year\": 2012, \"date\": \"2012-01-19T00:00:00\", \"city\": \"CENTERVILLE\", \"state\": \"LA\", \"country\": \"USA\", \"total_fatalities\": 2, \"latimes_make\": \"ROBINSON\", \"latimes_model\": \"R44\", \"latimes_make_and_model\": \"ROBINSON R44\"}, {\"event_id\": \"20121128X12341\", \"ntsb_make\": \"HUGHES\", \"ntsb_model\": \"369\", \"ntsb_number\": \"CEN13FA075\", \"year\": 2012, \"date\": \"2012-11-27T00:00:00\", \"city\": \"CHILDRESS\", \"state\": \"TX\", \"country\": \"USA\", \"total_fatalities\": 1, \"latimes_make\": \"HUGHES\", \"latimes_model\": \"369\", \"latimes_make_and_model\": \"HUGHES 369\"}, {\"event_id\": \"20120529X90616\", \"ntsb_make\": \"BELL\", \"ntsb_model\": \"206-L4\", \"ntsb_number\": \"CEN12FA321\", \"year\": 2012, \"date\": \"2012-05-28T00:00:00\", \"city\": \"GULF OF MEXICO\", \"state\": null, \"country\": \"USA\", \"total_fatalities\": 1, \"latimes_make\": \"BELL\", \"latimes_model\": \"206\", \"latimes_make_and_model\": \"BELL 206\"}, {\"event_id\": \"20120612X20331\", \"ntsb_make\": \"ROBINSON HELICOPTER COMPANY\", \"ntsb_model\": \"R44 II\", \"ntsb_number\": \"WPR12LA259\", \"year\": 2012, \"date\": \"2012-06-12T00:00:00\", \"city\": \"EAST WENATCHEE\", \"state\": \"WA\", \"country\": \"USA\", \"total_fatalities\": 1, \"latimes_make\": \"ROBINSON\", \"latimes_model\": \"R44\", \"latimes_make_and_model\": \"ROBINSON R44\"}, {\"event_id\": \"20121126X75106\", \"ntsb_make\": \"ROBINSON HELICOPTER COMPANY\", \"ntsb_model\": \"R44 II\", \"ntsb_number\": \"WPR13FA054\", \"year\": 2012, \"date\": \"2012-11-25T00:00:00\", \"city\": \"CORONA\", \"state\": \"CA\", \"country\": \"USA\", \"total_fatalities\": 1, \"latimes_make\": \"ROBINSON\", \"latimes_model\": \"R44\", \"latimes_make_and_model\": \"ROBINSON R44\"}, {\"event_id\": \"20121005X04242\", \"ntsb_make\": \"BELL\", \"ntsb_model\": \"407\", \"ntsb_number\": \"CEN13FA003\", \"year\": 2012, \"date\": \"2012-10-05T00:00:00\", \"city\": \"INTRACOASTAL CITY\", \"state\": \"LA\", \"country\": \"USA\", \"total_fatalities\": 1, \"latimes_make\": \"BELL\", \"latimes_model\": \"407\", \"latimes_make_and_model\": \"BELL 407\"}, {\"event_id\": \"20130222X12624\", \"ntsb_make\": \"EUROCOPTER\", \"ntsb_model\": \"AS 350 B2\", \"ntsb_number\": \"CEN13FA174\", \"year\": 2013, \"date\": \"2013-02-22T00:00:00\", \"city\": \"OKLAHOMA CITY\", \"state\": \"OK\", \"country\": \"USA\", \"total_fatalities\": 2, \"latimes_make\": \"AIRBUS\", \"latimes_model\": \"350\", \"latimes_make_and_model\": \"AIRBUS 350\"}, {\"event_id\": \"20131009X50051\", \"ntsb_make\": \"BELL\", \"ntsb_model\": \"206L 3\", \"ntsb_number\": \"CEN14FA004\", \"year\": 2013, \"date\": \"2013-10-09T00:00:00\", \"city\": \"VENICE, LA\", \"state\": \"GM\", \"country\": \"USA\", \"total_fatalities\": 1, \"latimes_make\": \"BELL\", \"latimes_model\": \"206\", \"latimes_make_and_model\": \"BELL 206\"}, {\"event_id\": \"20130331X41252\", \"ntsb_make\": \"EUROCOPTER\", \"ntsb_model\": \"AS350\", \"ntsb_number\": \"ANC13GA036\", \"year\": 2013, \"date\": \"2013-03-30T00:00:00\", \"city\": \"TALKEETNA\", \"state\": \"AK\", \"country\": \"USA\", \"total_fatalities\": 3, \"latimes_make\": \"AIRBUS\", \"latimes_model\": \"350\", \"latimes_make_and_model\": \"AIRBUS 350\"}, {\"event_id\": \"20130525X61706\", \"ntsb_make\": \"ROBINSON HELICOPTER COMPANY\", \"ntsb_model\": \"R44 II\", \"ntsb_number\": \"CEN13FA295\", \"year\": 2013, \"date\": \"2013-05-24T00:00:00\", \"city\": \"CROSS TIMBERS\", \"state\": \"MO\", \"country\": \"USA\", \"total_fatalities\": 2, \"latimes_make\": \"ROBINSON\", \"latimes_model\": \"R44\", \"latimes_make_and_model\": \"ROBINSON R44\"}, {\"event_id\": \"20130102X13158\", \"ntsb_make\": \"BELL\", \"ntsb_model\": \"206\", \"ntsb_number\": \"WPR13FA080\", \"year\": 2013, \"date\": \"2013-01-02T00:00:00\", \"city\": \"DELANO\", \"state\": \"CA\", \"country\": \"USA\", \"total_fatalities\": 1, \"latimes_make\": \"BELL\", \"latimes_model\": \"206\", \"latimes_make_and_model\": \"BELL 206\"}, {\"event_id\": \"20130727X31220\", \"ntsb_make\": \"ROBINSON HELICOPTER COMPANY\", \"ntsb_model\": \"R44 II\", \"ntsb_number\": \"WPR13FA343\", \"year\": 2013, \"date\": \"2013-07-27T00:00:00\", \"city\": \"THOMPSON FALLS\", \"state\": \"MT\", \"country\": \"USA\", \"total_fatalities\": 1, \"latimes_make\": \"ROBINSON\", \"latimes_model\": \"R44\", \"latimes_make_and_model\": \"ROBINSON R44\"}, {\"event_id\": \"20130210X93918\", \"ntsb_make\": \"BELL\", \"ntsb_model\": \"206B\", \"ntsb_number\": \"WPR13FA119\", \"year\": 2013, \"date\": \"2013-02-10T00:00:00\", \"city\": \"ACTON\", \"state\": \"CA\", \"country\": \"USA\", \"total_fatalities\": 3, \"latimes_make\": \"BELL\", \"latimes_model\": \"206\", \"latimes_make_and_model\": \"BELL 206\"}, {\"event_id\": \"20130218X22833\", \"ntsb_make\": \"BELL\", \"ntsb_model\": \"206B\", \"ntsb_number\": \"WPR13GA128\", \"year\": 2013, \"date\": \"2013-02-18T00:00:00\", \"city\": \"EUREKA\", \"state\": \"NV\", \"country\": \"USA\", \"total_fatalities\": 1, \"latimes_make\": \"BELL\", \"latimes_model\": \"206\", \"latimes_make_and_model\": \"BELL 206\"}, {\"event_id\": \"20130427X30522\", \"ntsb_make\": \"BELL\", \"ntsb_model\": \"206B\", \"ntsb_number\": \"WPR13FA208\", \"year\": 2013, \"date\": \"2013-04-27T00:00:00\", \"city\": \"SHEPHERD\", \"state\": \"MT\", \"country\": \"USA\", \"total_fatalities\": 1, \"latimes_make\": \"BELL\", \"latimes_model\": \"206\", \"latimes_make_and_model\": \"BELL 206\"}, {\"event_id\": \"20130607X04715\", \"ntsb_make\": \"BELL HELICOPTER TEXTRON\", \"ntsb_model\": \"206L-1\", \"ntsb_number\": \"ERA13FA273\", \"year\": 2013, \"date\": \"2013-06-06T00:00:00\", \"city\": \"MANCHESTER\", \"state\": \"KY\", \"country\": \"USA\", \"total_fatalities\": 3, \"latimes_make\": \"BELL\", \"latimes_model\": \"206\", \"latimes_make_and_model\": \"BELL 206\"}, {\"event_id\": \"20131022X92949\", \"ntsb_make\": \"EUROCOPTER\", \"ntsb_model\": \"AS 350 B3\", \"ntsb_number\": \"ERA14FA010\", \"year\": 2013, \"date\": \"2013-10-22T00:00:00\", \"city\": \"SOMERVILLE\", \"state\": \"TN\", \"country\": \"USA\", \"total_fatalities\": 3, \"latimes_make\": \"AIRBUS\", \"latimes_model\": \"350\", \"latimes_make_and_model\": \"AIRBUS 350\"}, {\"event_id\": \"20130102X35708\", \"ntsb_make\": \"BELL HELICOPTER\", \"ntsb_model\": \"407\", \"ntsb_number\": \"CEN13FA122\", \"year\": 2013, \"date\": \"2013-01-02T00:00:00\", \"city\": \"CLEAR LAKE\", \"state\": \"IA\", \"country\": \"USA\", \"total_fatalities\": 3, \"latimes_make\": \"BELL\", \"latimes_model\": \"407\", \"latimes_make_and_model\": \"BELL 407\"}, {\"event_id\": \"20130403X65155\", \"ntsb_make\": \"ROBINSON\", \"ntsb_model\": \"R44\", \"ntsb_number\": \"ERA13FA186\", \"year\": 2013, \"date\": \"2013-04-03T00:00:00\", \"city\": \"MIAMI\", \"state\": \"FL\", \"country\": \"USA\", \"total_fatalities\": 2, \"latimes_make\": \"ROBINSON\", \"latimes_model\": \"R44\", \"latimes_make_and_model\": \"ROBINSON R44\"}, {\"event_id\": \"20131007X44153\", \"ntsb_make\": \"MCDONNELL DOUGLAS HELI CO\", \"ntsb_model\": \"369\", \"ntsb_number\": \"WPR14LA008\", \"year\": 2013, \"date\": \"2013-10-06T00:00:00\", \"city\": \"PADUCAH\", \"state\": \"TX\", \"country\": \"USA\", \"total_fatalities\": 1, \"latimes_make\": \"MCDONNELL DOUGLAS\", \"latimes_model\": \"369\", \"latimes_make_and_model\": \"MCDONNELL DOUGLAS 369\"}, {\"event_id\": \"20130831X54252\", \"ntsb_make\": \"ROBINSON\", \"ntsb_model\": \"R44 II\", \"ntsb_number\": \"CEN13FA517\", \"year\": 2013, \"date\": \"2013-08-31T00:00:00\", \"city\": \"CABALLO\", \"state\": \"NM\", \"country\": \"USA\", \"total_fatalities\": 3, \"latimes_make\": \"ROBINSON\", \"latimes_model\": \"R44\", \"latimes_make_and_model\": \"ROBINSON R44\"}, {\"event_id\": \"20130315X34542\", \"ntsb_make\": \"SIKORSKY\", \"ntsb_model\": \"S-76A++\", \"ntsb_number\": \"CEN13FA192\", \"year\": 2013, \"date\": \"2013-03-15T00:00:00\", \"city\": \"GRAND LAKE\", \"state\": \"LA\", \"country\": \"USA\", \"total_fatalities\": 3, \"latimes_make\": \"SIKORSKY\", \"latimes_model\": \"76\", \"latimes_make_and_model\": \"SIKORSKY 76\"}, {\"event_id\": \"20130805X31941\", \"ntsb_make\": \"HUGHES\", \"ntsb_model\": \"369D\", \"ntsb_number\": \"CEN13LA461\", \"year\": 2013, \"date\": \"2013-08-05T00:00:00\", \"city\": \"ACKERLY\", \"state\": \"TX\", \"country\": \"USA\", \"total_fatalities\": 2, \"latimes_make\": \"HUGHES\", \"latimes_model\": \"369\", \"latimes_make_and_model\": \"HUGHES 369\"}, {\"event_id\": \"20130612X12326\", \"ntsb_make\": \"EUROCOPTER\", \"ntsb_model\": \"AS350B2\", \"ntsb_number\": \"CEN13FA344\", \"year\": 2013, \"date\": \"2013-06-11T00:00:00\", \"city\": \"TALIHINA\", \"state\": \"OK\", \"country\": \"USA\", \"total_fatalities\": 1, \"latimes_make\": \"AIRBUS\", \"latimes_model\": \"350\", \"latimes_make_and_model\": \"AIRBUS 350\"}, {\"event_id\": \"20140127X44720\", \"ntsb_make\": \"BELL\", \"ntsb_model\": \"206L 3\", \"ntsb_number\": \"CEN14FA122\", \"year\": 2014, \"date\": \"2014-01-27T00:00:00\", \"city\": \"SILT\", \"state\": \"CO\", \"country\": \"USA\", \"total_fatalities\": 3, \"latimes_make\": \"BELL\", \"latimes_model\": \"206\", \"latimes_make_and_model\": \"BELL 206\"}, {\"event_id\": \"20140523X44003\", \"ntsb_make\": \"ROBINSON HELICOPTER\", \"ntsb_model\": \"R22 BETA\", \"ntsb_number\": \"WPR14FA203\", \"year\": 2014, \"date\": \"2014-05-23T00:00:00\", \"city\": \"SANTA PAULA\", \"state\": \"CA\", \"country\": \"USA\", \"total_fatalities\": 1, \"latimes_make\": \"ROBINSON\", \"latimes_model\": \"R22\", \"latimes_make_and_model\": \"ROBINSON R22\"}, {\"event_id\": \"20140318X21532\", \"ntsb_make\": \"EUROCOPTER\", \"ntsb_model\": \"AS 350 B2\", \"ntsb_number\": \"WPR14FA137\", \"year\": 2014, \"date\": \"2014-03-18T00:00:00\", \"city\": \"SEATTLE\", \"state\": \"WA\", \"country\": \"USA\", \"total_fatalities\": 2, \"latimes_make\": \"AIRBUS\", \"latimes_model\": \"350\", \"latimes_make_and_model\": \"AIRBUS 350\"}, {\"event_id\": \"20140529X73728\", \"ntsb_make\": \"ROBINSON HELICOPTER COMPANY\", \"ntsb_model\": \"R44 II\", \"ntsb_number\": \"ANC14FA030\", \"year\": 2014, \"date\": \"2014-05-28T00:00:00\", \"city\": \"CHUGIAK\", \"state\": \"AK\", \"country\": \"USA\", \"total_fatalities\": 1, \"latimes_make\": \"ROBINSON\", \"latimes_model\": \"R44\", \"latimes_make_and_model\": \"ROBINSON R44\"}, {\"event_id\": \"20140612X31159\", \"ntsb_make\": \"BELL\", \"ntsb_model\": \"206 L4\", \"ntsb_number\": \"CEN14FA286\", \"year\": 2014, \"date\": \"2014-06-11T00:00:00\", \"city\": \"SOUTH TIMBALIER PLATFORM\", \"state\": \"GM\", \"country\": \"USA\", \"total_fatalities\": 2, \"latimes_make\": \"BELL\", \"latimes_model\": \"206\", \"latimes_make_and_model\": \"BELL 206\"}, {\"event_id\": \"20150101X15630\", \"ntsb_make\": \"BELL\", \"ntsb_model\": \"206\", \"ntsb_number\": \"WPR15FA072\", \"year\": 2014, \"date\": \"2014-12-31T00:00:00\", \"city\": \"BENSON\", \"state\": \"AZ\", \"country\": \"USA\", \"total_fatalities\": 2, \"latimes_make\": \"BELL\", \"latimes_model\": \"206\", \"latimes_make_and_model\": \"BELL 206\"}, {\"event_id\": \"20140819X50947\", \"ntsb_make\": \"MCDONNELL DOUGLAS HELICOPTER\", \"ntsb_model\": \"369E\", \"ntsb_number\": \"ERA14FA396\", \"year\": 2014, \"date\": \"2014-08-19T00:00:00\", \"city\": \"NORTHPORT\", \"state\": \"AL\", \"country\": \"USA\", \"total_fatalities\": 2, \"latimes_make\": \"MCDONNELL DOUGLAS\", \"latimes_model\": \"369\", \"latimes_make_and_model\": \"MCDONNELL DOUGLAS 369\"}, {\"event_id\": \"20140407X83620\", \"ntsb_make\": \"ROBINSON HELICOPTER\", \"ntsb_model\": \"R22 BETA\", \"ntsb_number\": \"WPR14FA158\", \"year\": 2014, \"date\": \"2014-04-06T00:00:00\", \"city\": \"GREEN RIVER\", \"state\": \"UT\", \"country\": \"USA\", \"total_fatalities\": 2, \"latimes_make\": \"ROBINSON\", \"latimes_model\": \"R22\", \"latimes_make_and_model\": \"ROBINSON R22\"}, {\"event_id\": \"20140208X05221\", \"ntsb_make\": \"ROBINSON HELICOPTER COMPANY\", \"ntsb_model\": \"R44 II\", \"ntsb_number\": \"ERA14FA115\", \"year\": 2014, \"date\": \"2014-02-08T00:00:00\", \"city\": \"PANACEA\", \"state\": \"FL\", \"country\": \"USA\", \"total_fatalities\": 2, \"latimes_make\": \"ROBINSON\", \"latimes_model\": \"R44\", \"latimes_make_and_model\": \"ROBINSON R44\"}, {\"event_id\": \"20141023X01333\", \"ntsb_make\": \"ROBINSON HELICOPTER COMPANY\", \"ntsb_model\": \"R44 II\", \"ntsb_number\": \"ERA15FA025\", \"year\": 2014, \"date\": \"2014-10-23T00:00:00\", \"city\": \"FREDERICK\", \"state\": \"MD\", \"country\": \"USA\", \"total_fatalities\": 3, \"latimes_make\": \"ROBINSON\", \"latimes_model\": \"R44\", \"latimes_make_and_model\": \"ROBINSON R44\"}, {\"event_id\": \"20140518X03315\", \"ntsb_make\": \"AMERICAN EUROCOPTER CORP\", \"ntsb_model\": \"AS350B3\", \"ntsb_number\": \"WPR14FA195\", \"year\": 2014, \"date\": \"2014-05-18T00:00:00\", \"city\": \"PEACH SPRINGS\", \"state\": \"AZ\", \"country\": \"USA\", \"total_fatalities\": 1, \"latimes_make\": \"AIRBUS\", \"latimes_model\": \"350\", \"latimes_make_and_model\": \"AIRBUS 350\"}, {\"event_id\": \"20140723X81618\", \"ntsb_make\": \"BELL\", \"ntsb_model\": \"206A\", \"ntsb_number\": \"WPR14FA310\", \"year\": 2014, \"date\": \"2014-07-23T00:00:00\", \"city\": \"WENATCHEE\", \"state\": \"WA\", \"country\": \"USA\", \"total_fatalities\": 1, \"latimes_make\": \"BELL\", \"latimes_model\": \"206\", \"latimes_make_and_model\": \"BELL 206\"}, {\"event_id\": \"20141202X73240\", \"ntsb_make\": \"ROBINSON HELICOPTER COMPANY\", \"ntsb_model\": \"R44\", \"ntsb_number\": \"WPR15FA051\", \"year\": 2014, \"date\": \"2014-12-02T00:00:00\", \"city\": \"BOUNTIFUL\", \"state\": \"UT\", \"country\": \"USA\", \"total_fatalities\": 2, \"latimes_make\": \"ROBINSON\", \"latimes_model\": \"R44\", \"latimes_make_and_model\": \"ROBINSON R44\"}, {\"event_id\": \"20141229X15321\", \"ntsb_make\": \"ROBINSON HELICOPTER\", \"ntsb_model\": \"R22 BETA\", \"ntsb_number\": \"ERA15FA085\", \"year\": 2014, \"date\": \"2014-12-29T00:00:00\", \"city\": \"LAKE WORTH\", \"state\": \"FL\", \"country\": \"USA\", \"total_fatalities\": 1, \"latimes_make\": \"ROBINSON\", \"latimes_model\": \"R22\", \"latimes_make_and_model\": \"ROBINSON R22\"}, {\"event_id\": \"20141004X60516\", \"ntsb_make\": \"BELL HELICOPTER TEXTRON\", \"ntsb_model\": \"206L 1\", \"ntsb_number\": \"CEN15FA003\", \"year\": 2014, \"date\": \"2014-10-04T00:00:00\", \"city\": \"WICHITA FALLS\", \"state\": \"TX\", \"country\": \"USA\", \"total_fatalities\": 3, \"latimes_make\": \"BELL\", \"latimes_model\": \"206\", \"latimes_make_and_model\": \"BELL 206\"}, {\"event_id\": \"20140908X10448\", \"ntsb_make\": \"ROBINSON HELICOPTER COMPANY\", \"ntsb_model\": \"R44 II\", \"ntsb_number\": \"CEN14LA487\", \"year\": 2014, \"date\": \"2014-09-06T00:00:00\", \"city\": \"MACEDONIA\", \"state\": \"IA\", \"country\": \"USA\", \"total_fatalities\": 1, \"latimes_make\": \"ROBINSON\", \"latimes_model\": \"R44\", \"latimes_make_and_model\": \"ROBINSON R44\"}, {\"event_id\": \"20140717X70001\", \"ntsb_make\": \"AGUSTA SPA\", \"ntsb_model\": \"A109E\", \"ntsb_number\": \"CEN14FA369\", \"year\": 2014, \"date\": \"2014-07-17T00:00:00\", \"city\": \"NEWKIRK\", \"state\": \"NM\", \"country\": \"USA\", \"total_fatalities\": 3, \"latimes_make\": \"AGUSTA\", \"latimes_model\": \"109\", \"latimes_make_and_model\": \"AGUSTA 109\"}, {\"event_id\": \"20150110X10017\", \"ntsb_make\": \"ROBINSON HELICOPTER\", \"ntsb_model\": \"R22 BETA\", \"ntsb_number\": \"ERA15FA096\", \"year\": 2015, \"date\": \"2015-01-10T00:00:00\", \"city\": \"CATANO\", \"state\": \"PR\", \"country\": \"USA\", \"total_fatalities\": 1, \"latimes_make\": \"ROBINSON\", \"latimes_model\": \"R22\", \"latimes_make_and_model\": \"ROBINSON R22\"}, {\"event_id\": \"20150703X00859\", \"ntsb_make\": \"AIRBUS HELICOPTERS INC\", \"ntsb_model\": \"AS350B3E\", \"ntsb_number\": \"CEN15MA290\", \"year\": 2015, \"date\": \"2015-07-03T00:00:00\", \"city\": \"FRISCO\", \"state\": \"CO\", \"country\": \"USA\", \"total_fatalities\": 1, \"latimes_make\": \"AIRBUS\", \"latimes_model\": \"350\", \"latimes_make_and_model\": \"AIRBUS 350\"}, {\"event_id\": \"20150308X10201\", \"ntsb_make\": \"AIRBUS HELICOPTERS (EUROCOPTE\", \"ntsb_model\": \"EC-130-B4\", \"ntsb_number\": \"CEN15FA164\", \"year\": 2015, \"date\": \"2015-03-06T00:00:00\", \"city\": \"ST LOUIS\", \"state\": \"MO\", \"country\": \"USA\", \"total_fatalities\": 1, \"latimes_make\": \"AIRBUS\", \"latimes_model\": \"130\", \"latimes_make_and_model\": \"AIRBUS 130\"}, {\"event_id\": \"20150330X73700\", \"ntsb_make\": \"BELL HELICOPTER TEXTRON\", \"ntsb_model\": \"206 L-1\", \"ntsb_number\": \"ERA15FA173\", \"year\": 2015, \"date\": \"2015-03-30T00:00:00\", \"city\": \"SAUCIER\", \"state\": \"MS\", \"country\": \"USA\", \"total_fatalities\": 2, \"latimes_make\": \"BELL\", \"latimes_model\": \"206\", \"latimes_make_and_model\": \"BELL 206\"}, {\"event_id\": \"20150702X24434\", \"ntsb_make\": \"SCHWEIZER\", \"ntsb_model\": \"269C\", \"ntsb_number\": \"WPR15FA205\", \"year\": 2015, \"date\": \"2015-07-01T00:00:00\", \"city\": \"NEWBERG\", \"state\": \"OR\", \"country\": \"USA\", \"total_fatalities\": 2, \"latimes_make\": \"SCHWEIZER\", \"latimes_model\": \"269\", \"latimes_make_and_model\": \"SCHWEIZER 269\"}, {\"event_id\": \"20150313X72113\", \"ntsb_make\": \"EUROCOPTER\", \"ntsb_model\": \"AS 350 B2\", \"ntsb_number\": \"CEN15FA171\", \"year\": 2015, \"date\": \"2015-03-12T00:00:00\", \"city\": \"EUFAULA\", \"state\": \"OK\", \"country\": \"USA\", \"total_fatalities\": 1, \"latimes_make\": \"AIRBUS\", \"latimes_model\": \"350\", \"latimes_make_and_model\": \"AIRBUS 350\"}, {\"event_id\": \"20151211X13514\", \"ntsb_make\": \"BELL\", \"ntsb_model\": \"407\", \"ntsb_number\": \"WPR16FA037\", \"year\": 2015, \"date\": \"2015-12-10T00:00:00\", \"city\": \"MCFARLAND\", \"state\": \"CA\", \"country\": \"USA\", \"total_fatalities\": 4, \"latimes_make\": \"BELL\", \"latimes_model\": \"407\", \"latimes_make_and_model\": \"BELL 407\"}, {\"event_id\": \"20150322X92548\", \"ntsb_make\": \"ROBINSON HELICOPTER COMPANY\", \"ntsb_model\": \"R44 II\", \"ntsb_number\": \"ERA15FA164\", \"year\": 2015, \"date\": \"2015-03-22T00:00:00\", \"city\": \"ORLANDO\", \"state\": \"FL\", \"country\": \"USA\", \"total_fatalities\": 3, \"latimes_make\": \"ROBINSON\", \"latimes_model\": \"R44\", \"latimes_make_and_model\": \"ROBINSON R44\"}, {\"event_id\": \"20151216X13718\", \"ntsb_make\": \"AIRBUS HELICOPTERS\", \"ntsb_model\": \"AS350\", \"ntsb_number\": \"WPR16FA040\", \"year\": 2015, \"date\": \"2015-12-15T00:00:00\", \"city\": \"SUPERIOR\", \"state\": \"AZ\", \"country\": \"USA\", \"total_fatalities\": 2, \"latimes_make\": \"AIRBUS\", \"latimes_model\": \"350\", \"latimes_make_and_model\": \"AIRBUS 350\"}, {\"event_id\": \"20150407X12857\", \"ntsb_make\": \"HUGHES\", \"ntsb_model\": \"369D\", \"ntsb_number\": \"ERA15FA178\", \"year\": 2015, \"date\": \"2015-04-06T00:00:00\", \"city\": \"CHEROKEE\", \"state\": \"AL\", \"country\": \"USA\", \"total_fatalities\": 1, \"latimes_make\": \"HUGHES\", \"latimes_model\": \"369\", \"latimes_make_and_model\": \"HUGHES 369\"}, {\"event_id\": \"20151118X05037\", \"ntsb_make\": \"AIRBUS HELICOPTERS\", \"ntsb_model\": \"AS350B3E\", \"ntsb_number\": \"WPR16FA029\", \"year\": 2015, \"date\": \"2015-11-18T00:00:00\", \"city\": \"CARLSBAD\", \"state\": \"CA\", \"country\": \"USA\", \"total_fatalities\": 2, \"latimes_make\": \"AIRBUS\", \"latimes_model\": \"350\", \"latimes_make_and_model\": \"AIRBUS 350\"}, {\"event_id\": \"20161116X00108\", \"ntsb_make\": \"HUGHES\", \"ntsb_model\": \"369D/500D\", \"ntsb_number\": \"WPR17FA021\", \"year\": 2016, \"date\": \"2016-11-15T00:00:00\", \"city\": \"PUKOO\", \"state\": \"HI\", \"country\": \"USA\", \"total_fatalities\": 2, \"latimes_make\": \"HUGHES\", \"latimes_model\": \"369\", \"latimes_make_and_model\": \"HUGHES 369\"}, {\"event_id\": \"20160326X80544\", \"ntsb_make\": \"EUROCOPTER\", \"ntsb_model\": \"AS 350 B2\", \"ntsb_number\": \"ERA16FA140\", \"year\": 2016, \"date\": \"2016-03-26T00:00:00\", \"city\": \"ENTERPRISE\", \"state\": \"AL\", \"country\": \"USA\", \"total_fatalities\": 4, \"latimes_make\": \"AIRBUS\", \"latimes_model\": \"350\", \"latimes_make_and_model\": \"AIRBUS 350\"}, {\"event_id\": \"20160504X30424\", \"ntsb_make\": \"MCDONNELL DOUGLAS HELICOPTER\", \"ntsb_model\": \"369E\", \"ntsb_number\": \"CEN16FA171\", \"year\": 2016, \"date\": \"2016-05-04T00:00:00\", \"city\": \"REEDSVILLE\", \"state\": \"WI\", \"country\": \"USA\", \"total_fatalities\": 1, \"latimes_make\": \"MCDONNELL DOUGLAS\", \"latimes_model\": \"369\", \"latimes_make_and_model\": \"MCDONNELL DOUGLAS 369\"}, {\"event_id\": \"20160328X03918\", \"ntsb_make\": \"ROBINSON\", \"ntsb_model\": \"R44\", \"ntsb_number\": \"ERA16FA143\", \"year\": 2016, \"date\": \"2016-03-27T00:00:00\", \"city\": \"CANADENSIS\", \"state\": \"PA\", \"country\": \"USA\", \"total_fatalities\": 1, \"latimes_make\": \"ROBINSON\", \"latimes_model\": \"R44\", \"latimes_make_and_model\": \"ROBINSON R44\"}, {\"event_id\": \"20160218X71040\", \"ntsb_make\": \"BELL\", \"ntsb_model\": \"206B\", \"ntsb_number\": \"WPR16FA072\", \"year\": 2016, \"date\": \"2016-02-18T00:00:00\", \"city\": \"HONOLULU\", \"state\": \"HI\", \"country\": \"USA\", \"total_fatalities\": 1, \"latimes_make\": \"BELL\", \"latimes_model\": \"206\", \"latimes_make_and_model\": \"BELL 206\"}, {\"event_id\": \"20160711X32921\", \"ntsb_make\": \"BELL HELICOPTER TEXTRON CANADA\", \"ntsb_model\": \"407\", \"ntsb_number\": \"ERA16FA248\", \"year\": 2016, \"date\": \"2016-07-11T00:00:00\", \"city\": \"HICKORY\", \"state\": \"KY\", \"country\": \"USA\", \"total_fatalities\": 1, \"latimes_make\": \"BELL\", \"latimes_model\": \"407\", \"latimes_make_and_model\": \"BELL 407\"}, {\"event_id\": \"20160804X45514\", \"ntsb_make\": \"SCHWEIZER\", \"ntsb_model\": \"269C 1\", \"ntsb_number\": \"CEN16FA304\", \"year\": 2016, \"date\": \"2016-08-03T00:00:00\", \"city\": \"JEANERETTE\", \"state\": \"LA\", \"country\": \"USA\", \"total_fatalities\": 1, \"latimes_make\": \"SCHWEIZER\", \"latimes_model\": \"269\", \"latimes_make_and_model\": \"SCHWEIZER 269\"}, {\"event_id\": \"20160404X74644\", \"ntsb_make\": \"BELL\", \"ntsb_model\": \"206\", \"ntsb_number\": \"ERA16FA144\", \"year\": 2016, \"date\": \"2016-04-04T00:00:00\", \"city\": \"PIGEON FORGE\", \"state\": \"TN\", \"country\": \"USA\", \"total_fatalities\": 5, \"latimes_make\": \"BELL\", \"latimes_model\": \"206\", \"latimes_make_and_model\": \"BELL 206\"}, {\"event_id\": \"20160507X31120\", \"ntsb_make\": \"AIRBUS\", \"ntsb_model\": \"AS350\", \"ntsb_number\": \"ANC16FA023\", \"year\": 2016, \"date\": \"2016-05-06T00:00:00\", \"city\": \"SKAGWAY\", \"state\": \"AK\", \"country\": \"USA\", \"total_fatalities\": 1, \"latimes_make\": \"AIRBUS\", \"latimes_model\": \"350\", \"latimes_make_and_model\": \"AIRBUS 350\"}, {\"event_id\": \"20160612X85856\", \"ntsb_make\": \"ROBINSON HELICOPTER COMPANY\", \"ntsb_model\": \"R44 II\", \"ntsb_number\": \"CEN16FA215\", \"year\": 2016, \"date\": \"2016-06-12T00:00:00\", \"city\": \"JONESBORO\", \"state\": \"AR\", \"country\": \"USA\", \"total_fatalities\": 1, \"latimes_make\": \"ROBINSON\", \"latimes_model\": \"R44\", \"latimes_make_and_model\": \"ROBINSON R44\"}]}}, {\"mode\": \"vega-lite\"});\n",
       "</script>"
      ],
      "text/plain": [
       "alt.Chart(...)"
      ]
     },
     "execution_count": 81,
     "metadata": {},
     "output_type": "execute_result"
    }
   ],
   "source": [
    "alt.Chart(accident_list).mark_bar().encode(\n",
    "  x=\"date\",\n",
    "  y=\"sum(total_fatalities)\"\n",
    ")"
   ]
  },
  {
   "cell_type": "code",
   "execution_count": 82,
   "id": "292f44fa-91a3-49d7-b645-23501cb9069a",
   "metadata": {},
   "outputs": [
    {
     "data": {
      "text/html": [
       "\n",
       "<div id=\"altair-viz-8fc4e76064d4490aae642bccdd2e8eb8\"></div>\n",
       "<script type=\"text/javascript\">\n",
       "  var VEGA_DEBUG = (typeof VEGA_DEBUG == \"undefined\") ? {} : VEGA_DEBUG;\n",
       "  (function(spec, embedOpt){\n",
       "    let outputDiv = document.currentScript.previousElementSibling;\n",
       "    if (outputDiv.id !== \"altair-viz-8fc4e76064d4490aae642bccdd2e8eb8\") {\n",
       "      outputDiv = document.getElementById(\"altair-viz-8fc4e76064d4490aae642bccdd2e8eb8\");\n",
       "    }\n",
       "    const paths = {\n",
       "      \"vega\": \"https://cdn.jsdelivr.net/npm//vega@5?noext\",\n",
       "      \"vega-lib\": \"https://cdn.jsdelivr.net/npm//vega-lib?noext\",\n",
       "      \"vega-lite\": \"https://cdn.jsdelivr.net/npm//vega-lite@4.17.0?noext\",\n",
       "      \"vega-embed\": \"https://cdn.jsdelivr.net/npm//vega-embed@6?noext\",\n",
       "    };\n",
       "\n",
       "    function maybeLoadScript(lib, version) {\n",
       "      var key = `${lib.replace(\"-\", \"\")}_version`;\n",
       "      return (VEGA_DEBUG[key] == version) ?\n",
       "        Promise.resolve(paths[lib]) :\n",
       "        new Promise(function(resolve, reject) {\n",
       "          var s = document.createElement('script');\n",
       "          document.getElementsByTagName(\"head\")[0].appendChild(s);\n",
       "          s.async = true;\n",
       "          s.onload = () => {\n",
       "            VEGA_DEBUG[key] = version;\n",
       "            return resolve(paths[lib]);\n",
       "          };\n",
       "          s.onerror = () => reject(`Error loading script: ${paths[lib]}`);\n",
       "          s.src = paths[lib];\n",
       "        });\n",
       "    }\n",
       "\n",
       "    function showError(err) {\n",
       "      outputDiv.innerHTML = `<div class=\"error\" style=\"color:red;\">${err}</div>`;\n",
       "      throw err;\n",
       "    }\n",
       "\n",
       "    function displayChart(vegaEmbed) {\n",
       "      vegaEmbed(outputDiv, spec, embedOpt)\n",
       "        .catch(err => showError(`Javascript Error: ${err.message}<br>This usually means there's a typo in your chart specification. See the javascript console for the full traceback.`));\n",
       "    }\n",
       "\n",
       "    if(typeof define === \"function\" && define.amd) {\n",
       "      requirejs.config({paths});\n",
       "      require([\"vega-embed\"], displayChart, err => showError(`Error loading script: ${err.message}`));\n",
       "    } else {\n",
       "      maybeLoadScript(\"vega\", \"5\")\n",
       "        .then(() => maybeLoadScript(\"vega-lite\", \"4.17.0\"))\n",
       "        .then(() => maybeLoadScript(\"vega-embed\", \"6\"))\n",
       "        .catch(showError)\n",
       "        .then(() => displayChart(vegaEmbed));\n",
       "    }\n",
       "  })({\"config\": {\"view\": {\"continuousWidth\": 400, \"continuousHeight\": 300}}, \"data\": {\"name\": \"data-49d7b582b842daa784cce4db1dfe2d51\"}, \"mark\": \"bar\", \"encoding\": {\"x\": {\"field\": \"date\", \"timeUnit\": \"yearmonth\", \"type\": \"temporal\"}, \"y\": {\"aggregate\": \"sum\", \"field\": \"total_fatalities\", \"type\": \"quantitative\"}}, \"$schema\": \"https://vega.github.io/schema/vega-lite/v4.17.0.json\", \"datasets\": {\"data-49d7b582b842daa784cce4db1dfe2d51\": [{\"event_id\": \"20061222X01838\", \"ntsb_make\": \"BELL\", \"ntsb_model\": \"407\", \"ntsb_number\": \"NYC07FA048\", \"year\": 2006, \"date\": \"2006-12-14T00:00:00\", \"city\": \"DAGSBORO\", \"state\": \"DE\", \"country\": \"USA\", \"total_fatalities\": 2, \"latimes_make\": \"BELL\", \"latimes_model\": \"407\", \"latimes_make_and_model\": \"BELL 407\"}, {\"event_id\": \"20060817X01187\", \"ntsb_make\": \"ROBINSON\", \"ntsb_model\": \"R22 BETA\", \"ntsb_number\": \"LAX06LA257\", \"year\": 2006, \"date\": \"2006-08-10T00:00:00\", \"city\": \"TUCSON\", \"state\": \"AZ\", \"country\": \"USA\", \"total_fatalities\": 1, \"latimes_make\": \"ROBINSON\", \"latimes_model\": \"R22\", \"latimes_make_and_model\": \"ROBINSON R22\"}, {\"event_id\": \"20060111X00044\", \"ntsb_make\": \"ROBINSON\", \"ntsb_model\": \"R44\", \"ntsb_number\": \"MIA06FA039\", \"year\": 2006, \"date\": \"2006-01-01T00:00:00\", \"city\": \"GRAND RIDGE\", \"state\": \"FL\", \"country\": \"USA\", \"total_fatalities\": 3, \"latimes_make\": \"ROBINSON\", \"latimes_model\": \"R44\", \"latimes_make_and_model\": \"ROBINSON R44\"}, {\"event_id\": \"20060419X00461\", \"ntsb_make\": \"ROBINSON\", \"ntsb_model\": \"R44 II\", \"ntsb_number\": \"DFW06FA102\", \"year\": 2006, \"date\": \"2006-04-13T00:00:00\", \"city\": \"FREDERICKSBURG\", \"state\": \"TX\", \"country\": \"USA\", \"total_fatalities\": 2, \"latimes_make\": \"ROBINSON\", \"latimes_model\": \"R44\", \"latimes_make_and_model\": \"ROBINSON R44\"}, {\"event_id\": \"20060208X00181\", \"ntsb_make\": \"ROBINSON\", \"ntsb_model\": \"R44\", \"ntsb_number\": \"SEA06LA052\", \"year\": 2006, \"date\": \"2006-02-06T00:00:00\", \"city\": \"HELENA\", \"state\": \"MT\", \"country\": \"USA\", \"total_fatalities\": 1, \"latimes_make\": \"ROBINSON\", \"latimes_model\": \"R44\", \"latimes_make_and_model\": \"ROBINSON R44\"}, {\"event_id\": \"20060228X00255\", \"ntsb_make\": \"ROBINSON\", \"ntsb_model\": \"R22\", \"ntsb_number\": \"ANC06FA020\", \"year\": 2006, \"date\": \"2006-02-22T00:00:00\", \"city\": \"SCOTTSDALE\", \"state\": \"AZ\", \"country\": \"USA\", \"total_fatalities\": 2, \"latimes_make\": \"ROBINSON\", \"latimes_model\": \"R22\", \"latimes_make_and_model\": \"ROBINSON R22\"}, {\"event_id\": \"20060824X01237\", \"ntsb_make\": \"EUROCOPTER\", \"ntsb_model\": \"AS-350-B3\", \"ntsb_number\": \"SEA06GA158\", \"year\": 2006, \"date\": \"2006-08-13T00:00:00\", \"city\": \"YELLOW PINE\", \"state\": \"ID\", \"country\": \"USA\", \"total_fatalities\": 4, \"latimes_make\": \"AIRBUS\", \"latimes_model\": \"350\", \"latimes_make_and_model\": \"AIRBUS 350\"}, {\"event_id\": \"20060916X01352\", \"ntsb_make\": \"HUGHES\", \"ntsb_model\": \"369D\", \"ntsb_number\": \"LAX06LA288\", \"year\": 2006, \"date\": \"2006-09-06T00:00:00\", \"city\": \"SOMIS\", \"state\": \"CA\", \"country\": \"USA\", \"total_fatalities\": 2, \"latimes_make\": \"HUGHES\", \"latimes_model\": \"369\", \"latimes_make_and_model\": \"HUGHES 369\"}, {\"event_id\": \"20061122X01705\", \"ntsb_make\": \"HUGHES\", \"ntsb_model\": \"369E\", \"ntsb_number\": \"SEA07LA021\", \"year\": 2006, \"date\": \"2006-11-21T00:00:00\", \"city\": \"JENSEN\", \"state\": \"UT\", \"country\": \"USA\", \"total_fatalities\": 1, \"latimes_make\": \"HUGHES\", \"latimes_model\": \"369\", \"latimes_make_and_model\": \"HUGHES 369\"}, {\"event_id\": \"20060306X00268\", \"ntsb_make\": \"SCHWEIZER\", \"ntsb_model\": \"269C-1\", \"ntsb_number\": \"LAX06LA123\", \"year\": 2006, \"date\": \"2006-02-25T00:00:00\", \"city\": \"VALENCIA\", \"state\": \"CA\", \"country\": \"USA\", \"total_fatalities\": 1, \"latimes_make\": \"SCHWEIZER\", \"latimes_model\": \"269\", \"latimes_make_and_model\": \"SCHWEIZER 269\"}, {\"event_id\": \"20060607X00691\", \"ntsb_make\": \"EUROCOPTER\", \"ntsb_model\": \"EC-135P1\", \"ntsb_number\": \"NYC06MA131\", \"year\": 2006, \"date\": \"2006-05-30T00:00:00\", \"city\": \"WASHINGTON\", \"state\": \"DC\", \"country\": \"USA\", \"total_fatalities\": 1, \"latimes_make\": \"AIRBUS\", \"latimes_model\": \"135\", \"latimes_make_and_model\": \"AIRBUS 135\"}, {\"event_id\": \"20060419X00457\", \"ntsb_make\": \"ROBINSON\", \"ntsb_model\": \"R22 BETA\", \"ntsb_number\": \"CHI06FA109\", \"year\": 2006, \"date\": \"2006-04-13T00:00:00\", \"city\": \"CHELSEA\", \"state\": \"MI\", \"country\": \"USA\", \"total_fatalities\": 2, \"latimes_make\": \"ROBINSON\", \"latimes_model\": \"R22\", \"latimes_make_and_model\": \"ROBINSON R22\"}, {\"event_id\": \"20060705X00868\", \"ntsb_make\": \"BELL\", \"ntsb_model\": \"206B\", \"ntsb_number\": \"CHI06FA173\", \"year\": 2006, \"date\": \"2006-06-30T00:00:00\", \"city\": \"WALFORD\", \"state\": \"IA\", \"country\": \"USA\", \"total_fatalities\": 1, \"latimes_make\": \"BELL\", \"latimes_model\": \"206\", \"latimes_make_and_model\": \"BELL 206\"}, {\"event_id\": \"20060817X01202\", \"ntsb_make\": \"ROBINSON\", \"ntsb_model\": \"R44 II\", \"ntsb_number\": \"SEA06FA159\", \"year\": 2006, \"date\": \"2006-08-13T00:00:00\", \"city\": \"WARRENTON\", \"state\": \"OR\", \"country\": \"USA\", \"total_fatalities\": 3, \"latimes_make\": \"ROBINSON\", \"latimes_model\": \"R44\", \"latimes_make_and_model\": \"ROBINSON R44\"}, {\"event_id\": \"20060320X00323\", \"ntsb_make\": \"BELL\", \"ntsb_model\": \"206L-1\", \"ntsb_number\": \"DFW06FA083\", \"year\": 2006, \"date\": \"2006-03-14T00:00:00\", \"city\": \"PATTERSON\", \"state\": \"LA\", \"country\": \"USA\", \"total_fatalities\": 2, \"latimes_make\": \"BELL\", \"latimes_model\": \"206\", \"latimes_make_and_model\": \"BELL 206\"}, {\"event_id\": \"20060209X00187\", \"ntsb_make\": \"ROBINSON\", \"ntsb_model\": \"R44 II\", \"ntsb_number\": \"LAX06FA104\", \"year\": 2006, \"date\": \"2006-02-07T00:00:00\", \"city\": \"MINDEN\", \"state\": \"NV\", \"country\": \"USA\", \"total_fatalities\": 1, \"latimes_make\": \"ROBINSON\", \"latimes_model\": \"R44\", \"latimes_make_and_model\": \"ROBINSON R44\"}, {\"event_id\": \"20060510X00540\", \"ntsb_make\": \"ROBINSON\", \"ntsb_model\": \"R44 RAVEN II\", \"ntsb_number\": \"LAX06FA156\", \"year\": 2006, \"date\": \"2006-05-01T00:00:00\", \"city\": \"DESERT CENTER\", \"state\": \"CA\", \"country\": \"USA\", \"total_fatalities\": 2, \"latimes_make\": \"ROBINSON\", \"latimes_model\": \"R44\", \"latimes_make_and_model\": \"ROBINSON R44\"}, {\"event_id\": \"20060905X01290\", \"ntsb_make\": \"EUROCOPTER FRANCE\", \"ntsb_model\": \"AS350 B2\", \"ntsb_number\": \"ANC06GA121\", \"year\": 2006, \"date\": \"2006-08-21T00:00:00\", \"city\": \"NUIQSUT\", \"state\": \"AK\", \"country\": \"USA\", \"total_fatalities\": 1, \"latimes_make\": \"AIRBUS\", \"latimes_model\": \"350\", \"latimes_make_and_model\": \"AIRBUS 350\"}, {\"event_id\": \"20061012X01505\", \"ntsb_make\": \"ROBINSON\", \"ntsb_model\": \"R44\", \"ntsb_number\": \"SEA07FA006\", \"year\": 2006, \"date\": \"2006-10-08T00:00:00\", \"city\": \"SUMNER\", \"state\": \"WA\", \"country\": \"USA\", \"total_fatalities\": 1, \"latimes_make\": \"ROBINSON\", \"latimes_model\": \"R44\", \"latimes_make_and_model\": \"ROBINSON R44\"}, {\"event_id\": \"20060605X00682\", \"ntsb_make\": \"BELL\", \"ntsb_model\": \"206L-3\", \"ntsb_number\": \"DFW06IA145\", \"year\": 2006, \"date\": \"2006-05-30T00:00:00\", \"city\": \"GRAND ISLE 43AA\", \"state\": \"GM\", \"country\": \"USA\", \"total_fatalities\": 1, \"latimes_make\": \"BELL\", \"latimes_model\": \"206\", \"latimes_make_and_model\": \"BELL 206\"}, {\"event_id\": \"20070612X00715\", \"ntsb_make\": \"HUGHES\", \"ntsb_model\": \"369D\", \"ntsb_number\": \"SEA07LA135\", \"year\": 2007, \"date\": \"2007-05-28T00:00:00\", \"city\": \"COLUMBUS\", \"state\": \"MT\", \"country\": \"USA\", \"total_fatalities\": 1, \"latimes_make\": \"HUGHES\", \"latimes_model\": \"369\", \"latimes_make_and_model\": \"HUGHES 369\"}, {\"event_id\": \"20070605X00681\", \"ntsb_make\": \"HUGHES\", \"ntsb_model\": \"369A\", \"ntsb_number\": \"MIA07FA098\", \"year\": 2007, \"date\": \"2007-05-13T00:00:00\", \"city\": \"MOULTON\", \"state\": \"AL\", \"country\": \"USA\", \"total_fatalities\": 1, \"latimes_make\": \"HUGHES\", \"latimes_model\": \"369\", \"latimes_make_and_model\": \"HUGHES 369\"}, {\"event_id\": \"20071119X01805\", \"ntsb_make\": \"ROBINSON HELICOPTER\", \"ntsb_model\": \"R44\", \"ntsb_number\": \"NYC08FA026\", \"year\": 2007, \"date\": \"2007-11-05T00:00:00\", \"city\": \"JAMESTOWN\", \"state\": \"TN\", \"country\": \"USA\", \"total_fatalities\": 3, \"latimes_make\": \"ROBINSON\", \"latimes_model\": \"R44\", \"latimes_make_and_model\": \"ROBINSON R44\"}, {\"event_id\": \"20070430X00482\", \"ntsb_make\": \"ROBINSON HELICOPTER COMPANY\", \"ntsb_model\": \"R44 II\", \"ntsb_number\": \"CHI07FA114\", \"year\": 2007, \"date\": \"2007-04-22T00:00:00\", \"city\": \"BASS LAKE\", \"state\": \"IN\", \"country\": \"USA\", \"total_fatalities\": 2, \"latimes_make\": \"ROBINSON\", \"latimes_model\": \"R44\", \"latimes_make_and_model\": \"ROBINSON R44\"}, {\"event_id\": \"20070322X00320\", \"ntsb_make\": \"MCDONNELL DOUGLAS\", \"ntsb_model\": \"369FF\", \"ntsb_number\": \"CHI07MA083\", \"year\": 2007, \"date\": \"2007-03-11T00:00:00\", \"city\": \"HAENA\", \"state\": \"HI\", \"country\": \"USA\", \"total_fatalities\": 1, \"latimes_make\": \"MCDONNELL DOUGLAS\", \"latimes_model\": \"369\", \"latimes_make_and_model\": \"MCDONNELL DOUGLAS 369\"}, {\"event_id\": \"20071231X02014\", \"ntsb_make\": \"BELL\", \"ntsb_model\": \"206L1\", \"ntsb_number\": \"DFW08FA053\", \"year\": 2007, \"date\": \"2007-12-29T00:00:00\", \"city\": \"VENICE\", \"state\": \"LA\", \"country\": \"USA\", \"total_fatalities\": 1, \"latimes_make\": \"BELL\", \"latimes_model\": \"206\", \"latimes_make_and_model\": \"BELL 206\"}, {\"event_id\": \"20070530X00664\", \"ntsb_make\": \"EUROCOPTER\", \"ntsb_model\": \"AS 350 B3\", \"ntsb_number\": \"DFW07GA119\", \"year\": 2007, \"date\": \"2007-05-22T00:00:00\", \"city\": \"SAN ELIZARIO\", \"state\": \"TX\", \"country\": \"USA\", \"total_fatalities\": 1, \"latimes_make\": \"AIRBUS\", \"latimes_model\": \"350\", \"latimes_make_and_model\": \"AIRBUS 350\"}, {\"event_id\": \"20070405X00374\", \"ntsb_make\": \"ROBINSON\", \"ntsb_model\": \"R44 II\", \"ntsb_number\": \"DEN07FA079\", \"year\": 2007, \"date\": \"2007-03-27T00:00:00\", \"city\": \"PONTE VEDRA BCH\", \"state\": \"FL\", \"country\": \"USA\", \"total_fatalities\": 2, \"latimes_make\": \"ROBINSON\", \"latimes_model\": \"R44\", \"latimes_make_and_model\": \"ROBINSON R44\"}, {\"event_id\": \"20070321X00315\", \"ntsb_make\": \"AEROSPATIALE\", \"ntsb_model\": \"AS350BA\", \"ntsb_number\": \"NYC07MA073\", \"year\": 2007, \"date\": \"2007-03-08T00:00:00\", \"city\": \"PRINCEVILLE\", \"state\": \"HI\", \"country\": \"USA\", \"total_fatalities\": 4, \"latimes_make\": \"AIRBUS\", \"latimes_model\": \"350\", \"latimes_make_and_model\": \"AIRBUS 350\"}, {\"event_id\": \"20080109X00032\", \"ntsb_make\": \"BELL\", \"ntsb_model\": \"206L-3\", \"ntsb_number\": \"NYC08FA071\", \"year\": 2007, \"date\": \"2007-12-30T00:00:00\", \"city\": \"CHEROKEE\", \"state\": \"AL\", \"country\": \"USA\", \"total_fatalities\": 3, \"latimes_make\": \"BELL\", \"latimes_model\": \"206\", \"latimes_make_and_model\": \"BELL 206\"}, {\"event_id\": \"20070920X01418\", \"ntsb_make\": \"BELL\", \"ntsb_model\": \"206B\", \"ntsb_number\": \"MIA07FA147\", \"year\": 2007, \"date\": \"2007-09-11T00:00:00\", \"city\": \"NOKOMIS\", \"state\": \"FL\", \"country\": \"USA\", \"total_fatalities\": 2, \"latimes_make\": \"BELL\", \"latimes_model\": \"206\", \"latimes_make_and_model\": \"BELL 206\"}, {\"event_id\": \"20070919X01416\", \"ntsb_make\": \"HUGHES\", \"ntsb_model\": \"369D\", \"ntsb_number\": \"LAX07LA270\", \"year\": 2007, \"date\": \"2007-09-08T00:00:00\", \"city\": \"ELLENSBURG\", \"state\": \"WA\", \"country\": \"USA\", \"total_fatalities\": 1, \"latimes_make\": \"HUGHES\", \"latimes_model\": \"369\", \"latimes_make_and_model\": \"HUGHES 369\"}, {\"event_id\": \"20070808X01151\", \"ntsb_make\": \"ROBINSON\", \"ntsb_model\": \"R44 II\", \"ntsb_number\": \"SEA07FA223\", \"year\": 2007, \"date\": \"2007-08-02T00:00:00\", \"city\": \"EASTON\", \"state\": \"WA\", \"country\": \"USA\", \"total_fatalities\": 4, \"latimes_make\": \"ROBINSON\", \"latimes_model\": \"R44\", \"latimes_make_and_model\": \"ROBINSON R44\"}, {\"event_id\": \"20071227X01994\", \"ntsb_make\": \"BELL\", \"ntsb_model\": \"407\", \"ntsb_number\": \"NYC08LA028\", \"year\": 2007, \"date\": \"2007-11-09T00:00:00\", \"city\": \"MORRISTOWN\", \"state\": \"TN\", \"country\": \"USA\", \"total_fatalities\": 1, \"latimes_make\": \"BELL\", \"latimes_model\": \"407\", \"latimes_make_and_model\": \"BELL 407\"}, {\"event_id\": \"20070802X01089\", \"ntsb_make\": \"EUROCOPTER\", \"ntsb_model\": \"AS350-B2\", \"ntsb_number\": \"LAX07MA231\", \"year\": 2007, \"date\": \"2007-07-27T00:00:00\", \"city\": \"PHOENIX\", \"state\": \"AZ\", \"country\": \"USA\", \"total_fatalities\": 4, \"latimes_make\": \"AIRBUS\", \"latimes_model\": \"350\", \"latimes_make_and_model\": \"AIRBUS 350\"}, {\"event_id\": \"20070802X01089\", \"ntsb_make\": \"EUROCOPTER\", \"ntsb_model\": \"AS350-B2\", \"ntsb_number\": \"LAX07MA231\", \"year\": 2007, \"date\": \"2007-07-27T00:00:00\", \"city\": \"PHOENIX\", \"state\": \"AZ\", \"country\": \"USA\", \"total_fatalities\": 4, \"latimes_make\": \"AIRBUS\", \"latimes_model\": \"350\", \"latimes_make_and_model\": \"AIRBUS 350\"}, {\"event_id\": \"20080529X00746\", \"ntsb_make\": \"AEROSPATIALE\", \"ntsb_model\": \"AS-350-D\", \"ntsb_number\": \"SEA08MA136\", \"year\": 2008, \"date\": \"2008-05-24T00:00:00\", \"city\": \"AVALON\", \"state\": \"CA\", \"country\": \"USA\", \"total_fatalities\": 3, \"latimes_make\": \"AIRBUS\", \"latimes_model\": \"350\", \"latimes_make_and_model\": \"AIRBUS 350\"}, {\"event_id\": \"20080819X01260\", \"ntsb_make\": \"ROBINSON HELICOPTER\", \"ntsb_model\": \"R22 BETA II\", \"ntsb_number\": \"SEA08FA185\", \"year\": 2008, \"date\": \"2008-08-17T00:00:00\", \"city\": \"OLALLA\", \"state\": \"WA\", \"country\": \"USA\", \"total_fatalities\": 1, \"latimes_make\": \"ROBINSON\", \"latimes_model\": \"R22\", \"latimes_make_and_model\": \"ROBINSON R22\"}, {\"event_id\": \"20080715X01051\", \"ntsb_make\": \"BELL\", \"ntsb_model\": \"407\", \"ntsb_number\": \"DEN08MA116\", \"year\": 2008, \"date\": \"2008-06-29T00:00:00\", \"city\": \"FLAGSTAFF\", \"state\": \"AZ\", \"country\": \"USA\", \"total_fatalities\": 7, \"latimes_make\": \"BELL\", \"latimes_model\": \"407\", \"latimes_make_and_model\": \"BELL 407\"}, {\"event_id\": \"20080715X01051\", \"ntsb_make\": \"BELL\", \"ntsb_model\": \"407\", \"ntsb_number\": \"DEN08MA116\", \"year\": 2008, \"date\": \"2008-06-29T00:00:00\", \"city\": \"FLAGSTAFF\", \"state\": \"AZ\", \"country\": \"USA\", \"total_fatalities\": 7, \"latimes_make\": \"BELL\", \"latimes_model\": \"407\", \"latimes_make_and_model\": \"BELL 407\"}, {\"event_id\": \"20080128X00108\", \"ntsb_make\": \"ROBINSON\", \"ntsb_model\": \"R44\", \"ntsb_number\": \"MIA08FA044\", \"year\": 2008, \"date\": \"2008-01-22T00:00:00\", \"city\": \"OCHOPEE\", \"state\": \"FL\", \"country\": \"USA\", \"total_fatalities\": 2, \"latimes_make\": \"ROBINSON\", \"latimes_model\": \"R44\", \"latimes_make_and_model\": \"ROBINSON R44\"}, {\"event_id\": \"20081211X45825\", \"ntsb_make\": \"BELL\", \"ntsb_model\": \"206L-4\", \"ntsb_number\": \"CEN09FA086\", \"year\": 2008, \"date\": \"2008-12-11T00:00:00\", \"city\": \"SABINE PASS\", \"state\": \"TX\", \"country\": \"USA\", \"total_fatalities\": 5, \"latimes_make\": \"BELL\", \"latimes_model\": \"206\", \"latimes_make_and_model\": \"BELL 206\"}, {\"event_id\": \"20081019X15543\", \"ntsb_make\": \"ROBINSON\", \"ntsb_model\": \"R22\", \"ntsb_number\": \"ERA09FA022\", \"year\": 2008, \"date\": \"2008-10-16T00:00:00\", \"city\": \"DRYDEN\", \"state\": \"NY\", \"country\": \"USA\", \"total_fatalities\": 1, \"latimes_make\": \"ROBINSON\", \"latimes_model\": \"R22\", \"latimes_make_and_model\": \"ROBINSON R22\"}, {\"event_id\": \"20080520X00702\", \"ntsb_make\": \"EUROCOPTER DEUTSCHLAND GMBH\", \"ntsb_model\": \"EC 135 T2+\", \"ntsb_number\": \"CHI08FA128\", \"year\": 2008, \"date\": \"2008-05-10T00:00:00\", \"city\": \"LA CROSSE\", \"state\": \"WI\", \"country\": \"USA\", \"total_fatalities\": 3, \"latimes_make\": \"AIRBUS\", \"latimes_model\": \"135\", \"latimes_make_and_model\": \"AIRBUS 135\"}, {\"event_id\": \"20080909X01417\", \"ntsb_make\": \"BELL\", \"ntsb_model\": \"206L-1\", \"ntsb_number\": \"CHI08FA269\", \"year\": 2008, \"date\": \"2008-08-31T00:00:00\", \"city\": \"GREENSBURG\", \"state\": \"IN\", \"country\": \"USA\", \"total_fatalities\": 3, \"latimes_make\": \"BELL\", \"latimes_model\": \"206\", \"latimes_make_and_model\": \"BELL 206\"}, {\"event_id\": \"20080321X00357\", \"ntsb_make\": \"ROBINSON\", \"ntsb_model\": \"R22 BETA II\", \"ntsb_number\": \"NYC08FA134\", \"year\": 2008, \"date\": \"2008-03-13T00:00:00\", \"city\": \"WILMINGTON\", \"state\": \"NC\", \"country\": \"USA\", \"total_fatalities\": 1, \"latimes_make\": \"ROBINSON\", \"latimes_model\": \"R22\", \"latimes_make_and_model\": \"ROBINSON R22\"}, {\"event_id\": \"20081014X22933\", \"ntsb_make\": \"BELL\", \"ntsb_model\": \"407\", \"ntsb_number\": \"WPR09TA012\", \"year\": 2008, \"date\": \"2008-10-13T00:00:00\", \"city\": \"SEDONA\", \"state\": \"AZ\", \"country\": \"USA\", \"total_fatalities\": 1, \"latimes_make\": \"BELL\", \"latimes_model\": \"407\", \"latimes_make_and_model\": \"BELL 407\"}, {\"event_id\": \"20080505X00592\", \"ntsb_make\": \"ROBINSON\", \"ntsb_model\": \"R44\", \"ntsb_number\": \"DFW08LA122\", \"year\": 2008, \"date\": \"2008-04-28T00:00:00\", \"city\": \"BARTLETT\", \"state\": \"TX\", \"country\": \"USA\", \"total_fatalities\": 1, \"latimes_make\": \"ROBINSON\", \"latimes_model\": \"R44\", \"latimes_make_and_model\": \"ROBINSON R44\"}, {\"event_id\": \"20080710X01015\", \"ntsb_make\": \"SCHWEIZER\", \"ntsb_model\": \"269 C-1\", \"ntsb_number\": \"LAX08LA213\", \"year\": 2008, \"date\": \"2008-07-04T00:00:00\", \"city\": \"SUNOL\", \"state\": \"CA\", \"country\": \"USA\", \"total_fatalities\": 2, \"latimes_make\": \"SCHWEIZER\", \"latimes_model\": \"269\", \"latimes_make_and_model\": \"SCHWEIZER 269\"}, {\"event_id\": \"20081013X24743\", \"ntsb_make\": \"BELL\", \"ntsb_model\": \"206\", \"ntsb_number\": \"CEN09FA012\", \"year\": 2008, \"date\": \"2008-10-13T00:00:00\", \"city\": \"CONROE\", \"state\": \"TX\", \"country\": \"USA\", \"total_fatalities\": 2, \"latimes_make\": \"BELL\", \"latimes_model\": \"206\", \"latimes_make_and_model\": \"BELL 206\"}, {\"event_id\": \"20081104X60811\", \"ntsb_make\": \"ROBINSON\", \"ntsb_model\": \"R-44\", \"ntsb_number\": \"ERA09FA036\", \"year\": 2008, \"date\": \"2008-11-02T00:00:00\", \"city\": \"GALLATIN\", \"state\": \"TN\", \"country\": \"USA\", \"total_fatalities\": 1, \"latimes_make\": \"ROBINSON\", \"latimes_model\": \"R44\", \"latimes_make_and_model\": \"ROBINSON R44\"}, {\"event_id\": \"20080731X01133\", \"ntsb_make\": \"HUGHES\", \"ntsb_model\": \"369D\", \"ntsb_number\": \"LAX08FA233\", \"year\": 2008, \"date\": \"2008-07-19T00:00:00\", \"city\": \"PRICE\", \"state\": \"UT\", \"country\": \"USA\", \"total_fatalities\": 3, \"latimes_make\": \"HUGHES\", \"latimes_model\": \"369\", \"latimes_make_and_model\": \"HUGHES 369\"}, {\"event_id\": \"20080222X00227\", \"ntsb_make\": \"EUROCOPTER FRANCE\", \"ntsb_model\": \"AS350B2\", \"ntsb_number\": \"DFW08FA062\", \"year\": 2008, \"date\": \"2008-02-05T00:00:00\", \"city\": \"S. PADRE ISLAND\", \"state\": \"TX\", \"country\": \"USA\", \"total_fatalities\": 3, \"latimes_make\": \"AIRBUS\", \"latimes_model\": \"350\", \"latimes_make_and_model\": \"AIRBUS 350\"}, {\"event_id\": \"20080421X00524\", \"ntsb_make\": \"EUROCOPTER\", \"ntsb_model\": \"AS 350 B2\", \"ntsb_number\": \"ANC08FA053\", \"year\": 2008, \"date\": \"2008-04-15T00:00:00\", \"city\": \"CHICKALOON\", \"state\": \"AK\", \"country\": \"USA\", \"total_fatalities\": 4, \"latimes_make\": \"AIRBUS\", \"latimes_model\": \"350\", \"latimes_make_and_model\": \"AIRBUS 350\"}, {\"event_id\": \"20080613X00858\", \"ntsb_make\": \"BELL\", \"ntsb_model\": \"407\", \"ntsb_number\": \"DEN08FA101\", \"year\": 2008, \"date\": \"2008-06-08T00:00:00\", \"city\": \"HUNTSVILLE\", \"state\": \"TX\", \"country\": \"USA\", \"total_fatalities\": 4, \"latimes_make\": \"BELL\", \"latimes_model\": \"407\", \"latimes_make_and_model\": \"BELL 407\"}, {\"event_id\": \"20080908X01405\", \"ntsb_make\": \"ROBINSON\", \"ntsb_model\": \"R44 II\", \"ntsb_number\": \"DFW08FA218\", \"year\": 2008, \"date\": \"2008-08-29T00:00:00\", \"city\": \"RIDGEDALE\", \"state\": \"MO\", \"country\": \"USA\", \"total_fatalities\": 2, \"latimes_make\": \"ROBINSON\", \"latimes_model\": \"R44\", \"latimes_make_and_model\": \"ROBINSON R44\"}, {\"event_id\": \"20080925X01525\", \"ntsb_make\": \"ROBINSON\", \"ntsb_model\": \"R44 II\", \"ntsb_number\": \"CHI08FA293\", \"year\": 2008, \"date\": \"2008-09-21T00:00:00\", \"city\": \"KENOSHA\", \"state\": \"WI\", \"country\": \"USA\", \"total_fatalities\": 2, \"latimes_make\": \"ROBINSON\", \"latimes_model\": \"R44\", \"latimes_make_and_model\": \"ROBINSON R44\"}, {\"event_id\": \"20080201X00130\", \"ntsb_make\": \"ROBINSON HELICOPTER\", \"ntsb_model\": \"R22 BETA\", \"ntsb_number\": \"LAX08FA052\", \"year\": 2008, \"date\": \"2008-01-25T00:00:00\", \"city\": \"LOS ANGELES\", \"state\": \"CA\", \"country\": \"USA\", \"total_fatalities\": 1, \"latimes_make\": \"ROBINSON\", \"latimes_model\": \"R22\", \"latimes_make_and_model\": \"ROBINSON R22\"}, {\"event_id\": \"20091012X15520\", \"ntsb_make\": \"MCDONNELL DOUGLAS HELI CO\", \"ntsb_model\": \"369FF\", \"ntsb_number\": \"WPR10FA012\", \"year\": 2009, \"date\": \"2009-10-12T00:00:00\", \"city\": \"FOSSIL\", \"state\": \"OR\", \"country\": \"USA\", \"total_fatalities\": 1, \"latimes_make\": \"MCDONNELL DOUGLAS\", \"latimes_model\": \"369\", \"latimes_make_and_model\": \"MCDONNELL DOUGLAS 369\"}, {\"event_id\": \"20090724X05537\", \"ntsb_make\": \"ROBINSON HELICOPTER\", \"ntsb_model\": \"R44\", \"ntsb_number\": \"ERA09FA417\", \"year\": 2009, \"date\": \"2009-07-23T00:00:00\", \"city\": \"BOONSBORO\", \"state\": \"MD\", \"country\": \"USA\", \"total_fatalities\": 4, \"latimes_make\": \"ROBINSON\", \"latimes_model\": \"R44\", \"latimes_make_and_model\": \"ROBINSON R44\"}, {\"event_id\": \"20090926X65328\", \"ntsb_make\": \"EUROCOPTER\", \"ntsb_model\": \"AS-350\", \"ntsb_number\": \"ERA09FA537\", \"year\": 2009, \"date\": \"2009-09-25T00:00:00\", \"city\": \"GEORGETOWN\", \"state\": \"SC\", \"country\": \"USA\", \"total_fatalities\": 3, \"latimes_make\": \"AIRBUS\", \"latimes_model\": \"350\", \"latimes_make_and_model\": \"AIRBUS 350\"}, {\"event_id\": \"20090722X34202\", \"ntsb_make\": \"HUGHES\", \"ntsb_model\": \"369\", \"ntsb_number\": \"ERA09FA414\", \"year\": 2009, \"date\": \"2009-07-22T00:00:00\", \"city\": \"FRANKLIN\", \"state\": \"PA\", \"country\": \"USA\", \"total_fatalities\": 1, \"latimes_make\": \"HUGHES\", \"latimes_model\": \"369\", \"latimes_make_and_model\": \"HUGHES 369\"}, {\"event_id\": \"20090808X42846\", \"ntsb_make\": \"EUROCOPTER\", \"ntsb_model\": \"AS 350 BA\", \"ntsb_number\": \"ERA09MA447\", \"year\": 2009, \"date\": \"2009-08-08T00:00:00\", \"city\": \"HOBOKEN\", \"state\": \"NJ\", \"country\": \"USA\", \"total_fatalities\": 9, \"latimes_make\": \"AIRBUS\", \"latimes_model\": \"350\", \"latimes_make_and_model\": \"AIRBUS 350\"}, {\"event_id\": \"20090104X12037\", \"ntsb_make\": \"SIKORSKY\", \"ntsb_model\": \"S-76C\", \"ntsb_number\": \"CEN09MA117\", \"year\": 2009, \"date\": \"2009-01-04T00:00:00\", \"city\": \"MORGAN CITY\", \"state\": \"LA\", \"country\": \"USA\", \"total_fatalities\": 8, \"latimes_make\": \"SIKORSKY\", \"latimes_model\": \"76\", \"latimes_make_and_model\": \"SIKORSKY 76\"}, {\"event_id\": \"20091017X64138\", \"ntsb_make\": \"ROBINSON HELICOPTER\", \"ntsb_model\": \"R22 BETA\", \"ntsb_number\": \"CEN10FA019\", \"year\": 2009, \"date\": \"2009-10-14T00:00:00\", \"city\": \"TAHLEQUAH\", \"state\": \"OK\", \"country\": \"USA\", \"total_fatalities\": 2, \"latimes_make\": \"ROBINSON\", \"latimes_model\": \"R22\", \"latimes_make_and_model\": \"ROBINSON R22\"}, {\"event_id\": \"20090901X80259\", \"ntsb_make\": \"ROBINSON\", \"ntsb_model\": \"R44\", \"ntsb_number\": \"ERA09FA497\", \"year\": 2009, \"date\": \"2009-09-01T00:00:00\", \"city\": \"JACKSON\", \"state\": \"MS\", \"country\": \"USA\", \"total_fatalities\": 1, \"latimes_make\": \"ROBINSON\", \"latimes_model\": \"R44\", \"latimes_make_and_model\": \"ROBINSON R44\"}, {\"event_id\": \"20090225X75532\", \"ntsb_make\": \"HUGHES\", \"ntsb_model\": \"369F\", \"ntsb_number\": \"ERA09LA173\", \"year\": 2009, \"date\": \"2009-02-24T00:00:00\", \"city\": \"MOYOCK\", \"state\": \"NC\", \"country\": \"USA\", \"total_fatalities\": 1, \"latimes_make\": \"HUGHES\", \"latimes_model\": \"369\", \"latimes_make_and_model\": \"HUGHES 369\"}, {\"event_id\": \"20090611X91250\", \"ntsb_make\": \"ROBINSON HELICOPTER\", \"ntsb_model\": \"R22 BETA\", \"ntsb_number\": \"WPR09FA284\", \"year\": 2009, \"date\": \"2009-06-11T00:00:00\", \"city\": \"MORRISTOWN\", \"state\": \"AZ\", \"country\": \"USA\", \"total_fatalities\": 1, \"latimes_make\": \"ROBINSON\", \"latimes_model\": \"R22\", \"latimes_make_and_model\": \"ROBINSON R22\"}, {\"event_id\": \"20090920X34134\", \"ntsb_make\": \"ROBINSON HELICOPTER\", \"ntsb_model\": \"R22 BETA\", \"ntsb_number\": \"WPR09FA459\", \"year\": 2009, \"date\": \"2009-09-20T00:00:00\", \"city\": \"FOREST GROVE\", \"state\": \"OR\", \"country\": \"USA\", \"total_fatalities\": 2, \"latimes_make\": \"ROBINSON\", \"latimes_model\": \"R22\", \"latimes_make_and_model\": \"ROBINSON R22\"}, {\"event_id\": \"20091114X82100\", \"ntsb_make\": \"AEROSPATIALE\", \"ntsb_model\": \"AS350BA\", \"ntsb_number\": \"WPR10FA055\", \"year\": 2009, \"date\": \"2009-11-14T00:00:00\", \"city\": \"DOYLE\", \"state\": \"CA\", \"country\": \"USA\", \"total_fatalities\": 3, \"latimes_make\": \"AIRBUS\", \"latimes_model\": \"350\", \"latimes_make_and_model\": \"AIRBUS 350\"}, {\"event_id\": \"20090309X04818\", \"ntsb_make\": \"BELL\", \"ntsb_model\": \"206-L4\", \"ntsb_number\": \"CEN09FA193\", \"year\": 2009, \"date\": \"2009-03-08T00:00:00\", \"city\": \"MOUNDRIDGE\", \"state\": \"KS\", \"country\": \"USA\", \"total_fatalities\": 1, \"latimes_make\": \"BELL\", \"latimes_model\": \"206\", \"latimes_make_and_model\": \"BELL 206\"}, {\"event_id\": \"20090201X10015\", \"ntsb_make\": \"ROBINSON HELICOPTER\", \"ntsb_model\": \"R22 BETA II\", \"ntsb_number\": \"WPR09FA104\", \"year\": 2009, \"date\": \"2009-01-31T00:00:00\", \"city\": \"FILLMORE\", \"state\": \"CA\", \"country\": \"USA\", \"total_fatalities\": 1, \"latimes_make\": \"ROBINSON\", \"latimes_model\": \"R22\", \"latimes_make_and_model\": \"ROBINSON R22\"}, {\"event_id\": \"20090610X23159\", \"ntsb_make\": \"AGUSTA SPA\", \"ntsb_model\": \"A109E\", \"ntsb_number\": \"CEN09PA348\", \"year\": 2009, \"date\": \"2009-06-09T00:00:00\", \"city\": \"SANTA FE\", \"state\": \"NM\", \"country\": \"USA\", \"total_fatalities\": 2, \"latimes_make\": \"AGUSTA\", \"latimes_model\": \"109\", \"latimes_make_and_model\": \"AGUSTA 109\"}, {\"event_id\": \"20101015X73141\", \"ntsb_make\": \"BELL\", \"ntsb_model\": \"206B\", \"ntsb_number\": \"CEN11GA020\", \"year\": 2010, \"date\": \"2010-10-15T00:00:00\", \"city\": \"CLARKSON VALLEY\", \"state\": \"MO\", \"country\": \"USA\", \"total_fatalities\": 1, \"latimes_make\": \"BELL\", \"latimes_model\": \"206\", \"latimes_make_and_model\": \"BELL 206\"}, {\"event_id\": \"20100806X55641\", \"ntsb_make\": \"ROBINSON HELICOPTER COMPANY\", \"ntsb_model\": \"R44 II\", \"ntsb_number\": \"ERA10FA403\", \"year\": 2010, \"date\": \"2010-08-02T00:00:00\", \"city\": \"BLAIRSVILLE\", \"state\": \"GA\", \"country\": \"USA\", \"total_fatalities\": 2, \"latimes_make\": \"ROBINSON\", \"latimes_model\": \"R44\", \"latimes_make_and_model\": \"ROBINSON R44\"}, {\"event_id\": \"20100105X94046\", \"ntsb_make\": \"BELL\", \"ntsb_model\": \"206B\", \"ntsb_number\": \"WPR10GA097\", \"year\": 2010, \"date\": \"2010-01-05T00:00:00\", \"city\": \"AUBERRY\", \"state\": \"CA\", \"country\": \"USA\", \"total_fatalities\": 4, \"latimes_make\": \"BELL\", \"latimes_model\": \"206\", \"latimes_make_and_model\": \"BELL 206\"}, {\"event_id\": \"20100728X92614\", \"ntsb_make\": \"AMERICAN EUROCOPTER LLC\", \"ntsb_model\": \"AS 350 B3\", \"ntsb_number\": \"WPR10FA371\", \"year\": 2010, \"date\": \"2010-07-28T00:00:00\", \"city\": \"TUCSON\", \"state\": \"AZ\", \"country\": \"USA\", \"total_fatalities\": 3, \"latimes_make\": \"AIRBUS\", \"latimes_model\": \"350\", \"latimes_make_and_model\": \"AIRBUS 350\"}, {\"event_id\": \"20100621X31143\", \"ntsb_make\": \"ROBINSON HELICOPTER\", \"ntsb_model\": \"R44\", \"ntsb_number\": \"ANC10LA053\", \"year\": 2010, \"date\": \"2010-06-19T00:00:00\", \"city\": \"UNALASKA\", \"state\": \"AK\", \"country\": \"USA\", \"total_fatalities\": 1, \"latimes_make\": \"ROBINSON\", \"latimes_model\": \"R44\", \"latimes_make_and_model\": \"ROBINSON R44\"}, {\"event_id\": \"20101103X83727\", \"ntsb_make\": \"BELL\", \"ntsb_model\": \"206\", \"ntsb_number\": \"CEN11FA053\", \"year\": 2010, \"date\": \"2010-11-03T00:00:00\", \"city\": \"MEEKER\", \"state\": \"CO\", \"country\": \"USA\", \"total_fatalities\": 1, \"latimes_make\": \"BELL\", \"latimes_model\": \"206\", \"latimes_make_and_model\": \"BELL 206\"}, {\"event_id\": \"20100705X12909\", \"ntsb_make\": \"ROBINSON HELICOPTER\", \"ntsb_model\": \"R44\", \"ntsb_number\": \"ERA10LA348\", \"year\": 2010, \"date\": \"2010-07-05T00:00:00\", \"city\": \"MARION\", \"state\": \"KY\", \"country\": \"USA\", \"total_fatalities\": 1, \"latimes_make\": \"ROBINSON\", \"latimes_model\": \"R44\", \"latimes_make_and_model\": \"ROBINSON R44\"}, {\"event_id\": \"20101030X30541\", \"ntsb_make\": \"MD HELICOPTERS INC\", \"ntsb_model\": \"369E\", \"ntsb_number\": \"ERA11FA042\", \"year\": 2010, \"date\": \"2010-10-30T00:00:00\", \"city\": \"THOMAS\", \"state\": \"WV\", \"country\": \"USA\", \"total_fatalities\": 1, \"latimes_make\": \"MCDONNELL DOUGLAS\", \"latimes_model\": \"369\", \"latimes_make_and_model\": \"MCDONNELL DOUGLAS 369\"}, {\"event_id\": \"20100831X75841\", \"ntsb_make\": \"BELL HELICOPTER TEXTRON\", \"ntsb_model\": \"206L-1\", \"ntsb_number\": \"CEN10FA509\", \"year\": 2010, \"date\": \"2010-08-31T00:00:00\", \"city\": \"WALNUT GROVE\", \"state\": \"AR\", \"country\": \"USA\", \"total_fatalities\": 3, \"latimes_make\": \"BELL\", \"latimes_model\": \"206\", \"latimes_make_and_model\": \"BELL 206\"}, {\"event_id\": \"20100214X92140\", \"ntsb_make\": \"EUROCOPTER\", \"ntsb_model\": \"EC135\", \"ntsb_number\": \"WPR10FA133\", \"year\": 2010, \"date\": \"2010-02-14T00:00:00\", \"city\": \"CAVE CREEK\", \"state\": \"AZ\", \"country\": \"USA\", \"total_fatalities\": 5, \"latimes_make\": \"AIRBUS\", \"latimes_model\": \"135\", \"latimes_make_and_model\": \"AIRBUS 135\"}, {\"event_id\": \"20100526X84456\", \"ntsb_make\": \"SCHWEIZER\", \"ntsb_model\": \"269C-1\", \"ntsb_number\": \"ERA10FA283\", \"year\": 2010, \"date\": \"2010-05-26T00:00:00\", \"city\": \"BOXBOROUGH\", \"state\": \"MA\", \"country\": \"USA\", \"total_fatalities\": 1, \"latimes_make\": \"SCHWEIZER\", \"latimes_model\": \"269\", \"latimes_make_and_model\": \"SCHWEIZER 269\"}, {\"event_id\": \"20100306X05331\", \"ntsb_make\": \"ROBINSON HELICOPTER\", \"ntsb_model\": \"R22 BETA II\", \"ntsb_number\": \"CEN10FA139\", \"year\": 2010, \"date\": \"2010-03-06T00:00:00\", \"city\": \"COTULLA\", \"state\": \"TX\", \"country\": \"USA\", \"total_fatalities\": 2, \"latimes_make\": \"ROBINSON\", \"latimes_model\": \"R22\", \"latimes_make_and_model\": \"ROBINSON R22\"}, {\"event_id\": \"20100717X71900\", \"ntsb_make\": \"ROBINSON HELICOPTER COMPANY\", \"ntsb_model\": \"R44 II\", \"ntsb_number\": \"WPR10LA354\", \"year\": 2010, \"date\": \"2010-07-16T00:00:00\", \"city\": \"SALT LAKE CITY\", \"state\": \"UT\", \"country\": \"USA\", \"total_fatalities\": 1, \"latimes_make\": \"ROBINSON\", \"latimes_model\": \"R44\", \"latimes_make_and_model\": \"ROBINSON R44\"}, {\"event_id\": \"20100206X10511\", \"ntsb_make\": \"AEROSPATIALE\", \"ntsb_model\": \"AS350\", \"ntsb_number\": \"CEN10FA113\", \"year\": 2010, \"date\": \"2010-02-05T00:00:00\", \"city\": \"EL PASO\", \"state\": \"TX\", \"country\": \"USA\", \"total_fatalities\": 3, \"latimes_make\": \"AIRBUS\", \"latimes_model\": \"350\", \"latimes_make_and_model\": \"AIRBUS 350\"}, {\"event_id\": \"20110102X35752\", \"ntsb_make\": \"EUROCOPTER DEUTSCHLAND GMBH\", \"ntsb_model\": \"EC 135 P2\", \"ntsb_number\": \"ERA11FA101\", \"year\": 2010, \"date\": \"2010-12-31T00:00:00\", \"city\": \"WEYERS CAVE\", \"state\": \"VA\", \"country\": \"USA\", \"total_fatalities\": 2, \"latimes_make\": \"AIRBUS\", \"latimes_model\": \"135\", \"latimes_make_and_model\": \"AIRBUS 135\"}, {\"event_id\": \"20100325X93604\", \"ntsb_make\": \"EUROCOPTER\", \"ntsb_model\": \"AS-350-B3\", \"ntsb_number\": \"ERA10MA188\", \"year\": 2010, \"date\": \"2010-03-25T00:00:00\", \"city\": \"BROWNSVILLE\", \"state\": \"TN\", \"country\": \"USA\", \"total_fatalities\": 3, \"latimes_make\": \"AIRBUS\", \"latimes_model\": \"350\", \"latimes_make_and_model\": \"AIRBUS 350\"}, {\"event_id\": \"20100602X01732\", \"ntsb_make\": \"ROBINSON\", \"ntsb_model\": \"R22 BETA\", \"ntsb_number\": \"WPR10FA277\", \"year\": 2010, \"date\": \"2010-06-02T00:00:00\", \"city\": \"SPOKANE\", \"state\": \"WA\", \"country\": \"USA\", \"total_fatalities\": 1, \"latimes_make\": \"ROBINSON\", \"latimes_model\": \"R22\", \"latimes_make_and_model\": \"ROBINSON R22\"}, {\"event_id\": \"20100722X21328\", \"ntsb_make\": \"EUROCOPTER\", \"ntsb_model\": \"AS 350 B2\", \"ntsb_number\": \"CEN10FA424\", \"year\": 2010, \"date\": \"2010-07-22T00:00:00\", \"city\": \"KINGFISHER\", \"state\": \"OK\", \"country\": \"USA\", \"total_fatalities\": 2, \"latimes_make\": \"AIRBUS\", \"latimes_model\": \"350\", \"latimes_make_and_model\": \"AIRBUS 350\"}, {\"event_id\": \"20121010X41638\", \"ntsb_make\": \"BELL\", \"ntsb_model\": \"206B\", \"ntsb_number\": \"CEN13FA009\", \"year\": 2012, \"date\": \"2012-10-10T00:00:00\", \"city\": \"CROWLEY\", \"state\": \"LA\", \"country\": \"USA\", \"total_fatalities\": 1, \"latimes_make\": \"BELL\", \"latimes_model\": \"206\", \"latimes_make_and_model\": \"BELL 206\"}, {\"event_id\": \"20121010X63824\", \"ntsb_make\": \"BELL\", \"ntsb_model\": \"407\", \"ntsb_number\": \"ERA13FA014\", \"year\": 2012, \"date\": \"2012-10-09T00:00:00\", \"city\": \"COOLBAUGH TOWNSHIP\", \"state\": \"PA\", \"country\": \"USA\", \"total_fatalities\": 2, \"latimes_make\": \"BELL\", \"latimes_model\": \"407\", \"latimes_make_and_model\": \"BELL 407\"}, {\"event_id\": \"20121012X13500\", \"ntsb_make\": \"ROBINSON HELICOPTER COMPANY\", \"ntsb_model\": \"R44 II\", \"ntsb_number\": \"CEN13FA010\", \"year\": 2012, \"date\": \"2012-10-11T00:00:00\", \"city\": \"BLANCO\", \"state\": \"TX\", \"country\": \"USA\", \"total_fatalities\": 3, \"latimes_make\": \"ROBINSON\", \"latimes_model\": \"R44\", \"latimes_make_and_model\": \"ROBINSON R44\"}, {\"event_id\": \"20120910X05133\", \"ntsb_make\": \"ROBINSON HELICOPTER\", \"ntsb_model\": \"R22 BETA\", \"ntsb_number\": \"CEN12FA621\", \"year\": 2012, \"date\": \"2012-09-10T00:00:00\", \"city\": \"HOUSTON\", \"state\": \"TX\", \"country\": \"USA\", \"total_fatalities\": 2, \"latimes_make\": \"ROBINSON\", \"latimes_model\": \"R22\", \"latimes_make_and_model\": \"ROBINSON R22\"}, {\"event_id\": \"20120826X42003\", \"ntsb_make\": \"BELL\", \"ntsb_model\": \"407\", \"ntsb_number\": \"ERA12FA527\", \"year\": 2012, \"date\": \"2012-08-24T00:00:00\", \"city\": \"ABINGDON\", \"state\": \"VA\", \"country\": \"USA\", \"total_fatalities\": 1, \"latimes_make\": \"BELL\", \"latimes_model\": \"407\", \"latimes_make_and_model\": \"BELL 407\"}, {\"event_id\": \"20120216X03340\", \"ntsb_make\": \"BELL\", \"ntsb_model\": \"407\", \"ntsb_number\": \"WPR12GA106\", \"year\": 2012, \"date\": \"2012-02-15T00:00:00\", \"city\": \"MORAN JUNCTION\", \"state\": \"WY\", \"country\": \"USA\", \"total_fatalities\": 1, \"latimes_make\": \"BELL\", \"latimes_model\": \"407\", \"latimes_make_and_model\": \"BELL 407\"}, {\"event_id\": \"20120701X53951\", \"ntsb_make\": \"AEROSPATIALE\", \"ntsb_model\": \"AS350B\", \"ntsb_number\": \"WPR12FA282\", \"year\": 2012, \"date\": \"2012-06-30T00:00:00\", \"city\": \"CAMP VERDE\", \"state\": \"AZ\", \"country\": \"USA\", \"total_fatalities\": 4, \"latimes_make\": \"AIRBUS\", \"latimes_model\": \"350\", \"latimes_make_and_model\": \"AIRBUS 350\"}, {\"event_id\": \"20121130X74908\", \"ntsb_make\": \"ROBINSON HELICOPTER\", \"ntsb_model\": \"R22 BETA II\", \"ntsb_number\": \"ERA13FA070\", \"year\": 2012, \"date\": \"2012-11-30T00:00:00\", \"city\": \"APOLLO BEACH\", \"state\": \"FL\", \"country\": \"USA\", \"total_fatalities\": 1, \"latimes_make\": \"ROBINSON\", \"latimes_model\": \"R22\", \"latimes_make_and_model\": \"ROBINSON R22\"}, {\"event_id\": \"20120709X83554\", \"ntsb_make\": \"ROBINSON HELICOPTER\", \"ntsb_model\": \"R22 BETA\", \"ntsb_number\": \"WPR12FA298\", \"year\": 2012, \"date\": \"2012-07-09T00:00:00\", \"city\": \"MURRIETA\", \"state\": \"CA\", \"country\": \"USA\", \"total_fatalities\": 1, \"latimes_make\": \"ROBINSON\", \"latimes_model\": \"R22\", \"latimes_make_and_model\": \"ROBINSON R22\"}, {\"event_id\": \"20121115X43423\", \"ntsb_make\": \"HUGHES\", \"ntsb_model\": \"369D\", \"ntsb_number\": \"ERA13LA057\", \"year\": 2012, \"date\": \"2012-11-15T00:00:00\", \"city\": \"CORNING\", \"state\": \"NY\", \"country\": \"USA\", \"total_fatalities\": 2, \"latimes_make\": \"HUGHES\", \"latimes_model\": \"369\", \"latimes_make_and_model\": \"HUGHES 369\"}, {\"event_id\": \"20120119X92431\", \"ntsb_make\": \"ROBINSON\", \"ntsb_model\": \"R44 II\", \"ntsb_number\": \"CEN12FA139\", \"year\": 2012, \"date\": \"2012-01-19T00:00:00\", \"city\": \"CENTERVILLE\", \"state\": \"LA\", \"country\": \"USA\", \"total_fatalities\": 2, \"latimes_make\": \"ROBINSON\", \"latimes_model\": \"R44\", \"latimes_make_and_model\": \"ROBINSON R44\"}, {\"event_id\": \"20121128X12341\", \"ntsb_make\": \"HUGHES\", \"ntsb_model\": \"369\", \"ntsb_number\": \"CEN13FA075\", \"year\": 2012, \"date\": \"2012-11-27T00:00:00\", \"city\": \"CHILDRESS\", \"state\": \"TX\", \"country\": \"USA\", \"total_fatalities\": 1, \"latimes_make\": \"HUGHES\", \"latimes_model\": \"369\", \"latimes_make_and_model\": \"HUGHES 369\"}, {\"event_id\": \"20120529X90616\", \"ntsb_make\": \"BELL\", \"ntsb_model\": \"206-L4\", \"ntsb_number\": \"CEN12FA321\", \"year\": 2012, \"date\": \"2012-05-28T00:00:00\", \"city\": \"GULF OF MEXICO\", \"state\": null, \"country\": \"USA\", \"total_fatalities\": 1, \"latimes_make\": \"BELL\", \"latimes_model\": \"206\", \"latimes_make_and_model\": \"BELL 206\"}, {\"event_id\": \"20120612X20331\", \"ntsb_make\": \"ROBINSON HELICOPTER COMPANY\", \"ntsb_model\": \"R44 II\", \"ntsb_number\": \"WPR12LA259\", \"year\": 2012, \"date\": \"2012-06-12T00:00:00\", \"city\": \"EAST WENATCHEE\", \"state\": \"WA\", \"country\": \"USA\", \"total_fatalities\": 1, \"latimes_make\": \"ROBINSON\", \"latimes_model\": \"R44\", \"latimes_make_and_model\": \"ROBINSON R44\"}, {\"event_id\": \"20121126X75106\", \"ntsb_make\": \"ROBINSON HELICOPTER COMPANY\", \"ntsb_model\": \"R44 II\", \"ntsb_number\": \"WPR13FA054\", \"year\": 2012, \"date\": \"2012-11-25T00:00:00\", \"city\": \"CORONA\", \"state\": \"CA\", \"country\": \"USA\", \"total_fatalities\": 1, \"latimes_make\": \"ROBINSON\", \"latimes_model\": \"R44\", \"latimes_make_and_model\": \"ROBINSON R44\"}, {\"event_id\": \"20121005X04242\", \"ntsb_make\": \"BELL\", \"ntsb_model\": \"407\", \"ntsb_number\": \"CEN13FA003\", \"year\": 2012, \"date\": \"2012-10-05T00:00:00\", \"city\": \"INTRACOASTAL CITY\", \"state\": \"LA\", \"country\": \"USA\", \"total_fatalities\": 1, \"latimes_make\": \"BELL\", \"latimes_model\": \"407\", \"latimes_make_and_model\": \"BELL 407\"}, {\"event_id\": \"20130222X12624\", \"ntsb_make\": \"EUROCOPTER\", \"ntsb_model\": \"AS 350 B2\", \"ntsb_number\": \"CEN13FA174\", \"year\": 2013, \"date\": \"2013-02-22T00:00:00\", \"city\": \"OKLAHOMA CITY\", \"state\": \"OK\", \"country\": \"USA\", \"total_fatalities\": 2, \"latimes_make\": \"AIRBUS\", \"latimes_model\": \"350\", \"latimes_make_and_model\": \"AIRBUS 350\"}, {\"event_id\": \"20131009X50051\", \"ntsb_make\": \"BELL\", \"ntsb_model\": \"206L 3\", \"ntsb_number\": \"CEN14FA004\", \"year\": 2013, \"date\": \"2013-10-09T00:00:00\", \"city\": \"VENICE, LA\", \"state\": \"GM\", \"country\": \"USA\", \"total_fatalities\": 1, \"latimes_make\": \"BELL\", \"latimes_model\": \"206\", \"latimes_make_and_model\": \"BELL 206\"}, {\"event_id\": \"20130331X41252\", \"ntsb_make\": \"EUROCOPTER\", \"ntsb_model\": \"AS350\", \"ntsb_number\": \"ANC13GA036\", \"year\": 2013, \"date\": \"2013-03-30T00:00:00\", \"city\": \"TALKEETNA\", \"state\": \"AK\", \"country\": \"USA\", \"total_fatalities\": 3, \"latimes_make\": \"AIRBUS\", \"latimes_model\": \"350\", \"latimes_make_and_model\": \"AIRBUS 350\"}, {\"event_id\": \"20130525X61706\", \"ntsb_make\": \"ROBINSON HELICOPTER COMPANY\", \"ntsb_model\": \"R44 II\", \"ntsb_number\": \"CEN13FA295\", \"year\": 2013, \"date\": \"2013-05-24T00:00:00\", \"city\": \"CROSS TIMBERS\", \"state\": \"MO\", \"country\": \"USA\", \"total_fatalities\": 2, \"latimes_make\": \"ROBINSON\", \"latimes_model\": \"R44\", \"latimes_make_and_model\": \"ROBINSON R44\"}, {\"event_id\": \"20130102X13158\", \"ntsb_make\": \"BELL\", \"ntsb_model\": \"206\", \"ntsb_number\": \"WPR13FA080\", \"year\": 2013, \"date\": \"2013-01-02T00:00:00\", \"city\": \"DELANO\", \"state\": \"CA\", \"country\": \"USA\", \"total_fatalities\": 1, \"latimes_make\": \"BELL\", \"latimes_model\": \"206\", \"latimes_make_and_model\": \"BELL 206\"}, {\"event_id\": \"20130727X31220\", \"ntsb_make\": \"ROBINSON HELICOPTER COMPANY\", \"ntsb_model\": \"R44 II\", \"ntsb_number\": \"WPR13FA343\", \"year\": 2013, \"date\": \"2013-07-27T00:00:00\", \"city\": \"THOMPSON FALLS\", \"state\": \"MT\", \"country\": \"USA\", \"total_fatalities\": 1, \"latimes_make\": \"ROBINSON\", \"latimes_model\": \"R44\", \"latimes_make_and_model\": \"ROBINSON R44\"}, {\"event_id\": \"20130210X93918\", \"ntsb_make\": \"BELL\", \"ntsb_model\": \"206B\", \"ntsb_number\": \"WPR13FA119\", \"year\": 2013, \"date\": \"2013-02-10T00:00:00\", \"city\": \"ACTON\", \"state\": \"CA\", \"country\": \"USA\", \"total_fatalities\": 3, \"latimes_make\": \"BELL\", \"latimes_model\": \"206\", \"latimes_make_and_model\": \"BELL 206\"}, {\"event_id\": \"20130218X22833\", \"ntsb_make\": \"BELL\", \"ntsb_model\": \"206B\", \"ntsb_number\": \"WPR13GA128\", \"year\": 2013, \"date\": \"2013-02-18T00:00:00\", \"city\": \"EUREKA\", \"state\": \"NV\", \"country\": \"USA\", \"total_fatalities\": 1, \"latimes_make\": \"BELL\", \"latimes_model\": \"206\", \"latimes_make_and_model\": \"BELL 206\"}, {\"event_id\": \"20130427X30522\", \"ntsb_make\": \"BELL\", \"ntsb_model\": \"206B\", \"ntsb_number\": \"WPR13FA208\", \"year\": 2013, \"date\": \"2013-04-27T00:00:00\", \"city\": \"SHEPHERD\", \"state\": \"MT\", \"country\": \"USA\", \"total_fatalities\": 1, \"latimes_make\": \"BELL\", \"latimes_model\": \"206\", \"latimes_make_and_model\": \"BELL 206\"}, {\"event_id\": \"20130607X04715\", \"ntsb_make\": \"BELL HELICOPTER TEXTRON\", \"ntsb_model\": \"206L-1\", \"ntsb_number\": \"ERA13FA273\", \"year\": 2013, \"date\": \"2013-06-06T00:00:00\", \"city\": \"MANCHESTER\", \"state\": \"KY\", \"country\": \"USA\", \"total_fatalities\": 3, \"latimes_make\": \"BELL\", \"latimes_model\": \"206\", \"latimes_make_and_model\": \"BELL 206\"}, {\"event_id\": \"20131022X92949\", \"ntsb_make\": \"EUROCOPTER\", \"ntsb_model\": \"AS 350 B3\", \"ntsb_number\": \"ERA14FA010\", \"year\": 2013, \"date\": \"2013-10-22T00:00:00\", \"city\": \"SOMERVILLE\", \"state\": \"TN\", \"country\": \"USA\", \"total_fatalities\": 3, \"latimes_make\": \"AIRBUS\", \"latimes_model\": \"350\", \"latimes_make_and_model\": \"AIRBUS 350\"}, {\"event_id\": \"20130102X35708\", \"ntsb_make\": \"BELL HELICOPTER\", \"ntsb_model\": \"407\", \"ntsb_number\": \"CEN13FA122\", \"year\": 2013, \"date\": \"2013-01-02T00:00:00\", \"city\": \"CLEAR LAKE\", \"state\": \"IA\", \"country\": \"USA\", \"total_fatalities\": 3, \"latimes_make\": \"BELL\", \"latimes_model\": \"407\", \"latimes_make_and_model\": \"BELL 407\"}, {\"event_id\": \"20130403X65155\", \"ntsb_make\": \"ROBINSON\", \"ntsb_model\": \"R44\", \"ntsb_number\": \"ERA13FA186\", \"year\": 2013, \"date\": \"2013-04-03T00:00:00\", \"city\": \"MIAMI\", \"state\": \"FL\", \"country\": \"USA\", \"total_fatalities\": 2, \"latimes_make\": \"ROBINSON\", \"latimes_model\": \"R44\", \"latimes_make_and_model\": \"ROBINSON R44\"}, {\"event_id\": \"20131007X44153\", \"ntsb_make\": \"MCDONNELL DOUGLAS HELI CO\", \"ntsb_model\": \"369\", \"ntsb_number\": \"WPR14LA008\", \"year\": 2013, \"date\": \"2013-10-06T00:00:00\", \"city\": \"PADUCAH\", \"state\": \"TX\", \"country\": \"USA\", \"total_fatalities\": 1, \"latimes_make\": \"MCDONNELL DOUGLAS\", \"latimes_model\": \"369\", \"latimes_make_and_model\": \"MCDONNELL DOUGLAS 369\"}, {\"event_id\": \"20130831X54252\", \"ntsb_make\": \"ROBINSON\", \"ntsb_model\": \"R44 II\", \"ntsb_number\": \"CEN13FA517\", \"year\": 2013, \"date\": \"2013-08-31T00:00:00\", \"city\": \"CABALLO\", \"state\": \"NM\", \"country\": \"USA\", \"total_fatalities\": 3, \"latimes_make\": \"ROBINSON\", \"latimes_model\": \"R44\", \"latimes_make_and_model\": \"ROBINSON R44\"}, {\"event_id\": \"20130315X34542\", \"ntsb_make\": \"SIKORSKY\", \"ntsb_model\": \"S-76A++\", \"ntsb_number\": \"CEN13FA192\", \"year\": 2013, \"date\": \"2013-03-15T00:00:00\", \"city\": \"GRAND LAKE\", \"state\": \"LA\", \"country\": \"USA\", \"total_fatalities\": 3, \"latimes_make\": \"SIKORSKY\", \"latimes_model\": \"76\", \"latimes_make_and_model\": \"SIKORSKY 76\"}, {\"event_id\": \"20130805X31941\", \"ntsb_make\": \"HUGHES\", \"ntsb_model\": \"369D\", \"ntsb_number\": \"CEN13LA461\", \"year\": 2013, \"date\": \"2013-08-05T00:00:00\", \"city\": \"ACKERLY\", \"state\": \"TX\", \"country\": \"USA\", \"total_fatalities\": 2, \"latimes_make\": \"HUGHES\", \"latimes_model\": \"369\", \"latimes_make_and_model\": \"HUGHES 369\"}, {\"event_id\": \"20130612X12326\", \"ntsb_make\": \"EUROCOPTER\", \"ntsb_model\": \"AS350B2\", \"ntsb_number\": \"CEN13FA344\", \"year\": 2013, \"date\": \"2013-06-11T00:00:00\", \"city\": \"TALIHINA\", \"state\": \"OK\", \"country\": \"USA\", \"total_fatalities\": 1, \"latimes_make\": \"AIRBUS\", \"latimes_model\": \"350\", \"latimes_make_and_model\": \"AIRBUS 350\"}, {\"event_id\": \"20140127X44720\", \"ntsb_make\": \"BELL\", \"ntsb_model\": \"206L 3\", \"ntsb_number\": \"CEN14FA122\", \"year\": 2014, \"date\": \"2014-01-27T00:00:00\", \"city\": \"SILT\", \"state\": \"CO\", \"country\": \"USA\", \"total_fatalities\": 3, \"latimes_make\": \"BELL\", \"latimes_model\": \"206\", \"latimes_make_and_model\": \"BELL 206\"}, {\"event_id\": \"20140523X44003\", \"ntsb_make\": \"ROBINSON HELICOPTER\", \"ntsb_model\": \"R22 BETA\", \"ntsb_number\": \"WPR14FA203\", \"year\": 2014, \"date\": \"2014-05-23T00:00:00\", \"city\": \"SANTA PAULA\", \"state\": \"CA\", \"country\": \"USA\", \"total_fatalities\": 1, \"latimes_make\": \"ROBINSON\", \"latimes_model\": \"R22\", \"latimes_make_and_model\": \"ROBINSON R22\"}, {\"event_id\": \"20140318X21532\", \"ntsb_make\": \"EUROCOPTER\", \"ntsb_model\": \"AS 350 B2\", \"ntsb_number\": \"WPR14FA137\", \"year\": 2014, \"date\": \"2014-03-18T00:00:00\", \"city\": \"SEATTLE\", \"state\": \"WA\", \"country\": \"USA\", \"total_fatalities\": 2, \"latimes_make\": \"AIRBUS\", \"latimes_model\": \"350\", \"latimes_make_and_model\": \"AIRBUS 350\"}, {\"event_id\": \"20140529X73728\", \"ntsb_make\": \"ROBINSON HELICOPTER COMPANY\", \"ntsb_model\": \"R44 II\", \"ntsb_number\": \"ANC14FA030\", \"year\": 2014, \"date\": \"2014-05-28T00:00:00\", \"city\": \"CHUGIAK\", \"state\": \"AK\", \"country\": \"USA\", \"total_fatalities\": 1, \"latimes_make\": \"ROBINSON\", \"latimes_model\": \"R44\", \"latimes_make_and_model\": \"ROBINSON R44\"}, {\"event_id\": \"20140612X31159\", \"ntsb_make\": \"BELL\", \"ntsb_model\": \"206 L4\", \"ntsb_number\": \"CEN14FA286\", \"year\": 2014, \"date\": \"2014-06-11T00:00:00\", \"city\": \"SOUTH TIMBALIER PLATFORM\", \"state\": \"GM\", \"country\": \"USA\", \"total_fatalities\": 2, \"latimes_make\": \"BELL\", \"latimes_model\": \"206\", \"latimes_make_and_model\": \"BELL 206\"}, {\"event_id\": \"20150101X15630\", \"ntsb_make\": \"BELL\", \"ntsb_model\": \"206\", \"ntsb_number\": \"WPR15FA072\", \"year\": 2014, \"date\": \"2014-12-31T00:00:00\", \"city\": \"BENSON\", \"state\": \"AZ\", \"country\": \"USA\", \"total_fatalities\": 2, \"latimes_make\": \"BELL\", \"latimes_model\": \"206\", \"latimes_make_and_model\": \"BELL 206\"}, {\"event_id\": \"20140819X50947\", \"ntsb_make\": \"MCDONNELL DOUGLAS HELICOPTER\", \"ntsb_model\": \"369E\", \"ntsb_number\": \"ERA14FA396\", \"year\": 2014, \"date\": \"2014-08-19T00:00:00\", \"city\": \"NORTHPORT\", \"state\": \"AL\", \"country\": \"USA\", \"total_fatalities\": 2, \"latimes_make\": \"MCDONNELL DOUGLAS\", \"latimes_model\": \"369\", \"latimes_make_and_model\": \"MCDONNELL DOUGLAS 369\"}, {\"event_id\": \"20140407X83620\", \"ntsb_make\": \"ROBINSON HELICOPTER\", \"ntsb_model\": \"R22 BETA\", \"ntsb_number\": \"WPR14FA158\", \"year\": 2014, \"date\": \"2014-04-06T00:00:00\", \"city\": \"GREEN RIVER\", \"state\": \"UT\", \"country\": \"USA\", \"total_fatalities\": 2, \"latimes_make\": \"ROBINSON\", \"latimes_model\": \"R22\", \"latimes_make_and_model\": \"ROBINSON R22\"}, {\"event_id\": \"20140208X05221\", \"ntsb_make\": \"ROBINSON HELICOPTER COMPANY\", \"ntsb_model\": \"R44 II\", \"ntsb_number\": \"ERA14FA115\", \"year\": 2014, \"date\": \"2014-02-08T00:00:00\", \"city\": \"PANACEA\", \"state\": \"FL\", \"country\": \"USA\", \"total_fatalities\": 2, \"latimes_make\": \"ROBINSON\", \"latimes_model\": \"R44\", \"latimes_make_and_model\": \"ROBINSON R44\"}, {\"event_id\": \"20141023X01333\", \"ntsb_make\": \"ROBINSON HELICOPTER COMPANY\", \"ntsb_model\": \"R44 II\", \"ntsb_number\": \"ERA15FA025\", \"year\": 2014, \"date\": \"2014-10-23T00:00:00\", \"city\": \"FREDERICK\", \"state\": \"MD\", \"country\": \"USA\", \"total_fatalities\": 3, \"latimes_make\": \"ROBINSON\", \"latimes_model\": \"R44\", \"latimes_make_and_model\": \"ROBINSON R44\"}, {\"event_id\": \"20140518X03315\", \"ntsb_make\": \"AMERICAN EUROCOPTER CORP\", \"ntsb_model\": \"AS350B3\", \"ntsb_number\": \"WPR14FA195\", \"year\": 2014, \"date\": \"2014-05-18T00:00:00\", \"city\": \"PEACH SPRINGS\", \"state\": \"AZ\", \"country\": \"USA\", \"total_fatalities\": 1, \"latimes_make\": \"AIRBUS\", \"latimes_model\": \"350\", \"latimes_make_and_model\": \"AIRBUS 350\"}, {\"event_id\": \"20140723X81618\", \"ntsb_make\": \"BELL\", \"ntsb_model\": \"206A\", \"ntsb_number\": \"WPR14FA310\", \"year\": 2014, \"date\": \"2014-07-23T00:00:00\", \"city\": \"WENATCHEE\", \"state\": \"WA\", \"country\": \"USA\", \"total_fatalities\": 1, \"latimes_make\": \"BELL\", \"latimes_model\": \"206\", \"latimes_make_and_model\": \"BELL 206\"}, {\"event_id\": \"20141202X73240\", \"ntsb_make\": \"ROBINSON HELICOPTER COMPANY\", \"ntsb_model\": \"R44\", \"ntsb_number\": \"WPR15FA051\", \"year\": 2014, \"date\": \"2014-12-02T00:00:00\", \"city\": \"BOUNTIFUL\", \"state\": \"UT\", \"country\": \"USA\", \"total_fatalities\": 2, \"latimes_make\": \"ROBINSON\", \"latimes_model\": \"R44\", \"latimes_make_and_model\": \"ROBINSON R44\"}, {\"event_id\": \"20141229X15321\", \"ntsb_make\": \"ROBINSON HELICOPTER\", \"ntsb_model\": \"R22 BETA\", \"ntsb_number\": \"ERA15FA085\", \"year\": 2014, \"date\": \"2014-12-29T00:00:00\", \"city\": \"LAKE WORTH\", \"state\": \"FL\", \"country\": \"USA\", \"total_fatalities\": 1, \"latimes_make\": \"ROBINSON\", \"latimes_model\": \"R22\", \"latimes_make_and_model\": \"ROBINSON R22\"}, {\"event_id\": \"20141004X60516\", \"ntsb_make\": \"BELL HELICOPTER TEXTRON\", \"ntsb_model\": \"206L 1\", \"ntsb_number\": \"CEN15FA003\", \"year\": 2014, \"date\": \"2014-10-04T00:00:00\", \"city\": \"WICHITA FALLS\", \"state\": \"TX\", \"country\": \"USA\", \"total_fatalities\": 3, \"latimes_make\": \"BELL\", \"latimes_model\": \"206\", \"latimes_make_and_model\": \"BELL 206\"}, {\"event_id\": \"20140908X10448\", \"ntsb_make\": \"ROBINSON HELICOPTER COMPANY\", \"ntsb_model\": \"R44 II\", \"ntsb_number\": \"CEN14LA487\", \"year\": 2014, \"date\": \"2014-09-06T00:00:00\", \"city\": \"MACEDONIA\", \"state\": \"IA\", \"country\": \"USA\", \"total_fatalities\": 1, \"latimes_make\": \"ROBINSON\", \"latimes_model\": \"R44\", \"latimes_make_and_model\": \"ROBINSON R44\"}, {\"event_id\": \"20140717X70001\", \"ntsb_make\": \"AGUSTA SPA\", \"ntsb_model\": \"A109E\", \"ntsb_number\": \"CEN14FA369\", \"year\": 2014, \"date\": \"2014-07-17T00:00:00\", \"city\": \"NEWKIRK\", \"state\": \"NM\", \"country\": \"USA\", \"total_fatalities\": 3, \"latimes_make\": \"AGUSTA\", \"latimes_model\": \"109\", \"latimes_make_and_model\": \"AGUSTA 109\"}, {\"event_id\": \"20150110X10017\", \"ntsb_make\": \"ROBINSON HELICOPTER\", \"ntsb_model\": \"R22 BETA\", \"ntsb_number\": \"ERA15FA096\", \"year\": 2015, \"date\": \"2015-01-10T00:00:00\", \"city\": \"CATANO\", \"state\": \"PR\", \"country\": \"USA\", \"total_fatalities\": 1, \"latimes_make\": \"ROBINSON\", \"latimes_model\": \"R22\", \"latimes_make_and_model\": \"ROBINSON R22\"}, {\"event_id\": \"20150703X00859\", \"ntsb_make\": \"AIRBUS HELICOPTERS INC\", \"ntsb_model\": \"AS350B3E\", \"ntsb_number\": \"CEN15MA290\", \"year\": 2015, \"date\": \"2015-07-03T00:00:00\", \"city\": \"FRISCO\", \"state\": \"CO\", \"country\": \"USA\", \"total_fatalities\": 1, \"latimes_make\": \"AIRBUS\", \"latimes_model\": \"350\", \"latimes_make_and_model\": \"AIRBUS 350\"}, {\"event_id\": \"20150308X10201\", \"ntsb_make\": \"AIRBUS HELICOPTERS (EUROCOPTE\", \"ntsb_model\": \"EC-130-B4\", \"ntsb_number\": \"CEN15FA164\", \"year\": 2015, \"date\": \"2015-03-06T00:00:00\", \"city\": \"ST LOUIS\", \"state\": \"MO\", \"country\": \"USA\", \"total_fatalities\": 1, \"latimes_make\": \"AIRBUS\", \"latimes_model\": \"130\", \"latimes_make_and_model\": \"AIRBUS 130\"}, {\"event_id\": \"20150330X73700\", \"ntsb_make\": \"BELL HELICOPTER TEXTRON\", \"ntsb_model\": \"206 L-1\", \"ntsb_number\": \"ERA15FA173\", \"year\": 2015, \"date\": \"2015-03-30T00:00:00\", \"city\": \"SAUCIER\", \"state\": \"MS\", \"country\": \"USA\", \"total_fatalities\": 2, \"latimes_make\": \"BELL\", \"latimes_model\": \"206\", \"latimes_make_and_model\": \"BELL 206\"}, {\"event_id\": \"20150702X24434\", \"ntsb_make\": \"SCHWEIZER\", \"ntsb_model\": \"269C\", \"ntsb_number\": \"WPR15FA205\", \"year\": 2015, \"date\": \"2015-07-01T00:00:00\", \"city\": \"NEWBERG\", \"state\": \"OR\", \"country\": \"USA\", \"total_fatalities\": 2, \"latimes_make\": \"SCHWEIZER\", \"latimes_model\": \"269\", \"latimes_make_and_model\": \"SCHWEIZER 269\"}, {\"event_id\": \"20150313X72113\", \"ntsb_make\": \"EUROCOPTER\", \"ntsb_model\": \"AS 350 B2\", \"ntsb_number\": \"CEN15FA171\", \"year\": 2015, \"date\": \"2015-03-12T00:00:00\", \"city\": \"EUFAULA\", \"state\": \"OK\", \"country\": \"USA\", \"total_fatalities\": 1, \"latimes_make\": \"AIRBUS\", \"latimes_model\": \"350\", \"latimes_make_and_model\": \"AIRBUS 350\"}, {\"event_id\": \"20151211X13514\", \"ntsb_make\": \"BELL\", \"ntsb_model\": \"407\", \"ntsb_number\": \"WPR16FA037\", \"year\": 2015, \"date\": \"2015-12-10T00:00:00\", \"city\": \"MCFARLAND\", \"state\": \"CA\", \"country\": \"USA\", \"total_fatalities\": 4, \"latimes_make\": \"BELL\", \"latimes_model\": \"407\", \"latimes_make_and_model\": \"BELL 407\"}, {\"event_id\": \"20150322X92548\", \"ntsb_make\": \"ROBINSON HELICOPTER COMPANY\", \"ntsb_model\": \"R44 II\", \"ntsb_number\": \"ERA15FA164\", \"year\": 2015, \"date\": \"2015-03-22T00:00:00\", \"city\": \"ORLANDO\", \"state\": \"FL\", \"country\": \"USA\", \"total_fatalities\": 3, \"latimes_make\": \"ROBINSON\", \"latimes_model\": \"R44\", \"latimes_make_and_model\": \"ROBINSON R44\"}, {\"event_id\": \"20151216X13718\", \"ntsb_make\": \"AIRBUS HELICOPTERS\", \"ntsb_model\": \"AS350\", \"ntsb_number\": \"WPR16FA040\", \"year\": 2015, \"date\": \"2015-12-15T00:00:00\", \"city\": \"SUPERIOR\", \"state\": \"AZ\", \"country\": \"USA\", \"total_fatalities\": 2, \"latimes_make\": \"AIRBUS\", \"latimes_model\": \"350\", \"latimes_make_and_model\": \"AIRBUS 350\"}, {\"event_id\": \"20150407X12857\", \"ntsb_make\": \"HUGHES\", \"ntsb_model\": \"369D\", \"ntsb_number\": \"ERA15FA178\", \"year\": 2015, \"date\": \"2015-04-06T00:00:00\", \"city\": \"CHEROKEE\", \"state\": \"AL\", \"country\": \"USA\", \"total_fatalities\": 1, \"latimes_make\": \"HUGHES\", \"latimes_model\": \"369\", \"latimes_make_and_model\": \"HUGHES 369\"}, {\"event_id\": \"20151118X05037\", \"ntsb_make\": \"AIRBUS HELICOPTERS\", \"ntsb_model\": \"AS350B3E\", \"ntsb_number\": \"WPR16FA029\", \"year\": 2015, \"date\": \"2015-11-18T00:00:00\", \"city\": \"CARLSBAD\", \"state\": \"CA\", \"country\": \"USA\", \"total_fatalities\": 2, \"latimes_make\": \"AIRBUS\", \"latimes_model\": \"350\", \"latimes_make_and_model\": \"AIRBUS 350\"}, {\"event_id\": \"20161116X00108\", \"ntsb_make\": \"HUGHES\", \"ntsb_model\": \"369D/500D\", \"ntsb_number\": \"WPR17FA021\", \"year\": 2016, \"date\": \"2016-11-15T00:00:00\", \"city\": \"PUKOO\", \"state\": \"HI\", \"country\": \"USA\", \"total_fatalities\": 2, \"latimes_make\": \"HUGHES\", \"latimes_model\": \"369\", \"latimes_make_and_model\": \"HUGHES 369\"}, {\"event_id\": \"20160326X80544\", \"ntsb_make\": \"EUROCOPTER\", \"ntsb_model\": \"AS 350 B2\", \"ntsb_number\": \"ERA16FA140\", \"year\": 2016, \"date\": \"2016-03-26T00:00:00\", \"city\": \"ENTERPRISE\", \"state\": \"AL\", \"country\": \"USA\", \"total_fatalities\": 4, \"latimes_make\": \"AIRBUS\", \"latimes_model\": \"350\", \"latimes_make_and_model\": \"AIRBUS 350\"}, {\"event_id\": \"20160504X30424\", \"ntsb_make\": \"MCDONNELL DOUGLAS HELICOPTER\", \"ntsb_model\": \"369E\", \"ntsb_number\": \"CEN16FA171\", \"year\": 2016, \"date\": \"2016-05-04T00:00:00\", \"city\": \"REEDSVILLE\", \"state\": \"WI\", \"country\": \"USA\", \"total_fatalities\": 1, \"latimes_make\": \"MCDONNELL DOUGLAS\", \"latimes_model\": \"369\", \"latimes_make_and_model\": \"MCDONNELL DOUGLAS 369\"}, {\"event_id\": \"20160328X03918\", \"ntsb_make\": \"ROBINSON\", \"ntsb_model\": \"R44\", \"ntsb_number\": \"ERA16FA143\", \"year\": 2016, \"date\": \"2016-03-27T00:00:00\", \"city\": \"CANADENSIS\", \"state\": \"PA\", \"country\": \"USA\", \"total_fatalities\": 1, \"latimes_make\": \"ROBINSON\", \"latimes_model\": \"R44\", \"latimes_make_and_model\": \"ROBINSON R44\"}, {\"event_id\": \"20160218X71040\", \"ntsb_make\": \"BELL\", \"ntsb_model\": \"206B\", \"ntsb_number\": \"WPR16FA072\", \"year\": 2016, \"date\": \"2016-02-18T00:00:00\", \"city\": \"HONOLULU\", \"state\": \"HI\", \"country\": \"USA\", \"total_fatalities\": 1, \"latimes_make\": \"BELL\", \"latimes_model\": \"206\", \"latimes_make_and_model\": \"BELL 206\"}, {\"event_id\": \"20160711X32921\", \"ntsb_make\": \"BELL HELICOPTER TEXTRON CANADA\", \"ntsb_model\": \"407\", \"ntsb_number\": \"ERA16FA248\", \"year\": 2016, \"date\": \"2016-07-11T00:00:00\", \"city\": \"HICKORY\", \"state\": \"KY\", \"country\": \"USA\", \"total_fatalities\": 1, \"latimes_make\": \"BELL\", \"latimes_model\": \"407\", \"latimes_make_and_model\": \"BELL 407\"}, {\"event_id\": \"20160804X45514\", \"ntsb_make\": \"SCHWEIZER\", \"ntsb_model\": \"269C 1\", \"ntsb_number\": \"CEN16FA304\", \"year\": 2016, \"date\": \"2016-08-03T00:00:00\", \"city\": \"JEANERETTE\", \"state\": \"LA\", \"country\": \"USA\", \"total_fatalities\": 1, \"latimes_make\": \"SCHWEIZER\", \"latimes_model\": \"269\", \"latimes_make_and_model\": \"SCHWEIZER 269\"}, {\"event_id\": \"20160404X74644\", \"ntsb_make\": \"BELL\", \"ntsb_model\": \"206\", \"ntsb_number\": \"ERA16FA144\", \"year\": 2016, \"date\": \"2016-04-04T00:00:00\", \"city\": \"PIGEON FORGE\", \"state\": \"TN\", \"country\": \"USA\", \"total_fatalities\": 5, \"latimes_make\": \"BELL\", \"latimes_model\": \"206\", \"latimes_make_and_model\": \"BELL 206\"}, {\"event_id\": \"20160507X31120\", \"ntsb_make\": \"AIRBUS\", \"ntsb_model\": \"AS350\", \"ntsb_number\": \"ANC16FA023\", \"year\": 2016, \"date\": \"2016-05-06T00:00:00\", \"city\": \"SKAGWAY\", \"state\": \"AK\", \"country\": \"USA\", \"total_fatalities\": 1, \"latimes_make\": \"AIRBUS\", \"latimes_model\": \"350\", \"latimes_make_and_model\": \"AIRBUS 350\"}, {\"event_id\": \"20160612X85856\", \"ntsb_make\": \"ROBINSON HELICOPTER COMPANY\", \"ntsb_model\": \"R44 II\", \"ntsb_number\": \"CEN16FA215\", \"year\": 2016, \"date\": \"2016-06-12T00:00:00\", \"city\": \"JONESBORO\", \"state\": \"AR\", \"country\": \"USA\", \"total_fatalities\": 1, \"latimes_make\": \"ROBINSON\", \"latimes_model\": \"R44\", \"latimes_make_and_model\": \"ROBINSON R44\"}]}}, {\"mode\": \"vega-lite\"});\n",
       "</script>"
      ],
      "text/plain": [
       "alt.Chart(...)"
      ]
     },
     "execution_count": 82,
     "metadata": {},
     "output_type": "execute_result"
    }
   ],
   "source": [
    "alt.Chart(accident_list).mark_bar().encode(\n",
    "  x=\"yearmonth(date)\",\n",
    "  y=\"sum(total_fatalities)\",\n",
    ")"
   ]
  },
  {
   "cell_type": "code",
   "execution_count": 83,
   "id": "14774b49-114b-43cb-a6e3-626c251bdf69",
   "metadata": {},
   "outputs": [
    {
     "data": {
      "text/html": [
       "\n",
       "<div id=\"altair-viz-e106bfda261e4e0a823f5ffb3d1ac972\"></div>\n",
       "<script type=\"text/javascript\">\n",
       "  var VEGA_DEBUG = (typeof VEGA_DEBUG == \"undefined\") ? {} : VEGA_DEBUG;\n",
       "  (function(spec, embedOpt){\n",
       "    let outputDiv = document.currentScript.previousElementSibling;\n",
       "    if (outputDiv.id !== \"altair-viz-e106bfda261e4e0a823f5ffb3d1ac972\") {\n",
       "      outputDiv = document.getElementById(\"altair-viz-e106bfda261e4e0a823f5ffb3d1ac972\");\n",
       "    }\n",
       "    const paths = {\n",
       "      \"vega\": \"https://cdn.jsdelivr.net/npm//vega@5?noext\",\n",
       "      \"vega-lib\": \"https://cdn.jsdelivr.net/npm//vega-lib?noext\",\n",
       "      \"vega-lite\": \"https://cdn.jsdelivr.net/npm//vega-lite@4.17.0?noext\",\n",
       "      \"vega-embed\": \"https://cdn.jsdelivr.net/npm//vega-embed@6?noext\",\n",
       "    };\n",
       "\n",
       "    function maybeLoadScript(lib, version) {\n",
       "      var key = `${lib.replace(\"-\", \"\")}_version`;\n",
       "      return (VEGA_DEBUG[key] == version) ?\n",
       "        Promise.resolve(paths[lib]) :\n",
       "        new Promise(function(resolve, reject) {\n",
       "          var s = document.createElement('script');\n",
       "          document.getElementsByTagName(\"head\")[0].appendChild(s);\n",
       "          s.async = true;\n",
       "          s.onload = () => {\n",
       "            VEGA_DEBUG[key] = version;\n",
       "            return resolve(paths[lib]);\n",
       "          };\n",
       "          s.onerror = () => reject(`Error loading script: ${paths[lib]}`);\n",
       "          s.src = paths[lib];\n",
       "        });\n",
       "    }\n",
       "\n",
       "    function showError(err) {\n",
       "      outputDiv.innerHTML = `<div class=\"error\" style=\"color:red;\">${err}</div>`;\n",
       "      throw err;\n",
       "    }\n",
       "\n",
       "    function displayChart(vegaEmbed) {\n",
       "      vegaEmbed(outputDiv, spec, embedOpt)\n",
       "        .catch(err => showError(`Javascript Error: ${err.message}<br>This usually means there's a typo in your chart specification. See the javascript console for the full traceback.`));\n",
       "    }\n",
       "\n",
       "    if(typeof define === \"function\" && define.amd) {\n",
       "      requirejs.config({paths});\n",
       "      require([\"vega-embed\"], displayChart, err => showError(`Error loading script: ${err.message}`));\n",
       "    } else {\n",
       "      maybeLoadScript(\"vega\", \"5\")\n",
       "        .then(() => maybeLoadScript(\"vega-lite\", \"4.17.0\"))\n",
       "        .then(() => maybeLoadScript(\"vega-embed\", \"6\"))\n",
       "        .catch(showError)\n",
       "        .then(() => displayChart(vegaEmbed));\n",
       "    }\n",
       "  })({\"config\": {\"view\": {\"continuousWidth\": 400, \"continuousHeight\": 300}}, \"data\": {\"name\": \"data-49d7b582b842daa784cce4db1dfe2d51\"}, \"mark\": \"bar\", \"encoding\": {\"facet\": {\"field\": \"latimes_make\", \"type\": \"nominal\"}, \"x\": {\"field\": \"date\", \"timeUnit\": \"yearmonth\", \"type\": \"temporal\"}, \"y\": {\"aggregate\": \"sum\", \"field\": \"total_fatalities\", \"type\": \"quantitative\"}}, \"$schema\": \"https://vega.github.io/schema/vega-lite/v4.17.0.json\", \"datasets\": {\"data-49d7b582b842daa784cce4db1dfe2d51\": [{\"event_id\": \"20061222X01838\", \"ntsb_make\": \"BELL\", \"ntsb_model\": \"407\", \"ntsb_number\": \"NYC07FA048\", \"year\": 2006, \"date\": \"2006-12-14T00:00:00\", \"city\": \"DAGSBORO\", \"state\": \"DE\", \"country\": \"USA\", \"total_fatalities\": 2, \"latimes_make\": \"BELL\", \"latimes_model\": \"407\", \"latimes_make_and_model\": \"BELL 407\"}, {\"event_id\": \"20060817X01187\", \"ntsb_make\": \"ROBINSON\", \"ntsb_model\": \"R22 BETA\", \"ntsb_number\": \"LAX06LA257\", \"year\": 2006, \"date\": \"2006-08-10T00:00:00\", \"city\": \"TUCSON\", \"state\": \"AZ\", \"country\": \"USA\", \"total_fatalities\": 1, \"latimes_make\": \"ROBINSON\", \"latimes_model\": \"R22\", \"latimes_make_and_model\": \"ROBINSON R22\"}, {\"event_id\": \"20060111X00044\", \"ntsb_make\": \"ROBINSON\", \"ntsb_model\": \"R44\", \"ntsb_number\": \"MIA06FA039\", \"year\": 2006, \"date\": \"2006-01-01T00:00:00\", \"city\": \"GRAND RIDGE\", \"state\": \"FL\", \"country\": \"USA\", \"total_fatalities\": 3, \"latimes_make\": \"ROBINSON\", \"latimes_model\": \"R44\", \"latimes_make_and_model\": \"ROBINSON R44\"}, {\"event_id\": \"20060419X00461\", \"ntsb_make\": \"ROBINSON\", \"ntsb_model\": \"R44 II\", \"ntsb_number\": \"DFW06FA102\", \"year\": 2006, \"date\": \"2006-04-13T00:00:00\", \"city\": \"FREDERICKSBURG\", \"state\": \"TX\", \"country\": \"USA\", \"total_fatalities\": 2, \"latimes_make\": \"ROBINSON\", \"latimes_model\": \"R44\", \"latimes_make_and_model\": \"ROBINSON R44\"}, {\"event_id\": \"20060208X00181\", \"ntsb_make\": \"ROBINSON\", \"ntsb_model\": \"R44\", \"ntsb_number\": \"SEA06LA052\", \"year\": 2006, \"date\": \"2006-02-06T00:00:00\", \"city\": \"HELENA\", \"state\": \"MT\", \"country\": \"USA\", \"total_fatalities\": 1, \"latimes_make\": \"ROBINSON\", \"latimes_model\": \"R44\", \"latimes_make_and_model\": \"ROBINSON R44\"}, {\"event_id\": \"20060228X00255\", \"ntsb_make\": \"ROBINSON\", \"ntsb_model\": \"R22\", \"ntsb_number\": \"ANC06FA020\", \"year\": 2006, \"date\": \"2006-02-22T00:00:00\", \"city\": \"SCOTTSDALE\", \"state\": \"AZ\", \"country\": \"USA\", \"total_fatalities\": 2, \"latimes_make\": \"ROBINSON\", \"latimes_model\": \"R22\", \"latimes_make_and_model\": \"ROBINSON R22\"}, {\"event_id\": \"20060824X01237\", \"ntsb_make\": \"EUROCOPTER\", \"ntsb_model\": \"AS-350-B3\", \"ntsb_number\": \"SEA06GA158\", \"year\": 2006, \"date\": \"2006-08-13T00:00:00\", \"city\": \"YELLOW PINE\", \"state\": \"ID\", \"country\": \"USA\", \"total_fatalities\": 4, \"latimes_make\": \"AIRBUS\", \"latimes_model\": \"350\", \"latimes_make_and_model\": \"AIRBUS 350\"}, {\"event_id\": \"20060916X01352\", \"ntsb_make\": \"HUGHES\", \"ntsb_model\": \"369D\", \"ntsb_number\": \"LAX06LA288\", \"year\": 2006, \"date\": \"2006-09-06T00:00:00\", \"city\": \"SOMIS\", \"state\": \"CA\", \"country\": \"USA\", \"total_fatalities\": 2, \"latimes_make\": \"HUGHES\", \"latimes_model\": \"369\", \"latimes_make_and_model\": \"HUGHES 369\"}, {\"event_id\": \"20061122X01705\", \"ntsb_make\": \"HUGHES\", \"ntsb_model\": \"369E\", \"ntsb_number\": \"SEA07LA021\", \"year\": 2006, \"date\": \"2006-11-21T00:00:00\", \"city\": \"JENSEN\", \"state\": \"UT\", \"country\": \"USA\", \"total_fatalities\": 1, \"latimes_make\": \"HUGHES\", \"latimes_model\": \"369\", \"latimes_make_and_model\": \"HUGHES 369\"}, {\"event_id\": \"20060306X00268\", \"ntsb_make\": \"SCHWEIZER\", \"ntsb_model\": \"269C-1\", \"ntsb_number\": \"LAX06LA123\", \"year\": 2006, \"date\": \"2006-02-25T00:00:00\", \"city\": \"VALENCIA\", \"state\": \"CA\", \"country\": \"USA\", \"total_fatalities\": 1, \"latimes_make\": \"SCHWEIZER\", \"latimes_model\": \"269\", \"latimes_make_and_model\": \"SCHWEIZER 269\"}, {\"event_id\": \"20060607X00691\", \"ntsb_make\": \"EUROCOPTER\", \"ntsb_model\": \"EC-135P1\", \"ntsb_number\": \"NYC06MA131\", \"year\": 2006, \"date\": \"2006-05-30T00:00:00\", \"city\": \"WASHINGTON\", \"state\": \"DC\", \"country\": \"USA\", \"total_fatalities\": 1, \"latimes_make\": \"AIRBUS\", \"latimes_model\": \"135\", \"latimes_make_and_model\": \"AIRBUS 135\"}, {\"event_id\": \"20060419X00457\", \"ntsb_make\": \"ROBINSON\", \"ntsb_model\": \"R22 BETA\", \"ntsb_number\": \"CHI06FA109\", \"year\": 2006, \"date\": \"2006-04-13T00:00:00\", \"city\": \"CHELSEA\", \"state\": \"MI\", \"country\": \"USA\", \"total_fatalities\": 2, \"latimes_make\": \"ROBINSON\", \"latimes_model\": \"R22\", \"latimes_make_and_model\": \"ROBINSON R22\"}, {\"event_id\": \"20060705X00868\", \"ntsb_make\": \"BELL\", \"ntsb_model\": \"206B\", \"ntsb_number\": \"CHI06FA173\", \"year\": 2006, \"date\": \"2006-06-30T00:00:00\", \"city\": \"WALFORD\", \"state\": \"IA\", \"country\": \"USA\", \"total_fatalities\": 1, \"latimes_make\": \"BELL\", \"latimes_model\": \"206\", \"latimes_make_and_model\": \"BELL 206\"}, {\"event_id\": \"20060817X01202\", \"ntsb_make\": \"ROBINSON\", \"ntsb_model\": \"R44 II\", \"ntsb_number\": \"SEA06FA159\", \"year\": 2006, \"date\": \"2006-08-13T00:00:00\", \"city\": \"WARRENTON\", \"state\": \"OR\", \"country\": \"USA\", \"total_fatalities\": 3, \"latimes_make\": \"ROBINSON\", \"latimes_model\": \"R44\", \"latimes_make_and_model\": \"ROBINSON R44\"}, {\"event_id\": \"20060320X00323\", \"ntsb_make\": \"BELL\", \"ntsb_model\": \"206L-1\", \"ntsb_number\": \"DFW06FA083\", \"year\": 2006, \"date\": \"2006-03-14T00:00:00\", \"city\": \"PATTERSON\", \"state\": \"LA\", \"country\": \"USA\", \"total_fatalities\": 2, \"latimes_make\": \"BELL\", \"latimes_model\": \"206\", \"latimes_make_and_model\": \"BELL 206\"}, {\"event_id\": \"20060209X00187\", \"ntsb_make\": \"ROBINSON\", \"ntsb_model\": \"R44 II\", \"ntsb_number\": \"LAX06FA104\", \"year\": 2006, \"date\": \"2006-02-07T00:00:00\", \"city\": \"MINDEN\", \"state\": \"NV\", \"country\": \"USA\", \"total_fatalities\": 1, \"latimes_make\": \"ROBINSON\", \"latimes_model\": \"R44\", \"latimes_make_and_model\": \"ROBINSON R44\"}, {\"event_id\": \"20060510X00540\", \"ntsb_make\": \"ROBINSON\", \"ntsb_model\": \"R44 RAVEN II\", \"ntsb_number\": \"LAX06FA156\", \"year\": 2006, \"date\": \"2006-05-01T00:00:00\", \"city\": \"DESERT CENTER\", \"state\": \"CA\", \"country\": \"USA\", \"total_fatalities\": 2, \"latimes_make\": \"ROBINSON\", \"latimes_model\": \"R44\", \"latimes_make_and_model\": \"ROBINSON R44\"}, {\"event_id\": \"20060905X01290\", \"ntsb_make\": \"EUROCOPTER FRANCE\", \"ntsb_model\": \"AS350 B2\", \"ntsb_number\": \"ANC06GA121\", \"year\": 2006, \"date\": \"2006-08-21T00:00:00\", \"city\": \"NUIQSUT\", \"state\": \"AK\", \"country\": \"USA\", \"total_fatalities\": 1, \"latimes_make\": \"AIRBUS\", \"latimes_model\": \"350\", \"latimes_make_and_model\": \"AIRBUS 350\"}, {\"event_id\": \"20061012X01505\", \"ntsb_make\": \"ROBINSON\", \"ntsb_model\": \"R44\", \"ntsb_number\": \"SEA07FA006\", \"year\": 2006, \"date\": \"2006-10-08T00:00:00\", \"city\": \"SUMNER\", \"state\": \"WA\", \"country\": \"USA\", \"total_fatalities\": 1, \"latimes_make\": \"ROBINSON\", \"latimes_model\": \"R44\", \"latimes_make_and_model\": \"ROBINSON R44\"}, {\"event_id\": \"20060605X00682\", \"ntsb_make\": \"BELL\", \"ntsb_model\": \"206L-3\", \"ntsb_number\": \"DFW06IA145\", \"year\": 2006, \"date\": \"2006-05-30T00:00:00\", \"city\": \"GRAND ISLE 43AA\", \"state\": \"GM\", \"country\": \"USA\", \"total_fatalities\": 1, \"latimes_make\": \"BELL\", \"latimes_model\": \"206\", \"latimes_make_and_model\": \"BELL 206\"}, {\"event_id\": \"20070612X00715\", \"ntsb_make\": \"HUGHES\", \"ntsb_model\": \"369D\", \"ntsb_number\": \"SEA07LA135\", \"year\": 2007, \"date\": \"2007-05-28T00:00:00\", \"city\": \"COLUMBUS\", \"state\": \"MT\", \"country\": \"USA\", \"total_fatalities\": 1, \"latimes_make\": \"HUGHES\", \"latimes_model\": \"369\", \"latimes_make_and_model\": \"HUGHES 369\"}, {\"event_id\": \"20070605X00681\", \"ntsb_make\": \"HUGHES\", \"ntsb_model\": \"369A\", \"ntsb_number\": \"MIA07FA098\", \"year\": 2007, \"date\": \"2007-05-13T00:00:00\", \"city\": \"MOULTON\", \"state\": \"AL\", \"country\": \"USA\", \"total_fatalities\": 1, \"latimes_make\": \"HUGHES\", \"latimes_model\": \"369\", \"latimes_make_and_model\": \"HUGHES 369\"}, {\"event_id\": \"20071119X01805\", \"ntsb_make\": \"ROBINSON HELICOPTER\", \"ntsb_model\": \"R44\", \"ntsb_number\": \"NYC08FA026\", \"year\": 2007, \"date\": \"2007-11-05T00:00:00\", \"city\": \"JAMESTOWN\", \"state\": \"TN\", \"country\": \"USA\", \"total_fatalities\": 3, \"latimes_make\": \"ROBINSON\", \"latimes_model\": \"R44\", \"latimes_make_and_model\": \"ROBINSON R44\"}, {\"event_id\": \"20070430X00482\", \"ntsb_make\": \"ROBINSON HELICOPTER COMPANY\", \"ntsb_model\": \"R44 II\", \"ntsb_number\": \"CHI07FA114\", \"year\": 2007, \"date\": \"2007-04-22T00:00:00\", \"city\": \"BASS LAKE\", \"state\": \"IN\", \"country\": \"USA\", \"total_fatalities\": 2, \"latimes_make\": \"ROBINSON\", \"latimes_model\": \"R44\", \"latimes_make_and_model\": \"ROBINSON R44\"}, {\"event_id\": \"20070322X00320\", \"ntsb_make\": \"MCDONNELL DOUGLAS\", \"ntsb_model\": \"369FF\", \"ntsb_number\": \"CHI07MA083\", \"year\": 2007, \"date\": \"2007-03-11T00:00:00\", \"city\": \"HAENA\", \"state\": \"HI\", \"country\": \"USA\", \"total_fatalities\": 1, \"latimes_make\": \"MCDONNELL DOUGLAS\", \"latimes_model\": \"369\", \"latimes_make_and_model\": \"MCDONNELL DOUGLAS 369\"}, {\"event_id\": \"20071231X02014\", \"ntsb_make\": \"BELL\", \"ntsb_model\": \"206L1\", \"ntsb_number\": \"DFW08FA053\", \"year\": 2007, \"date\": \"2007-12-29T00:00:00\", \"city\": \"VENICE\", \"state\": \"LA\", \"country\": \"USA\", \"total_fatalities\": 1, \"latimes_make\": \"BELL\", \"latimes_model\": \"206\", \"latimes_make_and_model\": \"BELL 206\"}, {\"event_id\": \"20070530X00664\", \"ntsb_make\": \"EUROCOPTER\", \"ntsb_model\": \"AS 350 B3\", \"ntsb_number\": \"DFW07GA119\", \"year\": 2007, \"date\": \"2007-05-22T00:00:00\", \"city\": \"SAN ELIZARIO\", \"state\": \"TX\", \"country\": \"USA\", \"total_fatalities\": 1, \"latimes_make\": \"AIRBUS\", \"latimes_model\": \"350\", \"latimes_make_and_model\": \"AIRBUS 350\"}, {\"event_id\": \"20070405X00374\", \"ntsb_make\": \"ROBINSON\", \"ntsb_model\": \"R44 II\", \"ntsb_number\": \"DEN07FA079\", \"year\": 2007, \"date\": \"2007-03-27T00:00:00\", \"city\": \"PONTE VEDRA BCH\", \"state\": \"FL\", \"country\": \"USA\", \"total_fatalities\": 2, \"latimes_make\": \"ROBINSON\", \"latimes_model\": \"R44\", \"latimes_make_and_model\": \"ROBINSON R44\"}, {\"event_id\": \"20070321X00315\", \"ntsb_make\": \"AEROSPATIALE\", \"ntsb_model\": \"AS350BA\", \"ntsb_number\": \"NYC07MA073\", \"year\": 2007, \"date\": \"2007-03-08T00:00:00\", \"city\": \"PRINCEVILLE\", \"state\": \"HI\", \"country\": \"USA\", \"total_fatalities\": 4, \"latimes_make\": \"AIRBUS\", \"latimes_model\": \"350\", \"latimes_make_and_model\": \"AIRBUS 350\"}, {\"event_id\": \"20080109X00032\", \"ntsb_make\": \"BELL\", \"ntsb_model\": \"206L-3\", \"ntsb_number\": \"NYC08FA071\", \"year\": 2007, \"date\": \"2007-12-30T00:00:00\", \"city\": \"CHEROKEE\", \"state\": \"AL\", \"country\": \"USA\", \"total_fatalities\": 3, \"latimes_make\": \"BELL\", \"latimes_model\": \"206\", \"latimes_make_and_model\": \"BELL 206\"}, {\"event_id\": \"20070920X01418\", \"ntsb_make\": \"BELL\", \"ntsb_model\": \"206B\", \"ntsb_number\": \"MIA07FA147\", \"year\": 2007, \"date\": \"2007-09-11T00:00:00\", \"city\": \"NOKOMIS\", \"state\": \"FL\", \"country\": \"USA\", \"total_fatalities\": 2, \"latimes_make\": \"BELL\", \"latimes_model\": \"206\", \"latimes_make_and_model\": \"BELL 206\"}, {\"event_id\": \"20070919X01416\", \"ntsb_make\": \"HUGHES\", \"ntsb_model\": \"369D\", \"ntsb_number\": \"LAX07LA270\", \"year\": 2007, \"date\": \"2007-09-08T00:00:00\", \"city\": \"ELLENSBURG\", \"state\": \"WA\", \"country\": \"USA\", \"total_fatalities\": 1, \"latimes_make\": \"HUGHES\", \"latimes_model\": \"369\", \"latimes_make_and_model\": \"HUGHES 369\"}, {\"event_id\": \"20070808X01151\", \"ntsb_make\": \"ROBINSON\", \"ntsb_model\": \"R44 II\", \"ntsb_number\": \"SEA07FA223\", \"year\": 2007, \"date\": \"2007-08-02T00:00:00\", \"city\": \"EASTON\", \"state\": \"WA\", \"country\": \"USA\", \"total_fatalities\": 4, \"latimes_make\": \"ROBINSON\", \"latimes_model\": \"R44\", \"latimes_make_and_model\": \"ROBINSON R44\"}, {\"event_id\": \"20071227X01994\", \"ntsb_make\": \"BELL\", \"ntsb_model\": \"407\", \"ntsb_number\": \"NYC08LA028\", \"year\": 2007, \"date\": \"2007-11-09T00:00:00\", \"city\": \"MORRISTOWN\", \"state\": \"TN\", \"country\": \"USA\", \"total_fatalities\": 1, \"latimes_make\": \"BELL\", \"latimes_model\": \"407\", \"latimes_make_and_model\": \"BELL 407\"}, {\"event_id\": \"20070802X01089\", \"ntsb_make\": \"EUROCOPTER\", \"ntsb_model\": \"AS350-B2\", \"ntsb_number\": \"LAX07MA231\", \"year\": 2007, \"date\": \"2007-07-27T00:00:00\", \"city\": \"PHOENIX\", \"state\": \"AZ\", \"country\": \"USA\", \"total_fatalities\": 4, \"latimes_make\": \"AIRBUS\", \"latimes_model\": \"350\", \"latimes_make_and_model\": \"AIRBUS 350\"}, {\"event_id\": \"20070802X01089\", \"ntsb_make\": \"EUROCOPTER\", \"ntsb_model\": \"AS350-B2\", \"ntsb_number\": \"LAX07MA231\", \"year\": 2007, \"date\": \"2007-07-27T00:00:00\", \"city\": \"PHOENIX\", \"state\": \"AZ\", \"country\": \"USA\", \"total_fatalities\": 4, \"latimes_make\": \"AIRBUS\", \"latimes_model\": \"350\", \"latimes_make_and_model\": \"AIRBUS 350\"}, {\"event_id\": \"20080529X00746\", \"ntsb_make\": \"AEROSPATIALE\", \"ntsb_model\": \"AS-350-D\", \"ntsb_number\": \"SEA08MA136\", \"year\": 2008, \"date\": \"2008-05-24T00:00:00\", \"city\": \"AVALON\", \"state\": \"CA\", \"country\": \"USA\", \"total_fatalities\": 3, \"latimes_make\": \"AIRBUS\", \"latimes_model\": \"350\", \"latimes_make_and_model\": \"AIRBUS 350\"}, {\"event_id\": \"20080819X01260\", \"ntsb_make\": \"ROBINSON HELICOPTER\", \"ntsb_model\": \"R22 BETA II\", \"ntsb_number\": \"SEA08FA185\", \"year\": 2008, \"date\": \"2008-08-17T00:00:00\", \"city\": \"OLALLA\", \"state\": \"WA\", \"country\": \"USA\", \"total_fatalities\": 1, \"latimes_make\": \"ROBINSON\", \"latimes_model\": \"R22\", \"latimes_make_and_model\": \"ROBINSON R22\"}, {\"event_id\": \"20080715X01051\", \"ntsb_make\": \"BELL\", \"ntsb_model\": \"407\", \"ntsb_number\": \"DEN08MA116\", \"year\": 2008, \"date\": \"2008-06-29T00:00:00\", \"city\": \"FLAGSTAFF\", \"state\": \"AZ\", \"country\": \"USA\", \"total_fatalities\": 7, \"latimes_make\": \"BELL\", \"latimes_model\": \"407\", \"latimes_make_and_model\": \"BELL 407\"}, {\"event_id\": \"20080715X01051\", \"ntsb_make\": \"BELL\", \"ntsb_model\": \"407\", \"ntsb_number\": \"DEN08MA116\", \"year\": 2008, \"date\": \"2008-06-29T00:00:00\", \"city\": \"FLAGSTAFF\", \"state\": \"AZ\", \"country\": \"USA\", \"total_fatalities\": 7, \"latimes_make\": \"BELL\", \"latimes_model\": \"407\", \"latimes_make_and_model\": \"BELL 407\"}, {\"event_id\": \"20080128X00108\", \"ntsb_make\": \"ROBINSON\", \"ntsb_model\": \"R44\", \"ntsb_number\": \"MIA08FA044\", \"year\": 2008, \"date\": \"2008-01-22T00:00:00\", \"city\": \"OCHOPEE\", \"state\": \"FL\", \"country\": \"USA\", \"total_fatalities\": 2, \"latimes_make\": \"ROBINSON\", \"latimes_model\": \"R44\", \"latimes_make_and_model\": \"ROBINSON R44\"}, {\"event_id\": \"20081211X45825\", \"ntsb_make\": \"BELL\", \"ntsb_model\": \"206L-4\", \"ntsb_number\": \"CEN09FA086\", \"year\": 2008, \"date\": \"2008-12-11T00:00:00\", \"city\": \"SABINE PASS\", \"state\": \"TX\", \"country\": \"USA\", \"total_fatalities\": 5, \"latimes_make\": \"BELL\", \"latimes_model\": \"206\", \"latimes_make_and_model\": \"BELL 206\"}, {\"event_id\": \"20081019X15543\", \"ntsb_make\": \"ROBINSON\", \"ntsb_model\": \"R22\", \"ntsb_number\": \"ERA09FA022\", \"year\": 2008, \"date\": \"2008-10-16T00:00:00\", \"city\": \"DRYDEN\", \"state\": \"NY\", \"country\": \"USA\", \"total_fatalities\": 1, \"latimes_make\": \"ROBINSON\", \"latimes_model\": \"R22\", \"latimes_make_and_model\": \"ROBINSON R22\"}, {\"event_id\": \"20080520X00702\", \"ntsb_make\": \"EUROCOPTER DEUTSCHLAND GMBH\", \"ntsb_model\": \"EC 135 T2+\", \"ntsb_number\": \"CHI08FA128\", \"year\": 2008, \"date\": \"2008-05-10T00:00:00\", \"city\": \"LA CROSSE\", \"state\": \"WI\", \"country\": \"USA\", \"total_fatalities\": 3, \"latimes_make\": \"AIRBUS\", \"latimes_model\": \"135\", \"latimes_make_and_model\": \"AIRBUS 135\"}, {\"event_id\": \"20080909X01417\", \"ntsb_make\": \"BELL\", \"ntsb_model\": \"206L-1\", \"ntsb_number\": \"CHI08FA269\", \"year\": 2008, \"date\": \"2008-08-31T00:00:00\", \"city\": \"GREENSBURG\", \"state\": \"IN\", \"country\": \"USA\", \"total_fatalities\": 3, \"latimes_make\": \"BELL\", \"latimes_model\": \"206\", \"latimes_make_and_model\": \"BELL 206\"}, {\"event_id\": \"20080321X00357\", \"ntsb_make\": \"ROBINSON\", \"ntsb_model\": \"R22 BETA II\", \"ntsb_number\": \"NYC08FA134\", \"year\": 2008, \"date\": \"2008-03-13T00:00:00\", \"city\": \"WILMINGTON\", \"state\": \"NC\", \"country\": \"USA\", \"total_fatalities\": 1, \"latimes_make\": \"ROBINSON\", \"latimes_model\": \"R22\", \"latimes_make_and_model\": \"ROBINSON R22\"}, {\"event_id\": \"20081014X22933\", \"ntsb_make\": \"BELL\", \"ntsb_model\": \"407\", \"ntsb_number\": \"WPR09TA012\", \"year\": 2008, \"date\": \"2008-10-13T00:00:00\", \"city\": \"SEDONA\", \"state\": \"AZ\", \"country\": \"USA\", \"total_fatalities\": 1, \"latimes_make\": \"BELL\", \"latimes_model\": \"407\", \"latimes_make_and_model\": \"BELL 407\"}, {\"event_id\": \"20080505X00592\", \"ntsb_make\": \"ROBINSON\", \"ntsb_model\": \"R44\", \"ntsb_number\": \"DFW08LA122\", \"year\": 2008, \"date\": \"2008-04-28T00:00:00\", \"city\": \"BARTLETT\", \"state\": \"TX\", \"country\": \"USA\", \"total_fatalities\": 1, \"latimes_make\": \"ROBINSON\", \"latimes_model\": \"R44\", \"latimes_make_and_model\": \"ROBINSON R44\"}, {\"event_id\": \"20080710X01015\", \"ntsb_make\": \"SCHWEIZER\", \"ntsb_model\": \"269 C-1\", \"ntsb_number\": \"LAX08LA213\", \"year\": 2008, \"date\": \"2008-07-04T00:00:00\", \"city\": \"SUNOL\", \"state\": \"CA\", \"country\": \"USA\", \"total_fatalities\": 2, \"latimes_make\": \"SCHWEIZER\", \"latimes_model\": \"269\", \"latimes_make_and_model\": \"SCHWEIZER 269\"}, {\"event_id\": \"20081013X24743\", \"ntsb_make\": \"BELL\", \"ntsb_model\": \"206\", \"ntsb_number\": \"CEN09FA012\", \"year\": 2008, \"date\": \"2008-10-13T00:00:00\", \"city\": \"CONROE\", \"state\": \"TX\", \"country\": \"USA\", \"total_fatalities\": 2, \"latimes_make\": \"BELL\", \"latimes_model\": \"206\", \"latimes_make_and_model\": \"BELL 206\"}, {\"event_id\": \"20081104X60811\", \"ntsb_make\": \"ROBINSON\", \"ntsb_model\": \"R-44\", \"ntsb_number\": \"ERA09FA036\", \"year\": 2008, \"date\": \"2008-11-02T00:00:00\", \"city\": \"GALLATIN\", \"state\": \"TN\", \"country\": \"USA\", \"total_fatalities\": 1, \"latimes_make\": \"ROBINSON\", \"latimes_model\": \"R44\", \"latimes_make_and_model\": \"ROBINSON R44\"}, {\"event_id\": \"20080731X01133\", \"ntsb_make\": \"HUGHES\", \"ntsb_model\": \"369D\", \"ntsb_number\": \"LAX08FA233\", \"year\": 2008, \"date\": \"2008-07-19T00:00:00\", \"city\": \"PRICE\", \"state\": \"UT\", \"country\": \"USA\", \"total_fatalities\": 3, \"latimes_make\": \"HUGHES\", \"latimes_model\": \"369\", \"latimes_make_and_model\": \"HUGHES 369\"}, {\"event_id\": \"20080222X00227\", \"ntsb_make\": \"EUROCOPTER FRANCE\", \"ntsb_model\": \"AS350B2\", \"ntsb_number\": \"DFW08FA062\", \"year\": 2008, \"date\": \"2008-02-05T00:00:00\", \"city\": \"S. PADRE ISLAND\", \"state\": \"TX\", \"country\": \"USA\", \"total_fatalities\": 3, \"latimes_make\": \"AIRBUS\", \"latimes_model\": \"350\", \"latimes_make_and_model\": \"AIRBUS 350\"}, {\"event_id\": \"20080421X00524\", \"ntsb_make\": \"EUROCOPTER\", \"ntsb_model\": \"AS 350 B2\", \"ntsb_number\": \"ANC08FA053\", \"year\": 2008, \"date\": \"2008-04-15T00:00:00\", \"city\": \"CHICKALOON\", \"state\": \"AK\", \"country\": \"USA\", \"total_fatalities\": 4, \"latimes_make\": \"AIRBUS\", \"latimes_model\": \"350\", \"latimes_make_and_model\": \"AIRBUS 350\"}, {\"event_id\": \"20080613X00858\", \"ntsb_make\": \"BELL\", \"ntsb_model\": \"407\", \"ntsb_number\": \"DEN08FA101\", \"year\": 2008, \"date\": \"2008-06-08T00:00:00\", \"city\": \"HUNTSVILLE\", \"state\": \"TX\", \"country\": \"USA\", \"total_fatalities\": 4, \"latimes_make\": \"BELL\", \"latimes_model\": \"407\", \"latimes_make_and_model\": \"BELL 407\"}, {\"event_id\": \"20080908X01405\", \"ntsb_make\": \"ROBINSON\", \"ntsb_model\": \"R44 II\", \"ntsb_number\": \"DFW08FA218\", \"year\": 2008, \"date\": \"2008-08-29T00:00:00\", \"city\": \"RIDGEDALE\", \"state\": \"MO\", \"country\": \"USA\", \"total_fatalities\": 2, \"latimes_make\": \"ROBINSON\", \"latimes_model\": \"R44\", \"latimes_make_and_model\": \"ROBINSON R44\"}, {\"event_id\": \"20080925X01525\", \"ntsb_make\": \"ROBINSON\", \"ntsb_model\": \"R44 II\", \"ntsb_number\": \"CHI08FA293\", \"year\": 2008, \"date\": \"2008-09-21T00:00:00\", \"city\": \"KENOSHA\", \"state\": \"WI\", \"country\": \"USA\", \"total_fatalities\": 2, \"latimes_make\": \"ROBINSON\", \"latimes_model\": \"R44\", \"latimes_make_and_model\": \"ROBINSON R44\"}, {\"event_id\": \"20080201X00130\", \"ntsb_make\": \"ROBINSON HELICOPTER\", \"ntsb_model\": \"R22 BETA\", \"ntsb_number\": \"LAX08FA052\", \"year\": 2008, \"date\": \"2008-01-25T00:00:00\", \"city\": \"LOS ANGELES\", \"state\": \"CA\", \"country\": \"USA\", \"total_fatalities\": 1, \"latimes_make\": \"ROBINSON\", \"latimes_model\": \"R22\", \"latimes_make_and_model\": \"ROBINSON R22\"}, {\"event_id\": \"20091012X15520\", \"ntsb_make\": \"MCDONNELL DOUGLAS HELI CO\", \"ntsb_model\": \"369FF\", \"ntsb_number\": \"WPR10FA012\", \"year\": 2009, \"date\": \"2009-10-12T00:00:00\", \"city\": \"FOSSIL\", \"state\": \"OR\", \"country\": \"USA\", \"total_fatalities\": 1, \"latimes_make\": \"MCDONNELL DOUGLAS\", \"latimes_model\": \"369\", \"latimes_make_and_model\": \"MCDONNELL DOUGLAS 369\"}, {\"event_id\": \"20090724X05537\", \"ntsb_make\": \"ROBINSON HELICOPTER\", \"ntsb_model\": \"R44\", \"ntsb_number\": \"ERA09FA417\", \"year\": 2009, \"date\": \"2009-07-23T00:00:00\", \"city\": \"BOONSBORO\", \"state\": \"MD\", \"country\": \"USA\", \"total_fatalities\": 4, \"latimes_make\": \"ROBINSON\", \"latimes_model\": \"R44\", \"latimes_make_and_model\": \"ROBINSON R44\"}, {\"event_id\": \"20090926X65328\", \"ntsb_make\": \"EUROCOPTER\", \"ntsb_model\": \"AS-350\", \"ntsb_number\": \"ERA09FA537\", \"year\": 2009, \"date\": \"2009-09-25T00:00:00\", \"city\": \"GEORGETOWN\", \"state\": \"SC\", \"country\": \"USA\", \"total_fatalities\": 3, \"latimes_make\": \"AIRBUS\", \"latimes_model\": \"350\", \"latimes_make_and_model\": \"AIRBUS 350\"}, {\"event_id\": \"20090722X34202\", \"ntsb_make\": \"HUGHES\", \"ntsb_model\": \"369\", \"ntsb_number\": \"ERA09FA414\", \"year\": 2009, \"date\": \"2009-07-22T00:00:00\", \"city\": \"FRANKLIN\", \"state\": \"PA\", \"country\": \"USA\", \"total_fatalities\": 1, \"latimes_make\": \"HUGHES\", \"latimes_model\": \"369\", \"latimes_make_and_model\": \"HUGHES 369\"}, {\"event_id\": \"20090808X42846\", \"ntsb_make\": \"EUROCOPTER\", \"ntsb_model\": \"AS 350 BA\", \"ntsb_number\": \"ERA09MA447\", \"year\": 2009, \"date\": \"2009-08-08T00:00:00\", \"city\": \"HOBOKEN\", \"state\": \"NJ\", \"country\": \"USA\", \"total_fatalities\": 9, \"latimes_make\": \"AIRBUS\", \"latimes_model\": \"350\", \"latimes_make_and_model\": \"AIRBUS 350\"}, {\"event_id\": \"20090104X12037\", \"ntsb_make\": \"SIKORSKY\", \"ntsb_model\": \"S-76C\", \"ntsb_number\": \"CEN09MA117\", \"year\": 2009, \"date\": \"2009-01-04T00:00:00\", \"city\": \"MORGAN CITY\", \"state\": \"LA\", \"country\": \"USA\", \"total_fatalities\": 8, \"latimes_make\": \"SIKORSKY\", \"latimes_model\": \"76\", \"latimes_make_and_model\": \"SIKORSKY 76\"}, {\"event_id\": \"20091017X64138\", \"ntsb_make\": \"ROBINSON HELICOPTER\", \"ntsb_model\": \"R22 BETA\", \"ntsb_number\": \"CEN10FA019\", \"year\": 2009, \"date\": \"2009-10-14T00:00:00\", \"city\": \"TAHLEQUAH\", \"state\": \"OK\", \"country\": \"USA\", \"total_fatalities\": 2, \"latimes_make\": \"ROBINSON\", \"latimes_model\": \"R22\", \"latimes_make_and_model\": \"ROBINSON R22\"}, {\"event_id\": \"20090901X80259\", \"ntsb_make\": \"ROBINSON\", \"ntsb_model\": \"R44\", \"ntsb_number\": \"ERA09FA497\", \"year\": 2009, \"date\": \"2009-09-01T00:00:00\", \"city\": \"JACKSON\", \"state\": \"MS\", \"country\": \"USA\", \"total_fatalities\": 1, \"latimes_make\": \"ROBINSON\", \"latimes_model\": \"R44\", \"latimes_make_and_model\": \"ROBINSON R44\"}, {\"event_id\": \"20090225X75532\", \"ntsb_make\": \"HUGHES\", \"ntsb_model\": \"369F\", \"ntsb_number\": \"ERA09LA173\", \"year\": 2009, \"date\": \"2009-02-24T00:00:00\", \"city\": \"MOYOCK\", \"state\": \"NC\", \"country\": \"USA\", \"total_fatalities\": 1, \"latimes_make\": \"HUGHES\", \"latimes_model\": \"369\", \"latimes_make_and_model\": \"HUGHES 369\"}, {\"event_id\": \"20090611X91250\", \"ntsb_make\": \"ROBINSON HELICOPTER\", \"ntsb_model\": \"R22 BETA\", \"ntsb_number\": \"WPR09FA284\", \"year\": 2009, \"date\": \"2009-06-11T00:00:00\", \"city\": \"MORRISTOWN\", \"state\": \"AZ\", \"country\": \"USA\", \"total_fatalities\": 1, \"latimes_make\": \"ROBINSON\", \"latimes_model\": \"R22\", \"latimes_make_and_model\": \"ROBINSON R22\"}, {\"event_id\": \"20090920X34134\", \"ntsb_make\": \"ROBINSON HELICOPTER\", \"ntsb_model\": \"R22 BETA\", \"ntsb_number\": \"WPR09FA459\", \"year\": 2009, \"date\": \"2009-09-20T00:00:00\", \"city\": \"FOREST GROVE\", \"state\": \"OR\", \"country\": \"USA\", \"total_fatalities\": 2, \"latimes_make\": \"ROBINSON\", \"latimes_model\": \"R22\", \"latimes_make_and_model\": \"ROBINSON R22\"}, {\"event_id\": \"20091114X82100\", \"ntsb_make\": \"AEROSPATIALE\", \"ntsb_model\": \"AS350BA\", \"ntsb_number\": \"WPR10FA055\", \"year\": 2009, \"date\": \"2009-11-14T00:00:00\", \"city\": \"DOYLE\", \"state\": \"CA\", \"country\": \"USA\", \"total_fatalities\": 3, \"latimes_make\": \"AIRBUS\", \"latimes_model\": \"350\", \"latimes_make_and_model\": \"AIRBUS 350\"}, {\"event_id\": \"20090309X04818\", \"ntsb_make\": \"BELL\", \"ntsb_model\": \"206-L4\", \"ntsb_number\": \"CEN09FA193\", \"year\": 2009, \"date\": \"2009-03-08T00:00:00\", \"city\": \"MOUNDRIDGE\", \"state\": \"KS\", \"country\": \"USA\", \"total_fatalities\": 1, \"latimes_make\": \"BELL\", \"latimes_model\": \"206\", \"latimes_make_and_model\": \"BELL 206\"}, {\"event_id\": \"20090201X10015\", \"ntsb_make\": \"ROBINSON HELICOPTER\", \"ntsb_model\": \"R22 BETA II\", \"ntsb_number\": \"WPR09FA104\", \"year\": 2009, \"date\": \"2009-01-31T00:00:00\", \"city\": \"FILLMORE\", \"state\": \"CA\", \"country\": \"USA\", \"total_fatalities\": 1, \"latimes_make\": \"ROBINSON\", \"latimes_model\": \"R22\", \"latimes_make_and_model\": \"ROBINSON R22\"}, {\"event_id\": \"20090610X23159\", \"ntsb_make\": \"AGUSTA SPA\", \"ntsb_model\": \"A109E\", \"ntsb_number\": \"CEN09PA348\", \"year\": 2009, \"date\": \"2009-06-09T00:00:00\", \"city\": \"SANTA FE\", \"state\": \"NM\", \"country\": \"USA\", \"total_fatalities\": 2, \"latimes_make\": \"AGUSTA\", \"latimes_model\": \"109\", \"latimes_make_and_model\": \"AGUSTA 109\"}, {\"event_id\": \"20101015X73141\", \"ntsb_make\": \"BELL\", \"ntsb_model\": \"206B\", \"ntsb_number\": \"CEN11GA020\", \"year\": 2010, \"date\": \"2010-10-15T00:00:00\", \"city\": \"CLARKSON VALLEY\", \"state\": \"MO\", \"country\": \"USA\", \"total_fatalities\": 1, \"latimes_make\": \"BELL\", \"latimes_model\": \"206\", \"latimes_make_and_model\": \"BELL 206\"}, {\"event_id\": \"20100806X55641\", \"ntsb_make\": \"ROBINSON HELICOPTER COMPANY\", \"ntsb_model\": \"R44 II\", \"ntsb_number\": \"ERA10FA403\", \"year\": 2010, \"date\": \"2010-08-02T00:00:00\", \"city\": \"BLAIRSVILLE\", \"state\": \"GA\", \"country\": \"USA\", \"total_fatalities\": 2, \"latimes_make\": \"ROBINSON\", \"latimes_model\": \"R44\", \"latimes_make_and_model\": \"ROBINSON R44\"}, {\"event_id\": \"20100105X94046\", \"ntsb_make\": \"BELL\", \"ntsb_model\": \"206B\", \"ntsb_number\": \"WPR10GA097\", \"year\": 2010, \"date\": \"2010-01-05T00:00:00\", \"city\": \"AUBERRY\", \"state\": \"CA\", \"country\": \"USA\", \"total_fatalities\": 4, \"latimes_make\": \"BELL\", \"latimes_model\": \"206\", \"latimes_make_and_model\": \"BELL 206\"}, {\"event_id\": \"20100728X92614\", \"ntsb_make\": \"AMERICAN EUROCOPTER LLC\", \"ntsb_model\": \"AS 350 B3\", \"ntsb_number\": \"WPR10FA371\", \"year\": 2010, \"date\": \"2010-07-28T00:00:00\", \"city\": \"TUCSON\", \"state\": \"AZ\", \"country\": \"USA\", \"total_fatalities\": 3, \"latimes_make\": \"AIRBUS\", \"latimes_model\": \"350\", \"latimes_make_and_model\": \"AIRBUS 350\"}, {\"event_id\": \"20100621X31143\", \"ntsb_make\": \"ROBINSON HELICOPTER\", \"ntsb_model\": \"R44\", \"ntsb_number\": \"ANC10LA053\", \"year\": 2010, \"date\": \"2010-06-19T00:00:00\", \"city\": \"UNALASKA\", \"state\": \"AK\", \"country\": \"USA\", \"total_fatalities\": 1, \"latimes_make\": \"ROBINSON\", \"latimes_model\": \"R44\", \"latimes_make_and_model\": \"ROBINSON R44\"}, {\"event_id\": \"20101103X83727\", \"ntsb_make\": \"BELL\", \"ntsb_model\": \"206\", \"ntsb_number\": \"CEN11FA053\", \"year\": 2010, \"date\": \"2010-11-03T00:00:00\", \"city\": \"MEEKER\", \"state\": \"CO\", \"country\": \"USA\", \"total_fatalities\": 1, \"latimes_make\": \"BELL\", \"latimes_model\": \"206\", \"latimes_make_and_model\": \"BELL 206\"}, {\"event_id\": \"20100705X12909\", \"ntsb_make\": \"ROBINSON HELICOPTER\", \"ntsb_model\": \"R44\", \"ntsb_number\": \"ERA10LA348\", \"year\": 2010, \"date\": \"2010-07-05T00:00:00\", \"city\": \"MARION\", \"state\": \"KY\", \"country\": \"USA\", \"total_fatalities\": 1, \"latimes_make\": \"ROBINSON\", \"latimes_model\": \"R44\", \"latimes_make_and_model\": \"ROBINSON R44\"}, {\"event_id\": \"20101030X30541\", \"ntsb_make\": \"MD HELICOPTERS INC\", \"ntsb_model\": \"369E\", \"ntsb_number\": \"ERA11FA042\", \"year\": 2010, \"date\": \"2010-10-30T00:00:00\", \"city\": \"THOMAS\", \"state\": \"WV\", \"country\": \"USA\", \"total_fatalities\": 1, \"latimes_make\": \"MCDONNELL DOUGLAS\", \"latimes_model\": \"369\", \"latimes_make_and_model\": \"MCDONNELL DOUGLAS 369\"}, {\"event_id\": \"20100831X75841\", \"ntsb_make\": \"BELL HELICOPTER TEXTRON\", \"ntsb_model\": \"206L-1\", \"ntsb_number\": \"CEN10FA509\", \"year\": 2010, \"date\": \"2010-08-31T00:00:00\", \"city\": \"WALNUT GROVE\", \"state\": \"AR\", \"country\": \"USA\", \"total_fatalities\": 3, \"latimes_make\": \"BELL\", \"latimes_model\": \"206\", \"latimes_make_and_model\": \"BELL 206\"}, {\"event_id\": \"20100214X92140\", \"ntsb_make\": \"EUROCOPTER\", \"ntsb_model\": \"EC135\", \"ntsb_number\": \"WPR10FA133\", \"year\": 2010, \"date\": \"2010-02-14T00:00:00\", \"city\": \"CAVE CREEK\", \"state\": \"AZ\", \"country\": \"USA\", \"total_fatalities\": 5, \"latimes_make\": \"AIRBUS\", \"latimes_model\": \"135\", \"latimes_make_and_model\": \"AIRBUS 135\"}, {\"event_id\": \"20100526X84456\", \"ntsb_make\": \"SCHWEIZER\", \"ntsb_model\": \"269C-1\", \"ntsb_number\": \"ERA10FA283\", \"year\": 2010, \"date\": \"2010-05-26T00:00:00\", \"city\": \"BOXBOROUGH\", \"state\": \"MA\", \"country\": \"USA\", \"total_fatalities\": 1, \"latimes_make\": \"SCHWEIZER\", \"latimes_model\": \"269\", \"latimes_make_and_model\": \"SCHWEIZER 269\"}, {\"event_id\": \"20100306X05331\", \"ntsb_make\": \"ROBINSON HELICOPTER\", \"ntsb_model\": \"R22 BETA II\", \"ntsb_number\": \"CEN10FA139\", \"year\": 2010, \"date\": \"2010-03-06T00:00:00\", \"city\": \"COTULLA\", \"state\": \"TX\", \"country\": \"USA\", \"total_fatalities\": 2, \"latimes_make\": \"ROBINSON\", \"latimes_model\": \"R22\", \"latimes_make_and_model\": \"ROBINSON R22\"}, {\"event_id\": \"20100717X71900\", \"ntsb_make\": \"ROBINSON HELICOPTER COMPANY\", \"ntsb_model\": \"R44 II\", \"ntsb_number\": \"WPR10LA354\", \"year\": 2010, \"date\": \"2010-07-16T00:00:00\", \"city\": \"SALT LAKE CITY\", \"state\": \"UT\", \"country\": \"USA\", \"total_fatalities\": 1, \"latimes_make\": \"ROBINSON\", \"latimes_model\": \"R44\", \"latimes_make_and_model\": \"ROBINSON R44\"}, {\"event_id\": \"20100206X10511\", \"ntsb_make\": \"AEROSPATIALE\", \"ntsb_model\": \"AS350\", \"ntsb_number\": \"CEN10FA113\", \"year\": 2010, \"date\": \"2010-02-05T00:00:00\", \"city\": \"EL PASO\", \"state\": \"TX\", \"country\": \"USA\", \"total_fatalities\": 3, \"latimes_make\": \"AIRBUS\", \"latimes_model\": \"350\", \"latimes_make_and_model\": \"AIRBUS 350\"}, {\"event_id\": \"20110102X35752\", \"ntsb_make\": \"EUROCOPTER DEUTSCHLAND GMBH\", \"ntsb_model\": \"EC 135 P2\", \"ntsb_number\": \"ERA11FA101\", \"year\": 2010, \"date\": \"2010-12-31T00:00:00\", \"city\": \"WEYERS CAVE\", \"state\": \"VA\", \"country\": \"USA\", \"total_fatalities\": 2, \"latimes_make\": \"AIRBUS\", \"latimes_model\": \"135\", \"latimes_make_and_model\": \"AIRBUS 135\"}, {\"event_id\": \"20100325X93604\", \"ntsb_make\": \"EUROCOPTER\", \"ntsb_model\": \"AS-350-B3\", \"ntsb_number\": \"ERA10MA188\", \"year\": 2010, \"date\": \"2010-03-25T00:00:00\", \"city\": \"BROWNSVILLE\", \"state\": \"TN\", \"country\": \"USA\", \"total_fatalities\": 3, \"latimes_make\": \"AIRBUS\", \"latimes_model\": \"350\", \"latimes_make_and_model\": \"AIRBUS 350\"}, {\"event_id\": \"20100602X01732\", \"ntsb_make\": \"ROBINSON\", \"ntsb_model\": \"R22 BETA\", \"ntsb_number\": \"WPR10FA277\", \"year\": 2010, \"date\": \"2010-06-02T00:00:00\", \"city\": \"SPOKANE\", \"state\": \"WA\", \"country\": \"USA\", \"total_fatalities\": 1, \"latimes_make\": \"ROBINSON\", \"latimes_model\": \"R22\", \"latimes_make_and_model\": \"ROBINSON R22\"}, {\"event_id\": \"20100722X21328\", \"ntsb_make\": \"EUROCOPTER\", \"ntsb_model\": \"AS 350 B2\", \"ntsb_number\": \"CEN10FA424\", \"year\": 2010, \"date\": \"2010-07-22T00:00:00\", \"city\": \"KINGFISHER\", \"state\": \"OK\", \"country\": \"USA\", \"total_fatalities\": 2, \"latimes_make\": \"AIRBUS\", \"latimes_model\": \"350\", \"latimes_make_and_model\": \"AIRBUS 350\"}, {\"event_id\": \"20121010X41638\", \"ntsb_make\": \"BELL\", \"ntsb_model\": \"206B\", \"ntsb_number\": \"CEN13FA009\", \"year\": 2012, \"date\": \"2012-10-10T00:00:00\", \"city\": \"CROWLEY\", \"state\": \"LA\", \"country\": \"USA\", \"total_fatalities\": 1, \"latimes_make\": \"BELL\", \"latimes_model\": \"206\", \"latimes_make_and_model\": \"BELL 206\"}, {\"event_id\": \"20121010X63824\", \"ntsb_make\": \"BELL\", \"ntsb_model\": \"407\", \"ntsb_number\": \"ERA13FA014\", \"year\": 2012, \"date\": \"2012-10-09T00:00:00\", \"city\": \"COOLBAUGH TOWNSHIP\", \"state\": \"PA\", \"country\": \"USA\", \"total_fatalities\": 2, \"latimes_make\": \"BELL\", \"latimes_model\": \"407\", \"latimes_make_and_model\": \"BELL 407\"}, {\"event_id\": \"20121012X13500\", \"ntsb_make\": \"ROBINSON HELICOPTER COMPANY\", \"ntsb_model\": \"R44 II\", \"ntsb_number\": \"CEN13FA010\", \"year\": 2012, \"date\": \"2012-10-11T00:00:00\", \"city\": \"BLANCO\", \"state\": \"TX\", \"country\": \"USA\", \"total_fatalities\": 3, \"latimes_make\": \"ROBINSON\", \"latimes_model\": \"R44\", \"latimes_make_and_model\": \"ROBINSON R44\"}, {\"event_id\": \"20120910X05133\", \"ntsb_make\": \"ROBINSON HELICOPTER\", \"ntsb_model\": \"R22 BETA\", \"ntsb_number\": \"CEN12FA621\", \"year\": 2012, \"date\": \"2012-09-10T00:00:00\", \"city\": \"HOUSTON\", \"state\": \"TX\", \"country\": \"USA\", \"total_fatalities\": 2, \"latimes_make\": \"ROBINSON\", \"latimes_model\": \"R22\", \"latimes_make_and_model\": \"ROBINSON R22\"}, {\"event_id\": \"20120826X42003\", \"ntsb_make\": \"BELL\", \"ntsb_model\": \"407\", \"ntsb_number\": \"ERA12FA527\", \"year\": 2012, \"date\": \"2012-08-24T00:00:00\", \"city\": \"ABINGDON\", \"state\": \"VA\", \"country\": \"USA\", \"total_fatalities\": 1, \"latimes_make\": \"BELL\", \"latimes_model\": \"407\", \"latimes_make_and_model\": \"BELL 407\"}, {\"event_id\": \"20120216X03340\", \"ntsb_make\": \"BELL\", \"ntsb_model\": \"407\", \"ntsb_number\": \"WPR12GA106\", \"year\": 2012, \"date\": \"2012-02-15T00:00:00\", \"city\": \"MORAN JUNCTION\", \"state\": \"WY\", \"country\": \"USA\", \"total_fatalities\": 1, \"latimes_make\": \"BELL\", \"latimes_model\": \"407\", \"latimes_make_and_model\": \"BELL 407\"}, {\"event_id\": \"20120701X53951\", \"ntsb_make\": \"AEROSPATIALE\", \"ntsb_model\": \"AS350B\", \"ntsb_number\": \"WPR12FA282\", \"year\": 2012, \"date\": \"2012-06-30T00:00:00\", \"city\": \"CAMP VERDE\", \"state\": \"AZ\", \"country\": \"USA\", \"total_fatalities\": 4, \"latimes_make\": \"AIRBUS\", \"latimes_model\": \"350\", \"latimes_make_and_model\": \"AIRBUS 350\"}, {\"event_id\": \"20121130X74908\", \"ntsb_make\": \"ROBINSON HELICOPTER\", \"ntsb_model\": \"R22 BETA II\", \"ntsb_number\": \"ERA13FA070\", \"year\": 2012, \"date\": \"2012-11-30T00:00:00\", \"city\": \"APOLLO BEACH\", \"state\": \"FL\", \"country\": \"USA\", \"total_fatalities\": 1, \"latimes_make\": \"ROBINSON\", \"latimes_model\": \"R22\", \"latimes_make_and_model\": \"ROBINSON R22\"}, {\"event_id\": \"20120709X83554\", \"ntsb_make\": \"ROBINSON HELICOPTER\", \"ntsb_model\": \"R22 BETA\", \"ntsb_number\": \"WPR12FA298\", \"year\": 2012, \"date\": \"2012-07-09T00:00:00\", \"city\": \"MURRIETA\", \"state\": \"CA\", \"country\": \"USA\", \"total_fatalities\": 1, \"latimes_make\": \"ROBINSON\", \"latimes_model\": \"R22\", \"latimes_make_and_model\": \"ROBINSON R22\"}, {\"event_id\": \"20121115X43423\", \"ntsb_make\": \"HUGHES\", \"ntsb_model\": \"369D\", \"ntsb_number\": \"ERA13LA057\", \"year\": 2012, \"date\": \"2012-11-15T00:00:00\", \"city\": \"CORNING\", \"state\": \"NY\", \"country\": \"USA\", \"total_fatalities\": 2, \"latimes_make\": \"HUGHES\", \"latimes_model\": \"369\", \"latimes_make_and_model\": \"HUGHES 369\"}, {\"event_id\": \"20120119X92431\", \"ntsb_make\": \"ROBINSON\", \"ntsb_model\": \"R44 II\", \"ntsb_number\": \"CEN12FA139\", \"year\": 2012, \"date\": \"2012-01-19T00:00:00\", \"city\": \"CENTERVILLE\", \"state\": \"LA\", \"country\": \"USA\", \"total_fatalities\": 2, \"latimes_make\": \"ROBINSON\", \"latimes_model\": \"R44\", \"latimes_make_and_model\": \"ROBINSON R44\"}, {\"event_id\": \"20121128X12341\", \"ntsb_make\": \"HUGHES\", \"ntsb_model\": \"369\", \"ntsb_number\": \"CEN13FA075\", \"year\": 2012, \"date\": \"2012-11-27T00:00:00\", \"city\": \"CHILDRESS\", \"state\": \"TX\", \"country\": \"USA\", \"total_fatalities\": 1, \"latimes_make\": \"HUGHES\", \"latimes_model\": \"369\", \"latimes_make_and_model\": \"HUGHES 369\"}, {\"event_id\": \"20120529X90616\", \"ntsb_make\": \"BELL\", \"ntsb_model\": \"206-L4\", \"ntsb_number\": \"CEN12FA321\", \"year\": 2012, \"date\": \"2012-05-28T00:00:00\", \"city\": \"GULF OF MEXICO\", \"state\": null, \"country\": \"USA\", \"total_fatalities\": 1, \"latimes_make\": \"BELL\", \"latimes_model\": \"206\", \"latimes_make_and_model\": \"BELL 206\"}, {\"event_id\": \"20120612X20331\", \"ntsb_make\": \"ROBINSON HELICOPTER COMPANY\", \"ntsb_model\": \"R44 II\", \"ntsb_number\": \"WPR12LA259\", \"year\": 2012, \"date\": \"2012-06-12T00:00:00\", \"city\": \"EAST WENATCHEE\", \"state\": \"WA\", \"country\": \"USA\", \"total_fatalities\": 1, \"latimes_make\": \"ROBINSON\", \"latimes_model\": \"R44\", \"latimes_make_and_model\": \"ROBINSON R44\"}, {\"event_id\": \"20121126X75106\", \"ntsb_make\": \"ROBINSON HELICOPTER COMPANY\", \"ntsb_model\": \"R44 II\", \"ntsb_number\": \"WPR13FA054\", \"year\": 2012, \"date\": \"2012-11-25T00:00:00\", \"city\": \"CORONA\", \"state\": \"CA\", \"country\": \"USA\", \"total_fatalities\": 1, \"latimes_make\": \"ROBINSON\", \"latimes_model\": \"R44\", \"latimes_make_and_model\": \"ROBINSON R44\"}, {\"event_id\": \"20121005X04242\", \"ntsb_make\": \"BELL\", \"ntsb_model\": \"407\", \"ntsb_number\": \"CEN13FA003\", \"year\": 2012, \"date\": \"2012-10-05T00:00:00\", \"city\": \"INTRACOASTAL CITY\", \"state\": \"LA\", \"country\": \"USA\", \"total_fatalities\": 1, \"latimes_make\": \"BELL\", \"latimes_model\": \"407\", \"latimes_make_and_model\": \"BELL 407\"}, {\"event_id\": \"20130222X12624\", \"ntsb_make\": \"EUROCOPTER\", \"ntsb_model\": \"AS 350 B2\", \"ntsb_number\": \"CEN13FA174\", \"year\": 2013, \"date\": \"2013-02-22T00:00:00\", \"city\": \"OKLAHOMA CITY\", \"state\": \"OK\", \"country\": \"USA\", \"total_fatalities\": 2, \"latimes_make\": \"AIRBUS\", \"latimes_model\": \"350\", \"latimes_make_and_model\": \"AIRBUS 350\"}, {\"event_id\": \"20131009X50051\", \"ntsb_make\": \"BELL\", \"ntsb_model\": \"206L 3\", \"ntsb_number\": \"CEN14FA004\", \"year\": 2013, \"date\": \"2013-10-09T00:00:00\", \"city\": \"VENICE, LA\", \"state\": \"GM\", \"country\": \"USA\", \"total_fatalities\": 1, \"latimes_make\": \"BELL\", \"latimes_model\": \"206\", \"latimes_make_and_model\": \"BELL 206\"}, {\"event_id\": \"20130331X41252\", \"ntsb_make\": \"EUROCOPTER\", \"ntsb_model\": \"AS350\", \"ntsb_number\": \"ANC13GA036\", \"year\": 2013, \"date\": \"2013-03-30T00:00:00\", \"city\": \"TALKEETNA\", \"state\": \"AK\", \"country\": \"USA\", \"total_fatalities\": 3, \"latimes_make\": \"AIRBUS\", \"latimes_model\": \"350\", \"latimes_make_and_model\": \"AIRBUS 350\"}, {\"event_id\": \"20130525X61706\", \"ntsb_make\": \"ROBINSON HELICOPTER COMPANY\", \"ntsb_model\": \"R44 II\", \"ntsb_number\": \"CEN13FA295\", \"year\": 2013, \"date\": \"2013-05-24T00:00:00\", \"city\": \"CROSS TIMBERS\", \"state\": \"MO\", \"country\": \"USA\", \"total_fatalities\": 2, \"latimes_make\": \"ROBINSON\", \"latimes_model\": \"R44\", \"latimes_make_and_model\": \"ROBINSON R44\"}, {\"event_id\": \"20130102X13158\", \"ntsb_make\": \"BELL\", \"ntsb_model\": \"206\", \"ntsb_number\": \"WPR13FA080\", \"year\": 2013, \"date\": \"2013-01-02T00:00:00\", \"city\": \"DELANO\", \"state\": \"CA\", \"country\": \"USA\", \"total_fatalities\": 1, \"latimes_make\": \"BELL\", \"latimes_model\": \"206\", \"latimes_make_and_model\": \"BELL 206\"}, {\"event_id\": \"20130727X31220\", \"ntsb_make\": \"ROBINSON HELICOPTER COMPANY\", \"ntsb_model\": \"R44 II\", \"ntsb_number\": \"WPR13FA343\", \"year\": 2013, \"date\": \"2013-07-27T00:00:00\", \"city\": \"THOMPSON FALLS\", \"state\": \"MT\", \"country\": \"USA\", \"total_fatalities\": 1, \"latimes_make\": \"ROBINSON\", \"latimes_model\": \"R44\", \"latimes_make_and_model\": \"ROBINSON R44\"}, {\"event_id\": \"20130210X93918\", \"ntsb_make\": \"BELL\", \"ntsb_model\": \"206B\", \"ntsb_number\": \"WPR13FA119\", \"year\": 2013, \"date\": \"2013-02-10T00:00:00\", \"city\": \"ACTON\", \"state\": \"CA\", \"country\": \"USA\", \"total_fatalities\": 3, \"latimes_make\": \"BELL\", \"latimes_model\": \"206\", \"latimes_make_and_model\": \"BELL 206\"}, {\"event_id\": \"20130218X22833\", \"ntsb_make\": \"BELL\", \"ntsb_model\": \"206B\", \"ntsb_number\": \"WPR13GA128\", \"year\": 2013, \"date\": \"2013-02-18T00:00:00\", \"city\": \"EUREKA\", \"state\": \"NV\", \"country\": \"USA\", \"total_fatalities\": 1, \"latimes_make\": \"BELL\", \"latimes_model\": \"206\", \"latimes_make_and_model\": \"BELL 206\"}, {\"event_id\": \"20130427X30522\", \"ntsb_make\": \"BELL\", \"ntsb_model\": \"206B\", \"ntsb_number\": \"WPR13FA208\", \"year\": 2013, \"date\": \"2013-04-27T00:00:00\", \"city\": \"SHEPHERD\", \"state\": \"MT\", \"country\": \"USA\", \"total_fatalities\": 1, \"latimes_make\": \"BELL\", \"latimes_model\": \"206\", \"latimes_make_and_model\": \"BELL 206\"}, {\"event_id\": \"20130607X04715\", \"ntsb_make\": \"BELL HELICOPTER TEXTRON\", \"ntsb_model\": \"206L-1\", \"ntsb_number\": \"ERA13FA273\", \"year\": 2013, \"date\": \"2013-06-06T00:00:00\", \"city\": \"MANCHESTER\", \"state\": \"KY\", \"country\": \"USA\", \"total_fatalities\": 3, \"latimes_make\": \"BELL\", \"latimes_model\": \"206\", \"latimes_make_and_model\": \"BELL 206\"}, {\"event_id\": \"20131022X92949\", \"ntsb_make\": \"EUROCOPTER\", \"ntsb_model\": \"AS 350 B3\", \"ntsb_number\": \"ERA14FA010\", \"year\": 2013, \"date\": \"2013-10-22T00:00:00\", \"city\": \"SOMERVILLE\", \"state\": \"TN\", \"country\": \"USA\", \"total_fatalities\": 3, \"latimes_make\": \"AIRBUS\", \"latimes_model\": \"350\", \"latimes_make_and_model\": \"AIRBUS 350\"}, {\"event_id\": \"20130102X35708\", \"ntsb_make\": \"BELL HELICOPTER\", \"ntsb_model\": \"407\", \"ntsb_number\": \"CEN13FA122\", \"year\": 2013, \"date\": \"2013-01-02T00:00:00\", \"city\": \"CLEAR LAKE\", \"state\": \"IA\", \"country\": \"USA\", \"total_fatalities\": 3, \"latimes_make\": \"BELL\", \"latimes_model\": \"407\", \"latimes_make_and_model\": \"BELL 407\"}, {\"event_id\": \"20130403X65155\", \"ntsb_make\": \"ROBINSON\", \"ntsb_model\": \"R44\", \"ntsb_number\": \"ERA13FA186\", \"year\": 2013, \"date\": \"2013-04-03T00:00:00\", \"city\": \"MIAMI\", \"state\": \"FL\", \"country\": \"USA\", \"total_fatalities\": 2, \"latimes_make\": \"ROBINSON\", \"latimes_model\": \"R44\", \"latimes_make_and_model\": \"ROBINSON R44\"}, {\"event_id\": \"20131007X44153\", \"ntsb_make\": \"MCDONNELL DOUGLAS HELI CO\", \"ntsb_model\": \"369\", \"ntsb_number\": \"WPR14LA008\", \"year\": 2013, \"date\": \"2013-10-06T00:00:00\", \"city\": \"PADUCAH\", \"state\": \"TX\", \"country\": \"USA\", \"total_fatalities\": 1, \"latimes_make\": \"MCDONNELL DOUGLAS\", \"latimes_model\": \"369\", \"latimes_make_and_model\": \"MCDONNELL DOUGLAS 369\"}, {\"event_id\": \"20130831X54252\", \"ntsb_make\": \"ROBINSON\", \"ntsb_model\": \"R44 II\", \"ntsb_number\": \"CEN13FA517\", \"year\": 2013, \"date\": \"2013-08-31T00:00:00\", \"city\": \"CABALLO\", \"state\": \"NM\", \"country\": \"USA\", \"total_fatalities\": 3, \"latimes_make\": \"ROBINSON\", \"latimes_model\": \"R44\", \"latimes_make_and_model\": \"ROBINSON R44\"}, {\"event_id\": \"20130315X34542\", \"ntsb_make\": \"SIKORSKY\", \"ntsb_model\": \"S-76A++\", \"ntsb_number\": \"CEN13FA192\", \"year\": 2013, \"date\": \"2013-03-15T00:00:00\", \"city\": \"GRAND LAKE\", \"state\": \"LA\", \"country\": \"USA\", \"total_fatalities\": 3, \"latimes_make\": \"SIKORSKY\", \"latimes_model\": \"76\", \"latimes_make_and_model\": \"SIKORSKY 76\"}, {\"event_id\": \"20130805X31941\", \"ntsb_make\": \"HUGHES\", \"ntsb_model\": \"369D\", \"ntsb_number\": \"CEN13LA461\", \"year\": 2013, \"date\": \"2013-08-05T00:00:00\", \"city\": \"ACKERLY\", \"state\": \"TX\", \"country\": \"USA\", \"total_fatalities\": 2, \"latimes_make\": \"HUGHES\", \"latimes_model\": \"369\", \"latimes_make_and_model\": \"HUGHES 369\"}, {\"event_id\": \"20130612X12326\", \"ntsb_make\": \"EUROCOPTER\", \"ntsb_model\": \"AS350B2\", \"ntsb_number\": \"CEN13FA344\", \"year\": 2013, \"date\": \"2013-06-11T00:00:00\", \"city\": \"TALIHINA\", \"state\": \"OK\", \"country\": \"USA\", \"total_fatalities\": 1, \"latimes_make\": \"AIRBUS\", \"latimes_model\": \"350\", \"latimes_make_and_model\": \"AIRBUS 350\"}, {\"event_id\": \"20140127X44720\", \"ntsb_make\": \"BELL\", \"ntsb_model\": \"206L 3\", \"ntsb_number\": \"CEN14FA122\", \"year\": 2014, \"date\": \"2014-01-27T00:00:00\", \"city\": \"SILT\", \"state\": \"CO\", \"country\": \"USA\", \"total_fatalities\": 3, \"latimes_make\": \"BELL\", \"latimes_model\": \"206\", \"latimes_make_and_model\": \"BELL 206\"}, {\"event_id\": \"20140523X44003\", \"ntsb_make\": \"ROBINSON HELICOPTER\", \"ntsb_model\": \"R22 BETA\", \"ntsb_number\": \"WPR14FA203\", \"year\": 2014, \"date\": \"2014-05-23T00:00:00\", \"city\": \"SANTA PAULA\", \"state\": \"CA\", \"country\": \"USA\", \"total_fatalities\": 1, \"latimes_make\": \"ROBINSON\", \"latimes_model\": \"R22\", \"latimes_make_and_model\": \"ROBINSON R22\"}, {\"event_id\": \"20140318X21532\", \"ntsb_make\": \"EUROCOPTER\", \"ntsb_model\": \"AS 350 B2\", \"ntsb_number\": \"WPR14FA137\", \"year\": 2014, \"date\": \"2014-03-18T00:00:00\", \"city\": \"SEATTLE\", \"state\": \"WA\", \"country\": \"USA\", \"total_fatalities\": 2, \"latimes_make\": \"AIRBUS\", \"latimes_model\": \"350\", \"latimes_make_and_model\": \"AIRBUS 350\"}, {\"event_id\": \"20140529X73728\", \"ntsb_make\": \"ROBINSON HELICOPTER COMPANY\", \"ntsb_model\": \"R44 II\", \"ntsb_number\": \"ANC14FA030\", \"year\": 2014, \"date\": \"2014-05-28T00:00:00\", \"city\": \"CHUGIAK\", \"state\": \"AK\", \"country\": \"USA\", \"total_fatalities\": 1, \"latimes_make\": \"ROBINSON\", \"latimes_model\": \"R44\", \"latimes_make_and_model\": \"ROBINSON R44\"}, {\"event_id\": \"20140612X31159\", \"ntsb_make\": \"BELL\", \"ntsb_model\": \"206 L4\", \"ntsb_number\": \"CEN14FA286\", \"year\": 2014, \"date\": \"2014-06-11T00:00:00\", \"city\": \"SOUTH TIMBALIER PLATFORM\", \"state\": \"GM\", \"country\": \"USA\", \"total_fatalities\": 2, \"latimes_make\": \"BELL\", \"latimes_model\": \"206\", \"latimes_make_and_model\": \"BELL 206\"}, {\"event_id\": \"20150101X15630\", \"ntsb_make\": \"BELL\", \"ntsb_model\": \"206\", \"ntsb_number\": \"WPR15FA072\", \"year\": 2014, \"date\": \"2014-12-31T00:00:00\", \"city\": \"BENSON\", \"state\": \"AZ\", \"country\": \"USA\", \"total_fatalities\": 2, \"latimes_make\": \"BELL\", \"latimes_model\": \"206\", \"latimes_make_and_model\": \"BELL 206\"}, {\"event_id\": \"20140819X50947\", \"ntsb_make\": \"MCDONNELL DOUGLAS HELICOPTER\", \"ntsb_model\": \"369E\", \"ntsb_number\": \"ERA14FA396\", \"year\": 2014, \"date\": \"2014-08-19T00:00:00\", \"city\": \"NORTHPORT\", \"state\": \"AL\", \"country\": \"USA\", \"total_fatalities\": 2, \"latimes_make\": \"MCDONNELL DOUGLAS\", \"latimes_model\": \"369\", \"latimes_make_and_model\": \"MCDONNELL DOUGLAS 369\"}, {\"event_id\": \"20140407X83620\", \"ntsb_make\": \"ROBINSON HELICOPTER\", \"ntsb_model\": \"R22 BETA\", \"ntsb_number\": \"WPR14FA158\", \"year\": 2014, \"date\": \"2014-04-06T00:00:00\", \"city\": \"GREEN RIVER\", \"state\": \"UT\", \"country\": \"USA\", \"total_fatalities\": 2, \"latimes_make\": \"ROBINSON\", \"latimes_model\": \"R22\", \"latimes_make_and_model\": \"ROBINSON R22\"}, {\"event_id\": \"20140208X05221\", \"ntsb_make\": \"ROBINSON HELICOPTER COMPANY\", \"ntsb_model\": \"R44 II\", \"ntsb_number\": \"ERA14FA115\", \"year\": 2014, \"date\": \"2014-02-08T00:00:00\", \"city\": \"PANACEA\", \"state\": \"FL\", \"country\": \"USA\", \"total_fatalities\": 2, \"latimes_make\": \"ROBINSON\", \"latimes_model\": \"R44\", \"latimes_make_and_model\": \"ROBINSON R44\"}, {\"event_id\": \"20141023X01333\", \"ntsb_make\": \"ROBINSON HELICOPTER COMPANY\", \"ntsb_model\": \"R44 II\", \"ntsb_number\": \"ERA15FA025\", \"year\": 2014, \"date\": \"2014-10-23T00:00:00\", \"city\": \"FREDERICK\", \"state\": \"MD\", \"country\": \"USA\", \"total_fatalities\": 3, \"latimes_make\": \"ROBINSON\", \"latimes_model\": \"R44\", \"latimes_make_and_model\": \"ROBINSON R44\"}, {\"event_id\": \"20140518X03315\", \"ntsb_make\": \"AMERICAN EUROCOPTER CORP\", \"ntsb_model\": \"AS350B3\", \"ntsb_number\": \"WPR14FA195\", \"year\": 2014, \"date\": \"2014-05-18T00:00:00\", \"city\": \"PEACH SPRINGS\", \"state\": \"AZ\", \"country\": \"USA\", \"total_fatalities\": 1, \"latimes_make\": \"AIRBUS\", \"latimes_model\": \"350\", \"latimes_make_and_model\": \"AIRBUS 350\"}, {\"event_id\": \"20140723X81618\", \"ntsb_make\": \"BELL\", \"ntsb_model\": \"206A\", \"ntsb_number\": \"WPR14FA310\", \"year\": 2014, \"date\": \"2014-07-23T00:00:00\", \"city\": \"WENATCHEE\", \"state\": \"WA\", \"country\": \"USA\", \"total_fatalities\": 1, \"latimes_make\": \"BELL\", \"latimes_model\": \"206\", \"latimes_make_and_model\": \"BELL 206\"}, {\"event_id\": \"20141202X73240\", \"ntsb_make\": \"ROBINSON HELICOPTER COMPANY\", \"ntsb_model\": \"R44\", \"ntsb_number\": \"WPR15FA051\", \"year\": 2014, \"date\": \"2014-12-02T00:00:00\", \"city\": \"BOUNTIFUL\", \"state\": \"UT\", \"country\": \"USA\", \"total_fatalities\": 2, \"latimes_make\": \"ROBINSON\", \"latimes_model\": \"R44\", \"latimes_make_and_model\": \"ROBINSON R44\"}, {\"event_id\": \"20141229X15321\", \"ntsb_make\": \"ROBINSON HELICOPTER\", \"ntsb_model\": \"R22 BETA\", \"ntsb_number\": \"ERA15FA085\", \"year\": 2014, \"date\": \"2014-12-29T00:00:00\", \"city\": \"LAKE WORTH\", \"state\": \"FL\", \"country\": \"USA\", \"total_fatalities\": 1, \"latimes_make\": \"ROBINSON\", \"latimes_model\": \"R22\", \"latimes_make_and_model\": \"ROBINSON R22\"}, {\"event_id\": \"20141004X60516\", \"ntsb_make\": \"BELL HELICOPTER TEXTRON\", \"ntsb_model\": \"206L 1\", \"ntsb_number\": \"CEN15FA003\", \"year\": 2014, \"date\": \"2014-10-04T00:00:00\", \"city\": \"WICHITA FALLS\", \"state\": \"TX\", \"country\": \"USA\", \"total_fatalities\": 3, \"latimes_make\": \"BELL\", \"latimes_model\": \"206\", \"latimes_make_and_model\": \"BELL 206\"}, {\"event_id\": \"20140908X10448\", \"ntsb_make\": \"ROBINSON HELICOPTER COMPANY\", \"ntsb_model\": \"R44 II\", \"ntsb_number\": \"CEN14LA487\", \"year\": 2014, \"date\": \"2014-09-06T00:00:00\", \"city\": \"MACEDONIA\", \"state\": \"IA\", \"country\": \"USA\", \"total_fatalities\": 1, \"latimes_make\": \"ROBINSON\", \"latimes_model\": \"R44\", \"latimes_make_and_model\": \"ROBINSON R44\"}, {\"event_id\": \"20140717X70001\", \"ntsb_make\": \"AGUSTA SPA\", \"ntsb_model\": \"A109E\", \"ntsb_number\": \"CEN14FA369\", \"year\": 2014, \"date\": \"2014-07-17T00:00:00\", \"city\": \"NEWKIRK\", \"state\": \"NM\", \"country\": \"USA\", \"total_fatalities\": 3, \"latimes_make\": \"AGUSTA\", \"latimes_model\": \"109\", \"latimes_make_and_model\": \"AGUSTA 109\"}, {\"event_id\": \"20150110X10017\", \"ntsb_make\": \"ROBINSON HELICOPTER\", \"ntsb_model\": \"R22 BETA\", \"ntsb_number\": \"ERA15FA096\", \"year\": 2015, \"date\": \"2015-01-10T00:00:00\", \"city\": \"CATANO\", \"state\": \"PR\", \"country\": \"USA\", \"total_fatalities\": 1, \"latimes_make\": \"ROBINSON\", \"latimes_model\": \"R22\", \"latimes_make_and_model\": \"ROBINSON R22\"}, {\"event_id\": \"20150703X00859\", \"ntsb_make\": \"AIRBUS HELICOPTERS INC\", \"ntsb_model\": \"AS350B3E\", \"ntsb_number\": \"CEN15MA290\", \"year\": 2015, \"date\": \"2015-07-03T00:00:00\", \"city\": \"FRISCO\", \"state\": \"CO\", \"country\": \"USA\", \"total_fatalities\": 1, \"latimes_make\": \"AIRBUS\", \"latimes_model\": \"350\", \"latimes_make_and_model\": \"AIRBUS 350\"}, {\"event_id\": \"20150308X10201\", \"ntsb_make\": \"AIRBUS HELICOPTERS (EUROCOPTE\", \"ntsb_model\": \"EC-130-B4\", \"ntsb_number\": \"CEN15FA164\", \"year\": 2015, \"date\": \"2015-03-06T00:00:00\", \"city\": \"ST LOUIS\", \"state\": \"MO\", \"country\": \"USA\", \"total_fatalities\": 1, \"latimes_make\": \"AIRBUS\", \"latimes_model\": \"130\", \"latimes_make_and_model\": \"AIRBUS 130\"}, {\"event_id\": \"20150330X73700\", \"ntsb_make\": \"BELL HELICOPTER TEXTRON\", \"ntsb_model\": \"206 L-1\", \"ntsb_number\": \"ERA15FA173\", \"year\": 2015, \"date\": \"2015-03-30T00:00:00\", \"city\": \"SAUCIER\", \"state\": \"MS\", \"country\": \"USA\", \"total_fatalities\": 2, \"latimes_make\": \"BELL\", \"latimes_model\": \"206\", \"latimes_make_and_model\": \"BELL 206\"}, {\"event_id\": \"20150702X24434\", \"ntsb_make\": \"SCHWEIZER\", \"ntsb_model\": \"269C\", \"ntsb_number\": \"WPR15FA205\", \"year\": 2015, \"date\": \"2015-07-01T00:00:00\", \"city\": \"NEWBERG\", \"state\": \"OR\", \"country\": \"USA\", \"total_fatalities\": 2, \"latimes_make\": \"SCHWEIZER\", \"latimes_model\": \"269\", \"latimes_make_and_model\": \"SCHWEIZER 269\"}, {\"event_id\": \"20150313X72113\", \"ntsb_make\": \"EUROCOPTER\", \"ntsb_model\": \"AS 350 B2\", \"ntsb_number\": \"CEN15FA171\", \"year\": 2015, \"date\": \"2015-03-12T00:00:00\", \"city\": \"EUFAULA\", \"state\": \"OK\", \"country\": \"USA\", \"total_fatalities\": 1, \"latimes_make\": \"AIRBUS\", \"latimes_model\": \"350\", \"latimes_make_and_model\": \"AIRBUS 350\"}, {\"event_id\": \"20151211X13514\", \"ntsb_make\": \"BELL\", \"ntsb_model\": \"407\", \"ntsb_number\": \"WPR16FA037\", \"year\": 2015, \"date\": \"2015-12-10T00:00:00\", \"city\": \"MCFARLAND\", \"state\": \"CA\", \"country\": \"USA\", \"total_fatalities\": 4, \"latimes_make\": \"BELL\", \"latimes_model\": \"407\", \"latimes_make_and_model\": \"BELL 407\"}, {\"event_id\": \"20150322X92548\", \"ntsb_make\": \"ROBINSON HELICOPTER COMPANY\", \"ntsb_model\": \"R44 II\", \"ntsb_number\": \"ERA15FA164\", \"year\": 2015, \"date\": \"2015-03-22T00:00:00\", \"city\": \"ORLANDO\", \"state\": \"FL\", \"country\": \"USA\", \"total_fatalities\": 3, \"latimes_make\": \"ROBINSON\", \"latimes_model\": \"R44\", \"latimes_make_and_model\": \"ROBINSON R44\"}, {\"event_id\": \"20151216X13718\", \"ntsb_make\": \"AIRBUS HELICOPTERS\", \"ntsb_model\": \"AS350\", \"ntsb_number\": \"WPR16FA040\", \"year\": 2015, \"date\": \"2015-12-15T00:00:00\", \"city\": \"SUPERIOR\", \"state\": \"AZ\", \"country\": \"USA\", \"total_fatalities\": 2, \"latimes_make\": \"AIRBUS\", \"latimes_model\": \"350\", \"latimes_make_and_model\": \"AIRBUS 350\"}, {\"event_id\": \"20150407X12857\", \"ntsb_make\": \"HUGHES\", \"ntsb_model\": \"369D\", \"ntsb_number\": \"ERA15FA178\", \"year\": 2015, \"date\": \"2015-04-06T00:00:00\", \"city\": \"CHEROKEE\", \"state\": \"AL\", \"country\": \"USA\", \"total_fatalities\": 1, \"latimes_make\": \"HUGHES\", \"latimes_model\": \"369\", \"latimes_make_and_model\": \"HUGHES 369\"}, {\"event_id\": \"20151118X05037\", \"ntsb_make\": \"AIRBUS HELICOPTERS\", \"ntsb_model\": \"AS350B3E\", \"ntsb_number\": \"WPR16FA029\", \"year\": 2015, \"date\": \"2015-11-18T00:00:00\", \"city\": \"CARLSBAD\", \"state\": \"CA\", \"country\": \"USA\", \"total_fatalities\": 2, \"latimes_make\": \"AIRBUS\", \"latimes_model\": \"350\", \"latimes_make_and_model\": \"AIRBUS 350\"}, {\"event_id\": \"20161116X00108\", \"ntsb_make\": \"HUGHES\", \"ntsb_model\": \"369D/500D\", \"ntsb_number\": \"WPR17FA021\", \"year\": 2016, \"date\": \"2016-11-15T00:00:00\", \"city\": \"PUKOO\", \"state\": \"HI\", \"country\": \"USA\", \"total_fatalities\": 2, \"latimes_make\": \"HUGHES\", \"latimes_model\": \"369\", \"latimes_make_and_model\": \"HUGHES 369\"}, {\"event_id\": \"20160326X80544\", \"ntsb_make\": \"EUROCOPTER\", \"ntsb_model\": \"AS 350 B2\", \"ntsb_number\": \"ERA16FA140\", \"year\": 2016, \"date\": \"2016-03-26T00:00:00\", \"city\": \"ENTERPRISE\", \"state\": \"AL\", \"country\": \"USA\", \"total_fatalities\": 4, \"latimes_make\": \"AIRBUS\", \"latimes_model\": \"350\", \"latimes_make_and_model\": \"AIRBUS 350\"}, {\"event_id\": \"20160504X30424\", \"ntsb_make\": \"MCDONNELL DOUGLAS HELICOPTER\", \"ntsb_model\": \"369E\", \"ntsb_number\": \"CEN16FA171\", \"year\": 2016, \"date\": \"2016-05-04T00:00:00\", \"city\": \"REEDSVILLE\", \"state\": \"WI\", \"country\": \"USA\", \"total_fatalities\": 1, \"latimes_make\": \"MCDONNELL DOUGLAS\", \"latimes_model\": \"369\", \"latimes_make_and_model\": \"MCDONNELL DOUGLAS 369\"}, {\"event_id\": \"20160328X03918\", \"ntsb_make\": \"ROBINSON\", \"ntsb_model\": \"R44\", \"ntsb_number\": \"ERA16FA143\", \"year\": 2016, \"date\": \"2016-03-27T00:00:00\", \"city\": \"CANADENSIS\", \"state\": \"PA\", \"country\": \"USA\", \"total_fatalities\": 1, \"latimes_make\": \"ROBINSON\", \"latimes_model\": \"R44\", \"latimes_make_and_model\": \"ROBINSON R44\"}, {\"event_id\": \"20160218X71040\", \"ntsb_make\": \"BELL\", \"ntsb_model\": \"206B\", \"ntsb_number\": \"WPR16FA072\", \"year\": 2016, \"date\": \"2016-02-18T00:00:00\", \"city\": \"HONOLULU\", \"state\": \"HI\", \"country\": \"USA\", \"total_fatalities\": 1, \"latimes_make\": \"BELL\", \"latimes_model\": \"206\", \"latimes_make_and_model\": \"BELL 206\"}, {\"event_id\": \"20160711X32921\", \"ntsb_make\": \"BELL HELICOPTER TEXTRON CANADA\", \"ntsb_model\": \"407\", \"ntsb_number\": \"ERA16FA248\", \"year\": 2016, \"date\": \"2016-07-11T00:00:00\", \"city\": \"HICKORY\", \"state\": \"KY\", \"country\": \"USA\", \"total_fatalities\": 1, \"latimes_make\": \"BELL\", \"latimes_model\": \"407\", \"latimes_make_and_model\": \"BELL 407\"}, {\"event_id\": \"20160804X45514\", \"ntsb_make\": \"SCHWEIZER\", \"ntsb_model\": \"269C 1\", \"ntsb_number\": \"CEN16FA304\", \"year\": 2016, \"date\": \"2016-08-03T00:00:00\", \"city\": \"JEANERETTE\", \"state\": \"LA\", \"country\": \"USA\", \"total_fatalities\": 1, \"latimes_make\": \"SCHWEIZER\", \"latimes_model\": \"269\", \"latimes_make_and_model\": \"SCHWEIZER 269\"}, {\"event_id\": \"20160404X74644\", \"ntsb_make\": \"BELL\", \"ntsb_model\": \"206\", \"ntsb_number\": \"ERA16FA144\", \"year\": 2016, \"date\": \"2016-04-04T00:00:00\", \"city\": \"PIGEON FORGE\", \"state\": \"TN\", \"country\": \"USA\", \"total_fatalities\": 5, \"latimes_make\": \"BELL\", \"latimes_model\": \"206\", \"latimes_make_and_model\": \"BELL 206\"}, {\"event_id\": \"20160507X31120\", \"ntsb_make\": \"AIRBUS\", \"ntsb_model\": \"AS350\", \"ntsb_number\": \"ANC16FA023\", \"year\": 2016, \"date\": \"2016-05-06T00:00:00\", \"city\": \"SKAGWAY\", \"state\": \"AK\", \"country\": \"USA\", \"total_fatalities\": 1, \"latimes_make\": \"AIRBUS\", \"latimes_model\": \"350\", \"latimes_make_and_model\": \"AIRBUS 350\"}, {\"event_id\": \"20160612X85856\", \"ntsb_make\": \"ROBINSON HELICOPTER COMPANY\", \"ntsb_model\": \"R44 II\", \"ntsb_number\": \"CEN16FA215\", \"year\": 2016, \"date\": \"2016-06-12T00:00:00\", \"city\": \"JONESBORO\", \"state\": \"AR\", \"country\": \"USA\", \"total_fatalities\": 1, \"latimes_make\": \"ROBINSON\", \"latimes_model\": \"R44\", \"latimes_make_and_model\": \"ROBINSON R44\"}]}}, {\"mode\": \"vega-lite\"});\n",
       "</script>"
      ],
      "text/plain": [
       "alt.Chart(...)"
      ]
     },
     "execution_count": 83,
     "metadata": {},
     "output_type": "execute_result"
    }
   ],
   "source": [
    "alt.Chart(accident_list).mark_bar().encode(\n",
    "  x=\"yearmonth(date)\",\n",
    "  y=\"sum(total_fatalities)\",\n",
    "  facet=\"latimes_make\"\n",
    ")"
   ]
  },
  {
   "cell_type": "code",
   "execution_count": 84,
   "id": "16365b67-2a06-4435-92e5-34d63d67c0aa",
   "metadata": {},
   "outputs": [],
   "source": [
    "merged_list.to_csv(\"accident-rate-ranking.csv\")"
   ]
  },
  {
   "cell_type": "code",
   "execution_count": 85,
   "id": "0c216115-ea6e-45f9-a2c3-d4eb7fbda253",
   "metadata": {},
   "outputs": [],
   "source": [
    "merged_list.to_csv(\"accident-rate-ranking.csv\", index=False, sep=\";\")"
   ]
  },
  {
   "cell_type": "code",
   "execution_count": null,
   "id": "2383a24b-f003-4d0a-8ea1-fbfb93b2a434",
   "metadata": {},
   "outputs": [],
   "source": []
  }
 ],
 "metadata": {
  "kernelspec": {
   "display_name": "Python 3 (ipykernel)",
   "language": "python",
   "name": "python3"
  },
  "language_info": {
   "codemirror_mode": {
    "name": "ipython",
    "version": 3
   },
   "file_extension": ".py",
   "mimetype": "text/x-python",
   "name": "python",
   "nbconvert_exporter": "python",
   "pygments_lexer": "ipython3",
   "version": "3.10.9"
  }
 },
 "nbformat": 4,
 "nbformat_minor": 5
}
